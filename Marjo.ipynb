{
 "cells": [
  {
   "cell_type": "code",
   "execution_count": 1,
   "metadata": {},
   "outputs": [],
   "source": [
    "import pandas as pd\n",
    "import numpy as np\n",
    "import matplotlib.pyplot as plt\n",
    "%matplotlib inline\n",
    "import seaborn as sns\n",
    "import math\n",
    "from scipy import stats\n",
    "import json\n",
    "from datetime import datetime, date, time"
   ]
  },
  {
   "cell_type": "markdown",
   "id": "f8d105fc",
   "metadata": {},
   "source": [
    "## Loading of the different datasets"
   ]
  },
  {
   "cell_type": "code",
   "execution_count": null,
   "id": "9514cc7c",
   "metadata": {},
   "outputs": [],
   "source": [
    "#Load character metadata\n",
    "characters = pd.read_csv('Data/MovieSummaries/character.metadata.tsv',sep='\\t',header=None)\n",
    "characters.columns = ['wiki_movie_ID','freebase_movie_ID','movie_release_date','character_name','actor_DOB','actor_gender','actor_height','actor_ethnicity','actor_name','actor_age_movie','freebase_char/actor_map_ID','freebase_char_ID','freebase_actor_ID']\n",
    "characters.head()"
   ]
  },
  {
   "cell_type": "code",
   "execution_count": null,
   "id": "cdb4d740",
   "metadata": {},
   "outputs": [],
   "source": [
    "#Load movie metadata\n",
    "mov = pd.read_csv('Data/MovieSummaries/movie.metadata.tsv',sep='\\t',header=None)\n",
    "mov.columns = ['wiki_movie_ID','freebase_movie_ID','movie_name','movie_release_date','movie_box_off_rev','movie_runtime','movie_languages','movie_countries','movie_genres']\n",
    "mov.head()"
   ]
  },
  {
   "cell_type": "code",
   "execution_count": 4,
   "id": "7044d445",
   "metadata": {},
   "outputs": [],
   "source": [
    "#Load character names used in at least 2 different movies \n",
    "name_clusters = pd.read_table('Data/MovieSummaries/name.clusters.txt',header=None)#,sep=\" \",header=None)\n",
    "name_clusters.columns = ['character_name','freebase_char/actor_map_ID']"
   ]
  },
  {
   "cell_type": "code",
   "execution_count": null,
   "id": "4c26257b",
   "metadata": {},
   "outputs": [],
   "source": [
    "#Load plot summaries\n",
    "plot_summaries = pd.read_table('Data/MovieSummaries/plot_summaries.txt',header=None)\n",
    "plot_summaries.columns = ['wiki_movie_ID','movie_plot']\n",
    "plot_summaries.head()"
   ]
  },
  {
   "cell_type": "code",
   "execution_count": null,
   "id": "109dfde3",
   "metadata": {},
   "outputs": [],
   "source": [
    "#Load tvtropes\n",
    "type_char = pd.read_table('Data/MovieSummaries/tvtropes.clusters.txt',header=None)\n",
    "type_char.columns = ['char_type','infos']\n",
    "type_char.head()"
   ]
  },
  {
   "cell_type": "markdown",
   "id": "6228fbb5",
   "metadata": {},
   "source": [
    "## Differences in age and height between male and female characters"
   ]
  },
  {
   "cell_type": "markdown",
   "id": "0966b91d",
   "metadata": {},
   "source": [
    "> We want to compare different features between roles played by male or female. "
   ]
  },
  {
   "cell_type": "markdown",
   "id": "64782b79",
   "metadata": {},
   "source": [
    "### Evaluating and filtering out missing values"
   ]
  },
  {
   "cell_type": "code",
   "execution_count": 7,
   "id": "b565e71d",
   "metadata": {},
   "outputs": [
    {
     "name": "stdout",
     "output_type": "stream",
     "text": [
      " 89.9% of the DataFrame \"characters\" has reported gender, the corresponding DataFrame \"characters_gender\" contains 405060 rows.\n"
     ]
    }
   ],
   "source": [
    "#Create a DataFrame keeping only characters where actors have reported gender\n",
    "characters_gender = characters[characters[\"actor_gender\"].notnull()]\n",
    "print('{: .1%} of the DataFrame \"characters\" has reported gender, the corresponding DataFrame \"characters_gender\" contains {} rows.'.format(len(characters_gender) / len(characters), len(characters_gender)))"
   ]
  },
  {
   "cell_type": "code",
   "execution_count": 8,
   "id": "2263691b",
   "metadata": {},
   "outputs": [
    {
     "data": {
      "text/plain": [
       "['F', 'F', 'M', 'M', 'F', ..., 'F', 'M', 'F', 'M', 'M']\n",
       "Length: 405060\n",
       "Categories (2, object): ['F', 'M']"
      ]
     },
     "execution_count": 8,
     "metadata": {},
     "output_type": "execute_result"
    }
   ],
   "source": [
    "#What are the possible different values for characters_gender? \n",
    "pd.Categorical(characters_gender.actor_gender)"
   ]
  },
  {
   "cell_type": "markdown",
   "id": "a3656903",
   "metadata": {},
   "source": [
    "### What is the repartition between male and female characters? "
   ]
  },
  {
   "cell_type": "code",
   "execution_count": 49,
   "id": "12b8a8e1",
   "metadata": {},
   "outputs": [
    {
     "name": "stdout",
     "output_type": "stream",
     "text": [
      "66.72% of reported characters are played by male actors.\n"
     ]
    },
    {
     "data": {
      "image/png": "[encoded data removed]",
      "text/plain": [
       "<Figure size 640x480 with 1 Axes>"
      ]
     },
     "metadata": {},
     "output_type": "display_data"
    }
   ],
   "source": [
    "#Create two DataFrame for characters played by female/male\n",
    "characters_female = characters_gender[characters_gender['actor_gender']== 'F']\n",
    "characters_male = characters_gender[characters_gender['actor_gender']== 'M']\n",
    "\n",
    "#Plot the repartition\n",
    "sns.countplot(x = characters_gender['actor_gender'])\n",
    "\n",
    "print(\"{:.2%} of reported characters are played by male actors.\".format(len(characters_male)/len(characters_gender)))"
   ]
  },
  {
   "cell_type": "markdown",
   "id": "b6db073f",
   "metadata": {},
   "source": [
    "### How is age of male characters compared to age of male characters? "
   ]
  },
  {
   "cell_type": "markdown",
   "id": "641c2fb5",
   "metadata": {},
   "source": [
    "> We want to compare **age** of the actors and actresses palying roles reported in *character*. "
   ]
  },
  {
   "cell_type": "code",
   "execution_count": 10,
   "id": "73409049",
   "metadata": {},
   "outputs": [
    {
     "name": "stdout",
     "output_type": "stream",
     "text": [
      " 64.5% of the DataFrame \"characters\" has reported gender and age of the actor/actress; the corresponding DataFrame \"characters_gender_age\" contains 290770 rows.\n"
     ]
    }
   ],
   "source": [
    "#Clear out characters_gender where age is not reported (characters_gender_age)\n",
    "characters_gender_age = characters_gender[characters_gender[\"actor_age_movie\"].notnull()]\n",
    "print('{: .1%} of the DataFrame \"characters\" has reported gender and age of the actor/actress; the corresponding DataFrame \"characters_gender_age\" contains {} rows.'.format(len(characters_gender_age) / len(characters), len(characters_gender_age)))"
   ]
  },
  {
   "cell_type": "markdown",
   "id": "91ea933e",
   "metadata": {},
   "source": [
    "> We first explore and clean the data. "
   ]
  },
  {
   "cell_type": "code",
   "execution_count": 11,
   "id": "92a45ebc",
   "metadata": {},
   "outputs": [
    {
     "data": {
      "text/html": [
       "<div>\n",
       "<style scoped>\n",
       "    .dataframe tbody tr th:only-of-type {\n",
       "        vertical-align: middle;\n",
       "    }\n",
       "\n",
       "    .dataframe tbody tr th {\n",
       "        vertical-align: top;\n",
       "    }\n",
       "\n",
       "    .dataframe thead th {\n",
       "        text-align: right;\n",
       "    }\n",
       "</style>\n",
       "<table border=\"1\" class=\"dataframe\">\n",
       "  <thead>\n",
       "    <tr style=\"text-align: right;\">\n",
       "      <th></th>\n",
       "      <th>wiki_movie_ID</th>\n",
       "      <th>actor_height</th>\n",
       "      <th>actor_age_movie</th>\n",
       "    </tr>\n",
       "  </thead>\n",
       "  <tbody>\n",
       "    <tr>\n",
       "      <th>count</th>\n",
       "      <td>2.907700e+05</td>\n",
       "      <td>139639.000000</td>\n",
       "      <td>290770.000000</td>\n",
       "    </tr>\n",
       "    <tr>\n",
       "      <th>mean</th>\n",
       "      <td>1.302929e+07</td>\n",
       "      <td>1.789524</td>\n",
       "      <td>37.804148</td>\n",
       "    </tr>\n",
       "    <tr>\n",
       "      <th>std</th>\n",
       "      <td>1.080402e+07</td>\n",
       "      <td>4.380801</td>\n",
       "      <td>20.616015</td>\n",
       "    </tr>\n",
       "    <tr>\n",
       "      <th>min</th>\n",
       "      <td>3.300000e+02</td>\n",
       "      <td>0.610000</td>\n",
       "      <td>-7896.000000</td>\n",
       "    </tr>\n",
       "    <tr>\n",
       "      <th>25%</th>\n",
       "      <td>3.052538e+06</td>\n",
       "      <td>1.680000</td>\n",
       "      <td>28.000000</td>\n",
       "    </tr>\n",
       "    <tr>\n",
       "      <th>50%</th>\n",
       "      <td>1.014264e+07</td>\n",
       "      <td>1.750000</td>\n",
       "      <td>36.000000</td>\n",
       "    </tr>\n",
       "    <tr>\n",
       "      <th>75%</th>\n",
       "      <td>2.261175e+07</td>\n",
       "      <td>1.830000</td>\n",
       "      <td>47.000000</td>\n",
       "    </tr>\n",
       "    <tr>\n",
       "      <th>max</th>\n",
       "      <td>3.750192e+07</td>\n",
       "      <td>510.000000</td>\n",
       "      <td>103.000000</td>\n",
       "    </tr>\n",
       "  </tbody>\n",
       "</table>\n",
       "</div>"
      ],
      "text/plain": [
       "       wiki_movie_ID   actor_height  actor_age_movie\n",
       "count   2.907700e+05  139639.000000    290770.000000\n",
       "mean    1.302929e+07       1.789524        37.804148\n",
       "std     1.080402e+07       4.380801        20.616015\n",
       "min     3.300000e+02       0.610000     -7896.000000\n",
       "25%     3.052538e+06       1.680000        28.000000\n",
       "50%     1.014264e+07       1.750000        36.000000\n",
       "75%     2.261175e+07       1.830000        47.000000\n",
       "max     3.750192e+07     510.000000       103.000000"
      ]
     },
     "execution_count": 11,
     "metadata": {},
     "output_type": "execute_result"
    }
   ],
   "source": [
    "characters_gender_age.describe()"
   ]
  },
  {
   "cell_type": "markdown",
   "id": "77e0635d",
   "metadata": {},
   "source": [
    "> The negative values do not make sense: we filter them out."
   ]
  },
  {
   "cell_type": "code",
   "execution_count": 12,
   "id": "4ff6d0a8",
   "metadata": {},
   "outputs": [],
   "source": [
    "characters_gender_age = characters_gender_age[characters_gender_age['actor_age_movie'] >= 0]"
   ]
  },
  {
   "cell_type": "code",
   "execution_count": 13,
   "id": "5846659d",
   "metadata": {},
   "outputs": [
    {
     "data": {
      "text/plain": [
       "Text(0, 0.5, 'Age')"
      ]
     },
     "execution_count": 13,
     "metadata": {},
     "output_type": "execute_result"
    },
    {
     "data": {
      "image/png": "[encoded data removed]",
      "text/plain": [
       "<Figure size 640x480 with 1 Axes>"
      ]
     },
     "metadata": {},
     "output_type": "display_data"
    }
   ],
   "source": [
    "plt.boxplot(characters_gender_age['actor_age_movie'])\n",
    "plt.xticks([])\n",
    "plt.title(\"Actor's age in the movies\")\n",
    "plt.ylabel(\"Age\")"
   ]
  },
  {
   "cell_type": "markdown",
   "id": "92ad0413",
   "metadata": {},
   "source": [
    "> We can visualize age of actors by gender. "
   ]
  },
  {
   "cell_type": "code",
   "execution_count": 15,
   "id": "3dc32049",
   "metadata": {},
   "outputs": [
    {
     "data": {
      "text/plain": [
       "<seaborn.axisgrid.FacetGrid at 0x7f810240ce50>"
      ]
     },
     "execution_count": 15,
     "metadata": {},
     "output_type": "execute_result"
    },
    {
     "data": {
      "image/png": "[encoded data removed]",
      "text/plain": [
       "<Figure size 500x500 with 1 Axes>"
      ]
     },
     "metadata": {},
     "output_type": "display_data"
    }
   ],
   "source": [
    "g = sns.catplot(data=characters_gender_age, x=\"actor_gender\", y=\"actor_age_movie\", kind=\"box\", fliersize=0.5)\n",
    "g.set_axis_labels(\"Actor Gender\", \"Actor's age in the movie\")\n",
    "g.set_xticklabels([\"Female\", \"Male\"])"
   ]
  },
  {
   "cell_type": "markdown",
   "id": "fb1ca983",
   "metadata": {},
   "source": [
    "### How about height? "
   ]
  },
  {
   "cell_type": "markdown",
   "id": "d2e10638",
   "metadata": {},
   "source": [
    "> We can perform the same analysis for height. "
   ]
  },
  {
   "cell_type": "code",
   "execution_count": 60,
   "id": "30ba16a9",
   "metadata": {},
   "outputs": [
    {
     "name": "stdout",
     "output_type": "stream",
     "text": [
      " 34.3% of the DataFrame \"characters\" has reported gender and height of the actor/actress; the corresponding DataFrame \"characters_gender_height\" contains 154663 rows.\n"
     ]
    }
   ],
   "source": [
    "# Clear out characters_gender where height is not reported (characters_gender_age)\n",
    "characters_gender_height = characters_gender[characters_gender[\"actor_height\"].notnull()]\n",
    "print('{: .1%} of the DataFrame \"characters\" has reported gender and height of the actor/actress; the corresponding DataFrame \"characters_gender_height\" contains {} rows.'.format(len(characters_gender_height) / len(characters), len(characters_gender_height)))"
   ]
  },
  {
   "cell_type": "code",
   "execution_count": 103,
   "id": "8ec52a10",
   "metadata": {},
   "outputs": [
    {
     "data": {
      "text/html": [
       "<div>\n",
       "<style scoped>\n",
       "    .dataframe tbody tr th:only-of-type {\n",
       "        vertical-align: middle;\n",
       "    }\n",
       "\n",
       "    .dataframe tbody tr th {\n",
       "        vertical-align: top;\n",
       "    }\n",
       "\n",
       "    .dataframe thead th {\n",
       "        text-align: right;\n",
       "    }\n",
       "</style>\n",
       "<table border=\"1\" class=\"dataframe\">\n",
       "  <thead>\n",
       "    <tr style=\"text-align: right;\">\n",
       "      <th></th>\n",
       "      <th>wiki_movie_ID</th>\n",
       "      <th>actor_height</th>\n",
       "      <th>actor_age_movie</th>\n",
       "    </tr>\n",
       "  </thead>\n",
       "  <tbody>\n",
       "    <tr>\n",
       "      <th>count</th>\n",
       "      <td>1.546630e+05</td>\n",
       "      <td>154663.000000</td>\n",
       "      <td>139639.000000</td>\n",
       "    </tr>\n",
       "    <tr>\n",
       "      <th>mean</th>\n",
       "      <td>1.212276e+07</td>\n",
       "      <td>1.788966</td>\n",
       "      <td>37.301671</td>\n",
       "    </tr>\n",
       "    <tr>\n",
       "      <th>std</th>\n",
       "      <td>1.076543e+07</td>\n",
       "      <td>4.382216</td>\n",
       "      <td>13.890925</td>\n",
       "    </tr>\n",
       "    <tr>\n",
       "      <th>min</th>\n",
       "      <td>3.217000e+03</td>\n",
       "      <td>0.610000</td>\n",
       "      <td>-57.000000</td>\n",
       "    </tr>\n",
       "    <tr>\n",
       "      <th>25%</th>\n",
       "      <td>2.511602e+06</td>\n",
       "      <td>1.676400</td>\n",
       "      <td>27.000000</td>\n",
       "    </tr>\n",
       "    <tr>\n",
       "      <th>50%</th>\n",
       "      <td>8.627638e+06</td>\n",
       "      <td>1.750000</td>\n",
       "      <td>35.000000</td>\n",
       "    </tr>\n",
       "    <tr>\n",
       "      <th>75%</th>\n",
       "      <td>2.107084e+07</td>\n",
       "      <td>1.830000</td>\n",
       "      <td>46.000000</td>\n",
       "    </tr>\n",
       "    <tr>\n",
       "      <th>max</th>\n",
       "      <td>3.750192e+07</td>\n",
       "      <td>510.000000</td>\n",
       "      <td>96.000000</td>\n",
       "    </tr>\n",
       "  </tbody>\n",
       "</table>\n",
       "</div>"
      ],
      "text/plain": [
       "       wiki_movie_ID   actor_height  actor_age_movie\n",
       "count   1.546630e+05  154663.000000    139639.000000\n",
       "mean    1.212276e+07       1.788966        37.301671\n",
       "std     1.076543e+07       4.382216        13.890925\n",
       "min     3.217000e+03       0.610000       -57.000000\n",
       "25%     2.511602e+06       1.676400        27.000000\n",
       "50%     8.627638e+06       1.750000        35.000000\n",
       "75%     2.107084e+07       1.830000        46.000000\n",
       "max     3.750192e+07     510.000000        96.000000"
      ]
     },
     "execution_count": 103,
     "metadata": {},
     "output_type": "execute_result"
    }
   ],
   "source": [
    "characters_gender_height.describe()"
   ]
  },
  {
   "cell_type": "markdown",
   "id": "167bf030",
   "metadata": {},
   "source": [
    "> 510 cm seems to be a corrupted value. We filter rows where height is above 2,72m (biggest height reported)."
   ]
  },
  {
   "cell_type": "code",
   "execution_count": 109,
   "id": "d2e05b1a",
   "metadata": {},
   "outputs": [],
   "source": [
    "characters_gender_height = characters_gender_height[characters_gender_height['actor_height'] < 2.73]"
   ]
  },
  {
   "cell_type": "markdown",
   "id": "971b082d",
   "metadata": {},
   "source": [
    "> Are there other outliers? "
   ]
  },
  {
   "cell_type": "code",
   "execution_count": 110,
   "id": "d9536bfa",
   "metadata": {},
   "outputs": [
    {
     "data": {
      "text/plain": [
       "Text(0, 0.5, 'Height (cm)')"
      ]
     },
     "execution_count": 110,
     "metadata": {},
     "output_type": "execute_result"
    },
    {
     "data": {
      "image/png": "[encoded data removed]",
      "text/plain": [
       "<Figure size 640x480 with 1 Axes>"
      ]
     },
     "metadata": {},
     "output_type": "display_data"
    }
   ],
   "source": [
    "plt.boxplot(characters_gender_height['actor_height'])\n",
    "plt.xticks([])\n",
    "plt.title(\"Actors' height in the movies\")\n",
    "plt.ylabel(\"Height (cm)\")"
   ]
  },
  {
   "cell_type": "markdown",
   "id": "7b1dbf96",
   "metadata": {},
   "source": [
    "> We can visualize height by gender. "
   ]
  },
  {
   "cell_type": "code",
   "execution_count": 111,
   "id": "b92c1365",
   "metadata": {},
   "outputs": [
    {
     "data": {
      "text/plain": [
       "<seaborn.axisgrid.FacetGrid at 0x7f83fd8d9c40>"
      ]
     },
     "execution_count": 111,
     "metadata": {},
     "output_type": "execute_result"
    },
    {
     "data": {
      "image/png": "[encoded data removed]",
      "text/plain": [
       "<Figure size 500x500 with 1 Axes>"
      ]
     },
     "metadata": {},
     "output_type": "display_data"
    }
   ],
   "source": [
    "sns.catplot(data=characters_gender_height, x=\"actor_gender\", y=\"actor_height\", kind=\"box\", fliersize=0.5)"
   ]
  },
  {
   "cell_type": "markdown",
   "id": "0c8c05a0",
   "metadata": {},
   "source": [
    "> It seems that male characters have more outliers than female characters. "
   ]
  },
  {
   "cell_type": "markdown",
   "id": "d3ed8d6d",
   "metadata": {},
   "source": [
    "### Are the observed differences statistically significant? "
   ]
  },
  {
   "cell_type": "markdown",
   "id": "4089e6e4",
   "metadata": {},
   "source": [
    "> We look at average age and height between male and female characters. "
   ]
  },
  {
   "cell_type": "code",
   "execution_count": 11,
   "id": "d33d1371",
   "metadata": {},
   "outputs": [
    {
     "data": {
      "text/html": [
       "<div>\n",
       "<style scoped>\n",
       "    .dataframe tbody tr th:only-of-type {\n",
       "        vertical-align: middle;\n",
       "    }\n",
       "\n",
       "    .dataframe tbody tr th {\n",
       "        vertical-align: top;\n",
       "    }\n",
       "\n",
       "    .dataframe thead th {\n",
       "        text-align: right;\n",
       "    }\n",
       "</style>\n",
       "<table border=\"1\" class=\"dataframe\">\n",
       "  <thead>\n",
       "    <tr style=\"text-align: right;\">\n",
       "      <th></th>\n",
       "      <th>actor_age_movie</th>\n",
       "      <th>actor_height</th>\n",
       "    </tr>\n",
       "    <tr>\n",
       "      <th>actor_gender</th>\n",
       "      <th></th>\n",
       "      <th></th>\n",
       "    </tr>\n",
       "  </thead>\n",
       "  <tbody>\n",
       "    <tr>\n",
       "      <th>F</th>\n",
       "      <td>32.810753</td>\n",
       "      <td>1.659008</td>\n",
       "    </tr>\n",
       "    <tr>\n",
       "      <th>M</th>\n",
       "      <td>40.391679</td>\n",
       "      <td>1.863798</td>\n",
       "    </tr>\n",
       "  </tbody>\n",
       "</table>\n",
       "</div>"
      ],
      "text/plain": [
       "              actor_age_movie  actor_height\n",
       "actor_gender                               \n",
       "F                   32.810753      1.659008\n",
       "M                   40.391679      1.863798"
      ]
     },
     "execution_count": 11,
     "metadata": {},
     "output_type": "execute_result"
    }
   ],
   "source": [
    "#In the movies where characters are reported, actresses are on average smaller and younger than men \n",
    "characters_gender_grouped = characters_gender.groupby(\"actor_gender\")[[\"actor_gender\", \"actor_age_movie\", \"actor_height\"]].mean()\n",
    "characters_gender_grouped.head()"
   ]
  },
  {
   "cell_type": "markdown",
   "id": "45abc91c",
   "metadata": {},
   "source": [
    "> Are these differences statistically significant? \\\n",
    "> To answer this question, we perform an independent sample t-test under the null hypothesis: there is no difference between actors' and actresses'a age. "
   ]
  },
  {
   "cell_type": "code",
   "execution_count": 65,
   "id": "70442fcb",
   "metadata": {},
   "outputs": [
    {
     "name": "stdout",
     "output_type": "stream",
     "text": [
      "65.87% of characters were gender and age are reported are male.\n",
      "The DataFrame characters_female_age has 99246 rows, characters_male_age has 191524 rows.\n"
     ]
    }
   ],
   "source": [
    "# We first extract rows where character is played by a woman or by a man\n",
    "characters_female_age = characters_gender_age[characters_gender_age['actor_gender']== 'F']\n",
    "characters_male_age = characters_gender_age[characters_gender_age['actor_gender']== 'M']\n",
    "print(\"{:.2%} of characters were gender and age are reported are male.\".format(len(characters_male_age)/len(characters_gender_age)))\n",
    "print(\"The DataFrame characters_female_age has {} rows, characters_male_age has {} rows.\".format(len(characters_female_age), len(characters_male_age)))"
   ]
  },
  {
   "cell_type": "code",
   "execution_count": 68,
   "id": "ad61e3d7",
   "metadata": {},
   "outputs": [
    {
     "name": "stdout",
     "output_type": "stream",
     "text": [
      "The p-value for the independent sample t-test is: 0.0\n"
     ]
    }
   ],
   "source": [
    "#characters_female and characters_male do not have the same shape, we extract 99 242 rows from characters_male to have the same shape to perform an independent t-test\n",
    "characters_male_age_corr = characters_male_age.sample(n=len(characters_female_age), replace=False)\n",
    "\n",
    "#We perform the independent sample t-test to compare age of female and male actors\n",
    "stat_indep_age, pvalue_indep_age = stats.ttest_ind(characters_female_age['actor_age_movie'], characters_male_age_corr['actor_age_movie'])\n",
    "print(\"The p-value for the independent sample t-test is: {}\".format(pvalue_indep_age))"
   ]
  },
  {
   "cell_type": "markdown",
   "id": "fd5f25ed",
   "metadata": {},
   "source": [
    ">Here, the p-value is probably below a certain treshold and Pyhton returns 0. \\\n",
    ">As the p-value verifies $ p < 0.05 $, actresses are significantly younger in movies of the dataset than actors, with 95% confidence. "
   ]
  },
  {
   "cell_type": "code",
   "execution_count": 72,
   "id": "2d4a9261",
   "metadata": {},
   "outputs": [
    {
     "name": "stdout",
     "output_type": "stream",
     "text": [
      "63.46% of characters were gender and age are reported are male.\n",
      "The DataFrame characters_female has 56515 rows, characters_male has 98148 rows.\n"
     ]
    }
   ],
   "source": [
    "#We now do the same t-test to compare height of male and female actors\n",
    "characters_female_height = characters_gender_height[characters_gender_height['actor_gender']== 'F']\n",
    "characters_male_height = characters_gender_height[characters_gender_height['actor_gender']== 'M']\n",
    "print(\"{:.2%} of characters were gender and age are reported are male.\".format(len(characters_male_height)/len(characters_gender_height)))\n",
    "print(\"The DataFrame characters_female has {} rows, characters_male has {} rows.\".format(len(characters_female_height), len(characters_male_height)))"
   ]
  },
  {
   "cell_type": "code",
   "execution_count": 73,
   "id": "bcb6a761",
   "metadata": {},
   "outputs": [
    {
     "name": "stdout",
     "output_type": "stream",
     "text": [
      "The p-value for the independent sample t-test is: 1.969864070783097e-20\n"
     ]
    }
   ],
   "source": [
    "#characters_female and characters_male do not have the same shape, we extract 56 515 rows from characters_male to have the same shape to perform an independent t-test\n",
    "characters_male_corr2 = characters_male_height.sample(n=len(characters_female_height), replace=False)\n",
    "\n",
    "#We perform the independent sample t-test to compare age of female and male actors\n",
    "stat_indep_height, pvalue_indep_height = stats.ttest_ind(characters_female_height['actor_height'], characters_male_corr2['actor_height'])\n",
    "print(\"The p-value for the independent sample t-test is: {}\".format(pvalue_indep_height))"
   ]
  },
  {
   "cell_type": "markdown",
   "id": "ff396bf9",
   "metadata": {},
   "source": [
    ">Here again the p-value verifies $ p < 0.05 $ so actresses are significantly smaller in movies of the dataset than actors, with 95% confidence. "
   ]
  },
  {
   "cell_type": "markdown",
   "id": "73d08613",
   "metadata": {},
   "source": [
    "### Is there a correlation between age and gender, or between height and gender? "
   ]
  },
  {
   "cell_type": "code",
   "execution_count": null,
   "id": "67139905",
   "metadata": {},
   "outputs": [],
   "source": []
  },
  {
   "cell_type": "code",
   "execution_count": null,
   "id": "a9e057b0",
   "metadata": {},
   "outputs": [],
   "source": []
  }
 ],
 "metadata": {
  "kernelspec": {
   "display_name": "Python 3.9.13 ('ada')",
   "language": "python",
   "name": "python3"
  },
  "language_info": {
   "codemirror_mode": {
    "name": "ipython",
    "version": 3
   },
   "file_extension": ".py",
   "mimetype": "text/x-python",
   "name": "python",
   "nbconvert_exporter": "python",
   "pygments_lexer": "ipython3",
   "version": "3.9.13"
  },
  "vscode": {
   "interpreter": {
    "hash": "b10238e0c79a4c24253f4ac6e83e270c54f67c79175f175eb395f7064e39a9cb"
   }
  }
 },
 "nbformat": 4,
 "nbformat_minor": 5
}
