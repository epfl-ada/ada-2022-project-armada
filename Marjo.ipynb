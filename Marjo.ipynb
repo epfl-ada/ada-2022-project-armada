{
 "cells": [
  {
   "cell_type": "markdown",
   "id": "0c1cb2e5",
   "metadata": {},
   "source": [
    "# Is the cinema sexist? "
   ]
  },
  {
   "cell_type": "markdown",
   "id": "ce28fd40",
   "metadata": {},
   "source": [
    "**Authors**\n",
    "- Marjorie Cayatte\n",
    "- Maxime Leriche\n",
    "- Madeleine Robert\n",
    "- Arthur Tabary"
   ]
  },
  {
   "cell_type": "markdown",
   "id": "0eed2c16",
   "metadata": {},
   "source": [
    "**Date**\\\n",
    "November, 18th, 2022"
   ]
  },
  {
   "cell_type": "markdown",
   "id": "1389df64",
   "metadata": {},
   "source": [
    "In this Notebook, we present our initial analyses and results. We first import the necessay libraries. "
   ]
  },
  {
   "cell_type": "code",
   "execution_count": 22,
   "id": "b73420b0",
   "metadata": {},
   "outputs": [],
   "source": [
    "import pandas as pd\n",
    "import numpy as np\n",
    "import matplotlib.pyplot as plt\n",
    "import matplotlib.dates as mdates\n",
    "%matplotlib inline\n",
    "import seaborn as sns\n",
    "import math\n",
    "from scipy import stats\n",
    "import json\n",
    "from datetime import datetime, date, time\n",
    "import requests"
   ]
  },
  {
   "cell_type": "markdown",
   "id": "f8d105fc",
   "metadata": {},
   "source": [
    "## 1 - Get the different datasets"
   ]
  },
  {
   "cell_type": "markdown",
   "id": "d7c7cd12",
   "metadata": {},
   "source": [
    "We import the following datasets from the **CMU Movie Summary Corpus** as DataFrame: \n",
    "- *movie.metadata.tsv.gz*: metadata for 81,741 movies, extracted from the November 4<sup>th</sup>, 2012 dump of Freebase. \n",
    "- *character.metadata.tsv.gz*: metadata for 450,669 characters aligned to the movies, extracted from the November 4<sup>th</sup>, 2012 dump of Freebase. "
   ]
  },
  {
   "cell_type": "code",
   "execution_count": 23,
   "id": "7c171314",
   "metadata": {},
   "outputs": [
    {
     "data": {
      "text/html": [
       "<div>\n",
       "<style scoped>\n",
       "    .dataframe tbody tr th:only-of-type {\n",
       "        vertical-align: middle;\n",
       "    }\n",
       "\n",
       "    .dataframe tbody tr th {\n",
       "        vertical-align: top;\n",
       "    }\n",
       "\n",
       "    .dataframe thead th {\n",
       "        text-align: right;\n",
       "    }\n",
       "</style>\n",
       "<table border=\"1\" class=\"dataframe\">\n",
       "  <thead>\n",
       "    <tr style=\"text-align: right;\">\n",
       "      <th></th>\n",
       "      <th>wiki_movie_ID</th>\n",
       "      <th>freebase_movie_ID</th>\n",
       "      <th>movie_name</th>\n",
       "      <th>movie_release_date</th>\n",
       "      <th>movie_box_off_rev</th>\n",
       "      <th>movie_runtime</th>\n",
       "      <th>movie_languages</th>\n",
       "      <th>movie_countries</th>\n",
       "      <th>movie_genres</th>\n",
       "    </tr>\n",
       "  </thead>\n",
       "  <tbody>\n",
       "    <tr>\n",
       "      <th>0</th>\n",
       "      <td>975900</td>\n",
       "      <td>/m/03vyhn</td>\n",
       "      <td>Ghosts of Mars</td>\n",
       "      <td>2001-08-24</td>\n",
       "      <td>14010832.0</td>\n",
       "      <td>98.0</td>\n",
       "      <td>{\"/m/02h40lc\": \"English Language\"}</td>\n",
       "      <td>{\"/m/09c7w0\": \"United States of America\"}</td>\n",
       "      <td>{\"/m/01jfsb\": \"Thriller\", \"/m/06n90\": \"Science...</td>\n",
       "    </tr>\n",
       "    <tr>\n",
       "      <th>1</th>\n",
       "      <td>3196793</td>\n",
       "      <td>/m/08yl5d</td>\n",
       "      <td>Getting Away with Murder: The JonBenét Ramsey ...</td>\n",
       "      <td>2000-02-16</td>\n",
       "      <td>NaN</td>\n",
       "      <td>95.0</td>\n",
       "      <td>{\"/m/02h40lc\": \"English Language\"}</td>\n",
       "      <td>{\"/m/09c7w0\": \"United States of America\"}</td>\n",
       "      <td>{\"/m/02n4kr\": \"Mystery\", \"/m/03bxz7\": \"Biograp...</td>\n",
       "    </tr>\n",
       "    <tr>\n",
       "      <th>2</th>\n",
       "      <td>28463795</td>\n",
       "      <td>/m/0crgdbh</td>\n",
       "      <td>Brun bitter</td>\n",
       "      <td>1988</td>\n",
       "      <td>NaN</td>\n",
       "      <td>83.0</td>\n",
       "      <td>{\"/m/05f_3\": \"Norwegian Language\"}</td>\n",
       "      <td>{\"/m/05b4w\": \"Norway\"}</td>\n",
       "      <td>{\"/m/0lsxr\": \"Crime Fiction\", \"/m/07s9rl0\": \"D...</td>\n",
       "    </tr>\n",
       "    <tr>\n",
       "      <th>3</th>\n",
       "      <td>9363483</td>\n",
       "      <td>/m/0285_cd</td>\n",
       "      <td>White Of The Eye</td>\n",
       "      <td>1987</td>\n",
       "      <td>NaN</td>\n",
       "      <td>110.0</td>\n",
       "      <td>{\"/m/02h40lc\": \"English Language\"}</td>\n",
       "      <td>{\"/m/07ssc\": \"United Kingdom\"}</td>\n",
       "      <td>{\"/m/01jfsb\": \"Thriller\", \"/m/0glj9q\": \"Erotic...</td>\n",
       "    </tr>\n",
       "    <tr>\n",
       "      <th>4</th>\n",
       "      <td>261236</td>\n",
       "      <td>/m/01mrr1</td>\n",
       "      <td>A Woman in Flames</td>\n",
       "      <td>1983</td>\n",
       "      <td>NaN</td>\n",
       "      <td>106.0</td>\n",
       "      <td>{\"/m/04306rv\": \"German Language\"}</td>\n",
       "      <td>{\"/m/0345h\": \"Germany\"}</td>\n",
       "      <td>{\"/m/07s9rl0\": \"Drama\"}</td>\n",
       "    </tr>\n",
       "  </tbody>\n",
       "</table>\n",
       "</div>"
      ],
      "text/plain": [
       "   wiki_movie_ID freebase_movie_ID  \\\n",
       "0         975900         /m/03vyhn   \n",
       "1        3196793         /m/08yl5d   \n",
       "2       28463795        /m/0crgdbh   \n",
       "3        9363483        /m/0285_cd   \n",
       "4         261236         /m/01mrr1   \n",
       "\n",
       "                                          movie_name movie_release_date  \\\n",
       "0                                     Ghosts of Mars         2001-08-24   \n",
       "1  Getting Away with Murder: The JonBenét Ramsey ...         2000-02-16   \n",
       "2                                        Brun bitter               1988   \n",
       "3                                   White Of The Eye               1987   \n",
       "4                                  A Woman in Flames               1983   \n",
       "\n",
       "   movie_box_off_rev  movie_runtime                     movie_languages  \\\n",
       "0         14010832.0           98.0  {\"/m/02h40lc\": \"English Language\"}   \n",
       "1                NaN           95.0  {\"/m/02h40lc\": \"English Language\"}   \n",
       "2                NaN           83.0  {\"/m/05f_3\": \"Norwegian Language\"}   \n",
       "3                NaN          110.0  {\"/m/02h40lc\": \"English Language\"}   \n",
       "4                NaN          106.0   {\"/m/04306rv\": \"German Language\"}   \n",
       "\n",
       "                             movie_countries  \\\n",
       "0  {\"/m/09c7w0\": \"United States of America\"}   \n",
       "1  {\"/m/09c7w0\": \"United States of America\"}   \n",
       "2                     {\"/m/05b4w\": \"Norway\"}   \n",
       "3             {\"/m/07ssc\": \"United Kingdom\"}   \n",
       "4                    {\"/m/0345h\": \"Germany\"}   \n",
       "\n",
       "                                        movie_genres  \n",
       "0  {\"/m/01jfsb\": \"Thriller\", \"/m/06n90\": \"Science...  \n",
       "1  {\"/m/02n4kr\": \"Mystery\", \"/m/03bxz7\": \"Biograp...  \n",
       "2  {\"/m/0lsxr\": \"Crime Fiction\", \"/m/07s9rl0\": \"D...  \n",
       "3  {\"/m/01jfsb\": \"Thriller\", \"/m/0glj9q\": \"Erotic...  \n",
       "4                            {\"/m/07s9rl0\": \"Drama\"}  "
      ]
     },
     "execution_count": 23,
     "metadata": {},
     "output_type": "execute_result"
    }
   ],
   "source": [
    "# Import movie.metadata and format column names\n",
    "movies = pd.read_csv('Data/MovieSummaries/movie.metadata.tsv',sep='\\t',header=None)\n",
    "movies.columns=['wiki_movie_ID','freebase_movie_ID','movie_name','movie_release_date','movie_box_off_rev','movie_runtime','movie_languages','movie_countries','movie_genres']\n",
    "movies.head()"
   ]
  },
  {
   "cell_type": "markdown",
   "id": "e9b588fa",
   "metadata": {},
   "source": [
    "- We will clean the DataFrame *movies* by splitting the columns with multiple data into multiple columns. For example, the column \"movie_countries\" contains the Freebase ID and the country. To do so, we tranform dictionnary in list which will be easier to manipulate. "
   ]
  },
  {
   "cell_type": "code",
   "execution_count": 24,
   "id": "77fce012",
   "metadata": {},
   "outputs": [
    {
     "data": {
      "text/html": [
       "<div>\n",
       "<style scoped>\n",
       "    .dataframe tbody tr th:only-of-type {\n",
       "        vertical-align: middle;\n",
       "    }\n",
       "\n",
       "    .dataframe tbody tr th {\n",
       "        vertical-align: top;\n",
       "    }\n",
       "\n",
       "    .dataframe thead th {\n",
       "        text-align: right;\n",
       "    }\n",
       "</style>\n",
       "<table border=\"1\" class=\"dataframe\">\n",
       "  <thead>\n",
       "    <tr style=\"text-align: right;\">\n",
       "      <th></th>\n",
       "      <th>wiki_movie_ID</th>\n",
       "      <th>freebase_movie_ID</th>\n",
       "      <th>movie_name</th>\n",
       "      <th>movie_release_date</th>\n",
       "      <th>movie_box_off_rev</th>\n",
       "      <th>movie_runtime</th>\n",
       "      <th>movie_languages</th>\n",
       "      <th>movie_countries</th>\n",
       "      <th>movie_genres</th>\n",
       "      <th>movie_countries_id</th>\n",
       "      <th>movie_genres_id</th>\n",
       "      <th>movie_languages_id</th>\n",
       "    </tr>\n",
       "  </thead>\n",
       "  <tbody>\n",
       "    <tr>\n",
       "      <th>0</th>\n",
       "      <td>975900</td>\n",
       "      <td>/m/03vyhn</td>\n",
       "      <td>Ghosts of Mars</td>\n",
       "      <td>2001-08-24</td>\n",
       "      <td>14010832.0</td>\n",
       "      <td>98.0</td>\n",
       "      <td>[English Language]</td>\n",
       "      <td>[United States of America]</td>\n",
       "      <td>[Thriller, Science Fiction, Horror, Adventure,...</td>\n",
       "      <td>[/m/09c7w0]</td>\n",
       "      <td>[/m/01jfsb, /m/06n90, /m/03npn, /m/03k9fj, /m/...</td>\n",
       "      <td>[/m/02h40lc]</td>\n",
       "    </tr>\n",
       "    <tr>\n",
       "      <th>1</th>\n",
       "      <td>3196793</td>\n",
       "      <td>/m/08yl5d</td>\n",
       "      <td>Getting Away with Murder: The JonBenét Ramsey ...</td>\n",
       "      <td>2000-02-16</td>\n",
       "      <td>NaN</td>\n",
       "      <td>95.0</td>\n",
       "      <td>[English Language]</td>\n",
       "      <td>[United States of America]</td>\n",
       "      <td>[Mystery, Biographical film, Drama, Crime Drama]</td>\n",
       "      <td>[/m/09c7w0]</td>\n",
       "      <td>[/m/02n4kr, /m/03bxz7, /m/07s9rl0, /m/0hj3n01]</td>\n",
       "      <td>[/m/02h40lc]</td>\n",
       "    </tr>\n",
       "    <tr>\n",
       "      <th>2</th>\n",
       "      <td>28463795</td>\n",
       "      <td>/m/0crgdbh</td>\n",
       "      <td>Brun bitter</td>\n",
       "      <td>1988</td>\n",
       "      <td>NaN</td>\n",
       "      <td>83.0</td>\n",
       "      <td>[Norwegian Language]</td>\n",
       "      <td>[Norway]</td>\n",
       "      <td>[Crime Fiction, Drama]</td>\n",
       "      <td>[/m/05b4w]</td>\n",
       "      <td>[/m/0lsxr, /m/07s9rl0]</td>\n",
       "      <td>[/m/05f_3]</td>\n",
       "    </tr>\n",
       "    <tr>\n",
       "      <th>3</th>\n",
       "      <td>9363483</td>\n",
       "      <td>/m/0285_cd</td>\n",
       "      <td>White Of The Eye</td>\n",
       "      <td>1987</td>\n",
       "      <td>NaN</td>\n",
       "      <td>110.0</td>\n",
       "      <td>[English Language]</td>\n",
       "      <td>[United Kingdom]</td>\n",
       "      <td>[Thriller, Erotic thriller, Psychological thri...</td>\n",
       "      <td>[/m/07ssc]</td>\n",
       "      <td>[/m/01jfsb, /m/0glj9q, /m/09blyk]</td>\n",
       "      <td>[/m/02h40lc]</td>\n",
       "    </tr>\n",
       "    <tr>\n",
       "      <th>4</th>\n",
       "      <td>261236</td>\n",
       "      <td>/m/01mrr1</td>\n",
       "      <td>A Woman in Flames</td>\n",
       "      <td>1983</td>\n",
       "      <td>NaN</td>\n",
       "      <td>106.0</td>\n",
       "      <td>[German Language]</td>\n",
       "      <td>[Germany]</td>\n",
       "      <td>[Drama]</td>\n",
       "      <td>[/m/0345h]</td>\n",
       "      <td>[/m/07s9rl0]</td>\n",
       "      <td>[/m/04306rv]</td>\n",
       "    </tr>\n",
       "  </tbody>\n",
       "</table>\n",
       "</div>"
      ],
      "text/plain": [
       "   wiki_movie_ID freebase_movie_ID  \\\n",
       "0         975900         /m/03vyhn   \n",
       "1        3196793         /m/08yl5d   \n",
       "2       28463795        /m/0crgdbh   \n",
       "3        9363483        /m/0285_cd   \n",
       "4         261236         /m/01mrr1   \n",
       "\n",
       "                                          movie_name movie_release_date  \\\n",
       "0                                     Ghosts of Mars         2001-08-24   \n",
       "1  Getting Away with Murder: The JonBenét Ramsey ...         2000-02-16   \n",
       "2                                        Brun bitter               1988   \n",
       "3                                   White Of The Eye               1987   \n",
       "4                                  A Woman in Flames               1983   \n",
       "\n",
       "   movie_box_off_rev  movie_runtime       movie_languages  \\\n",
       "0         14010832.0           98.0    [English Language]   \n",
       "1                NaN           95.0    [English Language]   \n",
       "2                NaN           83.0  [Norwegian Language]   \n",
       "3                NaN          110.0    [English Language]   \n",
       "4                NaN          106.0     [German Language]   \n",
       "\n",
       "              movie_countries  \\\n",
       "0  [United States of America]   \n",
       "1  [United States of America]   \n",
       "2                    [Norway]   \n",
       "3            [United Kingdom]   \n",
       "4                   [Germany]   \n",
       "\n",
       "                                        movie_genres movie_countries_id  \\\n",
       "0  [Thriller, Science Fiction, Horror, Adventure,...        [/m/09c7w0]   \n",
       "1   [Mystery, Biographical film, Drama, Crime Drama]        [/m/09c7w0]   \n",
       "2                             [Crime Fiction, Drama]         [/m/05b4w]   \n",
       "3  [Thriller, Erotic thriller, Psychological thri...         [/m/07ssc]   \n",
       "4                                            [Drama]         [/m/0345h]   \n",
       "\n",
       "                                     movie_genres_id movie_languages_id  \n",
       "0  [/m/01jfsb, /m/06n90, /m/03npn, /m/03k9fj, /m/...       [/m/02h40lc]  \n",
       "1     [/m/02n4kr, /m/03bxz7, /m/07s9rl0, /m/0hj3n01]       [/m/02h40lc]  \n",
       "2                             [/m/0lsxr, /m/07s9rl0]         [/m/05f_3]  \n",
       "3                  [/m/01jfsb, /m/0glj9q, /m/09blyk]       [/m/02h40lc]  \n",
       "4                                       [/m/07s9rl0]       [/m/04306rv]  "
      ]
     },
     "execution_count": 24,
     "metadata": {},
     "output_type": "execute_result"
    }
   ],
   "source": [
    "# Separate dictionaries into 2 columns with Freebase id and value\n",
    "movies[\"movie_countries_id\"] = movies[\"movie_countries\"].map(eval).apply(lambda x: list(x.keys()))\n",
    "movies[\"movie_countries\"] = movies[\"movie_countries\"].map(eval).apply(lambda x: list(x.values()))\n",
    "movies[\"movie_genres_id\"] = movies[\"movie_genres\"].map(eval).apply(lambda x: list(x.keys()))\n",
    "movies[\"movie_genres\"] = movies[\"movie_genres\"].map(eval).apply(lambda x: list(x.values()))\n",
    "movies[\"movie_languages_id\"] = movies[\"movie_languages\"].map(eval).apply(lambda x: list(x.keys()))\n",
    "movies[\"movie_languages\"] = movies[\"movie_languages\"].map(eval).apply(lambda x: list(x.values()))\n",
    "movies.head()"
   ]
  },
  {
   "cell_type": "code",
   "execution_count": 25,
   "id": "9514cc7c",
   "metadata": {},
   "outputs": [
    {
     "data": {
      "text/html": [
       "<div>\n",
       "<style scoped>\n",
       "    .dataframe tbody tr th:only-of-type {\n",
       "        vertical-align: middle;\n",
       "    }\n",
       "\n",
       "    .dataframe tbody tr th {\n",
       "        vertical-align: top;\n",
       "    }\n",
       "\n",
       "    .dataframe thead th {\n",
       "        text-align: right;\n",
       "    }\n",
       "</style>\n",
       "<table border=\"1\" class=\"dataframe\">\n",
       "  <thead>\n",
       "    <tr style=\"text-align: right;\">\n",
       "      <th></th>\n",
       "      <th>wiki_movie_ID</th>\n",
       "      <th>freebase_movie_ID</th>\n",
       "      <th>movie_release_date</th>\n",
       "      <th>character_name</th>\n",
       "      <th>actor_DOB</th>\n",
       "      <th>actor_gender</th>\n",
       "      <th>actor_height</th>\n",
       "      <th>actor_ethnicity</th>\n",
       "      <th>actor_name</th>\n",
       "      <th>actor_age_movie</th>\n",
       "      <th>freebase_char/actor_map_ID</th>\n",
       "      <th>freebase_char_ID</th>\n",
       "      <th>freebase_actor_ID</th>\n",
       "    </tr>\n",
       "  </thead>\n",
       "  <tbody>\n",
       "    <tr>\n",
       "      <th>0</th>\n",
       "      <td>975900</td>\n",
       "      <td>/m/03vyhn</td>\n",
       "      <td>2001-08-24</td>\n",
       "      <td>Akooshay</td>\n",
       "      <td>1958-08-26</td>\n",
       "      <td>F</td>\n",
       "      <td>1.620</td>\n",
       "      <td>NaN</td>\n",
       "      <td>Wanda De Jesus</td>\n",
       "      <td>42.0</td>\n",
       "      <td>/m/0bgchxw</td>\n",
       "      <td>/m/0bgcj3x</td>\n",
       "      <td>/m/03wcfv7</td>\n",
       "    </tr>\n",
       "    <tr>\n",
       "      <th>1</th>\n",
       "      <td>975900</td>\n",
       "      <td>/m/03vyhn</td>\n",
       "      <td>2001-08-24</td>\n",
       "      <td>Lieutenant Melanie Ballard</td>\n",
       "      <td>1974-08-15</td>\n",
       "      <td>F</td>\n",
       "      <td>1.780</td>\n",
       "      <td>/m/044038p</td>\n",
       "      <td>Natasha Henstridge</td>\n",
       "      <td>27.0</td>\n",
       "      <td>/m/0jys3m</td>\n",
       "      <td>/m/0bgchn4</td>\n",
       "      <td>/m/0346l4</td>\n",
       "    </tr>\n",
       "    <tr>\n",
       "      <th>2</th>\n",
       "      <td>975900</td>\n",
       "      <td>/m/03vyhn</td>\n",
       "      <td>2001-08-24</td>\n",
       "      <td>Desolation Williams</td>\n",
       "      <td>1969-06-15</td>\n",
       "      <td>M</td>\n",
       "      <td>1.727</td>\n",
       "      <td>/m/0x67</td>\n",
       "      <td>Ice Cube</td>\n",
       "      <td>32.0</td>\n",
       "      <td>/m/0jys3g</td>\n",
       "      <td>/m/0bgchn_</td>\n",
       "      <td>/m/01vw26l</td>\n",
       "    </tr>\n",
       "    <tr>\n",
       "      <th>3</th>\n",
       "      <td>975900</td>\n",
       "      <td>/m/03vyhn</td>\n",
       "      <td>2001-08-24</td>\n",
       "      <td>Sgt Jericho Butler</td>\n",
       "      <td>1967-09-12</td>\n",
       "      <td>M</td>\n",
       "      <td>1.750</td>\n",
       "      <td>NaN</td>\n",
       "      <td>Jason Statham</td>\n",
       "      <td>33.0</td>\n",
       "      <td>/m/02vchl6</td>\n",
       "      <td>/m/0bgchnq</td>\n",
       "      <td>/m/034hyc</td>\n",
       "    </tr>\n",
       "    <tr>\n",
       "      <th>4</th>\n",
       "      <td>975900</td>\n",
       "      <td>/m/03vyhn</td>\n",
       "      <td>2001-08-24</td>\n",
       "      <td>Bashira Kincaid</td>\n",
       "      <td>1977-09-25</td>\n",
       "      <td>F</td>\n",
       "      <td>1.650</td>\n",
       "      <td>NaN</td>\n",
       "      <td>Clea DuVall</td>\n",
       "      <td>23.0</td>\n",
       "      <td>/m/02vbb3r</td>\n",
       "      <td>/m/0bgchp9</td>\n",
       "      <td>/m/01y9xg</td>\n",
       "    </tr>\n",
       "  </tbody>\n",
       "</table>\n",
       "</div>"
      ],
      "text/plain": [
       "   wiki_movie_ID freebase_movie_ID movie_release_date  \\\n",
       "0         975900         /m/03vyhn         2001-08-24   \n",
       "1         975900         /m/03vyhn         2001-08-24   \n",
       "2         975900         /m/03vyhn         2001-08-24   \n",
       "3         975900         /m/03vyhn         2001-08-24   \n",
       "4         975900         /m/03vyhn         2001-08-24   \n",
       "\n",
       "               character_name   actor_DOB actor_gender  actor_height  \\\n",
       "0                    Akooshay  1958-08-26            F         1.620   \n",
       "1  Lieutenant Melanie Ballard  1974-08-15            F         1.780   \n",
       "2         Desolation Williams  1969-06-15            M         1.727   \n",
       "3          Sgt Jericho Butler  1967-09-12            M         1.750   \n",
       "4             Bashira Kincaid  1977-09-25            F         1.650   \n",
       "\n",
       "  actor_ethnicity          actor_name  actor_age_movie  \\\n",
       "0             NaN      Wanda De Jesus             42.0   \n",
       "1      /m/044038p  Natasha Henstridge             27.0   \n",
       "2         /m/0x67            Ice Cube             32.0   \n",
       "3             NaN       Jason Statham             33.0   \n",
       "4             NaN         Clea DuVall             23.0   \n",
       "\n",
       "  freebase_char/actor_map_ID freebase_char_ID freebase_actor_ID  \n",
       "0                 /m/0bgchxw       /m/0bgcj3x        /m/03wcfv7  \n",
       "1                  /m/0jys3m       /m/0bgchn4         /m/0346l4  \n",
       "2                  /m/0jys3g       /m/0bgchn_        /m/01vw26l  \n",
       "3                 /m/02vchl6       /m/0bgchnq         /m/034hyc  \n",
       "4                 /m/02vbb3r       /m/0bgchp9         /m/01y9xg  "
      ]
     },
     "execution_count": 25,
     "metadata": {},
     "output_type": "execute_result"
    }
   ],
   "source": [
    "# Load character metadata and format column names\n",
    "characters = pd.read_csv('Data/MovieSummaries/character.metadata.tsv',sep='\\t',header=None)\n",
    "characters.columns = ['wiki_movie_ID','freebase_movie_ID','movie_release_date','character_name','actor_DOB','actor_gender','actor_height','actor_ethnicity','actor_name','actor_age_movie','freebase_char/actor_map_ID','freebase_char_ID','freebase_actor_ID']\n",
    "characters.head()"
   ]
  },
  {
   "cell_type": "markdown",
   "id": "7be2bbcd",
   "metadata": {},
   "source": [
    "## 2 - What genre are included in the dataset ?"
   ]
  },
  {
   "cell_type": "markdown",
   "id": "bedff021",
   "metadata": {},
   "source": [
    "In this part, we analyze the feature \"movie_genres\" to understand how we can include it as a parameter to answer our main question. "
   ]
  },
  {
   "cell_type": "markdown",
   "id": "0609d891",
   "metadata": {},
   "source": [
    "### 2.1 - Transform and clean the dataset"
   ]
  },
  {
   "cell_type": "markdown",
   "id": "bd1cce0d",
   "metadata": {},
   "source": [
    "- We notice some corrupted values and correct them. "
   ]
  },
  {
   "cell_type": "code",
   "execution_count": 26,
   "id": "3652b4d2",
   "metadata": {},
   "outputs": [
    {
     "data": {
      "text/plain": [
       "wiki_movie_ID                                             29666067\n",
       "freebase_movie_ID                                       /m/0fphzrf\n",
       "movie_name                                          Hunting Season\n",
       "movie_release_date                                      1010-12-02\n",
       "movie_box_off_rev                                       12160978.0\n",
       "movie_runtime                                                140.0\n",
       "movie_languages               [Turkish Language, English Language]\n",
       "movie_countries                                           [Turkey]\n",
       "movie_genres             [Crime Fiction, Mystery, Drama, Thriller]\n",
       "movie_countries_id                                     [/m/01znc_]\n",
       "movie_genres_id       [/m/0lsxr, /m/02n4kr, /m/07s9rl0, /m/01jfsb]\n",
       "movie_languages_id                        [/m/02hwyss, /m/02h40lc]\n",
       "Name: 62836, dtype: object"
      ]
     },
     "execution_count": 26,
     "metadata": {},
     "output_type": "execute_result"
    }
   ],
   "source": [
    "# Warning, some rows of the dataset have wrong release dates: here 1010 instead of 2010\n",
    "movies.iloc[62836]"
   ]
  },
  {
   "cell_type": "code",
   "execution_count": 27,
   "id": "7e0cfde9",
   "metadata": {},
   "outputs": [],
   "source": [
    "# Replace the wrong value of 1010\n",
    "movies.loc[62836, 'movie_release_date'] = '2010-12-02'"
   ]
  },
  {
   "cell_type": "code",
   "execution_count": 28,
   "id": "7231c3c5",
   "metadata": {},
   "outputs": [],
   "source": [
    "# Keep only the year of the release date\n",
    "movies['movie_release_date'] = movies['movie_release_date'].str[:4]"
   ]
  },
  {
   "cell_type": "markdown",
   "id": "9cdd6bc2",
   "metadata": {},
   "source": [
    "### 2.2 - How many genre a movie has? "
   ]
  },
  {
   "cell_type": "markdown",
   "id": "8039cf04",
   "metadata": {},
   "source": [
    "- We first want to know how many genre a movie has to better understand how this characterize the movie."
   ]
  },
  {
   "cell_type": "code",
   "execution_count": 29,
   "id": "e612247a",
   "metadata": {},
   "outputs": [
    {
     "data": {
      "text/html": [
       "<div>\n",
       "<style scoped>\n",
       "    .dataframe tbody tr th:only-of-type {\n",
       "        vertical-align: middle;\n",
       "    }\n",
       "\n",
       "    .dataframe tbody tr th {\n",
       "        vertical-align: top;\n",
       "    }\n",
       "\n",
       "    .dataframe thead th {\n",
       "        text-align: right;\n",
       "    }\n",
       "</style>\n",
       "<table border=\"1\" class=\"dataframe\">\n",
       "  <thead>\n",
       "    <tr style=\"text-align: right;\">\n",
       "      <th></th>\n",
       "      <th>wiki_movie_ID</th>\n",
       "      <th>freebase_movie_ID</th>\n",
       "      <th>movie_name</th>\n",
       "      <th>movie_release_date</th>\n",
       "      <th>movie_box_off_rev</th>\n",
       "      <th>movie_runtime</th>\n",
       "      <th>movie_languages</th>\n",
       "      <th>movie_countries</th>\n",
       "      <th>movie_genres</th>\n",
       "      <th>movie_countries_id</th>\n",
       "      <th>movie_genres_id</th>\n",
       "      <th>movie_languages_id</th>\n",
       "      <th>nb_genres</th>\n",
       "    </tr>\n",
       "  </thead>\n",
       "  <tbody>\n",
       "    <tr>\n",
       "      <th>0</th>\n",
       "      <td>975900</td>\n",
       "      <td>/m/03vyhn</td>\n",
       "      <td>Ghosts of Mars</td>\n",
       "      <td>2001</td>\n",
       "      <td>14010832.0</td>\n",
       "      <td>98.0</td>\n",
       "      <td>[English Language]</td>\n",
       "      <td>[United States of America]</td>\n",
       "      <td>[Thriller, Science Fiction, Horror, Adventure,...</td>\n",
       "      <td>[/m/09c7w0]</td>\n",
       "      <td>[/m/01jfsb, /m/06n90, /m/03npn, /m/03k9fj, /m/...</td>\n",
       "      <td>[/m/02h40lc]</td>\n",
       "      <td>7</td>\n",
       "    </tr>\n",
       "    <tr>\n",
       "      <th>1</th>\n",
       "      <td>3196793</td>\n",
       "      <td>/m/08yl5d</td>\n",
       "      <td>Getting Away with Murder: The JonBenét Ramsey ...</td>\n",
       "      <td>2000</td>\n",
       "      <td>NaN</td>\n",
       "      <td>95.0</td>\n",
       "      <td>[English Language]</td>\n",
       "      <td>[United States of America]</td>\n",
       "      <td>[Mystery, Biographical film, Drama, Crime Drama]</td>\n",
       "      <td>[/m/09c7w0]</td>\n",
       "      <td>[/m/02n4kr, /m/03bxz7, /m/07s9rl0, /m/0hj3n01]</td>\n",
       "      <td>[/m/02h40lc]</td>\n",
       "      <td>4</td>\n",
       "    </tr>\n",
       "    <tr>\n",
       "      <th>2</th>\n",
       "      <td>28463795</td>\n",
       "      <td>/m/0crgdbh</td>\n",
       "      <td>Brun bitter</td>\n",
       "      <td>1988</td>\n",
       "      <td>NaN</td>\n",
       "      <td>83.0</td>\n",
       "      <td>[Norwegian Language]</td>\n",
       "      <td>[Norway]</td>\n",
       "      <td>[Crime Fiction, Drama]</td>\n",
       "      <td>[/m/05b4w]</td>\n",
       "      <td>[/m/0lsxr, /m/07s9rl0]</td>\n",
       "      <td>[/m/05f_3]</td>\n",
       "      <td>2</td>\n",
       "    </tr>\n",
       "    <tr>\n",
       "      <th>3</th>\n",
       "      <td>9363483</td>\n",
       "      <td>/m/0285_cd</td>\n",
       "      <td>White Of The Eye</td>\n",
       "      <td>1987</td>\n",
       "      <td>NaN</td>\n",
       "      <td>110.0</td>\n",
       "      <td>[English Language]</td>\n",
       "      <td>[United Kingdom]</td>\n",
       "      <td>[Thriller, Erotic thriller, Psychological thri...</td>\n",
       "      <td>[/m/07ssc]</td>\n",
       "      <td>[/m/01jfsb, /m/0glj9q, /m/09blyk]</td>\n",
       "      <td>[/m/02h40lc]</td>\n",
       "      <td>3</td>\n",
       "    </tr>\n",
       "    <tr>\n",
       "      <th>4</th>\n",
       "      <td>261236</td>\n",
       "      <td>/m/01mrr1</td>\n",
       "      <td>A Woman in Flames</td>\n",
       "      <td>1983</td>\n",
       "      <td>NaN</td>\n",
       "      <td>106.0</td>\n",
       "      <td>[German Language]</td>\n",
       "      <td>[Germany]</td>\n",
       "      <td>[Drama]</td>\n",
       "      <td>[/m/0345h]</td>\n",
       "      <td>[/m/07s9rl0]</td>\n",
       "      <td>[/m/04306rv]</td>\n",
       "      <td>1</td>\n",
       "    </tr>\n",
       "  </tbody>\n",
       "</table>\n",
       "</div>"
      ],
      "text/plain": [
       "   wiki_movie_ID freebase_movie_ID  \\\n",
       "0         975900         /m/03vyhn   \n",
       "1        3196793         /m/08yl5d   \n",
       "2       28463795        /m/0crgdbh   \n",
       "3        9363483        /m/0285_cd   \n",
       "4         261236         /m/01mrr1   \n",
       "\n",
       "                                          movie_name movie_release_date  \\\n",
       "0                                     Ghosts of Mars               2001   \n",
       "1  Getting Away with Murder: The JonBenét Ramsey ...               2000   \n",
       "2                                        Brun bitter               1988   \n",
       "3                                   White Of The Eye               1987   \n",
       "4                                  A Woman in Flames               1983   \n",
       "\n",
       "   movie_box_off_rev  movie_runtime       movie_languages  \\\n",
       "0         14010832.0           98.0    [English Language]   \n",
       "1                NaN           95.0    [English Language]   \n",
       "2                NaN           83.0  [Norwegian Language]   \n",
       "3                NaN          110.0    [English Language]   \n",
       "4                NaN          106.0     [German Language]   \n",
       "\n",
       "              movie_countries  \\\n",
       "0  [United States of America]   \n",
       "1  [United States of America]   \n",
       "2                    [Norway]   \n",
       "3            [United Kingdom]   \n",
       "4                   [Germany]   \n",
       "\n",
       "                                        movie_genres movie_countries_id  \\\n",
       "0  [Thriller, Science Fiction, Horror, Adventure,...        [/m/09c7w0]   \n",
       "1   [Mystery, Biographical film, Drama, Crime Drama]        [/m/09c7w0]   \n",
       "2                             [Crime Fiction, Drama]         [/m/05b4w]   \n",
       "3  [Thriller, Erotic thriller, Psychological thri...         [/m/07ssc]   \n",
       "4                                            [Drama]         [/m/0345h]   \n",
       "\n",
       "                                     movie_genres_id movie_languages_id  \\\n",
       "0  [/m/01jfsb, /m/06n90, /m/03npn, /m/03k9fj, /m/...       [/m/02h40lc]   \n",
       "1     [/m/02n4kr, /m/03bxz7, /m/07s9rl0, /m/0hj3n01]       [/m/02h40lc]   \n",
       "2                             [/m/0lsxr, /m/07s9rl0]         [/m/05f_3]   \n",
       "3                  [/m/01jfsb, /m/0glj9q, /m/09blyk]       [/m/02h40lc]   \n",
       "4                                       [/m/07s9rl0]       [/m/04306rv]   \n",
       "\n",
       "   nb_genres  \n",
       "0          7  \n",
       "1          4  \n",
       "2          2  \n",
       "3          3  \n",
       "4          1  "
      ]
     },
     "execution_count": 29,
     "metadata": {},
     "output_type": "execute_result"
    }
   ],
   "source": [
    "# Compute the number of reported genre by movie\n",
    "movies['nb_genres'] = movies['movie_genres'].str.len()\n",
    "movies.head()"
   ]
  },
  {
   "cell_type": "markdown",
   "id": "c4bcb759",
   "metadata": {},
   "source": [
    "- We can look at basic statistics on \"nb_genres\" and plot the distribution. "
   ]
  },
  {
   "cell_type": "code",
   "execution_count": 30,
   "id": "04c71d66",
   "metadata": {},
   "outputs": [
    {
     "data": {
      "text/plain": [
       "count    81741.000000\n",
       "mean         2.976829\n",
       "std          2.107219\n",
       "min          0.000000\n",
       "25%          1.000000\n",
       "50%          2.000000\n",
       "75%          4.000000\n",
       "max         17.000000\n",
       "Name: nb_genres, dtype: float64"
      ]
     },
     "execution_count": 30,
     "metadata": {},
     "output_type": "execute_result"
    }
   ],
   "source": [
    "movies['nb_genres'].describe()"
   ]
  },
  {
   "cell_type": "code",
   "execution_count": 31,
   "id": "268fd9e2",
   "metadata": {},
   "outputs": [
    {
     "data": {
      "text/plain": [
       "<AxesSubplot:>"
      ]
     },
     "execution_count": 31,
     "metadata": {},
     "output_type": "execute_result"
    },
    {
     "data": {
      "image/png": "[encoded data removed]",
      "text/plain": [
       "<Figure size 640x480 with 1 Axes>"
      ]
     },
     "metadata": {},
     "output_type": "display_data"
    }
   ],
   "source": [
    "# Plot the distribution of \"nb_genres\"\n",
    "movies.boxplot(['nb_genres'])"
   ]
  },
  {
   "cell_type": "markdown",
   "id": "b9239118",
   "metadata": {},
   "source": [
    "- With the boxplots and the statistics of the new column \"nb_genres\", we notice that a movie can have 17 genres. Such a high number of genre does not seem necessary to describe the genre of a movie. But most of the movies (75%) have between 1 and 4 genres which is more reasonable. For further analysis on genre impact we could think of keeping only a small number of genre. "
   ]
  },
  {
   "cell_type": "markdown",
   "id": "fbc695e2",
   "metadata": {},
   "source": [
    "### 2.3 - What are the genre the most represented in the dataset? "
   ]
  },
  {
   "cell_type": "markdown",
   "id": "c8f77222",
   "metadata": {},
   "source": [
    "- We now look at the opposite point of view: how many movies are reported for each genre? "
   ]
  },
  {
   "cell_type": "code",
   "execution_count": 32,
   "id": "f8f218e2",
   "metadata": {},
   "outputs": [
    {
     "data": {
      "text/html": [
       "<div>\n",
       "<style scoped>\n",
       "    .dataframe tbody tr th:only-of-type {\n",
       "        vertical-align: middle;\n",
       "    }\n",
       "\n",
       "    .dataframe tbody tr th {\n",
       "        vertical-align: top;\n",
       "    }\n",
       "\n",
       "    .dataframe thead th {\n",
       "        text-align: right;\n",
       "    }\n",
       "</style>\n",
       "<table border=\"1\" class=\"dataframe\">\n",
       "  <thead>\n",
       "    <tr style=\"text-align: right;\">\n",
       "      <th></th>\n",
       "      <th>movie_genres</th>\n",
       "    </tr>\n",
       "  </thead>\n",
       "  <tbody>\n",
       "    <tr>\n",
       "      <th>Drama</th>\n",
       "      <td>34007</td>\n",
       "    </tr>\n",
       "    <tr>\n",
       "      <th>Comedy</th>\n",
       "      <td>16349</td>\n",
       "    </tr>\n",
       "    <tr>\n",
       "      <th>Romance Film</th>\n",
       "      <td>10234</td>\n",
       "    </tr>\n",
       "    <tr>\n",
       "      <th>Black-and-white</th>\n",
       "      <td>9094</td>\n",
       "    </tr>\n",
       "    <tr>\n",
       "      <th>Action</th>\n",
       "      <td>8798</td>\n",
       "    </tr>\n",
       "    <tr>\n",
       "      <th>...</th>\n",
       "      <td>...</td>\n",
       "    </tr>\n",
       "    <tr>\n",
       "      <th>Romantic thriller</th>\n",
       "      <td>1</td>\n",
       "    </tr>\n",
       "    <tr>\n",
       "      <th>Comdedy</th>\n",
       "      <td>1</td>\n",
       "    </tr>\n",
       "    <tr>\n",
       "      <th>C-Movie</th>\n",
       "      <td>1</td>\n",
       "    </tr>\n",
       "    <tr>\n",
       "      <th>Silhouette animation</th>\n",
       "      <td>1</td>\n",
       "    </tr>\n",
       "    <tr>\n",
       "      <th>Homoeroticism</th>\n",
       "      <td>1</td>\n",
       "    </tr>\n",
       "  </tbody>\n",
       "</table>\n",
       "<p>363 rows × 1 columns</p>\n",
       "</div>"
      ],
      "text/plain": [
       "                      movie_genres\n",
       "Drama                        34007\n",
       "Comedy                       16349\n",
       "Romance Film                 10234\n",
       "Black-and-white               9094\n",
       "Action                        8798\n",
       "...                            ...\n",
       "Romantic thriller                1\n",
       "Comdedy                          1\n",
       "C-Movie                          1\n",
       "Silhouette animation             1\n",
       "Homoeroticism                    1\n",
       "\n",
       "[363 rows x 1 columns]"
      ]
     },
     "execution_count": 32,
     "metadata": {},
     "output_type": "execute_result"
    }
   ],
   "source": [
    "# Explode the list in individual genre and count how many movies are reported for each genre\n",
    "total_genres = pd.DataFrame(movies.movie_genres.explode().dropna().value_counts())\n",
    "total_genres"
   ]
  },
  {
   "cell_type": "code",
   "execution_count": 33,
   "id": "3dae475a",
   "metadata": {},
   "outputs": [
    {
     "data": {
      "text/plain": [
       "<AxesSubplot:title={'center':'Number of movies by genre'}, xlabel='Genres'>"
      ]
     },
     "execution_count": 33,
     "metadata": {},
     "output_type": "execute_result"
    },
    {
     "data": {
      "image/png": "[encoded data removed]",
      "text/plain": [
       "<Figure size 640x480 with 1 Axes>"
      ]
     },
     "metadata": {},
     "output_type": "display_data"
    }
   ],
   "source": [
    "# Plot the number of movies reported for each genre\n",
    "total_genres.index.name = \"Genres\"\n",
    "total_genres = total_genres.rename(columns = {'movie_genres': 'Total'})\n",
    "total_genres.head(30).plot.bar(y = 'Total', title = \"Number of movies by genre\")"
   ]
  },
  {
   "cell_type": "markdown",
   "id": "85d18015",
   "metadata": {},
   "source": [
    "- Here we see that the number of movies by genre decreases almost exponentially. Among the genre in the tail, we find cross genre like \"Romantic Thriller\" or error of typology like \"Comdedy\". There are also some categories which are not strict genres like \"silent movie\" or \"black and white\". Keeping them in our analysis does not seem pertinent as they do not reflect a trend intrinsic to a genre."
   ]
  },
  {
   "cell_type": "markdown",
   "id": "f1effa4d",
   "metadata": {},
   "source": [
    "- For future analyses on genre, we chose to retain only the **5 genre the most represented in the dataset**, excluding the \"Black and White\" category, which we not consider as a genre: \n",
    "    - Drama\n",
    "    - Comedy \n",
    "    - Romance film \n",
    "    - Action\n",
    "    - Thriller"
   ]
  },
  {
   "cell_type": "markdown",
   "id": "232b9158",
   "metadata": {},
   "source": [
    "- This choice is supported by the fact that they correspond to natural responses one would answer when asked about most represented genre."
   ]
  },
  {
   "cell_type": "markdown",
   "id": "722c793d",
   "metadata": {},
   "source": [
    "### 2.5 - Evolution over time"
   ]
  },
  {
   "cell_type": "markdown",
   "id": "19da8e5c",
   "metadata": {},
   "source": [
    "- Has the evolution of most represented genre changed over time?  "
   ]
  },
  {
   "cell_type": "code",
   "execution_count": 34,
   "id": "5b8afcdd",
   "metadata": {},
   "outputs": [
    {
     "data": {
      "text/html": [
       "<div>\n",
       "<style scoped>\n",
       "    .dataframe tbody tr th:only-of-type {\n",
       "        vertical-align: middle;\n",
       "    }\n",
       "\n",
       "    .dataframe tbody tr th {\n",
       "        vertical-align: top;\n",
       "    }\n",
       "\n",
       "    .dataframe thead th {\n",
       "        text-align: right;\n",
       "    }\n",
       "</style>\n",
       "<table border=\"1\" class=\"dataframe\">\n",
       "  <thead>\n",
       "    <tr style=\"text-align: right;\">\n",
       "      <th></th>\n",
       "      <th>Total</th>\n",
       "      <th>1888</th>\n",
       "      <th>1889</th>\n",
       "      <th>1890</th>\n",
       "      <th>1891</th>\n",
       "      <th>1892</th>\n",
       "      <th>1893</th>\n",
       "      <th>1894</th>\n",
       "      <th>1895</th>\n",
       "      <th>1896</th>\n",
       "      <th>...</th>\n",
       "      <th>2007</th>\n",
       "      <th>2008</th>\n",
       "      <th>2009</th>\n",
       "      <th>2010</th>\n",
       "      <th>2011</th>\n",
       "      <th>2012</th>\n",
       "      <th>2013</th>\n",
       "      <th>2014</th>\n",
       "      <th>2015</th>\n",
       "      <th>2016</th>\n",
       "    </tr>\n",
       "    <tr>\n",
       "      <th>Genres</th>\n",
       "      <th></th>\n",
       "      <th></th>\n",
       "      <th></th>\n",
       "      <th></th>\n",
       "      <th></th>\n",
       "      <th></th>\n",
       "      <th></th>\n",
       "      <th></th>\n",
       "      <th></th>\n",
       "      <th></th>\n",
       "      <th></th>\n",
       "      <th></th>\n",
       "      <th></th>\n",
       "      <th></th>\n",
       "      <th></th>\n",
       "      <th></th>\n",
       "      <th></th>\n",
       "      <th></th>\n",
       "      <th></th>\n",
       "      <th></th>\n",
       "      <th></th>\n",
       "    </tr>\n",
       "  </thead>\n",
       "  <tbody>\n",
       "    <tr>\n",
       "      <th>Drama</th>\n",
       "      <td>34007</td>\n",
       "      <td>NaN</td>\n",
       "      <td>NaN</td>\n",
       "      <td>NaN</td>\n",
       "      <td>NaN</td>\n",
       "      <td>NaN</td>\n",
       "      <td>NaN</td>\n",
       "      <td>NaN</td>\n",
       "      <td>NaN</td>\n",
       "      <td>1.0</td>\n",
       "      <td>...</td>\n",
       "      <td>1013.0</td>\n",
       "      <td>985.0</td>\n",
       "      <td>966.0</td>\n",
       "      <td>902.0</td>\n",
       "      <td>842.0</td>\n",
       "      <td>427.0</td>\n",
       "      <td>45.0</td>\n",
       "      <td>4.0</td>\n",
       "      <td>NaN</td>\n",
       "      <td>NaN</td>\n",
       "    </tr>\n",
       "    <tr>\n",
       "      <th>Comedy</th>\n",
       "      <td>16349</td>\n",
       "      <td>NaN</td>\n",
       "      <td>NaN</td>\n",
       "      <td>NaN</td>\n",
       "      <td>NaN</td>\n",
       "      <td>NaN</td>\n",
       "      <td>NaN</td>\n",
       "      <td>NaN</td>\n",
       "      <td>2.0</td>\n",
       "      <td>1.0</td>\n",
       "      <td>...</td>\n",
       "      <td>496.0</td>\n",
       "      <td>512.0</td>\n",
       "      <td>444.0</td>\n",
       "      <td>393.0</td>\n",
       "      <td>267.0</td>\n",
       "      <td>98.0</td>\n",
       "      <td>10.0</td>\n",
       "      <td>1.0</td>\n",
       "      <td>NaN</td>\n",
       "      <td>NaN</td>\n",
       "    </tr>\n",
       "    <tr>\n",
       "      <th>Romance Film</th>\n",
       "      <td>10234</td>\n",
       "      <td>NaN</td>\n",
       "      <td>NaN</td>\n",
       "      <td>NaN</td>\n",
       "      <td>NaN</td>\n",
       "      <td>NaN</td>\n",
       "      <td>NaN</td>\n",
       "      <td>NaN</td>\n",
       "      <td>NaN</td>\n",
       "      <td>1.0</td>\n",
       "      <td>...</td>\n",
       "      <td>332.0</td>\n",
       "      <td>349.0</td>\n",
       "      <td>320.0</td>\n",
       "      <td>283.0</td>\n",
       "      <td>261.0</td>\n",
       "      <td>172.0</td>\n",
       "      <td>13.0</td>\n",
       "      <td>3.0</td>\n",
       "      <td>NaN</td>\n",
       "      <td>1.0</td>\n",
       "    </tr>\n",
       "    <tr>\n",
       "      <th>Black-and-white</th>\n",
       "      <td>9094</td>\n",
       "      <td>1.0</td>\n",
       "      <td>1.0</td>\n",
       "      <td>NaN</td>\n",
       "      <td>NaN</td>\n",
       "      <td>NaN</td>\n",
       "      <td>1.0</td>\n",
       "      <td>7.0</td>\n",
       "      <td>11.0</td>\n",
       "      <td>19.0</td>\n",
       "      <td>...</td>\n",
       "      <td>3.0</td>\n",
       "      <td>2.0</td>\n",
       "      <td>3.0</td>\n",
       "      <td>NaN</td>\n",
       "      <td>NaN</td>\n",
       "      <td>2.0</td>\n",
       "      <td>NaN</td>\n",
       "      <td>NaN</td>\n",
       "      <td>NaN</td>\n",
       "      <td>NaN</td>\n",
       "    </tr>\n",
       "    <tr>\n",
       "      <th>Action</th>\n",
       "      <td>8798</td>\n",
       "      <td>NaN</td>\n",
       "      <td>NaN</td>\n",
       "      <td>NaN</td>\n",
       "      <td>NaN</td>\n",
       "      <td>NaN</td>\n",
       "      <td>NaN</td>\n",
       "      <td>NaN</td>\n",
       "      <td>NaN</td>\n",
       "      <td>NaN</td>\n",
       "      <td>...</td>\n",
       "      <td>239.0</td>\n",
       "      <td>286.0</td>\n",
       "      <td>269.0</td>\n",
       "      <td>287.0</td>\n",
       "      <td>294.0</td>\n",
       "      <td>187.0</td>\n",
       "      <td>44.0</td>\n",
       "      <td>1.0</td>\n",
       "      <td>2.0</td>\n",
       "      <td>1.0</td>\n",
       "    </tr>\n",
       "  </tbody>\n",
       "</table>\n",
       "<p>5 rows × 130 columns</p>\n",
       "</div>"
      ],
      "text/plain": [
       "                 Total  1888  1889  1890  1891  1892  1893  1894  1895  1896  \\\n",
       "Genres                                                                         \n",
       "Drama            34007   NaN   NaN   NaN   NaN   NaN   NaN   NaN   NaN   1.0   \n",
       "Comedy           16349   NaN   NaN   NaN   NaN   NaN   NaN   NaN   2.0   1.0   \n",
       "Romance Film     10234   NaN   NaN   NaN   NaN   NaN   NaN   NaN   NaN   1.0   \n",
       "Black-and-white   9094   1.0   1.0   NaN   NaN   NaN   1.0   7.0  11.0  19.0   \n",
       "Action            8798   NaN   NaN   NaN   NaN   NaN   NaN   NaN   NaN   NaN   \n",
       "\n",
       "                 ...    2007   2008   2009   2010   2011   2012  2013  2014  \\\n",
       "Genres           ...                                                          \n",
       "Drama            ...  1013.0  985.0  966.0  902.0  842.0  427.0  45.0   4.0   \n",
       "Comedy           ...   496.0  512.0  444.0  393.0  267.0   98.0  10.0   1.0   \n",
       "Romance Film     ...   332.0  349.0  320.0  283.0  261.0  172.0  13.0   3.0   \n",
       "Black-and-white  ...     3.0    2.0    3.0    NaN    NaN    2.0   NaN   NaN   \n",
       "Action           ...   239.0  286.0  269.0  287.0  294.0  187.0  44.0   1.0   \n",
       "\n",
       "                 2015  2016  \n",
       "Genres                       \n",
       "Drama             NaN   NaN  \n",
       "Comedy            NaN   NaN  \n",
       "Romance Film      NaN   1.0  \n",
       "Black-and-white   NaN   NaN  \n",
       "Action            2.0   1.0  \n",
       "\n",
       "[5 rows x 130 columns]"
      ]
     },
     "execution_count": 34,
     "metadata": {},
     "output_type": "execute_result"
    }
   ],
   "source": [
    "# Group by \"movie_release_date\"\n",
    "movies_per_year_grouped = movies.groupby(movies['movie_release_date'])\n",
    "\n",
    "# Compute the number of movies by year and by genre\n",
    "total_genres_per_year = total_genres\n",
    "years = ['Total']\n",
    "for year, group in movies_per_year_grouped[['movie_release_date', 'movie_genres']]:\n",
    "    total_genres_per_year = pd.concat([total_genres_per_year, group.movie_genres.explode().dropna().value_counts()], axis = 1)\n",
    "    years.append(year)\n",
    "total_genres_per_year.columns = years\n",
    "total_genres_per_year.index.name = 'Genres'\n",
    "total_genres_per_year.head()"
   ]
  },
  {
   "cell_type": "code",
   "execution_count": 35,
   "id": "7a6be31f",
   "metadata": {},
   "outputs": [
    {
     "data": {
      "image/png": "[encoded data removed]",
      "text/plain": [
       "<Figure size 640x480 with 1 Axes>"
      ]
     },
     "metadata": {},
     "output_type": "display_data"
    }
   ],
   "source": [
    "# Plot the evolution of the number of movies by genre the the top 10\n",
    "x = np.array(total_genres_per_year.columns[1:], dtype = 'datetime64[ms]')\n",
    "plt.figure()\n",
    "for index, row in total_genres_per_year.head(10).iterrows():\n",
    "    plt.plot(x, row[1:], label = index)\n",
    "plt.legend()\n",
    "plt.xlabel(\"Date of release\")\n",
    "plt.ylabel(\"Number of movies\")\n",
    "plt.title(\"Evolution of the number of movies for each genre over time\")\n",
    "plt.show()"
   ]
  },
  {
   "cell_type": "markdown",
   "id": "a75e116c",
   "metadata": {},
   "source": [
    "- By looking at the number of genre per year, we see a similar evolution for every genre. For every genre the number of movies highly increases,  except for \"black and white\" movies. The striking drop around 2010 probably corresponds to time of extraction of the database (2012)."
   ]
  },
  {
   "cell_type": "markdown",
   "id": "87b7f1d4",
   "metadata": {},
   "source": [
    "- We can look at the counts. "
   ]
  },
  {
   "cell_type": "code",
   "execution_count": 36,
   "id": "b970f3f2",
   "metadata": {},
   "outputs": [
    {
     "data": {
      "text/html": [
       "<div>\n",
       "<style scoped>\n",
       "    .dataframe tbody tr th:only-of-type {\n",
       "        vertical-align: middle;\n",
       "    }\n",
       "\n",
       "    .dataframe tbody tr th {\n",
       "        vertical-align: top;\n",
       "    }\n",
       "\n",
       "    .dataframe thead th {\n",
       "        text-align: right;\n",
       "    }\n",
       "</style>\n",
       "<table border=\"1\" class=\"dataframe\">\n",
       "  <thead>\n",
       "    <tr style=\"text-align: right;\">\n",
       "      <th></th>\n",
       "      <th>movie_release_date</th>\n",
       "      <th>counts</th>\n",
       "    </tr>\n",
       "  </thead>\n",
       "  <tbody>\n",
       "    <tr>\n",
       "      <th>128</th>\n",
       "      <td>2016</td>\n",
       "      <td>3</td>\n",
       "    </tr>\n",
       "    <tr>\n",
       "      <th>127</th>\n",
       "      <td>2015</td>\n",
       "      <td>4</td>\n",
       "    </tr>\n",
       "    <tr>\n",
       "      <th>126</th>\n",
       "      <td>2014</td>\n",
       "      <td>17</td>\n",
       "    </tr>\n",
       "    <tr>\n",
       "      <th>125</th>\n",
       "      <td>2013</td>\n",
       "      <td>164</td>\n",
       "    </tr>\n",
       "    <tr>\n",
       "      <th>124</th>\n",
       "      <td>2012</td>\n",
       "      <td>1194</td>\n",
       "    </tr>\n",
       "    <tr>\n",
       "      <th>123</th>\n",
       "      <td>2011</td>\n",
       "      <td>1824</td>\n",
       "    </tr>\n",
       "    <tr>\n",
       "      <th>122</th>\n",
       "      <td>2010</td>\n",
       "      <td>2023</td>\n",
       "    </tr>\n",
       "    <tr>\n",
       "      <th>121</th>\n",
       "      <td>2009</td>\n",
       "      <td>2247</td>\n",
       "    </tr>\n",
       "    <tr>\n",
       "      <th>120</th>\n",
       "      <td>2008</td>\n",
       "      <td>2465</td>\n",
       "    </tr>\n",
       "    <tr>\n",
       "      <th>119</th>\n",
       "      <td>2007</td>\n",
       "      <td>2389</td>\n",
       "    </tr>\n",
       "  </tbody>\n",
       "</table>\n",
       "</div>"
      ],
      "text/plain": [
       "    movie_release_date  counts\n",
       "128               2016       3\n",
       "127               2015       4\n",
       "126               2014      17\n",
       "125               2013     164\n",
       "124               2012    1194\n",
       "123               2011    1824\n",
       "122               2010    2023\n",
       "121               2009    2247\n",
       "120               2008    2465\n",
       "119               2007    2389"
      ]
     },
     "execution_count": 36,
     "metadata": {},
     "output_type": "execute_result"
    }
   ],
   "source": [
    "movies_per_year_grouped[['movie_release_date']].size().reset_index(name='counts').sort_values(by = 'movie_release_date', ascending= False).head(10)"
   ]
  },
  {
   "cell_type": "markdown",
   "id": "c75f7c3f",
   "metadata": {},
   "source": [
    "- As we can see here, values are incoherent after 2013. Therefore, we will **cut off after 2012 (included)**, which is coherent with the date of extraction of the database. \n",
    "\n",
    "- According to the following graph made with IMDB dataset, the behavior of the number of movie by year is similar, which supports the hypothesis that the dataset provides evolution close to reality.\n",
    "![films-released-yearly](films-released-all-time-yearly.png)"
   ]
  },
  {
   "cell_type": "markdown",
   "id": "75e26c67",
   "metadata": {},
   "source": [
    "## 3 - Geographic distribution of movies"
   ]
  },
  {
   "cell_type": "markdown",
   "id": "95513a14",
   "metadata": {},
   "source": [
    "### 3.1 - Gather region for each country"
   ]
  },
  {
   "cell_type": "markdown",
   "id": "2e953d82",
   "metadata": {},
   "source": [
    "- For this part, we use an online API which provides varied data about each country, and will use the name given in the dataset to gather the corresponding region.\n",
    "\n",
    "- Since both datasets come from different sources, it is likely that the country names won't match, so we might need to do some changes. "
   ]
  },
  {
   "cell_type": "code",
   "execution_count": 37,
   "id": "40004357",
   "metadata": {},
   "outputs": [
    {
     "data": {
      "text/html": [
       "<div>\n",
       "<style scoped>\n",
       "    .dataframe tbody tr th:only-of-type {\n",
       "        vertical-align: middle;\n",
       "    }\n",
       "\n",
       "    .dataframe tbody tr th {\n",
       "        vertical-align: top;\n",
       "    }\n",
       "\n",
       "    .dataframe thead th {\n",
       "        text-align: right;\n",
       "    }\n",
       "</style>\n",
       "<table border=\"1\" class=\"dataframe\">\n",
       "  <thead>\n",
       "    <tr style=\"text-align: right;\">\n",
       "      <th></th>\n",
       "      <th>country</th>\n",
       "      <th>region</th>\n",
       "    </tr>\n",
       "  </thead>\n",
       "  <tbody>\n",
       "    <tr>\n",
       "      <th>0</th>\n",
       "      <td>Mauritania</td>\n",
       "      <td>Africa</td>\n",
       "    </tr>\n",
       "    <tr>\n",
       "      <th>1</th>\n",
       "      <td>Niger</td>\n",
       "      <td>Africa</td>\n",
       "    </tr>\n",
       "    <tr>\n",
       "      <th>2</th>\n",
       "      <td>Togo</td>\n",
       "      <td>Africa</td>\n",
       "    </tr>\n",
       "    <tr>\n",
       "      <th>3</th>\n",
       "      <td>Madagascar</td>\n",
       "      <td>Africa</td>\n",
       "    </tr>\n",
       "    <tr>\n",
       "      <th>4</th>\n",
       "      <td>Algeria</td>\n",
       "      <td>Africa</td>\n",
       "    </tr>\n",
       "  </tbody>\n",
       "</table>\n",
       "</div>"
      ],
      "text/plain": [
       "      country  region\n",
       "0  Mauritania  Africa\n",
       "1       Niger  Africa\n",
       "2        Togo  Africa\n",
       "3  Madagascar  Africa\n",
       "4     Algeria  Africa"
      ]
     },
     "execution_count": 37,
     "metadata": {},
     "output_type": "execute_result"
    }
   ],
   "source": [
    "# Get region for each country\n",
    "\n",
    "region_lst = [\"Africa\", \"Americas\", \"Asia\", \"Europe\", \"Oceania\"]\n",
    "countries = {\"country\" : [],\n",
    "\"region\" : []}\n",
    "\n",
    "country_lst = [[], []]\n",
    "df_countries = pd.DataFrame(columns = [\"country\", \"region\"])\n",
    "\n",
    "for region in region_lst:\n",
    "    response = requests.get(\"https://restcountries.com/v3.1/region/\" + region).json()\n",
    "\n",
    "    for elem in response:\n",
    "        countries[\"country\"].append(elem.get(\"name\").get(\"common\"))\n",
    "        countries[\"region\"].append(region)\n",
    "\n",
    "df_countries = pd.DataFrame.from_dict(countries)\n",
    "df_countries.head()"
   ]
  },
  {
   "cell_type": "markdown",
   "id": "bebb9f3b",
   "metadata": {},
   "source": [
    "### 3.2 - Missing countries in our country-region table\n",
    "\n",
    "We now want to answer the following questions: \n",
    "- What are the unreferenced countries?\n",
    "- For each of these countries, how many movies did they produce/co-produce?\n",
    "- Which country reprensent 95% of all thoses movies? \n",
    "\n",
    "We could then keep only these countries, and update the country-region reference table. "
   ]
  },
  {
   "cell_type": "code",
   "execution_count": 38,
   "id": "adb39b34",
   "metadata": {},
   "outputs": [
    {
     "name": "stdout",
     "output_type": "stream",
     "text": [
      "There is a total of 8053 movies that contain a null movie name (NaN) among the producing countries (movie_countries column)\n",
      "98.87% of them only contain 1 NaN occurence, up to 7962.\n"
     ]
    },
    {
     "data": {
      "text/plain": [
       "1    7962\n",
       "2      83\n",
       "3       7\n",
       "5       1\n",
       "dtype: int64"
      ]
     },
     "execution_count": 38,
     "metadata": {},
     "output_type": "execute_result"
    },
    {
     "data": {
      "image/png": "[encoded data removed]",
      "text/plain": [
       "<Figure size 640x480 with 1 Axes>"
      ]
     },
     "metadata": {},
     "output_type": "display_data"
    }
   ],
   "source": [
    "all_movie_countries = movies.explode(\"movie_countries\", ignore_index = True)\n",
    "unique_movie_countries = all_movie_countries.loc[all_movie_countries[\"movie_countries\"].isnull()]\n",
    "grunique_movie_countries = unique_movie_countries.groupby(\"movie_name\").size()\n",
    "grunique_movie_countries = grunique_movie_countries.groupby(grunique_movie_countries).size()\n",
    "ax = grunique_movie_countries.plot.bar()\n",
    "ax.set_yscale(\"log\")\n",
    "ax.set_xlabel(\"# NaN reference in movie_countries\") \n",
    "ax.set_ylabel(\"# movies\")\n",
    "ax.set_title(\"Amount of movies by amount of NaN country occurence in movie_countries\");\n",
    "print(f\"There is a total of {grunique_movie_countries.sum()} movies that contain a null movie name (NaN) among the producing countries (movie_countries column)\")\n",
    "print(f\"{grunique_movie_countries.iloc[0]/grunique_movie_countries.sum() :.2%} of them only contain 1 NaN occurence, up to {grunique_movie_countries.max()}.\")\n",
    "grunique_movie_countries"
   ]
  },
  {
   "cell_type": "code",
   "execution_count": 39,
   "id": "ea4eb5bb",
   "metadata": {},
   "outputs": [
    {
     "name": "stdout",
     "output_type": "stream",
     "text": [
      "95% of these movies come from ['United States of America' 'West Germany']\n"
     ]
    },
    {
     "data": {
      "image/png": "[encoded data removed]",
      "text/plain": [
       "<Figure size 640x480 with 1 Axes>"
      ]
     },
     "metadata": {},
     "output_type": "display_data"
    }
   ],
   "source": [
    "######################################\n",
    "# What are the unreferenced countries?\n",
    "######################################\n",
    "\n",
    "# Get all unique countries in our dataset\n",
    "all_movie_countries = movies[\"movie_countries\"].explode(ignore_index = True)\n",
    "unique_movie_countries = all_movie_countries.unique()\n",
    "\n",
    "# Referenced unique countries\n",
    "referenced_countries = df_countries[\"country\"].unique()\n",
    "\n",
    "# Unreferenced countries in the dataset\n",
    "unreferenced = [a for a in unique_movie_countries if a not in referenced_countries]\n",
    "\n",
    "###########################################################################\n",
    "# For each of these countries, how many movies did they produce/co-produce?\n",
    "###########################################################################\n",
    "\n",
    "df_unreferenced = all_movie_countries.groupby(all_movie_countries).size()\n",
    "df_unreferenced = df_unreferenced[df_unreferenced.index.isin(unreferenced)].sort_values(ascending = False)\n",
    "\n",
    "# Plot\n",
    "ax = df_unreferenced.plot.bar()\n",
    "ax.set_yscale(\"log\")\n",
    "ax.set_xlabel(\"country\") \n",
    "ax.set_ylabel(\"# movies\")\n",
    "ax.set_title(\"Amount of movies released by unknow countries from the API response\");\n",
    "\n",
    "# Get country names representing 95% of movie quantity\n",
    "percentile_95 = df_unreferenced.sum() * 0.95\n",
    "countries_to_keep = df_unreferenced[df_unreferenced.cumsum() <= percentile_95]\n",
    "\n",
    "print(f\"95% of these movies come from {countries_to_keep.index.values}\")\n",
    "\n",
    "# Add these countries to the API dataframe response\n",
    "countries_to_add = dict(zip([\"country\", \"region\"], [countries_to_keep.index.values.tolist(), [\"Americas\", \"Europe\"]]))\n",
    "countries_to_add = pd.DataFrame.from_dict(countries_to_add)\n",
    "df_countries = pd.concat([df_countries, countries_to_add], ignore_index=True)\n",
    "\n",
    "\n",
    "# Update the list of unreferenced countries\n",
    "for country in countries_to_keep.index.values.tolist():\n",
    "    unreferenced.pop(unreferenced.index(country))"
   ]
  },
  {
   "cell_type": "markdown",
   "id": "4ebc2357",
   "metadata": {},
   "source": [
    "### 3.3 - Clean dataset\n",
    "\n",
    "- We now remove all movies with a \"movie_country\" item in one of the unreferenced country we do not want to consider."
   ]
  },
  {
   "cell_type": "code",
   "execution_count": 40,
   "id": "82ba230f",
   "metadata": {},
   "outputs": [
    {
     "name": "stdout",
     "output_type": "stream",
     "text": [
      "2282 movies were removed.\n"
     ]
    }
   ],
   "source": [
    "movie_count = len(movies)\n",
    "movies = movies[movies.movie_countries.apply(lambda x: not any(i in unreferenced for i in x))]\n",
    "print(f\"{movie_count - len(movies)} movies were removed.\")"
   ]
  },
  {
   "cell_type": "markdown",
   "id": "baf94c6f",
   "metadata": {},
   "source": [
    "### 3.4 - Add the region information to our dataset\n",
    "\n",
    "- The *region* column contains the continent in which the movie was produced (can be different regions if multiple countries from different continent co-produced the movie)."
   ]
  },
  {
   "cell_type": "code",
   "execution_count": 41,
   "id": "d5c01ffe",
   "metadata": {},
   "outputs": [
    {
     "data": {
      "text/html": [
       "<div>\n",
       "<style scoped>\n",
       "    .dataframe tbody tr th:only-of-type {\n",
       "        vertical-align: middle;\n",
       "    }\n",
       "\n",
       "    .dataframe tbody tr th {\n",
       "        vertical-align: top;\n",
       "    }\n",
       "\n",
       "    .dataframe thead th {\n",
       "        text-align: right;\n",
       "    }\n",
       "</style>\n",
       "<table border=\"1\" class=\"dataframe\">\n",
       "  <thead>\n",
       "    <tr style=\"text-align: right;\">\n",
       "      <th></th>\n",
       "      <th>wiki_movie_ID</th>\n",
       "      <th>freebase_movie_ID</th>\n",
       "      <th>movie_name</th>\n",
       "      <th>movie_release_date</th>\n",
       "      <th>movie_box_off_rev</th>\n",
       "      <th>movie_runtime</th>\n",
       "      <th>movie_languages</th>\n",
       "      <th>movie_countries</th>\n",
       "      <th>movie_genres</th>\n",
       "      <th>movie_countries_id</th>\n",
       "      <th>movie_genres_id</th>\n",
       "      <th>movie_languages_id</th>\n",
       "      <th>nb_genres</th>\n",
       "      <th>region</th>\n",
       "    </tr>\n",
       "  </thead>\n",
       "  <tbody>\n",
       "    <tr>\n",
       "      <th>0</th>\n",
       "      <td>975900</td>\n",
       "      <td>/m/03vyhn</td>\n",
       "      <td>Ghosts of Mars</td>\n",
       "      <td>2001</td>\n",
       "      <td>14010832.0</td>\n",
       "      <td>98.0</td>\n",
       "      <td>[English Language]</td>\n",
       "      <td>[United States of America]</td>\n",
       "      <td>[Thriller, Science Fiction, Horror, Adventure,...</td>\n",
       "      <td>[/m/09c7w0]</td>\n",
       "      <td>[/m/01jfsb, /m/06n90, /m/03npn, /m/03k9fj, /m/...</td>\n",
       "      <td>[/m/02h40lc]</td>\n",
       "      <td>7</td>\n",
       "      <td>[Americas]</td>\n",
       "    </tr>\n",
       "    <tr>\n",
       "      <th>1</th>\n",
       "      <td>3196793</td>\n",
       "      <td>/m/08yl5d</td>\n",
       "      <td>Getting Away with Murder: The JonBenét Ramsey ...</td>\n",
       "      <td>2000</td>\n",
       "      <td>NaN</td>\n",
       "      <td>95.0</td>\n",
       "      <td>[English Language]</td>\n",
       "      <td>[United States of America]</td>\n",
       "      <td>[Mystery, Biographical film, Drama, Crime Drama]</td>\n",
       "      <td>[/m/09c7w0]</td>\n",
       "      <td>[/m/02n4kr, /m/03bxz7, /m/07s9rl0, /m/0hj3n01]</td>\n",
       "      <td>[/m/02h40lc]</td>\n",
       "      <td>4</td>\n",
       "      <td>[Americas]</td>\n",
       "    </tr>\n",
       "    <tr>\n",
       "      <th>2</th>\n",
       "      <td>28463795</td>\n",
       "      <td>/m/0crgdbh</td>\n",
       "      <td>Brun bitter</td>\n",
       "      <td>1988</td>\n",
       "      <td>NaN</td>\n",
       "      <td>83.0</td>\n",
       "      <td>[Norwegian Language]</td>\n",
       "      <td>[Norway]</td>\n",
       "      <td>[Crime Fiction, Drama]</td>\n",
       "      <td>[/m/05b4w]</td>\n",
       "      <td>[/m/0lsxr, /m/07s9rl0]</td>\n",
       "      <td>[/m/05f_3]</td>\n",
       "      <td>2</td>\n",
       "      <td>[Europe]</td>\n",
       "    </tr>\n",
       "    <tr>\n",
       "      <th>3</th>\n",
       "      <td>9363483</td>\n",
       "      <td>/m/0285_cd</td>\n",
       "      <td>White Of The Eye</td>\n",
       "      <td>1987</td>\n",
       "      <td>NaN</td>\n",
       "      <td>110.0</td>\n",
       "      <td>[English Language]</td>\n",
       "      <td>[United Kingdom]</td>\n",
       "      <td>[Thriller, Erotic thriller, Psychological thri...</td>\n",
       "      <td>[/m/07ssc]</td>\n",
       "      <td>[/m/01jfsb, /m/0glj9q, /m/09blyk]</td>\n",
       "      <td>[/m/02h40lc]</td>\n",
       "      <td>3</td>\n",
       "      <td>[Europe]</td>\n",
       "    </tr>\n",
       "    <tr>\n",
       "      <th>4</th>\n",
       "      <td>261236</td>\n",
       "      <td>/m/01mrr1</td>\n",
       "      <td>A Woman in Flames</td>\n",
       "      <td>1983</td>\n",
       "      <td>NaN</td>\n",
       "      <td>106.0</td>\n",
       "      <td>[German Language]</td>\n",
       "      <td>[Germany]</td>\n",
       "      <td>[Drama]</td>\n",
       "      <td>[/m/0345h]</td>\n",
       "      <td>[/m/07s9rl0]</td>\n",
       "      <td>[/m/04306rv]</td>\n",
       "      <td>1</td>\n",
       "      <td>[Europe]</td>\n",
       "    </tr>\n",
       "  </tbody>\n",
       "</table>\n",
       "</div>"
      ],
      "text/plain": [
       "   wiki_movie_ID freebase_movie_ID  \\\n",
       "0         975900         /m/03vyhn   \n",
       "1        3196793         /m/08yl5d   \n",
       "2       28463795        /m/0crgdbh   \n",
       "3        9363483        /m/0285_cd   \n",
       "4         261236         /m/01mrr1   \n",
       "\n",
       "                                          movie_name movie_release_date  \\\n",
       "0                                     Ghosts of Mars               2001   \n",
       "1  Getting Away with Murder: The JonBenét Ramsey ...               2000   \n",
       "2                                        Brun bitter               1988   \n",
       "3                                   White Of The Eye               1987   \n",
       "4                                  A Woman in Flames               1983   \n",
       "\n",
       "   movie_box_off_rev  movie_runtime       movie_languages  \\\n",
       "0         14010832.0           98.0    [English Language]   \n",
       "1                NaN           95.0    [English Language]   \n",
       "2                NaN           83.0  [Norwegian Language]   \n",
       "3                NaN          110.0    [English Language]   \n",
       "4                NaN          106.0     [German Language]   \n",
       "\n",
       "              movie_countries  \\\n",
       "0  [United States of America]   \n",
       "1  [United States of America]   \n",
       "2                    [Norway]   \n",
       "3            [United Kingdom]   \n",
       "4                   [Germany]   \n",
       "\n",
       "                                        movie_genres movie_countries_id  \\\n",
       "0  [Thriller, Science Fiction, Horror, Adventure,...        [/m/09c7w0]   \n",
       "1   [Mystery, Biographical film, Drama, Crime Drama]        [/m/09c7w0]   \n",
       "2                             [Crime Fiction, Drama]         [/m/05b4w]   \n",
       "3  [Thriller, Erotic thriller, Psychological thri...         [/m/07ssc]   \n",
       "4                                            [Drama]         [/m/0345h]   \n",
       "\n",
       "                                     movie_genres_id movie_languages_id  \\\n",
       "0  [/m/01jfsb, /m/06n90, /m/03npn, /m/03k9fj, /m/...       [/m/02h40lc]   \n",
       "1     [/m/02n4kr, /m/03bxz7, /m/07s9rl0, /m/0hj3n01]       [/m/02h40lc]   \n",
       "2                             [/m/0lsxr, /m/07s9rl0]         [/m/05f_3]   \n",
       "3                  [/m/01jfsb, /m/0glj9q, /m/09blyk]       [/m/02h40lc]   \n",
       "4                                       [/m/07s9rl0]       [/m/04306rv]   \n",
       "\n",
       "   nb_genres      region  \n",
       "0          7  [Americas]  \n",
       "1          4  [Americas]  \n",
       "2          2    [Europe]  \n",
       "3          3    [Europe]  \n",
       "4          1    [Europe]  "
      ]
     },
     "execution_count": 41,
     "metadata": {},
     "output_type": "execute_result"
    }
   ],
   "source": [
    "# Add region column\n",
    "# For each country in movies.movie_countries, get the region (remove region duplicates)\n",
    "def get_region(country_lst):\n",
    "    output = []\n",
    "    for country in country_lst:\n",
    "        try:\n",
    "            output.append(df_countries.loc[df_countries[\"country\"] == country][\"region\"].values[0])\n",
    "        except:\n",
    "            raise KeyError(f\"{country} not found in the reference list\")\n",
    "\n",
    "    #remove duplicates\n",
    "    return list(set(output))\n",
    "\n",
    "movies_copy = movies.copy()\n",
    "movies_copy[\"region\"] = movies_copy.loc[:, (\"movie_countries\")].apply(lambda x: get_region(x))\n",
    "movies = movies_copy.copy()\n",
    "movies.head()"
   ]
  },
  {
   "cell_type": "markdown",
   "id": "a5b7fdea",
   "metadata": {},
   "source": [
    "### 3.5 - Movie repartition by region"
   ]
  },
  {
   "cell_type": "markdown",
   "id": "7cb36b46",
   "metadata": {},
   "source": [
    "- Which region (or continent) are the most represented in the dataset"
   ]
  },
  {
   "cell_type": "code",
   "execution_count": 43,
   "id": "1f5903fb",
   "metadata": {},
   "outputs": [
    {
     "data": {
      "image/png": "[encoded data removed]",
      "text/plain": [
       "<Figure size 640x480 with 1 Axes>"
      ]
     },
     "metadata": {},
     "output_type": "display_data"
    }
   ],
   "source": [
    "# Plot the distribution of the number of movies by region\n",
    "movies_region = movies[\"region\"].explode()\n",
    "movies_region = movies_region.groupby(movies_region).size()\n",
    "ax = movies_region.plot.bar()\n",
    "ax.set_yscale(\"log\")\n",
    "ax.set_xlabel(\"Region\") \n",
    "ax.set_ylabel(\"Number of movies\")\n",
    "ax.set_title(\"Amount of movies produced by each region\");"
   ]
  },
  {
   "cell_type": "markdown",
   "id": "6228fbb5",
   "metadata": {},
   "source": [
    "## 4 - Age and height between male and female characters"
   ]
  },
  {
   "cell_type": "markdown",
   "id": "0966b91d",
   "metadata": {},
   "source": [
    "We want to compare different features between roles played by male or female: *characters* provides age and height of actors, which can be compared between genders. "
   ]
  },
  {
   "cell_type": "markdown",
   "id": "64782b79",
   "metadata": {},
   "source": [
    "### 4.1 - Evaluating and filtering out missing values"
   ]
  },
  {
   "cell_type": "code",
   "execution_count": 47,
   "id": "b565e71d",
   "metadata": {},
   "outputs": [
    {
     "name": "stdout",
     "output_type": "stream",
     "text": [
      " 89.9% of the DataFrame \"characters\" has reported gender, the corresponding DataFrame \"characters_gender\" contains 405060 rows.\n"
     ]
    }
   ],
   "source": [
    "# Create a DataFrame keeping only characters where actors have reported gender\n",
    "characters_gender = characters[characters[\"actor_gender\"].notnull()]\n",
    "print('{: .1%} of the DataFrame \"characters\" has reported gender, the corresponding DataFrame \"characters_gender\" contains {} rows.'.format(len(characters_gender) / len(characters), len(characters_gender)))"
   ]
  },
  {
   "cell_type": "code",
   "execution_count": 48,
   "id": "2263691b",
   "metadata": {},
   "outputs": [
    {
     "data": {
      "text/plain": [
       "['F', 'F', 'M', 'M', 'F', ..., 'F', 'M', 'F', 'M', 'M']\n",
       "Length: 405060\n",
       "Categories (2, object): ['F', 'M']"
      ]
     },
     "execution_count": 48,
     "metadata": {},
     "output_type": "execute_result"
    }
   ],
   "source": [
    "# What are the possible different values for characters_gender? \n",
    "pd.Categorical(characters_gender.actor_gender)"
   ]
  },
  {
   "cell_type": "markdown",
   "id": "a3656903",
   "metadata": {},
   "source": [
    "### 4.2 - What is the repartition between male and female characters? "
   ]
  },
  {
   "cell_type": "code",
   "execution_count": null,
   "id": "12b8a8e1",
   "metadata": {},
   "outputs": [],
   "source": [
    "# Create two DataFrame for characters played by female/male\n",
    "characters_female = characters_gender[characters_gender['actor_gender']== 'F']\n",
    "characters_male = characters_gender[characters_gender['actor_gender']== 'M']\n",
    "\n",
    "# Plot the repartition\n",
    "sns.countplot(x = characters_gender['actor_gender'])\n",
    "print(\"{:.2%} of reported characters are played by male actors.\".format(len(characters_male)/len(characters_gender)))"
   ]
  },
  {
   "cell_type": "markdown",
   "id": "b6db073f",
   "metadata": {},
   "source": [
    "### 4.3 - How is age of male characters compared to age of female characters? "
   ]
  },
  {
   "cell_type": "markdown",
   "id": "641c2fb5",
   "metadata": {},
   "source": [
    "- We want to compare age of the actors and actresses palying roles reported in *character*. "
   ]
  },
  {
   "cell_type": "code",
   "execution_count": 26,
   "id": "73409049",
   "metadata": {},
   "outputs": [
    {
     "name": "stdout",
     "output_type": "stream",
     "text": [
      " 64.5% of the DataFrame \"characters\" has reported gender and age of the actor/actress; the corresponding DataFrame \"characters_gender_age\" contains 290770 rows.\n"
     ]
    }
   ],
   "source": [
    "# Clear out characters_gender where age is not reported (characters_gender_age)\n",
    "characters_gender_age = characters_gender[characters_gender[\"actor_age_movie\"].notnull()]\n",
    "print('{: .1%} of the DataFrame \"characters\" has reported gender and age of the actor/actress; the corresponding DataFrame \"characters_gender_age\" contains {} rows.'.format(len(characters_gender_age) / len(characters), len(characters_gender_age)))"
   ]
  },
  {
   "cell_type": "markdown",
   "id": "91ea933e",
   "metadata": {},
   "source": [
    "- We first explore and clean the data. "
   ]
  },
  {
   "cell_type": "code",
   "execution_count": null,
   "id": "92a45ebc",
   "metadata": {},
   "outputs": [],
   "source": [
    "# Explore basic statistics\n",
    "characters_gender_age.describe()"
   ]
  },
  {
   "cell_type": "markdown",
   "id": "77e0635d",
   "metadata": {},
   "source": [
    "- The negative values do not make sense: we filter them out."
   ]
  },
  {
   "cell_type": "code",
   "execution_count": 28,
   "id": "4ff6d0a8",
   "metadata": {},
   "outputs": [],
   "source": [
    "# Keep only rows where \"actor_age_movie\" is positive\n",
    "characters_gender_age = characters_gender_age[characters_gender_age['actor_age_movie'] >= 0]"
   ]
  },
  {
   "cell_type": "markdown",
   "id": "f024cd46",
   "metadata": {},
   "source": [
    "- We plot age of actors in the movie in a boxplot. "
   ]
  },
  {
   "cell_type": "code",
   "execution_count": null,
   "id": "5846659d",
   "metadata": {},
   "outputs": [],
   "source": [
    "# Plot the distribution of age of actors\n",
    "plt.boxplot(characters_gender_age['actor_age_movie'])\n",
    "plt.xticks([])\n",
    "plt.title(\"Actor's age in the movies\")\n",
    "plt.ylabel(\"Age (years)\")"
   ]
  },
  {
   "cell_type": "markdown",
   "id": "92ad0413",
   "metadata": {},
   "source": [
    "- We can visualize age of actors by gender. "
   ]
  },
  {
   "cell_type": "code",
   "execution_count": null,
   "id": "3dc32049",
   "metadata": {},
   "outputs": [],
   "source": [
    "# Plot distribution of age by gender\n",
    "g = sns.catplot(data=characters_gender_age, x=\"actor_gender\", y=\"actor_age_movie\", kind=\"box\", fliersize=0.5).set(title=\"Distribution of actors' age by gender\")\n",
    "g.set_axis_labels(\"Actor Gender\", \"Age (years)\")\n",
    "g.set_xticklabels([\"Female\", \"Male\"])"
   ]
  },
  {
   "cell_type": "markdown",
   "id": "fb1ca983",
   "metadata": {},
   "source": [
    "### 4.4 - How about height? "
   ]
  },
  {
   "cell_type": "markdown",
   "id": "d2e10638",
   "metadata": {},
   "source": [
    "- We can perform the same analysis for height. "
   ]
  },
  {
   "cell_type": "code",
   "execution_count": 31,
   "id": "30ba16a9",
   "metadata": {},
   "outputs": [
    {
     "name": "stdout",
     "output_type": "stream",
     "text": [
      " 34.3% of the DataFrame \"characters\" has reported gender and height of the actor/actress; the corresponding DataFrame \"characters_gender_height\" contains 154663 rows.\n"
     ]
    }
   ],
   "source": [
    "# Clear out characters_gender where height is not reported (characters_gender_age)\n",
    "characters_gender_height = characters_gender[characters_gender[\"actor_height\"].notnull()]\n",
    "print('{: .1%} of the DataFrame \"characters\" has reported gender and height of the actor/actress; the corresponding DataFrame \"characters_gender_height\" contains {} rows.'.format(len(characters_gender_height) / len(characters), len(characters_gender_height)))"
   ]
  },
  {
   "cell_type": "code",
   "execution_count": null,
   "id": "8ec52a10",
   "metadata": {},
   "outputs": [],
   "source": [
    "# Explore basic statistics on height\n",
    "characters_gender_height[\"actor_height\"].describe()"
   ]
  },
  {
   "cell_type": "markdown",
   "id": "167bf030",
   "metadata": {},
   "source": [
    "- 510 cm seems to be a corrupted value. We filter rows where height is above 2,72m (biggest height reported)."
   ]
  },
  {
   "cell_type": "code",
   "execution_count": 33,
   "id": "d2e05b1a",
   "metadata": {},
   "outputs": [],
   "source": [
    "# Keep only rows where \"actor_height\" is below 2.72m\n",
    "characters_gender_height = characters_gender_height[characters_gender_height['actor_height'] < 2.73]"
   ]
  },
  {
   "cell_type": "markdown",
   "id": "971b082d",
   "metadata": {},
   "source": [
    "- Are there other outliers? "
   ]
  },
  {
   "cell_type": "code",
   "execution_count": null,
   "id": "d9536bfa",
   "metadata": {},
   "outputs": [],
   "source": [
    "# Plot the distribution of height of actors\n",
    "plt.boxplot(characters_gender_height['actor_height'])\n",
    "plt.xticks([])\n",
    "plt.title(\"Actors' height in the movies\")\n",
    "plt.ylabel(\"Height (cm)\")"
   ]
  },
  {
   "cell_type": "markdown",
   "id": "7b1dbf96",
   "metadata": {},
   "source": [
    "- We can visualize height by gender. "
   ]
  },
  {
   "cell_type": "code",
   "execution_count": null,
   "id": "b92c1365",
   "metadata": {},
   "outputs": [],
   "source": [
    "# Plot the distribution of height by gender\n",
    "g = sns.catplot(data=characters_gender_height, x=\"actor_gender\", y=\"actor_height\", kind=\"box\", fliersize=0.5).set(title=\"Distribution of actors' height by gender\")\n",
    "g.set_axis_labels(\"Actor Gender\", \"Height (cm)\")\n",
    "g.set_xticklabels([\"Female\", \"Male\"])"
   ]
  },
  {
   "cell_type": "markdown",
   "id": "0c8c05a0",
   "metadata": {},
   "source": [
    "- It seems that male characters have more outliers than female characters. "
   ]
  },
  {
   "cell_type": "markdown",
   "id": "d3ed8d6d",
   "metadata": {},
   "source": [
    "### 4.5 - Are the observed differences statistically significant? "
   ]
  },
  {
   "cell_type": "markdown",
   "id": "4089e6e4",
   "metadata": {},
   "source": [
    "- We look at average age and height between male and female characters. "
   ]
  },
  {
   "cell_type": "code",
   "execution_count": 36,
   "id": "d33d1371",
   "metadata": {},
   "outputs": [
    {
     "data": {
      "text/html": [
       "<div>\n",
       "<style scoped>\n",
       "    .dataframe tbody tr th:only-of-type {\n",
       "        vertical-align: middle;\n",
       "    }\n",
       "\n",
       "    .dataframe tbody tr th {\n",
       "        vertical-align: top;\n",
       "    }\n",
       "\n",
       "    .dataframe thead th {\n",
       "        text-align: right;\n",
       "    }\n",
       "</style>\n",
       "<table border=\"1\" class=\"dataframe\">\n",
       "  <thead>\n",
       "    <tr style=\"text-align: right;\">\n",
       "      <th></th>\n",
       "      <th>actor_age_movie</th>\n",
       "      <th>actor_height</th>\n",
       "    </tr>\n",
       "    <tr>\n",
       "      <th>actor_gender</th>\n",
       "      <th></th>\n",
       "      <th></th>\n",
       "    </tr>\n",
       "  </thead>\n",
       "  <tbody>\n",
       "    <tr>\n",
       "      <th>F</th>\n",
       "      <td>32.810753</td>\n",
       "      <td>1.659008</td>\n",
       "    </tr>\n",
       "    <tr>\n",
       "      <th>M</th>\n",
       "      <td>40.391679</td>\n",
       "      <td>1.863798</td>\n",
       "    </tr>\n",
       "  </tbody>\n",
       "</table>\n",
       "</div>"
      ],
      "text/plain": [
       "              actor_age_movie  actor_height\n",
       "actor_gender                               \n",
       "F                   32.810753      1.659008\n",
       "M                   40.391679      1.863798"
      ]
     },
     "execution_count": 36,
     "metadata": {},
     "output_type": "execute_result"
    }
   ],
   "source": [
    "# In the movies where characters are reported, actresses are on average smaller and younger than men \n",
    "characters_gender_grouped = characters_gender.groupby(\"actor_gender\")[[\"actor_gender\", \"actor_age_movie\", \"actor_height\"]].mean()\n",
    "characters_gender_grouped.head()"
   ]
  },
  {
   "cell_type": "markdown",
   "id": "45abc91c",
   "metadata": {},
   "source": [
    "- Are these differences statistically significant? \\\n",
    "To answer this question, we perform an independent sample t-test under the null hypothesis: there is no difference between actors' and actresses'a age. "
   ]
  },
  {
   "cell_type": "code",
   "execution_count": 37,
   "id": "70442fcb",
   "metadata": {},
   "outputs": [
    {
     "name": "stdout",
     "output_type": "stream",
     "text": [
      "65.87% of characters were gender and age are reported are male.\n",
      "The DataFrame characters_female_age has 99124 rows, characters_male_age has 191277 rows.\n"
     ]
    }
   ],
   "source": [
    "# We first extract rows where character is played by a woman or by a man\n",
    "characters_female_age = characters_gender_age[characters_gender_age['actor_gender']== 'F']\n",
    "characters_male_age = characters_gender_age[characters_gender_age['actor_gender']== 'M']\n",
    "print(\"{:.2%} of characters were gender and age are reported are male.\".format(len(characters_male_age)/len(characters_gender_age)))\n",
    "print(\"The DataFrame characters_female_age has {} rows, characters_male_age has {} rows.\".format(len(characters_female_age), len(characters_male_age)))"
   ]
  },
  {
   "cell_type": "code",
   "execution_count": 38,
   "id": "ad61e3d7",
   "metadata": {},
   "outputs": [
    {
     "name": "stdout",
     "output_type": "stream",
     "text": [
      "The p-value for the independent sample t-test is: 0.0\n"
     ]
    }
   ],
   "source": [
    "# characters_female and characters_male do not have the same shape, we extract 99 242 rows from characters_male to have the same shape to perform an independent t-test\n",
    "characters_male_age_corr = characters_male_age.sample(n=len(characters_female_age), replace=False)\n",
    "\n",
    "# We perform the independent sample t-test to compare age of female and male actors\n",
    "stat_indep_age, pvalue_indep_age = stats.ttest_ind(characters_female_age['actor_age_movie'], characters_male_age_corr['actor_age_movie'])\n",
    "print(\"The p-value for the independent sample t-test is: {}\".format(pvalue_indep_age))"
   ]
  },
  {
   "cell_type": "markdown",
   "id": "fd5f25ed",
   "metadata": {},
   "source": [
    "- Here, the p-value is probably below a certain treshold and Pyhton returns 0. \\\n",
    "As the p-value verifies $ p < 0.05 $, actresses are significantly younger in movies of the dataset than actors, with 95% confidence. "
   ]
  },
  {
   "cell_type": "code",
   "execution_count": 39,
   "id": "2d4a9261",
   "metadata": {},
   "outputs": [
    {
     "name": "stdout",
     "output_type": "stream",
     "text": [
      "63.46% of characters were gender and age are reported are male.\n",
      "The DataFrame characters_female has 56515 rows, characters_male has 98133 rows.\n"
     ]
    }
   ],
   "source": [
    "# We now do the same t-test to compare height of male and female actors\n",
    "characters_female_height = characters_gender_height[characters_gender_height['actor_gender']== 'F']\n",
    "characters_male_height = characters_gender_height[characters_gender_height['actor_gender']== 'M']\n",
    "print(\"{:.2%} of characters were gender and age are reported are male.\".format(len(characters_male_height)/len(characters_gender_height)))\n",
    "print(\"The DataFrame characters_female has {} rows, characters_male has {} rows.\".format(len(characters_female_height), len(characters_male_height)))"
   ]
  },
  {
   "cell_type": "code",
   "execution_count": 40,
   "id": "bcb6a761",
   "metadata": {},
   "outputs": [
    {
     "name": "stdout",
     "output_type": "stream",
     "text": [
      "The p-value for the independent sample t-test is: 0.0\n"
     ]
    }
   ],
   "source": [
    "# characters_female and characters_male do not have the same shape, we extract 56 515 rows from characters_male to have the same shape to perform an independent t-test\n",
    "characters_male_corr2 = characters_male_height.sample(n=len(characters_female_height), replace=False)\n",
    "\n",
    "# We perform the independent sample t-test to compare age of female and male actors\n",
    "stat_indep_height, pvalue_indep_height = stats.ttest_ind(characters_female_height['actor_height'], characters_male_corr2['actor_height'])\n",
    "print(\"The p-value for the independent sample t-test is: {}\".format(pvalue_indep_height))"
   ]
  },
  {
   "cell_type": "markdown",
   "id": "ff396bf9",
   "metadata": {},
   "source": [
    "- Here again the p-value verifies $ p < 0.05 $ so actresses are significantly smaller in movies of the dataset than actors, with 95% confidence. "
   ]
  },
  {
   "cell_type": "markdown",
   "id": "73d08613",
   "metadata": {},
   "source": [
    "### 4.6 - Is there a correlation between age and gender, or between height and gender? "
   ]
  },
  {
   "cell_type": "markdown",
   "id": "fc79c80a",
   "metadata": {},
   "source": [
    "Is gender correlated with age of actors in the movies ? "
   ]
  },
  {
   "cell_type": "code",
   "execution_count": 41,
   "id": "67139905",
   "metadata": {},
   "outputs": [
    {
     "data": {
      "text/plain": [
       "(-0.2530033181090424, 0.0)"
      ]
     },
     "execution_count": 41,
     "metadata": {},
     "output_type": "execute_result"
    }
   ],
   "source": [
    "# Transform categorical value \"actor_gender\" into a numerical one\n",
    "characters_gender_age_num = pd.get_dummies(data = characters_gender_age[['actor_gender', 'actor_age_movie']])\n",
    "\n",
    "# We perform a Pearson correlation between gender and age of actors\n",
    "stats.pearsonr(characters_gender_age_num['actor_gender_F'], characters_gender_age_num['actor_age_movie'])"
   ]
  },
  {
   "cell_type": "markdown",
   "id": "f47c698a",
   "metadata": {},
   "source": [
    "- There is a small (-0.26) but significant ($ p < 0.05 $) negative correlation. "
   ]
  },
  {
   "cell_type": "code",
   "execution_count": 42,
   "id": "a9e057b0",
   "metadata": {},
   "outputs": [
    {
     "data": {
      "text/plain": [
       "SpearmanrResult(correlation=-0.2861287228160736, pvalue=0.0)"
      ]
     },
     "execution_count": 42,
     "metadata": {},
     "output_type": "execute_result"
    }
   ],
   "source": [
    "# We can also examine Spearman rank correlation\n",
    "stats.spearmanr(characters_gender_age_num['actor_gender_F'], characters_gender_age_num['actor_age_movie'])"
   ]
  },
  {
   "cell_type": "markdown",
   "id": "f929b42f",
   "metadata": {},
   "source": [
    "- Spearman rank correlation is also significant. "
   ]
  },
  {
   "cell_type": "markdown",
   "id": "798efa8e",
   "metadata": {},
   "source": [
    "- These analyses on age and height could be useful in further analyses to understand how characters played by men and women differ and what lead to these differences. "
   ]
  },
  {
   "cell_type": "markdown",
   "id": "34fd7bb7",
   "metadata": {},
   "source": [
    "## 5 - Representation of women in movies"
   ]
  },
  {
   "cell_type": "markdown",
   "id": "625b8c03",
   "metadata": {},
   "source": [
    "### 5.1 - Percentage of women in movies"
   ]
  },
  {
   "cell_type": "markdown",
   "id": "be22929a",
   "metadata": {},
   "source": [
    "- First, we want to compute the percentage of women in each movie where there is a reported character with a gender. "
   ]
  },
  {
   "cell_type": "code",
   "execution_count": null,
   "id": "775fbdcf",
   "metadata": {},
   "outputs": [],
   "source": [
    "# creation of a column with \"True\" for womens\n",
    "characters_gender['female'] = characters_gender.actor_gender=='F'\n",
    "\n",
    "# compute percentage of women by movie\n",
    "percentage_female =  characters_gender.groupby(characters_gender['freebase_movie_ID'])[['freebase_movie_ID','female']].mean()\n",
    "percentage_female.head()"
   ]
  },
  {
   "cell_type": "markdown",
   "id": "b9ed2ae3",
   "metadata": {},
   "source": [
    "We create a new DataFrame where we merge *movies* with *percentage_female* to add the percentage of female for each movie. "
   ]
  },
  {
   "cell_type": "code",
   "execution_count": 53,
   "id": "07393cf9",
   "metadata": {},
   "outputs": [
    {
     "data": {
      "text/html": [
       "<div>\n",
       "<style scoped>\n",
       "    .dataframe tbody tr th:only-of-type {\n",
       "        vertical-align: middle;\n",
       "    }\n",
       "\n",
       "    .dataframe tbody tr th {\n",
       "        vertical-align: top;\n",
       "    }\n",
       "\n",
       "    .dataframe thead th {\n",
       "        text-align: right;\n",
       "    }\n",
       "</style>\n",
       "<table border=\"1\" class=\"dataframe\">\n",
       "  <thead>\n",
       "    <tr style=\"text-align: right;\">\n",
       "      <th></th>\n",
       "      <th>wiki_movie_ID</th>\n",
       "      <th>freebase_movie_ID</th>\n",
       "      <th>movie_name</th>\n",
       "      <th>movie_release_date</th>\n",
       "      <th>movie_box_off_rev</th>\n",
       "      <th>movie_runtime</th>\n",
       "      <th>movie_languages</th>\n",
       "      <th>movie_countries</th>\n",
       "      <th>movie_genres</th>\n",
       "      <th>movie_countries_id</th>\n",
       "      <th>movie_genres_id</th>\n",
       "      <th>movie_languages_id</th>\n",
       "      <th>nb_genres</th>\n",
       "      <th>region</th>\n",
       "      <th>female</th>\n",
       "    </tr>\n",
       "  </thead>\n",
       "  <tbody>\n",
       "    <tr>\n",
       "      <th>0</th>\n",
       "      <td>975900</td>\n",
       "      <td>/m/03vyhn</td>\n",
       "      <td>Ghosts of Mars</td>\n",
       "      <td>2001</td>\n",
       "      <td>14010832.0</td>\n",
       "      <td>98.0</td>\n",
       "      <td>[English Language]</td>\n",
       "      <td>[United States of America]</td>\n",
       "      <td>[Thriller, Science Fiction, Horror, Adventure,...</td>\n",
       "      <td>[/m/09c7w0]</td>\n",
       "      <td>[/m/01jfsb, /m/06n90, /m/03npn, /m/03k9fj, /m/...</td>\n",
       "      <td>[/m/02h40lc]</td>\n",
       "      <td>7</td>\n",
       "      <td>[Americas]</td>\n",
       "      <td>0.352941</td>\n",
       "    </tr>\n",
       "    <tr>\n",
       "      <th>1</th>\n",
       "      <td>3196793</td>\n",
       "      <td>/m/08yl5d</td>\n",
       "      <td>Getting Away with Murder: The JonBenét Ramsey ...</td>\n",
       "      <td>2000</td>\n",
       "      <td>NaN</td>\n",
       "      <td>95.0</td>\n",
       "      <td>[English Language]</td>\n",
       "      <td>[United States of America]</td>\n",
       "      <td>[Mystery, Biographical film, Drama, Crime Drama]</td>\n",
       "      <td>[/m/09c7w0]</td>\n",
       "      <td>[/m/02n4kr, /m/03bxz7, /m/07s9rl0, /m/0hj3n01]</td>\n",
       "      <td>[/m/02h40lc]</td>\n",
       "      <td>4</td>\n",
       "      <td>[Americas]</td>\n",
       "      <td>0.266667</td>\n",
       "    </tr>\n",
       "    <tr>\n",
       "      <th>2</th>\n",
       "      <td>28463795</td>\n",
       "      <td>/m/0crgdbh</td>\n",
       "      <td>Brun bitter</td>\n",
       "      <td>1988</td>\n",
       "      <td>NaN</td>\n",
       "      <td>83.0</td>\n",
       "      <td>[Norwegian Language]</td>\n",
       "      <td>[Norway]</td>\n",
       "      <td>[Crime Fiction, Drama]</td>\n",
       "      <td>[/m/05b4w]</td>\n",
       "      <td>[/m/0lsxr, /m/07s9rl0]</td>\n",
       "      <td>[/m/05f_3]</td>\n",
       "      <td>2</td>\n",
       "      <td>[Europe]</td>\n",
       "      <td>0.500000</td>\n",
       "    </tr>\n",
       "    <tr>\n",
       "      <th>3</th>\n",
       "      <td>9363483</td>\n",
       "      <td>/m/0285_cd</td>\n",
       "      <td>White Of The Eye</td>\n",
       "      <td>1987</td>\n",
       "      <td>NaN</td>\n",
       "      <td>110.0</td>\n",
       "      <td>[English Language]</td>\n",
       "      <td>[United Kingdom]</td>\n",
       "      <td>[Thriller, Erotic thriller, Psychological thri...</td>\n",
       "      <td>[/m/07ssc]</td>\n",
       "      <td>[/m/01jfsb, /m/0glj9q, /m/09blyk]</td>\n",
       "      <td>[/m/02h40lc]</td>\n",
       "      <td>3</td>\n",
       "      <td>[Europe]</td>\n",
       "      <td>0.500000</td>\n",
       "    </tr>\n",
       "    <tr>\n",
       "      <th>4</th>\n",
       "      <td>261236</td>\n",
       "      <td>/m/01mrr1</td>\n",
       "      <td>A Woman in Flames</td>\n",
       "      <td>1983</td>\n",
       "      <td>NaN</td>\n",
       "      <td>106.0</td>\n",
       "      <td>[German Language]</td>\n",
       "      <td>[Germany]</td>\n",
       "      <td>[Drama]</td>\n",
       "      <td>[/m/0345h]</td>\n",
       "      <td>[/m/07s9rl0]</td>\n",
       "      <td>[/m/04306rv]</td>\n",
       "      <td>1</td>\n",
       "      <td>[Europe]</td>\n",
       "      <td>0.333333</td>\n",
       "    </tr>\n",
       "  </tbody>\n",
       "</table>\n",
       "</div>"
      ],
      "text/plain": [
       "   wiki_movie_ID freebase_movie_ID  \\\n",
       "0         975900         /m/03vyhn   \n",
       "1        3196793         /m/08yl5d   \n",
       "2       28463795        /m/0crgdbh   \n",
       "3        9363483        /m/0285_cd   \n",
       "4         261236         /m/01mrr1   \n",
       "\n",
       "                                          movie_name movie_release_date  \\\n",
       "0                                     Ghosts of Mars               2001   \n",
       "1  Getting Away with Murder: The JonBenét Ramsey ...               2000   \n",
       "2                                        Brun bitter               1988   \n",
       "3                                   White Of The Eye               1987   \n",
       "4                                  A Woman in Flames               1983   \n",
       "\n",
       "   movie_box_off_rev  movie_runtime       movie_languages  \\\n",
       "0         14010832.0           98.0    [English Language]   \n",
       "1                NaN           95.0    [English Language]   \n",
       "2                NaN           83.0  [Norwegian Language]   \n",
       "3                NaN          110.0    [English Language]   \n",
       "4                NaN          106.0     [German Language]   \n",
       "\n",
       "              movie_countries  \\\n",
       "0  [United States of America]   \n",
       "1  [United States of America]   \n",
       "2                    [Norway]   \n",
       "3            [United Kingdom]   \n",
       "4                   [Germany]   \n",
       "\n",
       "                                        movie_genres movie_countries_id  \\\n",
       "0  [Thriller, Science Fiction, Horror, Adventure,...        [/m/09c7w0]   \n",
       "1   [Mystery, Biographical film, Drama, Crime Drama]        [/m/09c7w0]   \n",
       "2                             [Crime Fiction, Drama]         [/m/05b4w]   \n",
       "3  [Thriller, Erotic thriller, Psychological thri...         [/m/07ssc]   \n",
       "4                                            [Drama]         [/m/0345h]   \n",
       "\n",
       "                                     movie_genres_id movie_languages_id  \\\n",
       "0  [/m/01jfsb, /m/06n90, /m/03npn, /m/03k9fj, /m/...       [/m/02h40lc]   \n",
       "1     [/m/02n4kr, /m/03bxz7, /m/07s9rl0, /m/0hj3n01]       [/m/02h40lc]   \n",
       "2                             [/m/0lsxr, /m/07s9rl0]         [/m/05f_3]   \n",
       "3                  [/m/01jfsb, /m/0glj9q, /m/09blyk]       [/m/02h40lc]   \n",
       "4                                       [/m/07s9rl0]       [/m/04306rv]   \n",
       "\n",
       "   nb_genres      region    female  \n",
       "0          7  [Americas]  0.352941  \n",
       "1          4  [Americas]  0.266667  \n",
       "2          2    [Europe]  0.500000  \n",
       "3          3    [Europe]  0.500000  \n",
       "4          1    [Europe]  0.333333  "
      ]
     },
     "execution_count": 53,
     "metadata": {},
     "output_type": "execute_result"
    }
   ],
   "source": [
    "movies_female = movies.merge(percentage_female, left_on='freebase_movie_ID', right_on='freebase_movie_ID')\n",
    "movies_female.head()"
   ]
  },
  {
   "cell_type": "markdown",
   "id": "ec8446ce",
   "metadata": {},
   "source": [
    "- How many movies did we lose by merging? "
   ]
  },
  {
   "cell_type": "code",
   "execution_count": 45,
   "id": "b1db607c",
   "metadata": {},
   "outputs": [
    {
     "name": "stdout",
     "output_type": "stream",
     "text": [
      "We kept 78.42% of the DataFrame movies by merging.\n"
     ]
    }
   ],
   "source": [
    "print(\"We kept {:.2%} of the DataFrame movies by merging.\".format(len(movies_female)/len(movies)))"
   ]
  },
  {
   "cell_type": "markdown",
   "id": "60a27626",
   "metadata": {},
   "source": [
    "### 5.2 - Temporal evolution of female percentage in movies"
   ]
  },
  {
   "cell_type": "markdown",
   "id": "14a6f094",
   "metadata": {},
   "source": [
    "We now want to examine how female percentage in movies evolved over time. "
   ]
  },
  {
   "cell_type": "code",
   "execution_count": 46,
   "id": "65647910",
   "metadata": {},
   "outputs": [
    {
     "data": {
      "text/html": [
       "<div>\n",
       "<style scoped>\n",
       "    .dataframe tbody tr th:only-of-type {\n",
       "        vertical-align: middle;\n",
       "    }\n",
       "\n",
       "    .dataframe tbody tr th {\n",
       "        vertical-align: top;\n",
       "    }\n",
       "\n",
       "    .dataframe thead th {\n",
       "        text-align: right;\n",
       "    }\n",
       "</style>\n",
       "<table border=\"1\" class=\"dataframe\">\n",
       "  <thead>\n",
       "    <tr style=\"text-align: right;\">\n",
       "      <th></th>\n",
       "      <th>female</th>\n",
       "    </tr>\n",
       "    <tr>\n",
       "      <th>movie_release_date</th>\n",
       "      <th></th>\n",
       "    </tr>\n",
       "  </thead>\n",
       "  <tbody>\n",
       "    <tr>\n",
       "      <th>1888</th>\n",
       "      <td>0.50</td>\n",
       "    </tr>\n",
       "    <tr>\n",
       "      <th>1891</th>\n",
       "      <td>0.00</td>\n",
       "    </tr>\n",
       "    <tr>\n",
       "      <th>1893</th>\n",
       "      <td>0.00</td>\n",
       "    </tr>\n",
       "    <tr>\n",
       "      <th>1894</th>\n",
       "      <td>0.25</td>\n",
       "    </tr>\n",
       "    <tr>\n",
       "      <th>1895</th>\n",
       "      <td>0.00</td>\n",
       "    </tr>\n",
       "  </tbody>\n",
       "</table>\n",
       "</div>"
      ],
      "text/plain": [
       "                    female\n",
       "movie_release_date        \n",
       "1888                  0.50\n",
       "1891                  0.00\n",
       "1893                  0.00\n",
       "1894                  0.25\n",
       "1895                  0.00"
      ]
     },
     "execution_count": 46,
     "metadata": {},
     "output_type": "execute_result"
    }
   ],
   "source": [
    "movies_female_gp_year=movies_female.groupby(movies_female['movie_release_date'])[['movie_release_date','female']].mean()\n",
    "movies_female_gp_year.head()"
   ]
  },
  {
   "cell_type": "markdown",
   "id": "d0c6671f",
   "metadata": {},
   "source": [
    "- We want to plot the percentage of women over time."
   ]
  },
  {
   "cell_type": "code",
   "execution_count": null,
   "id": "0c25f7b0",
   "metadata": {},
   "outputs": [],
   "source": [
    "movies_female_gp_year.plot(legend=False)\n",
    "plt.ylabel('Mean ratio of female by movie')\n",
    "plt.xlabel('year')\n",
    "plt.title('Presence of women in movies over time')\n",
    "plt.axhline(y=0.5,color ='red', ls='--')"
   ]
  },
  {
   "cell_type": "markdown",
   "id": "a00b6b1a",
   "metadata": {},
   "source": [
    "## 6 - How to evaluate the success of a movie ? "
   ]
  },
  {
   "cell_type": "markdown",
   "id": "5173eb79",
   "metadata": {},
   "source": [
    "In our dataset, the only feature we have to measure the success of a movie is the box office revenue. We will first analyze this feature on our dataset. "
   ]
  },
  {
   "cell_type": "markdown",
   "id": "bd10a41a",
   "metadata": {},
   "source": [
    "### 6.1 - Cleaning and missing values"
   ]
  },
  {
   "cell_type": "code",
   "execution_count": 48,
   "id": "2a713517",
   "metadata": {},
   "outputs": [
    {
     "name": "stdout",
     "output_type": "stream",
     "text": [
      "89.52% of the movies have a missing movie box office revenue value\n"
     ]
    }
   ],
   "source": [
    "print(\"{:.2%} of the movies have a missing movie box office revenue value\".format(movies.isnull().sum()['movie_box_off_rev']/len(movies)))"
   ]
  },
  {
   "cell_type": "markdown",
   "id": "96e00bba",
   "metadata": {},
   "source": [
    "- How are the missing values distributed over time ? \n",
    "- We calculate the number of movies per year which have a reported box office revenue. "
   ]
  },
  {
   "cell_type": "code",
   "execution_count": null,
   "id": "dba6a0d0",
   "metadata": {},
   "outputs": [],
   "source": [
    "#Keep only movies with a value for box office revenue\n",
    "movies_with_bor = movies[movies.movie_box_off_rev.isnull()==False]\n",
    "\n",
    "#Group by year and count the number of movies\n",
    "movies_with_bor_gp_year=movies_with_bor.groupby(movies_with_bor['movie_release_date'])[['movie_release_date']].count()\n",
    "movies_with_bor_gp_year.head()"
   ]
  },
  {
   "cell_type": "markdown",
   "id": "d9a203ad",
   "metadata": {},
   "source": [
    "- To plot evolution of movies without missing values over time, we normalize on the total number of movies, as we saw in 2 that it strongly increased over time. "
   ]
  },
  {
   "cell_type": "code",
   "execution_count": 50,
   "id": "2bab6445",
   "metadata": {},
   "outputs": [],
   "source": [
    "#Compute number of movies with missing values over total number of movies per year\n",
    "movie_count_all_gp_year = movies.groupby(movies['movie_release_date'])[['movie_release_date']].count()\n",
    "movie_count_all_gp_year['ratio_bor']=movies_with_bor_gp_year['movie_release_date']/movie_count_all_gp_year['movie_release_date']"
   ]
  },
  {
   "cell_type": "code",
   "execution_count": null,
   "id": "eb0174d9",
   "metadata": {},
   "outputs": [],
   "source": [
    "#Plot the distribution\n",
    "movie_count_all_gp_year['ratio_bor'].plot(legend=False)\n",
    "plt.ylabel('ratio of values for the feature \"movie_box_off_rev\"')\n",
    "plt.xlabel('year')\n",
    "plt.title('Ratio of values available per year for the feature \"movie_box_off_rev\"')"
   ]
  },
  {
   "cell_type": "markdown",
   "id": "5c291e57",
   "metadata": {},
   "source": [
    "We can see that the ratio of movies without missing values increases with time; however, the ratio never exceeds 20% of the dataset, which is quite low. "
   ]
  },
  {
   "cell_type": "markdown",
   "id": "b13da9d2",
   "metadata": {},
   "source": [
    "### 6.2 - Evolution of average box office revenue over time"
   ]
  },
  {
   "cell_type": "markdown",
   "id": "d5893e4f",
   "metadata": {},
   "source": [
    "We now want to analyze the evolution of the box office revenue over time. "
   ]
  },
  {
   "cell_type": "code",
   "execution_count": null,
   "id": "2c453273",
   "metadata": {},
   "outputs": [],
   "source": [
    "#Compute the average box office revenue by year\n",
    "movies_mean_bor_gp_year = movies_with_bor.groupby(movies_with_bor['movie_release_date'])[['movie_box_off_rev']].mean()\n",
    "movies_mean_bor_gp_year.head()"
   ]
  },
  {
   "cell_type": "code",
   "execution_count": null,
   "id": "0083d4f7",
   "metadata": {},
   "outputs": [],
   "source": [
    "#Plot the distribution\n",
    "movies_mean_bor_gp_year.plot(legend=False)\n",
    "plt.ylabel('Average box office revenue (USD)')\n",
    "plt.xlabel('year')\n",
    "plt.title('Evolution of the average box office revenue')"
   ]
  },
  {
   "cell_type": "markdown",
   "id": "1863cbf4",
   "metadata": {},
   "source": [
    "* To be perfectly accurate in comparing box office receipt comparison over time, we should at least adjust revenues for dollar inflation. One could go further and consider even more adjustements to be even more precise as explained in [this article](https://wwwold.usi.edu/media/3655032/How-the-MPA-Miscalculates.pdf)."
   ]
  },
  {
   "cell_type": "markdown",
   "id": "c1429ac1",
   "metadata": {},
   "source": [
    "- Even if these results are interesting, the amount of missing values is quite problematic. To evaluate the success of a movie, we can also look at the ratings of the movies. The data is not available in our dataset but we can use IMDb."
   ]
  },
  {
   "cell_type": "markdown",
   "id": "c481cf02",
   "metadata": {},
   "source": [
    "### 6.3 - Get the IMDb dataset"
   ]
  },
  {
   "cell_type": "code",
   "execution_count": null,
   "id": "78f8bf4d",
   "metadata": {},
   "outputs": [],
   "source": [
    "# Import dataset title.basics and title.ratings\n",
    "imdb_data_df = pd.read_csv('Data/Imdb/title.basics.tsv', sep = '\\t')\n",
    "imdb_ratings_df = pd.read_csv('Data/Imdb/title.ratings.tsv', sep = '\\t')\n",
    "\n",
    "imdb_data_df.head(10)"
   ]
  },
  {
   "cell_type": "code",
   "execution_count": null,
   "id": "5dd9feb6",
   "metadata": {},
   "outputs": [],
   "source": [
    "imdb_ratings_df.head(10)"
   ]
  },
  {
   "cell_type": "code",
   "execution_count": 56,
   "id": "9463695e",
   "metadata": {},
   "outputs": [],
   "source": [
    "# Merge imdb_data_df and imdb_ratings_df on ratings\n",
    "rating_df = imdb_data_df.merge(imdb_ratings_df)"
   ]
  },
  {
   "cell_type": "code",
   "execution_count": 57,
   "id": "258a0ea6",
   "metadata": {},
   "outputs": [],
   "source": [
    "# Delete unnessary columns  \n",
    "rating_df = rating_df.drop(['isAdult', 'endYear'], axis = 1)"
   ]
  },
  {
   "cell_type": "code",
   "execution_count": null,
   "id": "65b3d741",
   "metadata": {},
   "outputs": [],
   "source": [
    "rating_df.iloc[423117]"
   ]
  },
  {
   "cell_type": "code",
   "execution_count": 59,
   "id": "df0ed409",
   "metadata": {},
   "outputs": [],
   "source": [
    "#Replace \\N by NaN, replace corrupted values, drop missing values and convert run time into numerical data\n",
    "rating_df[['runtimeMinutes', 'startYear']] = rating_df[['runtimeMinutes', 'startYear']].replace(r\"\\N\", np.NaN).replace(\"Game-Show\", np.NaN).replace(\"Game-Show,Reality-TV\", np.NaN).dropna(subset = ['runtimeMinutes', 'startYear'])\n",
    "rating_df = rating_df.dropna(subset = 'runtimeMinutes')\n",
    "rating_df['runtimeMinutes'] = pd.to_numeric(rating_df['runtimeMinutes'])"
   ]
  },
  {
   "cell_type": "code",
   "execution_count": null,
   "id": "3e9f5fa4",
   "metadata": {},
   "outputs": [],
   "source": [
    "#Merge movies with ratings_df on primary title and start year\n",
    "merged_rating_df = movies.merge(rating_df, left_on = ['movie_name', 'movie_release_date'], right_on = ['primaryTitle', 'startYear'])\n",
    "merged_rating_df.head()"
   ]
  },
  {
   "cell_type": "markdown",
   "id": "445a5521",
   "metadata": {},
   "source": [
    "- There are some duplicates because of the merge, we have to treat them. "
   ]
  },
  {
   "cell_type": "code",
   "execution_count": null,
   "id": "6164f51f",
   "metadata": {},
   "outputs": [],
   "source": [
    "# Remove duplicates\n",
    "merged_rating_df[merged_rating_df.duplicated(subset = ['freebase_movie_ID'], keep=False)]"
   ]
  },
  {
   "cell_type": "markdown",
   "id": "2907dbeb",
   "metadata": {},
   "source": [
    "- We can finally export the final dataset by keeping only columns of interest"
   ]
  },
  {
   "cell_type": "code",
   "execution_count": 62,
   "id": "f4846561",
   "metadata": {},
   "outputs": [],
   "source": [
    "# Keep only column of interest and export the final dataset\n",
    "merged_rating_df = merged_rating_df.drop_duplicates(subset = 'freebase_movie_ID', keep = 'first')\n",
    "merged_rating_df[['freebase_movie_ID', 'tconst', 'titleType', 'primaryTitle', 'originalTitle', 'startYear', 'runtimeMinutes', 'genres','averageRating', 'numVotes']].to_csv('Data/Imdb/processed_imdb_dataset.csv')"
   ]
  },
  {
   "cell_type": "markdown",
   "id": "deae7ed3",
   "metadata": {},
   "source": [
    "### 6.4 - Rating of movies"
   ]
  },
  {
   "cell_type": "code",
   "execution_count": 63,
   "id": "4d19b4ed",
   "metadata": {},
   "outputs": [
    {
     "data": {
      "text/html": [
       "<div>\n",
       "<style scoped>\n",
       "    .dataframe tbody tr th:only-of-type {\n",
       "        vertical-align: middle;\n",
       "    }\n",
       "\n",
       "    .dataframe tbody tr th {\n",
       "        vertical-align: top;\n",
       "    }\n",
       "\n",
       "    .dataframe thead th {\n",
       "        text-align: right;\n",
       "    }\n",
       "</style>\n",
       "<table border=\"1\" class=\"dataframe\">\n",
       "  <thead>\n",
       "    <tr style=\"text-align: right;\">\n",
       "      <th></th>\n",
       "      <th>Unnamed: 0</th>\n",
       "      <th>freebase_movie_ID</th>\n",
       "      <th>tconst</th>\n",
       "      <th>titleType</th>\n",
       "      <th>primaryTitle</th>\n",
       "      <th>originalTitle</th>\n",
       "      <th>startYear</th>\n",
       "      <th>runtimeMinutes</th>\n",
       "      <th>genres</th>\n",
       "      <th>averageRating</th>\n",
       "      <th>numVotes</th>\n",
       "    </tr>\n",
       "  </thead>\n",
       "  <tbody>\n",
       "    <tr>\n",
       "      <th>0</th>\n",
       "      <td>0</td>\n",
       "      <td>/m/03vyhn</td>\n",
       "      <td>tt0228333</td>\n",
       "      <td>movie</td>\n",
       "      <td>Ghosts of Mars</td>\n",
       "      <td>Ghosts of Mars</td>\n",
       "      <td>2001</td>\n",
       "      <td>98</td>\n",
       "      <td>Action,Horror,Sci-Fi</td>\n",
       "      <td>4.9</td>\n",
       "      <td>55271</td>\n",
       "    </tr>\n",
       "    <tr>\n",
       "      <th>1</th>\n",
       "      <td>1</td>\n",
       "      <td>/m/0crgdbh</td>\n",
       "      <td>tt0094806</td>\n",
       "      <td>movie</td>\n",
       "      <td>Brun bitter</td>\n",
       "      <td>Brun bitter</td>\n",
       "      <td>1988</td>\n",
       "      <td>83</td>\n",
       "      <td>Crime,Drama</td>\n",
       "      <td>5.7</td>\n",
       "      <td>40</td>\n",
       "    </tr>\n",
       "    <tr>\n",
       "      <th>2</th>\n",
       "      <td>2</td>\n",
       "      <td>/m/01mrr1</td>\n",
       "      <td>tt0083949</td>\n",
       "      <td>movie</td>\n",
       "      <td>A Woman in Flames</td>\n",
       "      <td>Die flambierte Frau</td>\n",
       "      <td>1983</td>\n",
       "      <td>106</td>\n",
       "      <td>Drama</td>\n",
       "      <td>6.0</td>\n",
       "      <td>590</td>\n",
       "    </tr>\n",
       "    <tr>\n",
       "      <th>3</th>\n",
       "      <td>3</td>\n",
       "      <td>/m/03cfc81</td>\n",
       "      <td>tt0002894</td>\n",
       "      <td>short</td>\n",
       "      <td>The Gangsters</td>\n",
       "      <td>The Gangsters</td>\n",
       "      <td>1913</td>\n",
       "      <td>35</td>\n",
       "      <td>Comedy,Short</td>\n",
       "      <td>6.8</td>\n",
       "      <td>16</td>\n",
       "    </tr>\n",
       "    <tr>\n",
       "      <th>4</th>\n",
       "      <td>4</td>\n",
       "      <td>/m/02qc0j7</td>\n",
       "      <td>tt0029852</td>\n",
       "      <td>movie</td>\n",
       "      <td>Alexander's Ragtime Band</td>\n",
       "      <td>Alexander's Ragtime Band</td>\n",
       "      <td>1938</td>\n",
       "      <td>106</td>\n",
       "      <td>Drama,Music,Musical</td>\n",
       "      <td>6.9</td>\n",
       "      <td>2160</td>\n",
       "    </tr>\n",
       "  </tbody>\n",
       "</table>\n",
       "</div>"
      ],
      "text/plain": [
       "   Unnamed: 0 freebase_movie_ID     tconst titleType  \\\n",
       "0           0         /m/03vyhn  tt0228333     movie   \n",
       "1           1        /m/0crgdbh  tt0094806     movie   \n",
       "2           2         /m/01mrr1  tt0083949     movie   \n",
       "3           3        /m/03cfc81  tt0002894     short   \n",
       "4           4        /m/02qc0j7  tt0029852     movie   \n",
       "\n",
       "               primaryTitle             originalTitle  startYear  \\\n",
       "0            Ghosts of Mars            Ghosts of Mars       2001   \n",
       "1               Brun bitter               Brun bitter       1988   \n",
       "2         A Woman in Flames       Die flambierte Frau       1983   \n",
       "3             The Gangsters             The Gangsters       1913   \n",
       "4  Alexander's Ragtime Band  Alexander's Ragtime Band       1938   \n",
       "\n",
       "   runtimeMinutes                genres  averageRating  numVotes  \n",
       "0              98  Action,Horror,Sci-Fi            4.9     55271  \n",
       "1              83           Crime,Drama            5.7        40  \n",
       "2             106                 Drama            6.0       590  \n",
       "3              35          Comedy,Short            6.8        16  \n",
       "4             106   Drama,Music,Musical            6.9      2160  "
      ]
     },
     "execution_count": 63,
     "metadata": {},
     "output_type": "execute_result"
    }
   ],
   "source": [
    "imdb = pd.read_csv('Data/Imdb/processed_imdb_dataset.csv')\n",
    "imdb.head()"
   ]
  },
  {
   "cell_type": "markdown",
   "id": "36550da1",
   "metadata": {},
   "source": [
    "- We can start by computing the average rating by year"
   ]
  },
  {
   "cell_type": "code",
   "execution_count": 64,
   "id": "ce9072f6",
   "metadata": {},
   "outputs": [
    {
     "data": {
      "text/html": [
       "<div>\n",
       "<style scoped>\n",
       "    .dataframe tbody tr th:only-of-type {\n",
       "        vertical-align: middle;\n",
       "    }\n",
       "\n",
       "    .dataframe tbody tr th {\n",
       "        vertical-align: top;\n",
       "    }\n",
       "\n",
       "    .dataframe thead th {\n",
       "        text-align: right;\n",
       "    }\n",
       "</style>\n",
       "<table border=\"1\" class=\"dataframe\">\n",
       "  <thead>\n",
       "    <tr style=\"text-align: right;\">\n",
       "      <th></th>\n",
       "      <th>averageRating</th>\n",
       "    </tr>\n",
       "    <tr>\n",
       "      <th>startYear</th>\n",
       "      <th></th>\n",
       "    </tr>\n",
       "  </thead>\n",
       "  <tbody>\n",
       "    <tr>\n",
       "      <th>1888</th>\n",
       "      <td>7.300000</td>\n",
       "    </tr>\n",
       "    <tr>\n",
       "      <th>1889</th>\n",
       "      <td>5.000000</td>\n",
       "    </tr>\n",
       "    <tr>\n",
       "      <th>1890</th>\n",
       "      <td>5.200000</td>\n",
       "    </tr>\n",
       "    <tr>\n",
       "      <th>1891</th>\n",
       "      <td>4.966667</td>\n",
       "    </tr>\n",
       "    <tr>\n",
       "      <th>1892</th>\n",
       "      <td>6.050000</td>\n",
       "    </tr>\n",
       "  </tbody>\n",
       "</table>\n",
       "</div>"
      ],
      "text/plain": [
       "           averageRating\n",
       "startYear               \n",
       "1888            7.300000\n",
       "1889            5.000000\n",
       "1890            5.200000\n",
       "1891            4.966667\n",
       "1892            6.050000"
      ]
     },
     "execution_count": 64,
     "metadata": {},
     "output_type": "execute_result"
    }
   ],
   "source": [
    "#Group rating by year and compute mean rating \n",
    "imdb_rating_gp_year = imdb.groupby(imdb['startYear'])[['averageRating']].mean()\n",
    "imdb_rating_gp_year.head()"
   ]
  },
  {
   "cell_type": "code",
   "execution_count": 65,
   "id": "d6f0a8e8",
   "metadata": {},
   "outputs": [
    {
     "data": {
      "text/plain": [
       "Text(0.5, 1.0, 'Evolution of movie ratings')"
      ]
     },
     "execution_count": 65,
     "metadata": {},
     "output_type": "execute_result"
    },
    {
     "data": {
      "image/png": "[encoded data removed]",
      "text/plain": [
       "<Figure size 640x480 with 1 Axes>"
      ]
     },
     "metadata": {},
     "output_type": "display_data"
    }
   ],
   "source": [
    "#Plot the distribution\n",
    "imdb_rating_gp_year.plot(legend=False)\n",
    "plt.ylabel('Average movie rating (/10)')\n",
    "plt.xlabel('year')\n",
    "plt.title('Evolution of movie ratings')"
   ]
  },
  {
   "cell_type": "code",
   "execution_count": 66,
   "id": "6c0309e8",
   "metadata": {},
   "outputs": [
    {
     "data": {
      "text/html": [
       "<div>\n",
       "<style scoped>\n",
       "    .dataframe tbody tr th:only-of-type {\n",
       "        vertical-align: middle;\n",
       "    }\n",
       "\n",
       "    .dataframe tbody tr th {\n",
       "        vertical-align: top;\n",
       "    }\n",
       "\n",
       "    .dataframe thead th {\n",
       "        text-align: right;\n",
       "    }\n",
       "</style>\n",
       "<table border=\"1\" class=\"dataframe\">\n",
       "  <thead>\n",
       "    <tr style=\"text-align: right;\">\n",
       "      <th></th>\n",
       "      <th>Unnamed: 0</th>\n",
       "      <th>freebase_movie_ID</th>\n",
       "      <th>tconst</th>\n",
       "      <th>titleType</th>\n",
       "      <th>primaryTitle</th>\n",
       "      <th>originalTitle</th>\n",
       "      <th>startYear</th>\n",
       "      <th>runtimeMinutes</th>\n",
       "      <th>genres</th>\n",
       "      <th>averageRating</th>\n",
       "      <th>numVotes</th>\n",
       "    </tr>\n",
       "  </thead>\n",
       "  <tbody>\n",
       "    <tr>\n",
       "      <th>16661</th>\n",
       "      <td>17361</td>\n",
       "      <td>/m/0c03gcc</td>\n",
       "      <td>tt2267968</td>\n",
       "      <td>movie</td>\n",
       "      <td>Kung Fu Panda 3</td>\n",
       "      <td>Kung Fu Panda 3</td>\n",
       "      <td>2016</td>\n",
       "      <td>95</td>\n",
       "      <td>Action,Adventure,Animation</td>\n",
       "      <td>7.1</td>\n",
       "      <td>159988</td>\n",
       "    </tr>\n",
       "    <tr>\n",
       "      <th>28886</th>\n",
       "      <td>30084</td>\n",
       "      <td>/m/0k3lpxc</td>\n",
       "      <td>tt5308316</td>\n",
       "      <td>tvEpisode</td>\n",
       "      <td>Saving Mr. Banks</td>\n",
       "      <td>Saving Mr. Banks</td>\n",
       "      <td>2014</td>\n",
       "      <td>6</td>\n",
       "      <td>Documentary,Short</td>\n",
       "      <td>7.4</td>\n",
       "      <td>15</td>\n",
       "    </tr>\n",
       "    <tr>\n",
       "      <th>19214</th>\n",
       "      <td>20036</td>\n",
       "      <td>/m/0kdy118</td>\n",
       "      <td>tt1959490</td>\n",
       "      <td>movie</td>\n",
       "      <td>Noah</td>\n",
       "      <td>Noah</td>\n",
       "      <td>2014</td>\n",
       "      <td>138</td>\n",
       "      <td>Action,Adventure,Drama</td>\n",
       "      <td>5.8</td>\n",
       "      <td>255917</td>\n",
       "    </tr>\n",
       "    <tr>\n",
       "      <th>39097</th>\n",
       "      <td>40658</td>\n",
       "      <td>/m/0fkf28</td>\n",
       "      <td>tt0816692</td>\n",
       "      <td>movie</td>\n",
       "      <td>Interstellar</td>\n",
       "      <td>Interstellar</td>\n",
       "      <td>2014</td>\n",
       "      <td>169</td>\n",
       "      <td>Adventure,Drama,Sci-Fi</td>\n",
       "      <td>8.6</td>\n",
       "      <td>1806941</td>\n",
       "    </tr>\n",
       "    <tr>\n",
       "      <th>30260</th>\n",
       "      <td>31518</td>\n",
       "      <td>/m/0k0tq97</td>\n",
       "      <td>tt1587310</td>\n",
       "      <td>movie</td>\n",
       "      <td>Maleficent</td>\n",
       "      <td>Maleficent</td>\n",
       "      <td>2014</td>\n",
       "      <td>97</td>\n",
       "      <td>Adventure,Family,Fantasy</td>\n",
       "      <td>6.9</td>\n",
       "      <td>376315</td>\n",
       "    </tr>\n",
       "  </tbody>\n",
       "</table>\n",
       "</div>"
      ],
      "text/plain": [
       "       Unnamed: 0 freebase_movie_ID     tconst  titleType      primaryTitle  \\\n",
       "16661       17361        /m/0c03gcc  tt2267968      movie   Kung Fu Panda 3   \n",
       "28886       30084        /m/0k3lpxc  tt5308316  tvEpisode  Saving Mr. Banks   \n",
       "19214       20036        /m/0kdy118  tt1959490      movie              Noah   \n",
       "39097       40658         /m/0fkf28  tt0816692      movie      Interstellar   \n",
       "30260       31518        /m/0k0tq97  tt1587310      movie        Maleficent   \n",
       "\n",
       "          originalTitle  startYear  runtimeMinutes  \\\n",
       "16661   Kung Fu Panda 3       2016              95   \n",
       "28886  Saving Mr. Banks       2014               6   \n",
       "19214              Noah       2014             138   \n",
       "39097      Interstellar       2014             169   \n",
       "30260        Maleficent       2014              97   \n",
       "\n",
       "                           genres  averageRating  numVotes  \n",
       "16661  Action,Adventure,Animation            7.1    159988  \n",
       "28886           Documentary,Short            7.4        15  \n",
       "19214      Action,Adventure,Drama            5.8    255917  \n",
       "39097      Adventure,Drama,Sci-Fi            8.6   1806941  \n",
       "30260    Adventure,Family,Fantasy            6.9    376315  "
      ]
     },
     "execution_count": 66,
     "metadata": {},
     "output_type": "execute_result"
    }
   ],
   "source": [
    "# Merge imdb et movie metadata\n",
    "imdb.sort_values(by = 'startYear', ascending = False).head()"
   ]
  },
  {
   "cell_type": "markdown",
   "id": "04d9236e",
   "metadata": {},
   "source": [
    "### 6.5 - Correlation between rating and box office revenue"
   ]
  },
  {
   "cell_type": "markdown",
   "id": "c45628d3",
   "metadata": {},
   "source": [
    "- Now we have two measures of a movie's success and we wonder wether these two features are correlated. As we saw in the previous parts, there are many missing values on box office revenues. If these two features are strongly correlated, we could keep only rating as a measure of success and have a larger dataset to work on. "
   ]
  },
  {
   "cell_type": "code",
   "execution_count": 67,
   "id": "207169a9",
   "metadata": {},
   "outputs": [
    {
     "data": {
      "text/html": [
       "<div>\n",
       "<style scoped>\n",
       "    .dataframe tbody tr th:only-of-type {\n",
       "        vertical-align: middle;\n",
       "    }\n",
       "\n",
       "    .dataframe tbody tr th {\n",
       "        vertical-align: top;\n",
       "    }\n",
       "\n",
       "    .dataframe thead th {\n",
       "        text-align: right;\n",
       "    }\n",
       "</style>\n",
       "<table border=\"1\" class=\"dataframe\">\n",
       "  <thead>\n",
       "    <tr style=\"text-align: right;\">\n",
       "      <th></th>\n",
       "      <th>wiki_movie_ID</th>\n",
       "      <th>freebase_movie_ID</th>\n",
       "      <th>movie_name</th>\n",
       "      <th>movie_release_date</th>\n",
       "      <th>movie_box_off_rev</th>\n",
       "      <th>movie_runtime</th>\n",
       "      <th>movie_languages</th>\n",
       "      <th>movie_countries</th>\n",
       "      <th>movie_genres</th>\n",
       "      <th>movie_countries_id</th>\n",
       "      <th>...</th>\n",
       "      <th>Unnamed: 0</th>\n",
       "      <th>tconst</th>\n",
       "      <th>titleType</th>\n",
       "      <th>primaryTitle</th>\n",
       "      <th>originalTitle</th>\n",
       "      <th>startYear</th>\n",
       "      <th>runtimeMinutes</th>\n",
       "      <th>genres</th>\n",
       "      <th>averageRating</th>\n",
       "      <th>numVotes</th>\n",
       "    </tr>\n",
       "  </thead>\n",
       "  <tbody>\n",
       "    <tr>\n",
       "      <th>0</th>\n",
       "      <td>975900</td>\n",
       "      <td>/m/03vyhn</td>\n",
       "      <td>Ghosts of Mars</td>\n",
       "      <td>2001</td>\n",
       "      <td>14010832.0</td>\n",
       "      <td>98.0</td>\n",
       "      <td>[English Language]</td>\n",
       "      <td>[United States of America]</td>\n",
       "      <td>[Thriller, Science Fiction, Horror, Adventure,...</td>\n",
       "      <td>[/m/09c7w0]</td>\n",
       "      <td>...</td>\n",
       "      <td>0</td>\n",
       "      <td>tt0228333</td>\n",
       "      <td>movie</td>\n",
       "      <td>Ghosts of Mars</td>\n",
       "      <td>Ghosts of Mars</td>\n",
       "      <td>2001</td>\n",
       "      <td>98</td>\n",
       "      <td>Action,Horror,Sci-Fi</td>\n",
       "      <td>4.9</td>\n",
       "      <td>55271</td>\n",
       "    </tr>\n",
       "    <tr>\n",
       "      <th>1</th>\n",
       "      <td>10408933</td>\n",
       "      <td>/m/02qc0j7</td>\n",
       "      <td>Alexander's Ragtime Band</td>\n",
       "      <td>1938</td>\n",
       "      <td>3600000.0</td>\n",
       "      <td>106.0</td>\n",
       "      <td>[English Language]</td>\n",
       "      <td>[United States of America]</td>\n",
       "      <td>[Musical, Comedy, Black-and-white]</td>\n",
       "      <td>[/m/09c7w0]</td>\n",
       "      <td>...</td>\n",
       "      <td>4</td>\n",
       "      <td>tt0029852</td>\n",
       "      <td>movie</td>\n",
       "      <td>Alexander's Ragtime Band</td>\n",
       "      <td>Alexander's Ragtime Band</td>\n",
       "      <td>1938</td>\n",
       "      <td>106</td>\n",
       "      <td>Drama,Music,Musical</td>\n",
       "      <td>6.9</td>\n",
       "      <td>2160</td>\n",
       "    </tr>\n",
       "    <tr>\n",
       "      <th>2</th>\n",
       "      <td>171005</td>\n",
       "      <td>/m/016ywb</td>\n",
       "      <td>Henry V</td>\n",
       "      <td>1989</td>\n",
       "      <td>10161099.0</td>\n",
       "      <td>137.0</td>\n",
       "      <td>[English Language]</td>\n",
       "      <td>[United Kingdom]</td>\n",
       "      <td>[Costume drama, War film, Epic, Period piece, ...</td>\n",
       "      <td>[/m/07ssc]</td>\n",
       "      <td>...</td>\n",
       "      <td>7</td>\n",
       "      <td>tt0097499</td>\n",
       "      <td>movie</td>\n",
       "      <td>Henry V</td>\n",
       "      <td>Henry V</td>\n",
       "      <td>1989</td>\n",
       "      <td>137</td>\n",
       "      <td>Biography,Drama,History</td>\n",
       "      <td>7.5</td>\n",
       "      <td>30177</td>\n",
       "    </tr>\n",
       "    <tr>\n",
       "      <th>3</th>\n",
       "      <td>77856</td>\n",
       "      <td>/m/0kcn7</td>\n",
       "      <td>Mary Poppins</td>\n",
       "      <td>1964</td>\n",
       "      <td>102272727.0</td>\n",
       "      <td>139.0</td>\n",
       "      <td>[English Language]</td>\n",
       "      <td>[United States of America]</td>\n",
       "      <td>[Children's/Family, Musical, Fantasy, Comedy, ...</td>\n",
       "      <td>[/m/09c7w0]</td>\n",
       "      <td>...</td>\n",
       "      <td>8</td>\n",
       "      <td>tt0058331</td>\n",
       "      <td>movie</td>\n",
       "      <td>Mary Poppins</td>\n",
       "      <td>Mary Poppins</td>\n",
       "      <td>1964</td>\n",
       "      <td>139</td>\n",
       "      <td>Comedy,Family,Fantasy</td>\n",
       "      <td>7.8</td>\n",
       "      <td>173341</td>\n",
       "    </tr>\n",
       "    <tr>\n",
       "      <th>4</th>\n",
       "      <td>156558</td>\n",
       "      <td>/m/014k4y</td>\n",
       "      <td>Baby Boy</td>\n",
       "      <td>2001</td>\n",
       "      <td>29381649.0</td>\n",
       "      <td>123.0</td>\n",
       "      <td>[English Language]</td>\n",
       "      <td>[United States of America]</td>\n",
       "      <td>[Crime Fiction, Drama, Coming of age]</td>\n",
       "      <td>[/m/09c7w0]</td>\n",
       "      <td>...</td>\n",
       "      <td>14</td>\n",
       "      <td>tt0255819</td>\n",
       "      <td>movie</td>\n",
       "      <td>Baby Boy</td>\n",
       "      <td>Baby Boy</td>\n",
       "      <td>2001</td>\n",
       "      <td>130</td>\n",
       "      <td>Crime,Drama,Romance</td>\n",
       "      <td>6.4</td>\n",
       "      <td>15014</td>\n",
       "    </tr>\n",
       "  </tbody>\n",
       "</table>\n",
       "<p>5 rows × 24 columns</p>\n",
       "</div>"
      ],
      "text/plain": [
       "   wiki_movie_ID freebase_movie_ID                movie_name  \\\n",
       "0         975900         /m/03vyhn            Ghosts of Mars   \n",
       "1       10408933        /m/02qc0j7  Alexander's Ragtime Band   \n",
       "2         171005         /m/016ywb                   Henry V   \n",
       "3          77856          /m/0kcn7              Mary Poppins   \n",
       "4         156558         /m/014k4y                  Baby Boy   \n",
       "\n",
       "  movie_release_date  movie_box_off_rev  movie_runtime     movie_languages  \\\n",
       "0               2001         14010832.0           98.0  [English Language]   \n",
       "1               1938          3600000.0          106.0  [English Language]   \n",
       "2               1989         10161099.0          137.0  [English Language]   \n",
       "3               1964        102272727.0          139.0  [English Language]   \n",
       "4               2001         29381649.0          123.0  [English Language]   \n",
       "\n",
       "              movie_countries  \\\n",
       "0  [United States of America]   \n",
       "1  [United States of America]   \n",
       "2            [United Kingdom]   \n",
       "3  [United States of America]   \n",
       "4  [United States of America]   \n",
       "\n",
       "                                        movie_genres movie_countries_id  ...  \\\n",
       "0  [Thriller, Science Fiction, Horror, Adventure,...        [/m/09c7w0]  ...   \n",
       "1                 [Musical, Comedy, Black-and-white]        [/m/09c7w0]  ...   \n",
       "2  [Costume drama, War film, Epic, Period piece, ...         [/m/07ssc]  ...   \n",
       "3  [Children's/Family, Musical, Fantasy, Comedy, ...        [/m/09c7w0]  ...   \n",
       "4              [Crime Fiction, Drama, Coming of age]        [/m/09c7w0]  ...   \n",
       "\n",
       "  Unnamed: 0     tconst  titleType              primaryTitle  \\\n",
       "0          0  tt0228333      movie            Ghosts of Mars   \n",
       "1          4  tt0029852      movie  Alexander's Ragtime Band   \n",
       "2          7  tt0097499      movie                   Henry V   \n",
       "3          8  tt0058331      movie              Mary Poppins   \n",
       "4         14  tt0255819      movie                  Baby Boy   \n",
       "\n",
       "              originalTitle startYear runtimeMinutes                   genres  \\\n",
       "0            Ghosts of Mars      2001             98     Action,Horror,Sci-Fi   \n",
       "1  Alexander's Ragtime Band      1938            106      Drama,Music,Musical   \n",
       "2                   Henry V      1989            137  Biography,Drama,History   \n",
       "3              Mary Poppins      1964            139    Comedy,Family,Fantasy   \n",
       "4                  Baby Boy      2001            130      Crime,Drama,Romance   \n",
       "\n",
       "  averageRating  numVotes  \n",
       "0           4.9     55271  \n",
       "1           6.9      2160  \n",
       "2           7.5     30177  \n",
       "3           7.8    173341  \n",
       "4           6.4     15014  \n",
       "\n",
       "[5 rows x 24 columns]"
      ]
     },
     "execution_count": 67,
     "metadata": {},
     "output_type": "execute_result"
    }
   ],
   "source": [
    "#Merge movies with box office revenue and dataset with ratings on freebase_movie_ID\n",
    "correl = movies_with_bor.merge(imdb, left_on='freebase_movie_ID', right_on='freebase_movie_ID')\n",
    "correl.head()"
   ]
  },
  {
   "cell_type": "code",
   "execution_count": 68,
   "id": "4833d87e",
   "metadata": {},
   "outputs": [
    {
     "data": {
      "text/plain": [
       "(0.16414701775545265, 5.294688741938898e-45)"
      ]
     },
     "execution_count": 68,
     "metadata": {},
     "output_type": "execute_result"
    }
   ],
   "source": [
    "#Compute Pearson correlation coefficient\n",
    "stats.pearsonr(correl['movie_box_off_rev'],correl['averageRating'])"
   ]
  },
  {
   "cell_type": "markdown",
   "id": "bc4711bc",
   "metadata": {},
   "source": [
    "- The Pearson linear coefficient is low but significantly positive ($ p < 0.05$). The correlation seems too low to keep only one feature as a measure of success. "
   ]
  },
  {
   "cell_type": "markdown",
   "id": "7a35f56b",
   "metadata": {},
   "source": [
    "# 7 - Repartition of gender by region"
   ]
  },
  {
   "cell_type": "markdown",
   "id": "d01df489",
   "metadata": {},
   "source": [
    "- Are the genre differently represented by region? "
   ]
  },
  {
   "cell_type": "code",
   "execution_count": 60,
   "id": "ecb04fb3",
   "metadata": {},
   "outputs": [
    {
     "data": {
      "text/html": [
       "<div>\n",
       "<style scoped>\n",
       "    .dataframe tbody tr th:only-of-type {\n",
       "        vertical-align: middle;\n",
       "    }\n",
       "\n",
       "    .dataframe tbody tr th {\n",
       "        vertical-align: top;\n",
       "    }\n",
       "\n",
       "    .dataframe thead th {\n",
       "        text-align: right;\n",
       "    }\n",
       "</style>\n",
       "<table border=\"1\" class=\"dataframe\">\n",
       "  <thead>\n",
       "    <tr style=\"text-align: right;\">\n",
       "      <th></th>\n",
       "      <th>wiki_movie_ID</th>\n",
       "      <th>freebase_movie_ID</th>\n",
       "      <th>movie_name</th>\n",
       "      <th>movie_release_date</th>\n",
       "      <th>movie_box_off_rev</th>\n",
       "      <th>movie_runtime</th>\n",
       "      <th>movie_languages</th>\n",
       "      <th>movie_countries</th>\n",
       "      <th>movie_genres</th>\n",
       "      <th>movie_countries_id</th>\n",
       "      <th>movie_genres_id</th>\n",
       "      <th>movie_languages_id</th>\n",
       "      <th>nb_genres</th>\n",
       "      <th>region</th>\n",
       "      <th>female</th>\n",
       "      <th>male</th>\n",
       "    </tr>\n",
       "  </thead>\n",
       "  <tbody>\n",
       "    <tr>\n",
       "      <th>0</th>\n",
       "      <td>975900</td>\n",
       "      <td>/m/03vyhn</td>\n",
       "      <td>Ghosts of Mars</td>\n",
       "      <td>2001</td>\n",
       "      <td>14010832.0</td>\n",
       "      <td>98.0</td>\n",
       "      <td>[English Language]</td>\n",
       "      <td>[United States of America]</td>\n",
       "      <td>[Thriller, Science Fiction, Horror, Adventure,...</td>\n",
       "      <td>[/m/09c7w0]</td>\n",
       "      <td>[/m/01jfsb, /m/06n90, /m/03npn, /m/03k9fj, /m/...</td>\n",
       "      <td>[/m/02h40lc]</td>\n",
       "      <td>7</td>\n",
       "      <td>[Americas]</td>\n",
       "      <td>0.352941</td>\n",
       "      <td>0.647059</td>\n",
       "    </tr>\n",
       "    <tr>\n",
       "      <th>1</th>\n",
       "      <td>3196793</td>\n",
       "      <td>/m/08yl5d</td>\n",
       "      <td>Getting Away with Murder: The JonBenét Ramsey ...</td>\n",
       "      <td>2000</td>\n",
       "      <td>NaN</td>\n",
       "      <td>95.0</td>\n",
       "      <td>[English Language]</td>\n",
       "      <td>[United States of America]</td>\n",
       "      <td>[Mystery, Biographical film, Drama, Crime Drama]</td>\n",
       "      <td>[/m/09c7w0]</td>\n",
       "      <td>[/m/02n4kr, /m/03bxz7, /m/07s9rl0, /m/0hj3n01]</td>\n",
       "      <td>[/m/02h40lc]</td>\n",
       "      <td>4</td>\n",
       "      <td>[Americas]</td>\n",
       "      <td>0.266667</td>\n",
       "      <td>0.733333</td>\n",
       "    </tr>\n",
       "    <tr>\n",
       "      <th>2</th>\n",
       "      <td>28463795</td>\n",
       "      <td>/m/0crgdbh</td>\n",
       "      <td>Brun bitter</td>\n",
       "      <td>1988</td>\n",
       "      <td>NaN</td>\n",
       "      <td>83.0</td>\n",
       "      <td>[Norwegian Language]</td>\n",
       "      <td>[Norway]</td>\n",
       "      <td>[Crime Fiction, Drama]</td>\n",
       "      <td>[/m/05b4w]</td>\n",
       "      <td>[/m/0lsxr, /m/07s9rl0]</td>\n",
       "      <td>[/m/05f_3]</td>\n",
       "      <td>2</td>\n",
       "      <td>[Europe]</td>\n",
       "      <td>0.500000</td>\n",
       "      <td>0.500000</td>\n",
       "    </tr>\n",
       "    <tr>\n",
       "      <th>3</th>\n",
       "      <td>9363483</td>\n",
       "      <td>/m/0285_cd</td>\n",
       "      <td>White Of The Eye</td>\n",
       "      <td>1987</td>\n",
       "      <td>NaN</td>\n",
       "      <td>110.0</td>\n",
       "      <td>[English Language]</td>\n",
       "      <td>[United Kingdom]</td>\n",
       "      <td>[Thriller, Erotic thriller, Psychological thri...</td>\n",
       "      <td>[/m/07ssc]</td>\n",
       "      <td>[/m/01jfsb, /m/0glj9q, /m/09blyk]</td>\n",
       "      <td>[/m/02h40lc]</td>\n",
       "      <td>3</td>\n",
       "      <td>[Europe]</td>\n",
       "      <td>0.500000</td>\n",
       "      <td>0.500000</td>\n",
       "    </tr>\n",
       "    <tr>\n",
       "      <th>4</th>\n",
       "      <td>261236</td>\n",
       "      <td>/m/01mrr1</td>\n",
       "      <td>A Woman in Flames</td>\n",
       "      <td>1983</td>\n",
       "      <td>NaN</td>\n",
       "      <td>106.0</td>\n",
       "      <td>[German Language]</td>\n",
       "      <td>[Germany]</td>\n",
       "      <td>[Drama]</td>\n",
       "      <td>[/m/0345h]</td>\n",
       "      <td>[/m/07s9rl0]</td>\n",
       "      <td>[/m/04306rv]</td>\n",
       "      <td>1</td>\n",
       "      <td>[Europe]</td>\n",
       "      <td>0.333333</td>\n",
       "      <td>0.666667</td>\n",
       "    </tr>\n",
       "  </tbody>\n",
       "</table>\n",
       "</div>"
      ],
      "text/plain": [
       "   wiki_movie_ID freebase_movie_ID  \\\n",
       "0         975900         /m/03vyhn   \n",
       "1        3196793         /m/08yl5d   \n",
       "2       28463795        /m/0crgdbh   \n",
       "3        9363483        /m/0285_cd   \n",
       "4         261236         /m/01mrr1   \n",
       "\n",
       "                                          movie_name movie_release_date  \\\n",
       "0                                     Ghosts of Mars               2001   \n",
       "1  Getting Away with Murder: The JonBenét Ramsey ...               2000   \n",
       "2                                        Brun bitter               1988   \n",
       "3                                   White Of The Eye               1987   \n",
       "4                                  A Woman in Flames               1983   \n",
       "\n",
       "   movie_box_off_rev  movie_runtime       movie_languages  \\\n",
       "0         14010832.0           98.0    [English Language]   \n",
       "1                NaN           95.0    [English Language]   \n",
       "2                NaN           83.0  [Norwegian Language]   \n",
       "3                NaN          110.0    [English Language]   \n",
       "4                NaN          106.0     [German Language]   \n",
       "\n",
       "              movie_countries  \\\n",
       "0  [United States of America]   \n",
       "1  [United States of America]   \n",
       "2                    [Norway]   \n",
       "3            [United Kingdom]   \n",
       "4                   [Germany]   \n",
       "\n",
       "                                        movie_genres movie_countries_id  \\\n",
       "0  [Thriller, Science Fiction, Horror, Adventure,...        [/m/09c7w0]   \n",
       "1   [Mystery, Biographical film, Drama, Crime Drama]        [/m/09c7w0]   \n",
       "2                             [Crime Fiction, Drama]         [/m/05b4w]   \n",
       "3  [Thriller, Erotic thriller, Psychological thri...         [/m/07ssc]   \n",
       "4                                            [Drama]         [/m/0345h]   \n",
       "\n",
       "                                     movie_genres_id movie_languages_id  \\\n",
       "0  [/m/01jfsb, /m/06n90, /m/03npn, /m/03k9fj, /m/...       [/m/02h40lc]   \n",
       "1     [/m/02n4kr, /m/03bxz7, /m/07s9rl0, /m/0hj3n01]       [/m/02h40lc]   \n",
       "2                             [/m/0lsxr, /m/07s9rl0]         [/m/05f_3]   \n",
       "3                  [/m/01jfsb, /m/0glj9q, /m/09blyk]       [/m/02h40lc]   \n",
       "4                                       [/m/07s9rl0]       [/m/04306rv]   \n",
       "\n",
       "   nb_genres      region    female      male  \n",
       "0          7  [Americas]  0.352941  0.647059  \n",
       "1          4  [Americas]  0.266667  0.733333  \n",
       "2          2    [Europe]  0.500000  0.500000  \n",
       "3          3    [Europe]  0.500000  0.500000  \n",
       "4          1    [Europe]  0.333333  0.666667  "
      ]
     },
     "execution_count": 60,
     "metadata": {},
     "output_type": "execute_result"
    }
   ],
   "source": [
    "movies_female['male'] = 1 - movies_female['female']\n",
    "movies_female.head()"
   ]
  },
  {
   "cell_type": "markdown",
   "id": "f5781bc8",
   "metadata": {},
   "source": [
    "- We first create a Dataframe which contains the average percentage of female by region"
   ]
  },
  {
   "cell_type": "code",
   "execution_count": 62,
   "id": "e4ea8aed",
   "metadata": {},
   "outputs": [
    {
     "data": {
      "text/html": [
       "<div>\n",
       "<style scoped>\n",
       "    .dataframe tbody tr th:only-of-type {\n",
       "        vertical-align: middle;\n",
       "    }\n",
       "\n",
       "    .dataframe tbody tr th {\n",
       "        vertical-align: top;\n",
       "    }\n",
       "\n",
       "    .dataframe thead th {\n",
       "        text-align: right;\n",
       "    }\n",
       "</style>\n",
       "<table border=\"1\" class=\"dataframe\">\n",
       "  <thead>\n",
       "    <tr style=\"text-align: right;\">\n",
       "      <th></th>\n",
       "      <th>male</th>\n",
       "      <th>female</th>\n",
       "    </tr>\n",
       "    <tr>\n",
       "      <th>region</th>\n",
       "      <th></th>\n",
       "      <th></th>\n",
       "    </tr>\n",
       "  </thead>\n",
       "  <tbody>\n",
       "    <tr>\n",
       "      <th>Africa</th>\n",
       "      <td>0.678592</td>\n",
       "      <td>0.321408</td>\n",
       "    </tr>\n",
       "    <tr>\n",
       "      <th>Americas</th>\n",
       "      <td>0.671086</td>\n",
       "      <td>0.328914</td>\n",
       "    </tr>\n",
       "    <tr>\n",
       "      <th>Asia</th>\n",
       "      <td>0.636641</td>\n",
       "      <td>0.363359</td>\n",
       "    </tr>\n",
       "    <tr>\n",
       "      <th>Europe</th>\n",
       "      <td>0.663128</td>\n",
       "      <td>0.336872</td>\n",
       "    </tr>\n",
       "    <tr>\n",
       "      <th>Oceania</th>\n",
       "      <td>0.661751</td>\n",
       "      <td>0.338249</td>\n",
       "    </tr>\n",
       "  </tbody>\n",
       "</table>\n",
       "</div>"
      ],
      "text/plain": [
       "              male    female\n",
       "region                      \n",
       "Africa    0.678592  0.321408\n",
       "Americas  0.671086  0.328914\n",
       "Asia      0.636641  0.363359\n",
       "Europe    0.663128  0.336872\n",
       "Oceania   0.661751  0.338249"
      ]
     },
     "execution_count": 62,
     "metadata": {},
     "output_type": "execute_result"
    }
   ],
   "source": [
    "# Group movies_female by region and compute average percentage\n",
    "movies_region_grouped = movies_female[['region', 'male', 'female']].explode('region').groupby('region').mean()\n",
    "movies_region_grouped.head()"
   ]
  },
  {
   "cell_type": "code",
   "execution_count": 68,
   "id": "41438e84",
   "metadata": {},
   "outputs": [
    {
     "data": {
      "image/png": "[encoded data removed]",
      "text/plain": [
       "<Figure size 800x500 with 1 Axes>"
      ]
     },
     "metadata": {},
     "output_type": "display_data"
    }
   ],
   "source": [
    "# Plot the percentage of women by region \n",
    "\n",
    "# set width of bar\n",
    "barWidth = 0.25\n",
    "fig = plt.subplots(figsize =(8, 5))\n",
    "\n",
    "# set height of bar\n",
    "F = movies_region_grouped['female']\n",
    "M = movies_region_grouped['male']\n",
    " \n",
    "# Set position of bar on X axis\n",
    "br1 = np.arange(len(F))\n",
    "br2 = [x + barWidth for x in br1]\n",
    " \n",
    "# Make the plot\n",
    "plt.bar(br1, F, color ='r', width = barWidth,\n",
    "        edgecolor ='grey', label ='Female')\n",
    "plt.bar(br2, M, color ='g', width = barWidth,\n",
    "        edgecolor ='grey', label ='Male')\n",
    " \n",
    "# Adding Xticks\n",
    "plt.xlabel('Region', fontweight ='bold', fontsize = 12)\n",
    "plt.ylabel('Percentage of male/female actors', fontweight ='bold', fontsize = 12)\n",
    "plt.xticks([r + barWidth for r in range(len(F))],\n",
    "        movies_region_grouped.index)\n",
    " \n",
    "plt.legend()\n",
    "plt.show()"
   ]
  }
 ],
 "metadata": {
  "kernelspec": {
   "display_name": "Python 3.9.13 ('ada')",
   "language": "python",
   "name": "python3"
  },
  "language_info": {
   "codemirror_mode": {
    "name": "ipython",
    "version": 3
   },
   "file_extension": ".py",
   "mimetype": "text/x-python",
   "name": "python",
   "nbconvert_exporter": "python",
   "pygments_lexer": "ipython3",
   "version": "3.9.13"
  },
  "vscode": {
   "interpreter": {
    "hash": "b10238e0c79a4c24253f4ac6e83e270c54f67c79175f175eb395f7064e39a9cb"
   }
  }
 },
 "nbformat": 4,
 "nbformat_minor": 5
}
