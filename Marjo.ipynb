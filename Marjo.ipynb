{
 "cells": [
  {
   "cell_type": "code",
   "execution_count": 30,
   "metadata": {},
   "outputs": [],
   "source": [
    "import pandas as pd\n",
    "import numpy as np\n",
    "import matplotlib.pyplot as plt\n",
    "%matplotlib inline\n",
    "import seaborn as sns\n",
    "import math\n",
    "from scipy import stats\n",
    "import json\n",
    "from datetime import datetime, date, time"
   ]
  },
  {
   "cell_type": "markdown",
   "id": "f8d105fc",
   "metadata": {},
   "source": [
    "## Loading of the different datasets"
   ]
  },
  {
   "cell_type": "code",
   "execution_count": 31,
   "id": "9514cc7c",
   "metadata": {},
   "outputs": [
    {
     "data": {
      "text/html": [
       "<div>\n",
       "<style scoped>\n",
       "    .dataframe tbody tr th:only-of-type {\n",
       "        vertical-align: middle;\n",
       "    }\n",
       "\n",
       "    .dataframe tbody tr th {\n",
       "        vertical-align: top;\n",
       "    }\n",
       "\n",
       "    .dataframe thead th {\n",
       "        text-align: right;\n",
       "    }\n",
       "</style>\n",
       "<table border=\"1\" class=\"dataframe\">\n",
       "  <thead>\n",
       "    <tr style=\"text-align: right;\">\n",
       "      <th></th>\n",
       "      <th>wiki_movie_ID</th>\n",
       "      <th>freebase_movie_ID</th>\n",
       "      <th>movie_release_date</th>\n",
       "      <th>character_name</th>\n",
       "      <th>actor_DOB</th>\n",
       "      <th>actor_gender</th>\n",
       "      <th>actor_height</th>\n",
       "      <th>actor_ethnicity</th>\n",
       "      <th>actor_name</th>\n",
       "      <th>actor_age_movie</th>\n",
       "      <th>freebase_char/actor_map_ID</th>\n",
       "      <th>freebase_char_ID</th>\n",
       "      <th>freebase_actor_ID</th>\n",
       "    </tr>\n",
       "  </thead>\n",
       "  <tbody>\n",
       "    <tr>\n",
       "      <th>0</th>\n",
       "      <td>975900</td>\n",
       "      <td>/m/03vyhn</td>\n",
       "      <td>2001-08-24</td>\n",
       "      <td>Akooshay</td>\n",
       "      <td>1958-08-26</td>\n",
       "      <td>F</td>\n",
       "      <td>1.620</td>\n",
       "      <td>NaN</td>\n",
       "      <td>Wanda De Jesus</td>\n",
       "      <td>42.0</td>\n",
       "      <td>/m/0bgchxw</td>\n",
       "      <td>/m/0bgcj3x</td>\n",
       "      <td>/m/03wcfv7</td>\n",
       "    </tr>\n",
       "    <tr>\n",
       "      <th>1</th>\n",
       "      <td>975900</td>\n",
       "      <td>/m/03vyhn</td>\n",
       "      <td>2001-08-24</td>\n",
       "      <td>Lieutenant Melanie Ballard</td>\n",
       "      <td>1974-08-15</td>\n",
       "      <td>F</td>\n",
       "      <td>1.780</td>\n",
       "      <td>/m/044038p</td>\n",
       "      <td>Natasha Henstridge</td>\n",
       "      <td>27.0</td>\n",
       "      <td>/m/0jys3m</td>\n",
       "      <td>/m/0bgchn4</td>\n",
       "      <td>/m/0346l4</td>\n",
       "    </tr>\n",
       "    <tr>\n",
       "      <th>2</th>\n",
       "      <td>975900</td>\n",
       "      <td>/m/03vyhn</td>\n",
       "      <td>2001-08-24</td>\n",
       "      <td>Desolation Williams</td>\n",
       "      <td>1969-06-15</td>\n",
       "      <td>M</td>\n",
       "      <td>1.727</td>\n",
       "      <td>/m/0x67</td>\n",
       "      <td>Ice Cube</td>\n",
       "      <td>32.0</td>\n",
       "      <td>/m/0jys3g</td>\n",
       "      <td>/m/0bgchn_</td>\n",
       "      <td>/m/01vw26l</td>\n",
       "    </tr>\n",
       "    <tr>\n",
       "      <th>3</th>\n",
       "      <td>975900</td>\n",
       "      <td>/m/03vyhn</td>\n",
       "      <td>2001-08-24</td>\n",
       "      <td>Sgt Jericho Butler</td>\n",
       "      <td>1967-09-12</td>\n",
       "      <td>M</td>\n",
       "      <td>1.750</td>\n",
       "      <td>NaN</td>\n",
       "      <td>Jason Statham</td>\n",
       "      <td>33.0</td>\n",
       "      <td>/m/02vchl6</td>\n",
       "      <td>/m/0bgchnq</td>\n",
       "      <td>/m/034hyc</td>\n",
       "    </tr>\n",
       "    <tr>\n",
       "      <th>4</th>\n",
       "      <td>975900</td>\n",
       "      <td>/m/03vyhn</td>\n",
       "      <td>2001-08-24</td>\n",
       "      <td>Bashira Kincaid</td>\n",
       "      <td>1977-09-25</td>\n",
       "      <td>F</td>\n",
       "      <td>1.650</td>\n",
       "      <td>NaN</td>\n",
       "      <td>Clea DuVall</td>\n",
       "      <td>23.0</td>\n",
       "      <td>/m/02vbb3r</td>\n",
       "      <td>/m/0bgchp9</td>\n",
       "      <td>/m/01y9xg</td>\n",
       "    </tr>\n",
       "  </tbody>\n",
       "</table>\n",
       "</div>"
      ],
      "text/plain": [
       "   wiki_movie_ID freebase_movie_ID movie_release_date  \\\n",
       "0         975900         /m/03vyhn         2001-08-24   \n",
       "1         975900         /m/03vyhn         2001-08-24   \n",
       "2         975900         /m/03vyhn         2001-08-24   \n",
       "3         975900         /m/03vyhn         2001-08-24   \n",
       "4         975900         /m/03vyhn         2001-08-24   \n",
       "\n",
       "               character_name   actor_DOB actor_gender  actor_height  \\\n",
       "0                    Akooshay  1958-08-26            F         1.620   \n",
       "1  Lieutenant Melanie Ballard  1974-08-15            F         1.780   \n",
       "2         Desolation Williams  1969-06-15            M         1.727   \n",
       "3          Sgt Jericho Butler  1967-09-12            M         1.750   \n",
       "4             Bashira Kincaid  1977-09-25            F         1.650   \n",
       "\n",
       "  actor_ethnicity          actor_name  actor_age_movie  \\\n",
       "0             NaN      Wanda De Jesus             42.0   \n",
       "1      /m/044038p  Natasha Henstridge             27.0   \n",
       "2         /m/0x67            Ice Cube             32.0   \n",
       "3             NaN       Jason Statham             33.0   \n",
       "4             NaN         Clea DuVall             23.0   \n",
       "\n",
       "  freebase_char/actor_map_ID freebase_char_ID freebase_actor_ID  \n",
       "0                 /m/0bgchxw       /m/0bgcj3x        /m/03wcfv7  \n",
       "1                  /m/0jys3m       /m/0bgchn4         /m/0346l4  \n",
       "2                  /m/0jys3g       /m/0bgchn_        /m/01vw26l  \n",
       "3                 /m/02vchl6       /m/0bgchnq         /m/034hyc  \n",
       "4                 /m/02vbb3r       /m/0bgchp9         /m/01y9xg  "
      ]
     },
     "execution_count": 31,
     "metadata": {},
     "output_type": "execute_result"
    }
   ],
   "source": [
    "#Load character metadata\n",
    "characters = pd.read_csv('Data/MovieSummaries/character.metadata.tsv',sep='\\t',header=None)\n",
    "characters.columns = ['wiki_movie_ID','freebase_movie_ID','movie_release_date','character_name','actor_DOB','actor_gender','actor_height','actor_ethnicity','actor_name','actor_age_movie','freebase_char/actor_map_ID','freebase_char_ID','freebase_actor_ID']\n",
    "characters.head()"
   ]
  },
  {
   "cell_type": "code",
   "execution_count": 32,
   "id": "cdb4d740",
   "metadata": {},
   "outputs": [
    {
     "data": {
      "text/html": [
       "<div>\n",
       "<style scoped>\n",
       "    .dataframe tbody tr th:only-of-type {\n",
       "        vertical-align: middle;\n",
       "    }\n",
       "\n",
       "    .dataframe tbody tr th {\n",
       "        vertical-align: top;\n",
       "    }\n",
       "\n",
       "    .dataframe thead th {\n",
       "        text-align: right;\n",
       "    }\n",
       "</style>\n",
       "<table border=\"1\" class=\"dataframe\">\n",
       "  <thead>\n",
       "    <tr style=\"text-align: right;\">\n",
       "      <th></th>\n",
       "      <th>wiki_movie_ID</th>\n",
       "      <th>freebase_movie_ID</th>\n",
       "      <th>movie_name</th>\n",
       "      <th>movie_release_date</th>\n",
       "      <th>movie_box_off_rev</th>\n",
       "      <th>movie_runtime</th>\n",
       "      <th>movie_languages</th>\n",
       "      <th>movie_countries</th>\n",
       "      <th>movie_genres</th>\n",
       "    </tr>\n",
       "  </thead>\n",
       "  <tbody>\n",
       "    <tr>\n",
       "      <th>0</th>\n",
       "      <td>975900</td>\n",
       "      <td>/m/03vyhn</td>\n",
       "      <td>Ghosts of Mars</td>\n",
       "      <td>2001-08-24</td>\n",
       "      <td>14010832.0</td>\n",
       "      <td>98.0</td>\n",
       "      <td>{\"/m/02h40lc\": \"English Language\"}</td>\n",
       "      <td>{\"/m/09c7w0\": \"United States of America\"}</td>\n",
       "      <td>{\"/m/01jfsb\": \"Thriller\", \"/m/06n90\": \"Science...</td>\n",
       "    </tr>\n",
       "    <tr>\n",
       "      <th>1</th>\n",
       "      <td>3196793</td>\n",
       "      <td>/m/08yl5d</td>\n",
       "      <td>Getting Away with Murder: The JonBenét Ramsey ...</td>\n",
       "      <td>2000-02-16</td>\n",
       "      <td>NaN</td>\n",
       "      <td>95.0</td>\n",
       "      <td>{\"/m/02h40lc\": \"English Language\"}</td>\n",
       "      <td>{\"/m/09c7w0\": \"United States of America\"}</td>\n",
       "      <td>{\"/m/02n4kr\": \"Mystery\", \"/m/03bxz7\": \"Biograp...</td>\n",
       "    </tr>\n",
       "    <tr>\n",
       "      <th>2</th>\n",
       "      <td>28463795</td>\n",
       "      <td>/m/0crgdbh</td>\n",
       "      <td>Brun bitter</td>\n",
       "      <td>1988</td>\n",
       "      <td>NaN</td>\n",
       "      <td>83.0</td>\n",
       "      <td>{\"/m/05f_3\": \"Norwegian Language\"}</td>\n",
       "      <td>{\"/m/05b4w\": \"Norway\"}</td>\n",
       "      <td>{\"/m/0lsxr\": \"Crime Fiction\", \"/m/07s9rl0\": \"D...</td>\n",
       "    </tr>\n",
       "    <tr>\n",
       "      <th>3</th>\n",
       "      <td>9363483</td>\n",
       "      <td>/m/0285_cd</td>\n",
       "      <td>White Of The Eye</td>\n",
       "      <td>1987</td>\n",
       "      <td>NaN</td>\n",
       "      <td>110.0</td>\n",
       "      <td>{\"/m/02h40lc\": \"English Language\"}</td>\n",
       "      <td>{\"/m/07ssc\": \"United Kingdom\"}</td>\n",
       "      <td>{\"/m/01jfsb\": \"Thriller\", \"/m/0glj9q\": \"Erotic...</td>\n",
       "    </tr>\n",
       "    <tr>\n",
       "      <th>4</th>\n",
       "      <td>261236</td>\n",
       "      <td>/m/01mrr1</td>\n",
       "      <td>A Woman in Flames</td>\n",
       "      <td>1983</td>\n",
       "      <td>NaN</td>\n",
       "      <td>106.0</td>\n",
       "      <td>{\"/m/04306rv\": \"German Language\"}</td>\n",
       "      <td>{\"/m/0345h\": \"Germany\"}</td>\n",
       "      <td>{\"/m/07s9rl0\": \"Drama\"}</td>\n",
       "    </tr>\n",
       "  </tbody>\n",
       "</table>\n",
       "</div>"
      ],
      "text/plain": [
       "   wiki_movie_ID freebase_movie_ID  \\\n",
       "0         975900         /m/03vyhn   \n",
       "1        3196793         /m/08yl5d   \n",
       "2       28463795        /m/0crgdbh   \n",
       "3        9363483        /m/0285_cd   \n",
       "4         261236         /m/01mrr1   \n",
       "\n",
       "                                          movie_name movie_release_date  \\\n",
       "0                                     Ghosts of Mars         2001-08-24   \n",
       "1  Getting Away with Murder: The JonBenét Ramsey ...         2000-02-16   \n",
       "2                                        Brun bitter               1988   \n",
       "3                                   White Of The Eye               1987   \n",
       "4                                  A Woman in Flames               1983   \n",
       "\n",
       "   movie_box_off_rev  movie_runtime                     movie_languages  \\\n",
       "0         14010832.0           98.0  {\"/m/02h40lc\": \"English Language\"}   \n",
       "1                NaN           95.0  {\"/m/02h40lc\": \"English Language\"}   \n",
       "2                NaN           83.0  {\"/m/05f_3\": \"Norwegian Language\"}   \n",
       "3                NaN          110.0  {\"/m/02h40lc\": \"English Language\"}   \n",
       "4                NaN          106.0   {\"/m/04306rv\": \"German Language\"}   \n",
       "\n",
       "                             movie_countries  \\\n",
       "0  {\"/m/09c7w0\": \"United States of America\"}   \n",
       "1  {\"/m/09c7w0\": \"United States of America\"}   \n",
       "2                     {\"/m/05b4w\": \"Norway\"}   \n",
       "3             {\"/m/07ssc\": \"United Kingdom\"}   \n",
       "4                    {\"/m/0345h\": \"Germany\"}   \n",
       "\n",
       "                                        movie_genres  \n",
       "0  {\"/m/01jfsb\": \"Thriller\", \"/m/06n90\": \"Science...  \n",
       "1  {\"/m/02n4kr\": \"Mystery\", \"/m/03bxz7\": \"Biograp...  \n",
       "2  {\"/m/0lsxr\": \"Crime Fiction\", \"/m/07s9rl0\": \"D...  \n",
       "3  {\"/m/01jfsb\": \"Thriller\", \"/m/0glj9q\": \"Erotic...  \n",
       "4                            {\"/m/07s9rl0\": \"Drama\"}  "
      ]
     },
     "execution_count": 32,
     "metadata": {},
     "output_type": "execute_result"
    }
   ],
   "source": [
    "#Load movie metadata\n",
    "mov = pd.read_csv('Data/MovieSummaries/movie.metadata.tsv',sep='\\t',header=None)\n",
    "mov.columns = ['wiki_movie_ID','freebase_movie_ID','movie_name','movie_release_date','movie_box_off_rev','movie_runtime','movie_languages','movie_countries','movie_genres']\n",
    "mov.head()"
   ]
  },
  {
   "cell_type": "code",
   "execution_count": 33,
   "id": "7044d445",
   "metadata": {},
   "outputs": [],
   "source": [
    "#Load character names used in at least 2 different movies \n",
    "name_clusters = pd.read_table('Data/MovieSummaries/name.clusters.txt',header=None)#,sep=\" \",header=None)\n",
    "name_clusters.columns = ['character_name','freebase_char/actor_map_ID']"
   ]
  },
  {
   "cell_type": "code",
   "execution_count": 34,
   "id": "4c26257b",
   "metadata": {},
   "outputs": [
    {
     "data": {
      "text/html": [
       "<div>\n",
       "<style scoped>\n",
       "    .dataframe tbody tr th:only-of-type {\n",
       "        vertical-align: middle;\n",
       "    }\n",
       "\n",
       "    .dataframe tbody tr th {\n",
       "        vertical-align: top;\n",
       "    }\n",
       "\n",
       "    .dataframe thead th {\n",
       "        text-align: right;\n",
       "    }\n",
       "</style>\n",
       "<table border=\"1\" class=\"dataframe\">\n",
       "  <thead>\n",
       "    <tr style=\"text-align: right;\">\n",
       "      <th></th>\n",
       "      <th>wiki_movie_ID</th>\n",
       "      <th>movie_plot</th>\n",
       "    </tr>\n",
       "  </thead>\n",
       "  <tbody>\n",
       "    <tr>\n",
       "      <th>0</th>\n",
       "      <td>23890098</td>\n",
       "      <td>Shlykov, a hard-working taxi driver and Lyosha...</td>\n",
       "    </tr>\n",
       "    <tr>\n",
       "      <th>1</th>\n",
       "      <td>31186339</td>\n",
       "      <td>The nation of Panem consists of a wealthy Capi...</td>\n",
       "    </tr>\n",
       "    <tr>\n",
       "      <th>2</th>\n",
       "      <td>20663735</td>\n",
       "      <td>Poovalli Induchoodan  is sentenced for six yea...</td>\n",
       "    </tr>\n",
       "    <tr>\n",
       "      <th>3</th>\n",
       "      <td>2231378</td>\n",
       "      <td>The Lemon Drop Kid , a New York City swindler,...</td>\n",
       "    </tr>\n",
       "    <tr>\n",
       "      <th>4</th>\n",
       "      <td>595909</td>\n",
       "      <td>Seventh-day Adventist Church pastor Michael Ch...</td>\n",
       "    </tr>\n",
       "  </tbody>\n",
       "</table>\n",
       "</div>"
      ],
      "text/plain": [
       "   wiki_movie_ID                                         movie_plot\n",
       "0       23890098  Shlykov, a hard-working taxi driver and Lyosha...\n",
       "1       31186339  The nation of Panem consists of a wealthy Capi...\n",
       "2       20663735  Poovalli Induchoodan  is sentenced for six yea...\n",
       "3        2231378  The Lemon Drop Kid , a New York City swindler,...\n",
       "4         595909  Seventh-day Adventist Church pastor Michael Ch..."
      ]
     },
     "execution_count": 34,
     "metadata": {},
     "output_type": "execute_result"
    }
   ],
   "source": [
    "#Load plot summaries\n",
    "plot_summaries = pd.read_table('Data/MovieSummaries/plot_summaries.txt',header=None)\n",
    "plot_summaries.columns = ['wiki_movie_ID','movie_plot']\n",
    "plot_summaries.head()"
   ]
  },
  {
   "cell_type": "code",
   "execution_count": 35,
   "id": "109dfde3",
   "metadata": {},
   "outputs": [
    {
     "data": {
      "text/html": [
       "<div>\n",
       "<style scoped>\n",
       "    .dataframe tbody tr th:only-of-type {\n",
       "        vertical-align: middle;\n",
       "    }\n",
       "\n",
       "    .dataframe tbody tr th {\n",
       "        vertical-align: top;\n",
       "    }\n",
       "\n",
       "    .dataframe thead th {\n",
       "        text-align: right;\n",
       "    }\n",
       "</style>\n",
       "<table border=\"1\" class=\"dataframe\">\n",
       "  <thead>\n",
       "    <tr style=\"text-align: right;\">\n",
       "      <th></th>\n",
       "      <th>char_type</th>\n",
       "      <th>infos</th>\n",
       "    </tr>\n",
       "  </thead>\n",
       "  <tbody>\n",
       "    <tr>\n",
       "      <th>0</th>\n",
       "      <td>absent_minded_professor</td>\n",
       "      <td>{\"char\": \"Professor Philip Brainard\", \"movie\":...</td>\n",
       "    </tr>\n",
       "    <tr>\n",
       "      <th>1</th>\n",
       "      <td>absent_minded_professor</td>\n",
       "      <td>{\"char\": \"Professor Keenbean\", \"movie\": \"Richi...</td>\n",
       "    </tr>\n",
       "    <tr>\n",
       "      <th>2</th>\n",
       "      <td>absent_minded_professor</td>\n",
       "      <td>{\"char\": \"Dr. Reinhardt Lane\", \"movie\": \"The S...</td>\n",
       "    </tr>\n",
       "    <tr>\n",
       "      <th>3</th>\n",
       "      <td>absent_minded_professor</td>\n",
       "      <td>{\"char\": \"Dr. Harold Medford\", \"movie\": \"Them!...</td>\n",
       "    </tr>\n",
       "    <tr>\n",
       "      <th>4</th>\n",
       "      <td>absent_minded_professor</td>\n",
       "      <td>{\"char\": \"Daniel Jackson\", \"movie\": \"Stargate\"...</td>\n",
       "    </tr>\n",
       "  </tbody>\n",
       "</table>\n",
       "</div>"
      ],
      "text/plain": [
       "                 char_type                                              infos\n",
       "0  absent_minded_professor  {\"char\": \"Professor Philip Brainard\", \"movie\":...\n",
       "1  absent_minded_professor  {\"char\": \"Professor Keenbean\", \"movie\": \"Richi...\n",
       "2  absent_minded_professor  {\"char\": \"Dr. Reinhardt Lane\", \"movie\": \"The S...\n",
       "3  absent_minded_professor  {\"char\": \"Dr. Harold Medford\", \"movie\": \"Them!...\n",
       "4  absent_minded_professor  {\"char\": \"Daniel Jackson\", \"movie\": \"Stargate\"..."
      ]
     },
     "execution_count": 35,
     "metadata": {},
     "output_type": "execute_result"
    }
   ],
   "source": [
    "#Load tvtropes\n",
    "type_char = pd.read_table('Data/MovieSummaries/tvtropes.clusters.txt',header=None)\n",
    "type_char.columns = ['char_type','infos']\n",
    "type_char.head()"
   ]
  },
  {
   "cell_type": "markdown",
   "id": "6228fbb5",
   "metadata": {},
   "source": [
    "## Differences in age and height between male and female characters"
   ]
  },
  {
   "cell_type": "markdown",
   "id": "0966b91d",
   "metadata": {},
   "source": [
    "> We want to compare different features between roles played by male or female. "
   ]
  },
  {
   "cell_type": "markdown",
   "id": "64782b79",
   "metadata": {},
   "source": [
    "### Evaluating and filtering out missing values"
   ]
  },
  {
   "cell_type": "code",
   "execution_count": 36,
   "id": "b565e71d",
   "metadata": {},
   "outputs": [
    {
     "name": "stdout",
     "output_type": "stream",
     "text": [
      " 89.9% of the DataFrame \"characters\" has reported gender, the corresponding DataFrame \"characters_gender\" contains 405060 rows.\n"
     ]
    }
   ],
   "source": [
    "#Create a DataFrame keeping only characters where actors have reported gender\n",
    "characters_gender = characters[characters[\"actor_gender\"].notnull()]\n",
    "print('{: .1%} of the DataFrame \"characters\" has reported gender, the corresponding DataFrame \"characters_gender\" contains {} rows.'.format(len(characters_gender) / len(characters), len(characters_gender)))"
   ]
  },
  {
   "cell_type": "code",
   "execution_count": 37,
   "id": "2263691b",
   "metadata": {},
   "outputs": [
    {
     "data": {
      "text/plain": [
       "['F', 'F', 'M', 'M', 'F', ..., 'F', 'M', 'F', 'M', 'M']\n",
       "Length: 405060\n",
       "Categories (2, object): ['F', 'M']"
      ]
     },
     "execution_count": 37,
     "metadata": {},
     "output_type": "execute_result"
    }
   ],
   "source": [
    "#What are the possible different values for characters_gender? \n",
    "pd.Categorical(characters_gender.actor_gender)"
   ]
  },
  {
   "cell_type": "markdown",
   "id": "a3656903",
   "metadata": {},
   "source": [
    "### What is the repartition between male and female characters? "
   ]
  },
  {
   "cell_type": "code",
   "execution_count": 38,
   "id": "12b8a8e1",
   "metadata": {},
   "outputs": [
    {
     "name": "stdout",
     "output_type": "stream",
     "text": [
      "66.72% of reported characters are played by male actors.\n"
     ]
    },
    {
     "data": {
      "image/png": "[encoded data removed]",
      "text/plain": [
       "<Figure size 640x480 with 1 Axes>"
      ]
     },
     "metadata": {},
     "output_type": "display_data"
    }
   ],
   "source": [
    "#Create two DataFrame for characters played by female/male\n",
    "characters_female = characters_gender[characters_gender['actor_gender']== 'F']\n",
    "characters_male = characters_gender[characters_gender['actor_gender']== 'M']\n",
    "\n",
    "#Plot the repartition\n",
    "sns.countplot(x = characters_gender['actor_gender'])\n",
    "\n",
    "print(\"{:.2%} of reported characters are played by male actors.\".format(len(characters_male)/len(characters_gender)))"
   ]
  },
  {
   "cell_type": "markdown",
   "id": "b6db073f",
   "metadata": {},
   "source": [
    "### How is age of male characters compared to age of male characters? "
   ]
  },
  {
   "cell_type": "markdown",
   "id": "641c2fb5",
   "metadata": {},
   "source": [
    "> We want to compare **age** of the actors and actresses palying roles reported in *character*. "
   ]
  },
  {
   "cell_type": "code",
   "execution_count": 39,
   "id": "73409049",
   "metadata": {},
   "outputs": [
    {
     "name": "stdout",
     "output_type": "stream",
     "text": [
      " 64.5% of the DataFrame \"characters\" has reported gender and age of the actor/actress; the corresponding DataFrame \"characters_gender_age\" contains 290770 rows.\n"
     ]
    }
   ],
   "source": [
    "#Clear out characters_gender where age is not reported (characters_gender_age)\n",
    "characters_gender_age = characters_gender[characters_gender[\"actor_age_movie\"].notnull()]\n",
    "print('{: .1%} of the DataFrame \"characters\" has reported gender and age of the actor/actress; the corresponding DataFrame \"characters_gender_age\" contains {} rows.'.format(len(characters_gender_age) / len(characters), len(characters_gender_age)))"
   ]
  },
  {
   "cell_type": "markdown",
   "id": "91ea933e",
   "metadata": {},
   "source": [
    "> We first explore and clean the data. "
   ]
  },
  {
   "cell_type": "code",
   "execution_count": 40,
   "id": "92a45ebc",
   "metadata": {},
   "outputs": [
    {
     "data": {
      "text/html": [
       "<div>\n",
       "<style scoped>\n",
       "    .dataframe tbody tr th:only-of-type {\n",
       "        vertical-align: middle;\n",
       "    }\n",
       "\n",
       "    .dataframe tbody tr th {\n",
       "        vertical-align: top;\n",
       "    }\n",
       "\n",
       "    .dataframe thead th {\n",
       "        text-align: right;\n",
       "    }\n",
       "</style>\n",
       "<table border=\"1\" class=\"dataframe\">\n",
       "  <thead>\n",
       "    <tr style=\"text-align: right;\">\n",
       "      <th></th>\n",
       "      <th>wiki_movie_ID</th>\n",
       "      <th>actor_height</th>\n",
       "      <th>actor_age_movie</th>\n",
       "    </tr>\n",
       "  </thead>\n",
       "  <tbody>\n",
       "    <tr>\n",
       "      <th>count</th>\n",
       "      <td>2.907700e+05</td>\n",
       "      <td>139639.000000</td>\n",
       "      <td>290770.000000</td>\n",
       "    </tr>\n",
       "    <tr>\n",
       "      <th>mean</th>\n",
       "      <td>1.302929e+07</td>\n",
       "      <td>1.789524</td>\n",
       "      <td>37.804148</td>\n",
       "    </tr>\n",
       "    <tr>\n",
       "      <th>std</th>\n",
       "      <td>1.080402e+07</td>\n",
       "      <td>4.380801</td>\n",
       "      <td>20.616015</td>\n",
       "    </tr>\n",
       "    <tr>\n",
       "      <th>min</th>\n",
       "      <td>3.300000e+02</td>\n",
       "      <td>0.610000</td>\n",
       "      <td>-7896.000000</td>\n",
       "    </tr>\n",
       "    <tr>\n",
       "      <th>25%</th>\n",
       "      <td>3.052538e+06</td>\n",
       "      <td>1.680000</td>\n",
       "      <td>28.000000</td>\n",
       "    </tr>\n",
       "    <tr>\n",
       "      <th>50%</th>\n",
       "      <td>1.014264e+07</td>\n",
       "      <td>1.750000</td>\n",
       "      <td>36.000000</td>\n",
       "    </tr>\n",
       "    <tr>\n",
       "      <th>75%</th>\n",
       "      <td>2.261175e+07</td>\n",
       "      <td>1.830000</td>\n",
       "      <td>47.000000</td>\n",
       "    </tr>\n",
       "    <tr>\n",
       "      <th>max</th>\n",
       "      <td>3.750192e+07</td>\n",
       "      <td>510.000000</td>\n",
       "      <td>103.000000</td>\n",
       "    </tr>\n",
       "  </tbody>\n",
       "</table>\n",
       "</div>"
      ],
      "text/plain": [
       "       wiki_movie_ID   actor_height  actor_age_movie\n",
       "count   2.907700e+05  139639.000000    290770.000000\n",
       "mean    1.302929e+07       1.789524        37.804148\n",
       "std     1.080402e+07       4.380801        20.616015\n",
       "min     3.300000e+02       0.610000     -7896.000000\n",
       "25%     3.052538e+06       1.680000        28.000000\n",
       "50%     1.014264e+07       1.750000        36.000000\n",
       "75%     2.261175e+07       1.830000        47.000000\n",
       "max     3.750192e+07     510.000000       103.000000"
      ]
     },
     "execution_count": 40,
     "metadata": {},
     "output_type": "execute_result"
    }
   ],
   "source": [
    "characters_gender_age.describe()"
   ]
  },
  {
   "cell_type": "markdown",
   "id": "77e0635d",
   "metadata": {},
   "source": [
    "> The negative values do not make sense: we filter them out."
   ]
  },
  {
   "cell_type": "code",
   "execution_count": 41,
   "id": "4ff6d0a8",
   "metadata": {},
   "outputs": [],
   "source": [
    "characters_gender_age = characters_gender_age[characters_gender_age['actor_age_movie'] >= 0]"
   ]
  },
  {
   "cell_type": "code",
   "execution_count": 42,
   "id": "5846659d",
   "metadata": {},
   "outputs": [
    {
     "data": {
      "text/plain": [
       "Text(0, 0.5, 'Age')"
      ]
     },
     "execution_count": 42,
     "metadata": {},
     "output_type": "execute_result"
    },
    {
     "data": {
      "image/png": "[encoded data removed]",
      "text/plain": [
       "<Figure size 640x480 with 1 Axes>"
      ]
     },
     "metadata": {},
     "output_type": "display_data"
    }
   ],
   "source": [
    "plt.boxplot(characters_gender_age['actor_age_movie'])\n",
    "plt.xticks([])\n",
    "plt.title(\"Actor's age in the movies\")\n",
    "plt.ylabel(\"Age\")"
   ]
  },
  {
   "cell_type": "markdown",
   "id": "92ad0413",
   "metadata": {},
   "source": [
    "> We can visualize age of actors by gender. "
   ]
  },
  {
   "cell_type": "code",
   "execution_count": 43,
   "id": "3dc32049",
   "metadata": {},
   "outputs": [
    {
     "data": {
      "text/plain": [
       "<seaborn.axisgrid.FacetGrid at 0x7ff0c0202940>"
      ]
     },
     "execution_count": 43,
     "metadata": {},
     "output_type": "execute_result"
    },
    {
     "data": {
      "image/png": "[encoded data removed]",
      "text/plain": [
       "<Figure size 500x500 with 1 Axes>"
      ]
     },
     "metadata": {},
     "output_type": "display_data"
    }
   ],
   "source": [
    "g = sns.catplot(data=characters_gender_age, x=\"actor_gender\", y=\"actor_age_movie\", kind=\"box\", fliersize=0.5)\n",
    "g.set_axis_labels(\"Actor Gender\", \"Actor's age in the movie\")\n",
    "g.set_xticklabels([\"Female\", \"Male\"])"
   ]
  },
  {
   "cell_type": "markdown",
   "id": "fb1ca983",
   "metadata": {},
   "source": [
    "### How about height? "
   ]
  },
  {
   "cell_type": "markdown",
   "id": "d2e10638",
   "metadata": {},
   "source": [
    "> We can perform the same analysis for height. "
   ]
  },
  {
   "cell_type": "code",
   "execution_count": 16,
   "id": "30ba16a9",
   "metadata": {},
   "outputs": [
    {
     "name": "stdout",
     "output_type": "stream",
     "text": [
      " 34.3% of the DataFrame \"characters\" has reported gender and height of the actor/actress; the corresponding DataFrame \"characters_gender_height\" contains 154663 rows.\n"
     ]
    }
   ],
   "source": [
    "# Clear out characters_gender where height is not reported (characters_gender_age)\n",
    "characters_gender_height = characters_gender[characters_gender[\"actor_height\"].notnull()]\n",
    "print('{: .1%} of the DataFrame \"characters\" has reported gender and height of the actor/actress; the corresponding DataFrame \"characters_gender_height\" contains {} rows.'.format(len(characters_gender_height) / len(characters), len(characters_gender_height)))"
   ]
  },
  {
   "cell_type": "code",
   "execution_count": 17,
   "id": "8ec52a10",
   "metadata": {},
   "outputs": [
    {
     "data": {
      "text/html": [
       "<div>\n",
       "<style scoped>\n",
       "    .dataframe tbody tr th:only-of-type {\n",
       "        vertical-align: middle;\n",
       "    }\n",
       "\n",
       "    .dataframe tbody tr th {\n",
       "        vertical-align: top;\n",
       "    }\n",
       "\n",
       "    .dataframe thead th {\n",
       "        text-align: right;\n",
       "    }\n",
       "</style>\n",
       "<table border=\"1\" class=\"dataframe\">\n",
       "  <thead>\n",
       "    <tr style=\"text-align: right;\">\n",
       "      <th></th>\n",
       "      <th>wiki_movie_ID</th>\n",
       "      <th>actor_height</th>\n",
       "      <th>actor_age_movie</th>\n",
       "    </tr>\n",
       "  </thead>\n",
       "  <tbody>\n",
       "    <tr>\n",
       "      <th>count</th>\n",
       "      <td>1.546630e+05</td>\n",
       "      <td>154663.000000</td>\n",
       "      <td>139639.000000</td>\n",
       "    </tr>\n",
       "    <tr>\n",
       "      <th>mean</th>\n",
       "      <td>1.212276e+07</td>\n",
       "      <td>1.788966</td>\n",
       "      <td>37.301671</td>\n",
       "    </tr>\n",
       "    <tr>\n",
       "      <th>std</th>\n",
       "      <td>1.076543e+07</td>\n",
       "      <td>4.382216</td>\n",
       "      <td>13.890925</td>\n",
       "    </tr>\n",
       "    <tr>\n",
       "      <th>min</th>\n",
       "      <td>3.217000e+03</td>\n",
       "      <td>0.610000</td>\n",
       "      <td>-57.000000</td>\n",
       "    </tr>\n",
       "    <tr>\n",
       "      <th>25%</th>\n",
       "      <td>2.511602e+06</td>\n",
       "      <td>1.676400</td>\n",
       "      <td>27.000000</td>\n",
       "    </tr>\n",
       "    <tr>\n",
       "      <th>50%</th>\n",
       "      <td>8.627638e+06</td>\n",
       "      <td>1.750000</td>\n",
       "      <td>35.000000</td>\n",
       "    </tr>\n",
       "    <tr>\n",
       "      <th>75%</th>\n",
       "      <td>2.107084e+07</td>\n",
       "      <td>1.830000</td>\n",
       "      <td>46.000000</td>\n",
       "    </tr>\n",
       "    <tr>\n",
       "      <th>max</th>\n",
       "      <td>3.750192e+07</td>\n",
       "      <td>510.000000</td>\n",
       "      <td>96.000000</td>\n",
       "    </tr>\n",
       "  </tbody>\n",
       "</table>\n",
       "</div>"
      ],
      "text/plain": [
       "       wiki_movie_ID   actor_height  actor_age_movie\n",
       "count   1.546630e+05  154663.000000    139639.000000\n",
       "mean    1.212276e+07       1.788966        37.301671\n",
       "std     1.076543e+07       4.382216        13.890925\n",
       "min     3.217000e+03       0.610000       -57.000000\n",
       "25%     2.511602e+06       1.676400        27.000000\n",
       "50%     8.627638e+06       1.750000        35.000000\n",
       "75%     2.107084e+07       1.830000        46.000000\n",
       "max     3.750192e+07     510.000000        96.000000"
      ]
     },
     "execution_count": 17,
     "metadata": {},
     "output_type": "execute_result"
    }
   ],
   "source": [
    "characters_gender_height.describe()"
   ]
  },
  {
   "cell_type": "markdown",
   "id": "167bf030",
   "metadata": {},
   "source": [
    "> 510 cm seems to be a corrupted value. We filter rows where height is above 2,72m (biggest height reported)."
   ]
  },
  {
   "cell_type": "code",
   "execution_count": 18,
   "id": "d2e05b1a",
   "metadata": {},
   "outputs": [],
   "source": [
    "characters_gender_height = characters_gender_height[characters_gender_height['actor_height'] < 2.73]"
   ]
  },
  {
   "cell_type": "markdown",
   "id": "971b082d",
   "metadata": {},
   "source": [
    "> Are there other outliers? "
   ]
  },
  {
   "cell_type": "code",
   "execution_count": 19,
   "id": "d9536bfa",
   "metadata": {},
   "outputs": [
    {
     "data": {
      "text/plain": [
       "Text(0, 0.5, 'Height (cm)')"
      ]
     },
     "execution_count": 19,
     "metadata": {},
     "output_type": "execute_result"
    },
    {
     "data": {
      "image/png": "[encoded data removed]",
      "text/plain": [
       "<Figure size 640x480 with 1 Axes>"
      ]
     },
     "metadata": {},
     "output_type": "display_data"
    }
   ],
   "source": [
    "plt.boxplot(characters_gender_height['actor_height'])\n",
    "plt.xticks([])\n",
    "plt.title(\"Actors' height in the movies\")\n",
    "plt.ylabel(\"Height (cm)\")"
   ]
  },
  {
   "cell_type": "markdown",
   "id": "7b1dbf96",
   "metadata": {},
   "source": [
    "> We can visualize height by gender. "
   ]
  },
  {
   "cell_type": "code",
   "execution_count": 20,
   "id": "b92c1365",
   "metadata": {},
   "outputs": [
    {
     "data": {
      "text/plain": [
       "<seaborn.axisgrid.FacetGrid at 0x7ff1368ee760>"
      ]
     },
     "execution_count": 20,
     "metadata": {},
     "output_type": "execute_result"
    },
    {
     "data": {
      "image/png": "[encoded data removed]",
      "text/plain": [
       "<Figure size 500x500 with 1 Axes>"
      ]
     },
     "metadata": {},
     "output_type": "display_data"
    }
   ],
   "source": [
    "sns.catplot(data=characters_gender_height, x=\"actor_gender\", y=\"actor_height\", kind=\"box\", fliersize=0.5)"
   ]
  },
  {
   "cell_type": "markdown",
   "id": "0c8c05a0",
   "metadata": {},
   "source": [
    "> It seems that male characters have more outliers than female characters. "
   ]
  },
  {
   "cell_type": "markdown",
   "id": "d3ed8d6d",
   "metadata": {},
   "source": [
    "### Are the observed differences statistically significant? "
   ]
  },
  {
   "cell_type": "markdown",
   "id": "4089e6e4",
   "metadata": {},
   "source": [
    "> We look at average age and height between male and female characters. "
   ]
  },
  {
   "cell_type": "code",
   "execution_count": 21,
   "id": "d33d1371",
   "metadata": {},
   "outputs": [
    {
     "data": {
      "text/html": [
       "<div>\n",
       "<style scoped>\n",
       "    .dataframe tbody tr th:only-of-type {\n",
       "        vertical-align: middle;\n",
       "    }\n",
       "\n",
       "    .dataframe tbody tr th {\n",
       "        vertical-align: top;\n",
       "    }\n",
       "\n",
       "    .dataframe thead th {\n",
       "        text-align: right;\n",
       "    }\n",
       "</style>\n",
       "<table border=\"1\" class=\"dataframe\">\n",
       "  <thead>\n",
       "    <tr style=\"text-align: right;\">\n",
       "      <th></th>\n",
       "      <th>actor_age_movie</th>\n",
       "      <th>actor_height</th>\n",
       "    </tr>\n",
       "    <tr>\n",
       "      <th>actor_gender</th>\n",
       "      <th></th>\n",
       "      <th></th>\n",
       "    </tr>\n",
       "  </thead>\n",
       "  <tbody>\n",
       "    <tr>\n",
       "      <th>F</th>\n",
       "      <td>32.810753</td>\n",
       "      <td>1.659008</td>\n",
       "    </tr>\n",
       "    <tr>\n",
       "      <th>M</th>\n",
       "      <td>40.391679</td>\n",
       "      <td>1.863798</td>\n",
       "    </tr>\n",
       "  </tbody>\n",
       "</table>\n",
       "</div>"
      ],
      "text/plain": [
       "              actor_age_movie  actor_height\n",
       "actor_gender                               \n",
       "F                   32.810753      1.659008\n",
       "M                   40.391679      1.863798"
      ]
     },
     "execution_count": 21,
     "metadata": {},
     "output_type": "execute_result"
    }
   ],
   "source": [
    "#In the movies where characters are reported, actresses are on average smaller and younger than men \n",
    "characters_gender_grouped = characters_gender.groupby(\"actor_gender\")[[\"actor_gender\", \"actor_age_movie\", \"actor_height\"]].mean()\n",
    "characters_gender_grouped.head()"
   ]
  },
  {
   "cell_type": "markdown",
   "id": "45abc91c",
   "metadata": {},
   "source": [
    "> Are these differences statistically significant? \\\n",
    "> To answer this question, we perform an independent sample t-test under the null hypothesis: there is no difference between actors' and actresses'a age. "
   ]
  },
  {
   "cell_type": "code",
   "execution_count": 22,
   "id": "70442fcb",
   "metadata": {},
   "outputs": [
    {
     "name": "stdout",
     "output_type": "stream",
     "text": [
      "65.87% of characters were gender and age are reported are male.\n",
      "The DataFrame characters_female_age has 99124 rows, characters_male_age has 191277 rows.\n"
     ]
    }
   ],
   "source": [
    "# We first extract rows where character is played by a woman or by a man\n",
    "characters_female_age = characters_gender_age[characters_gender_age['actor_gender']== 'F']\n",
    "characters_male_age = characters_gender_age[characters_gender_age['actor_gender']== 'M']\n",
    "print(\"{:.2%} of characters were gender and age are reported are male.\".format(len(characters_male_age)/len(characters_gender_age)))\n",
    "print(\"The DataFrame characters_female_age has {} rows, characters_male_age has {} rows.\".format(len(characters_female_age), len(characters_male_age)))"
   ]
  },
  {
   "cell_type": "code",
   "execution_count": 23,
   "id": "ad61e3d7",
   "metadata": {},
   "outputs": [
    {
     "name": "stdout",
     "output_type": "stream",
     "text": [
      "The p-value for the independent sample t-test is: 0.0\n"
     ]
    }
   ],
   "source": [
    "#characters_female and characters_male do not have the same shape, we extract 99 242 rows from characters_male to have the same shape to perform an independent t-test\n",
    "characters_male_age_corr = characters_male_age.sample(n=len(characters_female_age), replace=False)\n",
    "\n",
    "#We perform the independent sample t-test to compare age of female and male actors\n",
    "stat_indep_age, pvalue_indep_age = stats.ttest_ind(characters_female_age['actor_age_movie'], characters_male_age_corr['actor_age_movie'])\n",
    "print(\"The p-value for the independent sample t-test is: {}\".format(pvalue_indep_age))"
   ]
  },
  {
   "cell_type": "markdown",
   "id": "fd5f25ed",
   "metadata": {},
   "source": [
    ">Here, the p-value is probably below a certain treshold and Pyhton returns 0. \\\n",
    ">As the p-value verifies $ p < 0.05 $, actresses are significantly younger in movies of the dataset than actors, with 95% confidence. "
   ]
  },
  {
   "cell_type": "code",
   "execution_count": 24,
   "id": "2d4a9261",
   "metadata": {},
   "outputs": [
    {
     "name": "stdout",
     "output_type": "stream",
     "text": [
      "63.46% of characters were gender and age are reported are male.\n",
      "The DataFrame characters_female has 56515 rows, characters_male has 98133 rows.\n"
     ]
    }
   ],
   "source": [
    "#We now do the same t-test to compare height of male and female actors\n",
    "characters_female_height = characters_gender_height[characters_gender_height['actor_gender']== 'F']\n",
    "characters_male_height = characters_gender_height[characters_gender_height['actor_gender']== 'M']\n",
    "print(\"{:.2%} of characters were gender and age are reported are male.\".format(len(characters_male_height)/len(characters_gender_height)))\n",
    "print(\"The DataFrame characters_female has {} rows, characters_male has {} rows.\".format(len(characters_female_height), len(characters_male_height)))"
   ]
  },
  {
   "cell_type": "code",
   "execution_count": 25,
   "id": "bcb6a761",
   "metadata": {},
   "outputs": [
    {
     "name": "stdout",
     "output_type": "stream",
     "text": [
      "The p-value for the independent sample t-test is: 0.0\n"
     ]
    }
   ],
   "source": [
    "#characters_female and characters_male do not have the same shape, we extract 56 515 rows from characters_male to have the same shape to perform an independent t-test\n",
    "characters_male_corr2 = characters_male_height.sample(n=len(characters_female_height), replace=False)\n",
    "\n",
    "#We perform the independent sample t-test to compare age of female and male actors\n",
    "stat_indep_height, pvalue_indep_height = stats.ttest_ind(characters_female_height['actor_height'], characters_male_corr2['actor_height'])\n",
    "print(\"The p-value for the independent sample t-test is: {}\".format(pvalue_indep_height))"
   ]
  },
  {
   "cell_type": "markdown",
   "id": "ff396bf9",
   "metadata": {},
   "source": [
    ">Here again the p-value verifies $ p < 0.05 $ so actresses are significantly smaller in movies of the dataset than actors, with 95% confidence. "
   ]
  },
  {
   "cell_type": "markdown",
   "id": "73d08613",
   "metadata": {},
   "source": [
    "### Is there a correlation between age and gender, or between height and gender? "
   ]
  },
  {
   "cell_type": "markdown",
   "id": "fc79c80a",
   "metadata": {},
   "source": [
    "> Is gender correlated with age of actors in the movies ? "
   ]
  },
  {
   "cell_type": "code",
   "execution_count": 28,
   "id": "67139905",
   "metadata": {},
   "outputs": [
    {
     "data": {
      "text/plain": [
       "(-0.2530033181090424, 0.0)"
      ]
     },
     "execution_count": 28,
     "metadata": {},
     "output_type": "execute_result"
    }
   ],
   "source": [
    "#\n",
    "characters_gender_age_num = pd.get_dummies(data = characters_gender_age[['actor_gender', 'actor_age_movie']])\n",
    "stats.pearsonr(characters_gender_age_num['actor_gender_F'], characters_gender_age_num['actor_age_movie'])"
   ]
  },
  {
   "cell_type": "markdown",
   "id": "f47c698a",
   "metadata": {},
   "source": [
    "> There is a small (-0.26) but significant ($ p < 0.05 $) negative correlation. "
   ]
  },
  {
   "cell_type": "code",
   "execution_count": null,
   "id": "a9e057b0",
   "metadata": {},
   "outputs": [],
   "source": []
  },
  {
   "cell_type": "code",
   "execution_count": null,
   "id": "f929b42f",
   "metadata": {},
   "outputs": [],
   "source": []
  }
 ],
 "metadata": {
  "kernelspec": {
   "display_name": "Python 3.9.13 ('ada')",
   "language": "python",
   "name": "python3"
  },
  "language_info": {
   "codemirror_mode": {
    "name": "ipython",
    "version": 3
   },
   "file_extension": ".py",
   "mimetype": "text/x-python",
   "name": "python",
   "nbconvert_exporter": "python",
   "pygments_lexer": "ipython3",
   "version": "3.9.13"
  },
  "vscode": {
   "interpreter": {
    "hash": "b10238e0c79a4c24253f4ac6e83e270c54f67c79175f175eb395f7064e39a9cb"
   }
  }
 },
 "nbformat": 4,
 "nbformat_minor": 5
}
