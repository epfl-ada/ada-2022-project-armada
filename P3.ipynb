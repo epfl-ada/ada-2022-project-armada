{
 "cells": [
  {
   "attachments": {},
   "cell_type": "markdown",
   "id": "0c1cb2e5",
   "metadata": {},
   "source": [
    "# Cinema: a patriarchal industry? "
   ]
  },
  {
   "cell_type": "markdown",
   "id": "ce28fd40",
   "metadata": {},
   "source": [
    "**Authors**\n",
    "- Marjorie Cayatte\n",
    "- Maxime Leriche\n",
    "- Madeleine Robert\n",
    "- Arthur Tabary"
   ]
  },
  {
   "attachments": {},
   "cell_type": "markdown",
   "id": "0eed2c16",
   "metadata": {},
   "source": [
    "**Date**\\\n",
    "December 23rd, 2022"
   ]
  },
  {
   "attachments": {},
   "cell_type": "markdown",
   "id": "8d3ae80e",
   "metadata": {},
   "source": [
    "> We first import the library we used for our project. "
   ]
  },
  {
   "cell_type": "code",
   "execution_count": null,
   "id": "b73420b0",
   "metadata": {},
   "outputs": [],
   "source": [
    "import pandas as pd\n",
    "import numpy as np\n",
    "import matplotlib.pyplot as plt\n",
    "import matplotlib.dates as mdates\n",
    "%matplotlib inline\n",
    "import seaborn as sns\n",
    "import math\n",
    "from scipy import stats\n",
    "import json\n",
    "from datetime import datetime, date, time\n",
    "\n",
    "# To get data on countries \n",
    "import requests\n",
    "\n",
    "# For plotting graph\n",
    "import plotly.express as px\n",
    "import plotly.graph_objects as go"
   ]
  },
  {
   "attachments": {},
   "cell_type": "markdown",
   "id": "f8d105fc",
   "metadata": {},
   "source": [
    "## 1 - Import the movies and characters dataset"
   ]
  },
  {
   "attachments": {},
   "cell_type": "markdown",
   "id": "d7c7cd12",
   "metadata": {},
   "source": [
    "We import the following datasets from the **CMU Movie Summary Corpus** as DataFrame: \n",
    "- *movie.metadata.tsv.gz*: metadata for 81,741 movies, extracted from the November 4<sup>th</sup>, 2012 dump of Freebase as **movies**. \n",
    "- *character.metadata.tsv.gz*: metadata for 450,669 characters aligned to the movies, extracted from the November 4<sup>th</sup>, 2012 dump of Freebase as **characters**. "
   ]
  },
  {
   "cell_type": "code",
   "execution_count": null,
   "id": "7c171314",
   "metadata": {},
   "outputs": [],
   "source": [
    "# Import movie.metadata and format column names\n",
    "movies = pd.read_csv('Data/MovieSummaries/movie.metadata.tsv',sep='\\t',header=None)\n",
    "movies.columns=['wiki_movie_ID','freebase_movie_ID','movie_name','movie_release_date','movie_box_off_rev','movie_runtime','movie_languages','movie_countries','movie_genres']\n",
    "movies.head()"
   ]
  },
  {
   "cell_type": "markdown",
   "id": "e9b588fa",
   "metadata": {},
   "source": [
    "- We will clean the DataFrame *movies* by splitting the columns with multiple data into multiple columns. For example, the column \"movie_countries\" contains the Freebase ID and the country. To do so, we tranform dictionnary in list which will be easier to manipulate. "
   ]
  },
  {
   "cell_type": "code",
   "execution_count": null,
   "id": "77fce012",
   "metadata": {},
   "outputs": [],
   "source": [
    "# Separate dictionaries into 2 columns with Freebase id and value\n",
    "movies[\"movie_countries_id\"] = movies[\"movie_countries\"].map(eval).apply(lambda x: list(x.keys()))\n",
    "movies[\"movie_countries\"] = movies[\"movie_countries\"].map(eval).apply(lambda x: list(x.values()))\n",
    "movies[\"movie_genres_id\"] = movies[\"movie_genres\"].map(eval).apply(lambda x: list(x.keys()))\n",
    "movies[\"movie_genres\"] = movies[\"movie_genres\"].map(eval).apply(lambda x: list(x.values()))\n",
    "movies[\"movie_languages_id\"] = movies[\"movie_languages\"].map(eval).apply(lambda x: list(x.keys()))\n",
    "movies[\"movie_languages\"] = movies[\"movie_languages\"].map(eval).apply(lambda x: list(x.values()))\n",
    "movies.head()"
   ]
  },
  {
   "cell_type": "code",
   "execution_count": null,
   "id": "9514cc7c",
   "metadata": {},
   "outputs": [],
   "source": [
    "# Load character metadata and format column names\n",
    "characters = pd.read_csv('Data/MovieSummaries/character.metadata.tsv',sep='\\t',header=None)\n",
    "characters.columns = ['wiki_movie_ID','freebase_movie_ID','movie_release_date','character_name','actor_DOB','actor_gender','actor_height','actor_ethnicity','actor_name','actor_age_movie','freebase_char/actor_map_ID','freebase_char_ID','freebase_actor_ID']\n",
    "characters.head()"
   ]
  },
  {
   "attachments": {},
   "cell_type": "markdown",
   "id": "62d102b4",
   "metadata": {},
   "source": [
    "## 2 - What is the proportion of women in movies? "
   ]
  },
  {
   "attachments": {},
   "cell_type": "markdown",
   "id": "ce7311c0",
   "metadata": {},
   "source": [
    "## 3 - Age and height between male and female characters"
   ]
  },
  {
   "attachments": {},
   "cell_type": "markdown",
   "id": "d64d0f57",
   "metadata": {},
   "source": [
    "We want to compare different features between roles played by male or female: *characters* provides age and height of actors, which can be compared between genders. "
   ]
  },
  {
   "attachments": {},
   "cell_type": "markdown",
   "id": "0d7c17cb",
   "metadata": {},
   "source": [
    "### 3.1 - Evaluating and filtering out missing values"
   ]
  },
  {
   "cell_type": "code",
   "execution_count": 85,
   "id": "3a05a51e",
   "metadata": {},
   "outputs": [
    {
     "name": "stdout",
     "output_type": "stream",
     "text": [
      " 89.9% of the DataFrame \"characters\" has reported gender, the corresponding DataFrame \"characters_gender\" contains 405060 rows.\n"
     ]
    }
   ],
   "source": [
    "# Create a DataFrame keeping only characters where actors have reported gender\n",
    "characters_gender = characters[characters[\"actor_gender\"].notnull()]\n",
    "print('{: .1%} of the DataFrame \"characters\" has reported gender, the corresponding DataFrame \"characters_gender\" contains {} rows.'.format(len(characters_gender) / len(characters), len(characters_gender)))"
   ]
  },
  {
   "cell_type": "code",
   "execution_count": 86,
   "id": "2ba6a402",
   "metadata": {},
   "outputs": [
    {
     "data": {
      "text/plain": [
       "['F', 'F', 'M', 'M', 'F', ..., 'F', 'M', 'F', 'M', 'M']\n",
       "Length: 405060\n",
       "Categories (2, object): ['F', 'M']"
      ]
     },
     "execution_count": 86,
     "metadata": {},
     "output_type": "execute_result"
    }
   ],
   "source": [
    "# What are the possible different values for characters_gender? \n",
    "pd.Categorical(characters_gender.actor_gender)"
   ]
  },
  {
   "attachments": {},
   "cell_type": "markdown",
   "id": "bc4f79b4",
   "metadata": {},
   "source": [
    "### 3.2 - What is the repartition between male and female characters? "
   ]
  },
  {
   "cell_type": "code",
   "execution_count": 87,
   "id": "70e7c005",
   "metadata": {},
   "outputs": [
    {
     "name": "stdout",
     "output_type": "stream",
     "text": [
      "66.72% of reported characters are played by male actors.\n"
     ]
    },
    {
     "data": {
      "image/png": "[encoded data removed]",
      "text/plain": [
       "<Figure size 640x480 with 1 Axes>"
      ]
     },
     "metadata": {},
     "output_type": "display_data"
    }
   ],
   "source": [
    "# Create two DataFrame for characters played by female/male\n",
    "characters_female = characters_gender[characters_gender['actor_gender']== 'F']\n",
    "characters_male = characters_gender[characters_gender['actor_gender']== 'M']\n",
    "\n",
    "# Plot the repartition\n",
    "sns.countplot(x = characters_gender['actor_gender'])\n",
    "print(\"{:.2%} of reported characters are played by male actors.\".format(len(characters_male)/len(characters_gender)))"
   ]
  },
  {
   "attachments": {},
   "cell_type": "markdown",
   "id": "a0e76e93",
   "metadata": {},
   "source": [
    "### 3.3 - Comparison of age between male and female "
   ]
  },
  {
   "cell_type": "markdown",
   "id": "27e110f3",
   "metadata": {},
   "source": [
    "- We want to compare age of the actors and actresses palying roles reported in *characters*. "
   ]
  },
  {
   "cell_type": "code",
   "execution_count": 93,
   "id": "76d19199",
   "metadata": {},
   "outputs": [
    {
     "name": "stdout",
     "output_type": "stream",
     "text": [
      " 64.5% of the DataFrame \"characters\" has reported gender and age of the actor/actress; the corresponding     DataFrame \"characters_gender_age\" contains 290770 rows.\n"
     ]
    }
   ],
   "source": [
    "# Clear out characters_gender where age is not reported (characters_gender_age)\n",
    "characters_gender_age = characters_gender[characters_gender[\"actor_age_movie\"].notnull()]\n",
    "print('{: .1%} of the DataFrame \"characters\" has reported gender and age of the actor/actress; the corresponding \\\n",
    "    DataFrame \"characters_gender_age\" contains {} rows.'.format(len(characters_gender_age) / len(characters), len(characters_gender_age)))"
   ]
  },
  {
   "attachments": {},
   "cell_type": "markdown",
   "id": "cfc1243a",
   "metadata": {},
   "source": [
    "- We first explore and clean the data. "
   ]
  },
  {
   "cell_type": "code",
   "execution_count": 94,
   "id": "d061998a",
   "metadata": {},
   "outputs": [
    {
     "data": {
      "text/html": [
       "<div>\n",
       "<style scoped>\n",
       "    .dataframe tbody tr th:only-of-type {\n",
       "        vertical-align: middle;\n",
       "    }\n",
       "\n",
       "    .dataframe tbody tr th {\n",
       "        vertical-align: top;\n",
       "    }\n",
       "\n",
       "    .dataframe thead th {\n",
       "        text-align: right;\n",
       "    }\n",
       "</style>\n",
       "<table border=\"1\" class=\"dataframe\">\n",
       "  <thead>\n",
       "    <tr style=\"text-align: right;\">\n",
       "      <th></th>\n",
       "      <th>wiki_movie_ID</th>\n",
       "      <th>actor_height</th>\n",
       "      <th>actor_age_movie</th>\n",
       "    </tr>\n",
       "  </thead>\n",
       "  <tbody>\n",
       "    <tr>\n",
       "      <th>count</th>\n",
       "      <td>2.907700e+05</td>\n",
       "      <td>139639.000000</td>\n",
       "      <td>290770.000000</td>\n",
       "    </tr>\n",
       "    <tr>\n",
       "      <th>mean</th>\n",
       "      <td>1.302929e+07</td>\n",
       "      <td>1.789524</td>\n",
       "      <td>37.804148</td>\n",
       "    </tr>\n",
       "    <tr>\n",
       "      <th>std</th>\n",
       "      <td>1.080402e+07</td>\n",
       "      <td>4.380801</td>\n",
       "      <td>20.616015</td>\n",
       "    </tr>\n",
       "    <tr>\n",
       "      <th>min</th>\n",
       "      <td>3.300000e+02</td>\n",
       "      <td>0.610000</td>\n",
       "      <td>-7896.000000</td>\n",
       "    </tr>\n",
       "    <tr>\n",
       "      <th>25%</th>\n",
       "      <td>3.052538e+06</td>\n",
       "      <td>1.680000</td>\n",
       "      <td>28.000000</td>\n",
       "    </tr>\n",
       "    <tr>\n",
       "      <th>50%</th>\n",
       "      <td>1.014264e+07</td>\n",
       "      <td>1.750000</td>\n",
       "      <td>36.000000</td>\n",
       "    </tr>\n",
       "    <tr>\n",
       "      <th>75%</th>\n",
       "      <td>2.261175e+07</td>\n",
       "      <td>1.830000</td>\n",
       "      <td>47.000000</td>\n",
       "    </tr>\n",
       "    <tr>\n",
       "      <th>max</th>\n",
       "      <td>3.750192e+07</td>\n",
       "      <td>510.000000</td>\n",
       "      <td>103.000000</td>\n",
       "    </tr>\n",
       "  </tbody>\n",
       "</table>\n",
       "</div>"
      ],
      "text/plain": [
       "       wiki_movie_ID   actor_height  actor_age_movie\n",
       "count   2.907700e+05  139639.000000    290770.000000\n",
       "mean    1.302929e+07       1.789524        37.804148\n",
       "std     1.080402e+07       4.380801        20.616015\n",
       "min     3.300000e+02       0.610000     -7896.000000\n",
       "25%     3.052538e+06       1.680000        28.000000\n",
       "50%     1.014264e+07       1.750000        36.000000\n",
       "75%     2.261175e+07       1.830000        47.000000\n",
       "max     3.750192e+07     510.000000       103.000000"
      ]
     },
     "execution_count": 94,
     "metadata": {},
     "output_type": "execute_result"
    }
   ],
   "source": [
    "# Explore basic statistics\n",
    "characters_gender_age.describe()"
   ]
  },
  {
   "attachments": {},
   "cell_type": "markdown",
   "id": "2a7d56ba",
   "metadata": {},
   "source": [
    "- The negative values do not make sense: we filter them out."
   ]
  },
  {
   "cell_type": "code",
   "execution_count": 95,
   "id": "f035e66a",
   "metadata": {},
   "outputs": [],
   "source": [
    "# Keep only rows where \"actor_age_movie\" is positive\n",
    "characters_gender_age = characters_gender_age[characters_gender_age['actor_age_movie'] >= 0]"
   ]
  },
  {
   "attachments": {},
   "cell_type": "markdown",
   "id": "78f24331",
   "metadata": {},
   "source": [
    "- We plot age of actors in the movie in a boxplot. "
   ]
  },
  {
   "cell_type": "code",
   "execution_count": 96,
   "id": "902054f8",
   "metadata": {},
   "outputs": [
    {
     "data": {
      "text/plain": [
       "Text(0, 0.5, 'Age (years)')"
      ]
     },
     "execution_count": 96,
     "metadata": {},
     "output_type": "execute_result"
    },
    {
     "data": {
      "image/png": "[encoded data removed]",
      "text/plain": [
       "<Figure size 640x480 with 1 Axes>"
      ]
     },
     "metadata": {},
     "output_type": "display_data"
    }
   ],
   "source": [
    "# Plot the distribution of age of actors\n",
    "plt.boxplot(characters_gender_age['actor_age_movie'])\n",
    "plt.xticks([])\n",
    "plt.title(\"Actor's age in the movies\")\n",
    "plt.ylabel(\"Age (years)\")"
   ]
  },
  {
   "attachments": {},
   "cell_type": "markdown",
   "id": "d2924d6e",
   "metadata": {},
   "source": [
    "- We can visualize age of actors by gender. "
   ]
  },
  {
   "cell_type": "code",
   "execution_count": 97,
   "id": "03d8c03c",
   "metadata": {},
   "outputs": [
    {
     "data": {
      "text/plain": [
       "<seaborn.axisgrid.FacetGrid at 0x7f8e512a54f0>"
      ]
     },
     "execution_count": 97,
     "metadata": {},
     "output_type": "execute_result"
    },
    {
     "data": {
      "image/png": "[encoded data removed]",
      "text/plain": [
       "<Figure size 500x500 with 1 Axes>"
      ]
     },
     "metadata": {},
     "output_type": "display_data"
    }
   ],
   "source": [
    "# Plot distribution of age by gender\n",
    "g = sns.catplot(data=characters_gender_age, x=\"actor_gender\", y=\"actor_age_movie\", kind=\"box\", fliersize=0.5)\\\n",
    "    .set(title=\"Distribution of actors' age by gender\")\n",
    "g.set_axis_labels(\"Actor Gender\", \"Age (years)\")\n",
    "g.set_xticklabels([\"Female\", \"Male\"])"
   ]
  },
  {
   "attachments": {},
   "cell_type": "markdown",
   "id": "68132006",
   "metadata": {},
   "source": [
    "### 3.4 - Comparison of height between gender"
   ]
  },
  {
   "attachments": {},
   "cell_type": "markdown",
   "id": "af2a3d36",
   "metadata": {},
   "source": [
    "- We can perform the same analysis for height. "
   ]
  },
  {
   "cell_type": "code",
   "execution_count": 98,
   "id": "9a834666",
   "metadata": {},
   "outputs": [
    {
     "name": "stdout",
     "output_type": "stream",
     "text": [
      " 34.3% of the DataFrame \"characters\" has reported gender and height of the actor/actress;     the corresponding DataFrame \"characters_gender_height\" contains 154663 rows.\n"
     ]
    }
   ],
   "source": [
    "# Clear out characters_gender where height is not reported (characters_gender_age)\n",
    "characters_gender_height = characters_gender[characters_gender[\"actor_height\"].notnull()]\n",
    "print('{: .1%} of the DataFrame \"characters\" has reported gender and height of the actor/actress; \\\n",
    "    the corresponding DataFrame \"characters_gender_height\" contains {} rows.'.format(len(characters_gender_height) / len(characters), len(characters_gender_height)))"
   ]
  },
  {
   "cell_type": "code",
   "execution_count": 99,
   "id": "eba625b2",
   "metadata": {},
   "outputs": [
    {
     "data": {
      "text/plain": [
       "count    154663.000000\n",
       "mean          1.788966\n",
       "std           4.382216\n",
       "min           0.610000\n",
       "25%           1.676400\n",
       "50%           1.750000\n",
       "75%           1.830000\n",
       "max         510.000000\n",
       "Name: actor_height, dtype: float64"
      ]
     },
     "execution_count": 99,
     "metadata": {},
     "output_type": "execute_result"
    }
   ],
   "source": [
    "# Explore basic statistics on height\n",
    "characters_gender_height[\"actor_height\"].describe()"
   ]
  },
  {
   "attachments": {},
   "cell_type": "markdown",
   "id": "19aaac78",
   "metadata": {},
   "source": [
    "- 510 cm seems to be a corrupted value. We filter rows where height is above 2,72m (biggest height reported)."
   ]
  },
  {
   "cell_type": "code",
   "execution_count": 100,
   "id": "eed6b304",
   "metadata": {},
   "outputs": [],
   "source": [
    "# Keep only rows where \"actor_height\" is below 2.72m\n",
    "characters_gender_height = characters_gender_height[characters_gender_height['actor_height'] < 2.73]"
   ]
  },
  {
   "cell_type": "markdown",
   "id": "38a7a718",
   "metadata": {},
   "source": [
    "- Are there other outliers? "
   ]
  },
  {
   "cell_type": "code",
   "execution_count": 101,
   "id": "a413c76b",
   "metadata": {},
   "outputs": [
    {
     "data": {
      "text/plain": [
       "Text(0, 0.5, 'Height (cm)')"
      ]
     },
     "execution_count": 101,
     "metadata": {},
     "output_type": "execute_result"
    },
    {
     "data": {
      "image/png": "[encoded data removed]",
      "text/plain": [
       "<Figure size 640x480 with 1 Axes>"
      ]
     },
     "metadata": {},
     "output_type": "display_data"
    }
   ],
   "source": [
    "# Plot the distribution of height of actors\n",
    "plt.boxplot(characters_gender_height['actor_height'])\n",
    "plt.xticks([])\n",
    "plt.title(\"Actors' height in the movies\")\n",
    "plt.ylabel(\"Height (cm)\")"
   ]
  },
  {
   "attachments": {},
   "cell_type": "markdown",
   "id": "375fef9b",
   "metadata": {},
   "source": [
    "- We can visualize height by gender. "
   ]
  },
  {
   "cell_type": "code",
   "execution_count": 102,
   "id": "4c2aa0cb",
   "metadata": {},
   "outputs": [
    {
     "data": {
      "text/plain": [
       "<seaborn.axisgrid.FacetGrid at 0x7f8eb2ae9f40>"
      ]
     },
     "execution_count": 102,
     "metadata": {},
     "output_type": "execute_result"
    },
    {
     "data": {
      "image/png": "[encoded data removed]",
      "text/plain": [
       "<Figure size 500x500 with 1 Axes>"
      ]
     },
     "metadata": {},
     "output_type": "display_data"
    }
   ],
   "source": [
    "# Plot the distribution of height by gender\n",
    "g = sns.catplot(data=characters_gender_height, x=\"actor_gender\", y=\"actor_height\", kind=\"box\", fliersize=0.5).\\\n",
    "    set(title=\"Distribution of actors' height by gender\")\n",
    "g.set_axis_labels(\"Actor Gender\", \"Height (cm)\")\n",
    "g.set_xticklabels([\"Female\", \"Male\"])"
   ]
  },
  {
   "attachments": {},
   "cell_type": "markdown",
   "id": "4fc568fe",
   "metadata": {},
   "source": [
    "- It seems that male characters have more outliers than female characters. Male characters are also **taller on average** than female characters. "
   ]
  },
  {
   "attachments": {},
   "cell_type": "markdown",
   "id": "9df9f562",
   "metadata": {},
   "source": [
    "### 3.5 - Are the observed differences statistically significant? "
   ]
  },
  {
   "attachments": {},
   "cell_type": "markdown",
   "id": "c47f5829",
   "metadata": {},
   "source": [
    "- We look at average age and height between male and female characters. "
   ]
  },
  {
   "cell_type": "code",
   "execution_count": 103,
   "id": "02b20c61",
   "metadata": {},
   "outputs": [
    {
     "data": {
      "text/html": [
       "<div>\n",
       "<style scoped>\n",
       "    .dataframe tbody tr th:only-of-type {\n",
       "        vertical-align: middle;\n",
       "    }\n",
       "\n",
       "    .dataframe tbody tr th {\n",
       "        vertical-align: top;\n",
       "    }\n",
       "\n",
       "    .dataframe thead th {\n",
       "        text-align: right;\n",
       "    }\n",
       "</style>\n",
       "<table border=\"1\" class=\"dataframe\">\n",
       "  <thead>\n",
       "    <tr style=\"text-align: right;\">\n",
       "      <th></th>\n",
       "      <th>actor_age_movie</th>\n",
       "      <th>actor_height</th>\n",
       "    </tr>\n",
       "    <tr>\n",
       "      <th>actor_gender</th>\n",
       "      <th></th>\n",
       "      <th></th>\n",
       "    </tr>\n",
       "  </thead>\n",
       "  <tbody>\n",
       "    <tr>\n",
       "      <th>F</th>\n",
       "      <td>32.810753</td>\n",
       "      <td>1.659008</td>\n",
       "    </tr>\n",
       "    <tr>\n",
       "      <th>M</th>\n",
       "      <td>40.391679</td>\n",
       "      <td>1.863798</td>\n",
       "    </tr>\n",
       "  </tbody>\n",
       "</table>\n",
       "</div>"
      ],
      "text/plain": [
       "              actor_age_movie  actor_height\n",
       "actor_gender                               \n",
       "F                   32.810753      1.659008\n",
       "M                   40.391679      1.863798"
      ]
     },
     "execution_count": 103,
     "metadata": {},
     "output_type": "execute_result"
    }
   ],
   "source": [
    "# In the movies where characters are reported, actresses are on average smaller and younger than men \n",
    "characters_gender_grouped = characters_gender.groupby(\"actor_gender\")[[ \"actor_age_movie\", \"actor_height\"]].mean()\n",
    "characters_gender_grouped.head()"
   ]
  },
  {
   "cell_type": "markdown",
   "id": "65cdb280",
   "metadata": {},
   "source": [
    "- Are these differences statistically significant? \\\n",
    "To answer this question, we perform an independent sample t-test under the null hypothesis: there is no difference between actors' and actresses'a age. "
   ]
  },
  {
   "cell_type": "code",
   "execution_count": 104,
   "id": "5f5fdec0",
   "metadata": {},
   "outputs": [
    {
     "name": "stdout",
     "output_type": "stream",
     "text": [
      "65.87% of characters were gender and age are reported are male.\n",
      "The DataFrame characters_female_age has 99124 rows, characters_male_age has 191277 rows.\n"
     ]
    }
   ],
   "source": [
    "# We first extract rows where character is played by a woman or by a man\n",
    "characters_female_age = characters_gender_age[characters_gender_age['actor_gender']== 'F']\n",
    "characters_male_age = characters_gender_age[characters_gender_age['actor_gender']== 'M']\n",
    "print(\"{:.2%} of characters were gender and age are reported are male.\".format(len(characters_male_age)/len(characters_gender_age)))\n",
    "print(\"The DataFrame characters_female_age has {} rows, characters_male_age has {} rows.\".format(len(characters_female_age), \\\n",
    "    len(characters_male_age)))"
   ]
  },
  {
   "cell_type": "code",
   "execution_count": 105,
   "id": "91b64b76",
   "metadata": {},
   "outputs": [
    {
     "name": "stdout",
     "output_type": "stream",
     "text": [
      "The p-value for the independent sample t-test is: 0.0\n"
     ]
    }
   ],
   "source": [
    "# characters_female and characters_male do not have the same shape, we extract 99 242 rows from characters_male to have \n",
    "# the same shape to perform an independent t-test\n",
    "characters_male_age_corr = characters_male_age.sample(n=len(characters_female_age), replace=False)\n",
    "\n",
    "# We perform the independent sample t-test to compare age of female and male actors\n",
    "stat_indep_age, pvalue_indep_age = stats.ttest_ind(characters_female_age['actor_age_movie'], characters_male_age_corr['actor_age_movie'])\n",
    "print(\"The p-value for the independent sample t-test is: {}\".format(pvalue_indep_age))"
   ]
  },
  {
   "attachments": {},
   "cell_type": "markdown",
   "id": "8558cc11",
   "metadata": {},
   "source": [
    "- Here, the p-value is probably below a certain treshold and Pyhton returns 0. \\\n",
    "As the p-value verifies $ p < 0.05 $, actresses are significantly younger in movies of the dataset than actors, with 95% confidence. "
   ]
  },
  {
   "cell_type": "code",
   "execution_count": 106,
   "id": "9aa29dbe",
   "metadata": {},
   "outputs": [
    {
     "name": "stdout",
     "output_type": "stream",
     "text": [
      "63.46% of characters were gender and age are reported are male.\n",
      "The DataFrame characters_female has 56515 rows, characters_male has 98133 rows.\n"
     ]
    }
   ],
   "source": [
    "# We now do the same t-test to compare height of male and female actors\n",
    "characters_female_height = characters_gender_height[characters_gender_height['actor_gender']== 'F']\n",
    "characters_male_height = characters_gender_height[characters_gender_height['actor_gender']== 'M']\n",
    "print(\"{:.2%} of characters were gender and age are reported are male.\".format(len(characters_male_height)/len(characters_gender_height)))\n",
    "print(\"The DataFrame characters_female has {} rows, characters_male has {} rows.\".format(len(characters_female_height), len(characters_male_height)))"
   ]
  },
  {
   "cell_type": "code",
   "execution_count": 107,
   "id": "c4684a44",
   "metadata": {},
   "outputs": [
    {
     "name": "stdout",
     "output_type": "stream",
     "text": [
      "The p-value for the independent sample t-test is: 0.0\n"
     ]
    }
   ],
   "source": [
    "# characters_female and characters_male do not have the same shape, we extract 56 515 rows from characters_male to have the same shape to perform an independent t-test\n",
    "characters_male_corr2 = characters_male_height.sample(n=len(characters_female_height), replace=False)\n",
    "\n",
    "# We perform the independent sample t-test to compare age of female and male actors\n",
    "stat_indep_height, pvalue_indep_height = stats.ttest_ind(characters_female_height['actor_height'], characters_male_corr2['actor_height'])\n",
    "print(\"The p-value for the independent sample t-test is: {}\".format(pvalue_indep_height))"
   ]
  },
  {
   "attachments": {},
   "cell_type": "markdown",
   "id": "433eba1e",
   "metadata": {},
   "source": [
    "- Here again the p-value verifies $ p < 0.05 $ so actresses are significantly smaller in movies of the dataset than actors, with 95% confidence. "
   ]
  },
  {
   "attachments": {},
   "cell_type": "markdown",
   "id": "5a216002",
   "metadata": {},
   "source": [
    "### 3.6 - Is there a correlation between age and gender, or between height and gender? "
   ]
  },
  {
   "attachments": {},
   "cell_type": "markdown",
   "id": "267659c3",
   "metadata": {},
   "source": [
    "---"
   ]
  },
  {
   "attachments": {},
   "cell_type": "markdown",
   "id": "41d3085b",
   "metadata": {},
   "source": [
    "## 4 - Geographic repartition of the movies"
   ]
  },
  {
   "attachments": {},
   "cell_type": "markdown",
   "id": "ccb70e74",
   "metadata": {},
   "source": [
    "### 4.1 - Gather region for each country"
   ]
  },
  {
   "attachments": {},
   "cell_type": "markdown",
   "id": "fe308305",
   "metadata": {},
   "source": [
    "- For this part, we use an online API which provides data about each country, and will use the name given in the dataset to gather the corresponding region.\n",
    "\n",
    "- Since both datasets come from different sources, it is likely that the country names won't match, so we might need to do some changes."
   ]
  },
  {
   "cell_type": "code",
   "execution_count": null,
   "id": "bf5e923a",
   "metadata": {},
   "outputs": [],
   "source": [
    "# Get region for each country\n",
    "\n",
    "region_lst = [\"Africa\", \"Americas\", \"Asia\", \"Europe\", \"Oceania\"]\n",
    "countries = {\"country\" : [],\n",
    "\"region\" : []}\n",
    "\n",
    "country_lst = [[], []]\n",
    "df_countries = pd.DataFrame(columns = [\"country\", \"region\"])\n",
    "\n",
    "for region in region_lst:\n",
    "    response = requests.get(\"https://restcountries.com/v3.1/region/\" + region).json()\n",
    "\n",
    "    for elem in response:\n",
    "        countries[\"country\"].append(elem.get(\"name\").get(\"common\"))\n",
    "        countries[\"region\"].append(region)\n",
    "\n",
    "df_countries = pd.DataFrame.from_dict(countries)\n",
    "df_countries.head()"
   ]
  },
  {
   "attachments": {},
   "cell_type": "markdown",
   "id": "933658ab",
   "metadata": {},
   "source": [
    "### 4.2 - Missing countries in the country-region table\n",
    "\n",
    "We now want to answer the following questions: \n",
    "- What are the unreferenced countries?\n",
    "- For each of these countries, how many movies did they produce/co-produce?\n",
    "- Which countries represent 95% of all thoses movies? \n",
    "\n",
    "We could then **keep only these countries**, and update the country-region reference table. "
   ]
  },
  {
   "cell_type": "code",
   "execution_count": null,
   "id": "22a8c062",
   "metadata": {},
   "outputs": [],
   "source": [
    "all_movie_countries = movies.explode(\"movie_countries\", ignore_index = True)\n",
    "unique_movie_countries = all_movie_countries.loc[all_movie_countries[\"movie_countries\"].isnull()]\n",
    "grunique_movie_countries = unique_movie_countries.groupby(\"movie_name\").size()\n",
    "grunique_movie_countries = grunique_movie_countries.groupby(grunique_movie_countries).size()\n",
    "ax = grunique_movie_countries.plot.bar()\n",
    "ax.set_yscale(\"log\")\n",
    "ax.set_xlabel(\"# NaN reference in movie_countries\") \n",
    "ax.set_ylabel(\"# movies\")\n",
    "ax.set_title(\"Amount of movies by amount of NaN country occurence in movie_countries\");\n",
    "print(f\"There is a total of {grunique_movie_countries.sum()} movies that contain a null movie name (NaN) among the producing countries (movie_countries column)\")\n",
    "print(f\"{grunique_movie_countries.iloc[0]/grunique_movie_countries.sum() :.2%} of them only contain 1 NaN occurence, up to {grunique_movie_countries.max()}.\")\n",
    "grunique_movie_countries"
   ]
  },
  {
   "cell_type": "code",
   "execution_count": null,
   "id": "bc945224",
   "metadata": {},
   "outputs": [],
   "source": [
    "######################################\n",
    "# What are the unreferenced countries?\n",
    "######################################\n",
    "\n",
    "# Get all unique countries in our dataset\n",
    "all_movie_countries = movies[\"movie_countries\"].explode(ignore_index = True)\n",
    "unique_movie_countries = all_movie_countries.unique()\n",
    "\n",
    "# Referenced unique countries\n",
    "referenced_countries = df_countries[\"country\"].unique()\n",
    "\n",
    "# Unreferenced countries in the dataset\n",
    "unreferenced = [a for a in unique_movie_countries if a not in referenced_countries]\n",
    "\n",
    "###########################################################################\n",
    "# For each of these countries, how many movies did they produce/co-produce?\n",
    "###########################################################################\n",
    "\n",
    "df_unreferenced = all_movie_countries.groupby(all_movie_countries).size()\n",
    "df_unreferenced = df_unreferenced[df_unreferenced.index.isin(unreferenced)].sort_values(ascending = False)\n",
    "\n",
    "# Plot\n",
    "ax = df_unreferenced.plot.bar()\n",
    "ax.set_yscale(\"log\")\n",
    "ax.set_xlabel(\"country\") \n",
    "ax.set_ylabel(\"# movies\")\n",
    "ax.set_title(\"Amount of movies released by unknow countries from the API response\");\n",
    "\n",
    "# Get country names representing 95% of movie quantity\n",
    "percentile_95 = df_unreferenced.sum() * 0.95\n",
    "countries_to_keep = df_unreferenced[df_unreferenced.cumsum() <= percentile_95]\n",
    "\n",
    "print(f\"95% of these movies come from {countries_to_keep.index.values}\")\n",
    "\n",
    "# Add these countries to the API dataframe response\n",
    "countries_to_add = dict(zip([\"country\", \"region\"], [countries_to_keep.index.values.tolist(), [\"Americas\", \"Europe\"]]))\n",
    "countries_to_add = pd.DataFrame.from_dict(countries_to_add)\n",
    "df_countries = pd.concat([df_countries, countries_to_add], ignore_index=True)\n",
    "\n",
    "\n",
    "# Update the list of unreferenced countries\n",
    "for country in countries_to_keep.index.values.tolist():\n",
    "    unreferenced.pop(unreferenced.index(country))"
   ]
  },
  {
   "attachments": {},
   "cell_type": "markdown",
   "id": "66f3807e",
   "metadata": {},
   "source": [
    "### 4.3 - Clean dataset\n",
    "\n",
    "- We now remove all movies with a \"movie_country\" item in one of the unreferenced country we do not want to consider."
   ]
  },
  {
   "cell_type": "code",
   "execution_count": null,
   "id": "1c27bd11",
   "metadata": {},
   "outputs": [],
   "source": [
    "movie_count = len(movies)\n",
    "movies = movies[movies.movie_countries.apply(lambda x: not any(i in unreferenced for i in x))]\n",
    "print(f\"{movie_count - len(movies)} movies were removed.\")"
   ]
  },
  {
   "attachments": {},
   "cell_type": "markdown",
   "id": "3dff18f3",
   "metadata": {},
   "source": [
    "### 4.4 - Add the region information to our dataset\n",
    "\n",
    "- The *region* column contains the continent in which the movie was produced (can be different regions if multiple countries from different continent co-produced the movie)."
   ]
  },
  {
   "cell_type": "code",
   "execution_count": 82,
   "id": "9c5d983b",
   "metadata": {},
   "outputs": [
    {
     "data": {
      "text/html": [
       "<div>\n",
       "<style scoped>\n",
       "    .dataframe tbody tr th:only-of-type {\n",
       "        vertical-align: middle;\n",
       "    }\n",
       "\n",
       "    .dataframe tbody tr th {\n",
       "        vertical-align: top;\n",
       "    }\n",
       "\n",
       "    .dataframe thead th {\n",
       "        text-align: right;\n",
       "    }\n",
       "</style>\n",
       "<table border=\"1\" class=\"dataframe\">\n",
       "  <thead>\n",
       "    <tr style=\"text-align: right;\">\n",
       "      <th></th>\n",
       "      <th>wiki_movie_ID</th>\n",
       "      <th>freebase_movie_ID</th>\n",
       "      <th>movie_name</th>\n",
       "      <th>movie_release_date</th>\n",
       "      <th>movie_box_off_rev</th>\n",
       "      <th>movie_runtime</th>\n",
       "      <th>movie_languages</th>\n",
       "      <th>movie_countries</th>\n",
       "      <th>movie_genres</th>\n",
       "      <th>movie_countries_id</th>\n",
       "      <th>movie_genres_id</th>\n",
       "      <th>movie_languages_id</th>\n",
       "      <th>region</th>\n",
       "    </tr>\n",
       "  </thead>\n",
       "  <tbody>\n",
       "    <tr>\n",
       "      <th>0</th>\n",
       "      <td>975900</td>\n",
       "      <td>/m/03vyhn</td>\n",
       "      <td>Ghosts of Mars</td>\n",
       "      <td>2001-08-24</td>\n",
       "      <td>14010832.0</td>\n",
       "      <td>98.0</td>\n",
       "      <td>[English Language]</td>\n",
       "      <td>[United States of America]</td>\n",
       "      <td>[Thriller, Science Fiction, Horror, Adventure,...</td>\n",
       "      <td>[/m/09c7w0]</td>\n",
       "      <td>[/m/01jfsb, /m/06n90, /m/03npn, /m/03k9fj, /m/...</td>\n",
       "      <td>[/m/02h40lc]</td>\n",
       "      <td>[Americas]</td>\n",
       "    </tr>\n",
       "    <tr>\n",
       "      <th>1</th>\n",
       "      <td>3196793</td>\n",
       "      <td>/m/08yl5d</td>\n",
       "      <td>Getting Away with Murder: The JonBenét Ramsey ...</td>\n",
       "      <td>2000-02-16</td>\n",
       "      <td>NaN</td>\n",
       "      <td>95.0</td>\n",
       "      <td>[English Language]</td>\n",
       "      <td>[United States of America]</td>\n",
       "      <td>[Mystery, Biographical film, Drama, Crime Drama]</td>\n",
       "      <td>[/m/09c7w0]</td>\n",
       "      <td>[/m/02n4kr, /m/03bxz7, /m/07s9rl0, /m/0hj3n01]</td>\n",
       "      <td>[/m/02h40lc]</td>\n",
       "      <td>[Americas]</td>\n",
       "    </tr>\n",
       "    <tr>\n",
       "      <th>2</th>\n",
       "      <td>28463795</td>\n",
       "      <td>/m/0crgdbh</td>\n",
       "      <td>Brun bitter</td>\n",
       "      <td>1988</td>\n",
       "      <td>NaN</td>\n",
       "      <td>83.0</td>\n",
       "      <td>[Norwegian Language]</td>\n",
       "      <td>[Norway]</td>\n",
       "      <td>[Crime Fiction, Drama]</td>\n",
       "      <td>[/m/05b4w]</td>\n",
       "      <td>[/m/0lsxr, /m/07s9rl0]</td>\n",
       "      <td>[/m/05f_3]</td>\n",
       "      <td>[Europe]</td>\n",
       "    </tr>\n",
       "    <tr>\n",
       "      <th>3</th>\n",
       "      <td>9363483</td>\n",
       "      <td>/m/0285_cd</td>\n",
       "      <td>White Of The Eye</td>\n",
       "      <td>1987</td>\n",
       "      <td>NaN</td>\n",
       "      <td>110.0</td>\n",
       "      <td>[English Language]</td>\n",
       "      <td>[United Kingdom]</td>\n",
       "      <td>[Thriller, Erotic thriller, Psychological thri...</td>\n",
       "      <td>[/m/07ssc]</td>\n",
       "      <td>[/m/01jfsb, /m/0glj9q, /m/09blyk]</td>\n",
       "      <td>[/m/02h40lc]</td>\n",
       "      <td>[Europe]</td>\n",
       "    </tr>\n",
       "    <tr>\n",
       "      <th>4</th>\n",
       "      <td>261236</td>\n",
       "      <td>/m/01mrr1</td>\n",
       "      <td>A Woman in Flames</td>\n",
       "      <td>1983</td>\n",
       "      <td>NaN</td>\n",
       "      <td>106.0</td>\n",
       "      <td>[German Language]</td>\n",
       "      <td>[Germany]</td>\n",
       "      <td>[Drama]</td>\n",
       "      <td>[/m/0345h]</td>\n",
       "      <td>[/m/07s9rl0]</td>\n",
       "      <td>[/m/04306rv]</td>\n",
       "      <td>[Europe]</td>\n",
       "    </tr>\n",
       "  </tbody>\n",
       "</table>\n",
       "</div>"
      ],
      "text/plain": [
       "   wiki_movie_ID freebase_movie_ID  \\\n",
       "0         975900         /m/03vyhn   \n",
       "1        3196793         /m/08yl5d   \n",
       "2       28463795        /m/0crgdbh   \n",
       "3        9363483        /m/0285_cd   \n",
       "4         261236         /m/01mrr1   \n",
       "\n",
       "                                          movie_name movie_release_date  \\\n",
       "0                                     Ghosts of Mars         2001-08-24   \n",
       "1  Getting Away with Murder: The JonBenét Ramsey ...         2000-02-16   \n",
       "2                                        Brun bitter               1988   \n",
       "3                                   White Of The Eye               1987   \n",
       "4                                  A Woman in Flames               1983   \n",
       "\n",
       "   movie_box_off_rev  movie_runtime       movie_languages  \\\n",
       "0         14010832.0           98.0    [English Language]   \n",
       "1                NaN           95.0    [English Language]   \n",
       "2                NaN           83.0  [Norwegian Language]   \n",
       "3                NaN          110.0    [English Language]   \n",
       "4                NaN          106.0     [German Language]   \n",
       "\n",
       "              movie_countries  \\\n",
       "0  [United States of America]   \n",
       "1  [United States of America]   \n",
       "2                    [Norway]   \n",
       "3            [United Kingdom]   \n",
       "4                   [Germany]   \n",
       "\n",
       "                                        movie_genres movie_countries_id  \\\n",
       "0  [Thriller, Science Fiction, Horror, Adventure,...        [/m/09c7w0]   \n",
       "1   [Mystery, Biographical film, Drama, Crime Drama]        [/m/09c7w0]   \n",
       "2                             [Crime Fiction, Drama]         [/m/05b4w]   \n",
       "3  [Thriller, Erotic thriller, Psychological thri...         [/m/07ssc]   \n",
       "4                                            [Drama]         [/m/0345h]   \n",
       "\n",
       "                                     movie_genres_id movie_languages_id  \\\n",
       "0  [/m/01jfsb, /m/06n90, /m/03npn, /m/03k9fj, /m/...       [/m/02h40lc]   \n",
       "1     [/m/02n4kr, /m/03bxz7, /m/07s9rl0, /m/0hj3n01]       [/m/02h40lc]   \n",
       "2                             [/m/0lsxr, /m/07s9rl0]         [/m/05f_3]   \n",
       "3                  [/m/01jfsb, /m/0glj9q, /m/09blyk]       [/m/02h40lc]   \n",
       "4                                       [/m/07s9rl0]       [/m/04306rv]   \n",
       "\n",
       "       region  \n",
       "0  [Americas]  \n",
       "1  [Americas]  \n",
       "2    [Europe]  \n",
       "3    [Europe]  \n",
       "4    [Europe]  "
      ]
     },
     "execution_count": 82,
     "metadata": {},
     "output_type": "execute_result"
    }
   ],
   "source": [
    "# Add region column\n",
    "# For each country in movies.movie_countries, get the region (remove region duplicates)\n",
    "def get_region(country_lst):\n",
    "    output = []\n",
    "    for country in country_lst:\n",
    "        try:\n",
    "            output.append(df_countries.loc[df_countries[\"country\"] == country][\"region\"].values[0])\n",
    "        except:\n",
    "            raise KeyError(f\"{country} not found in the reference list\")\n",
    "\n",
    "    #remove duplicates\n",
    "    return list(set(output))\n",
    "\n",
    "movies_copy = movies.copy()\n",
    "movies_copy[\"region\"] = movies_copy.loc[:, (\"movie_countries\")].apply(lambda x: get_region(x))\n",
    "movies = movies_copy.copy()\n",
    "movies.head()"
   ]
  },
  {
   "attachments": {},
   "cell_type": "markdown",
   "id": "1a204d66",
   "metadata": {},
   "source": [
    "### 2.5 - Movie repartition by region"
   ]
  },
  {
   "attachments": {},
   "cell_type": "markdown",
   "id": "9ad49745",
   "metadata": {},
   "source": [
    "- Which regions, or continents, are the most represented in the dataset? "
   ]
  },
  {
   "cell_type": "code",
   "execution_count": 83,
   "id": "164be8a3",
   "metadata": {},
   "outputs": [
    {
     "data": {
      "text/plain": [
       "Text(0.5, 1.0, 'Amount of movies produced by each region')"
      ]
     },
     "execution_count": 83,
     "metadata": {},
     "output_type": "execute_result"
    },
    {
     "data": {
      "image/png": "[encoded data removed]",
      "text/plain": [
       "<Figure size 640x480 with 1 Axes>"
      ]
     },
     "metadata": {},
     "output_type": "display_data"
    }
   ],
   "source": [
    "# Plot the distribution of the number of movies by region\n",
    "movies_region = movies[\"region\"].explode()\n",
    "movies_region = movies_region.groupby(movies_region).size()\n",
    "ax = movies_region.plot.bar()\n",
    "ax.set_yscale(\"log\")\n",
    "ax.set_xlabel(\"Region\") \n",
    "ax.set_ylabel(\"Number of movies\")\n",
    "ax.set_title(\"Amount of movies produced by each region\")"
   ]
  },
  {
   "attachments": {},
   "cell_type": "markdown",
   "id": "72c43684",
   "metadata": {},
   "source": [
    "- As expected, **America** is the **biggest producer** of movie in our dataset, followed by Europe and Asia. The number of movies is much lower in Africa and Oceania. "
   ]
  },
  {
   "attachments": {},
   "cell_type": "markdown",
   "id": "7be2bbcd",
   "metadata": {},
   "source": [
    "## 5 - Which genre are included in the dataset? "
   ]
  },
  {
   "cell_type": "markdown",
   "id": "bedff021",
   "metadata": {},
   "source": [
    "In this part, we analyze the feature \"movie_genres\" to understand how we can include it as a parameter to answer our main question. "
   ]
  },
  {
   "attachments": {},
   "cell_type": "markdown",
   "id": "0609d891",
   "metadata": {},
   "source": [
    "### 5.1 - Transform and clean the dataset"
   ]
  },
  {
   "cell_type": "markdown",
   "id": "bd1cce0d",
   "metadata": {},
   "source": [
    "- We notice some corrupted values and correct them. "
   ]
  },
  {
   "cell_type": "code",
   "execution_count": null,
   "id": "3652b4d2",
   "metadata": {},
   "outputs": [],
   "source": [
    "# Warning, some rows of the dataset have wrong release dates: here 1010 instead of 2010\n",
    "movies.iloc[62836]"
   ]
  },
  {
   "cell_type": "code",
   "execution_count": null,
   "id": "7e0cfde9",
   "metadata": {},
   "outputs": [],
   "source": [
    "# Replace the wrong value of 1010\n",
    "movies.loc[62836, 'movie_release_date'] = '2010-12-02'"
   ]
  },
  {
   "cell_type": "code",
   "execution_count": null,
   "id": "7231c3c5",
   "metadata": {},
   "outputs": [],
   "source": [
    "# Keep only the year of the release date\n",
    "movies['movie_release_date'] = movies['movie_release_date'].str[:4]"
   ]
  },
  {
   "attachments": {},
   "cell_type": "markdown",
   "id": "9cdd6bc2",
   "metadata": {},
   "source": [
    "### 5.2 - How many genre a movie has? "
   ]
  },
  {
   "attachments": {},
   "cell_type": "markdown",
   "id": "8039cf04",
   "metadata": {},
   "source": [
    "- We first want to know how many genre a movie has to better understand how this characterizes the movie."
   ]
  },
  {
   "cell_type": "code",
   "execution_count": null,
   "id": "e612247a",
   "metadata": {},
   "outputs": [],
   "source": [
    "# Compute the number of reported genre by movie\n",
    "movies['nb_genres'] = movies['movie_genres'].str.len()\n",
    "movies.head()"
   ]
  },
  {
   "cell_type": "markdown",
   "id": "c4bcb759",
   "metadata": {},
   "source": [
    "- We can look at basic statistics on \"nb_genres\" and plot the distribution. "
   ]
  },
  {
   "cell_type": "code",
   "execution_count": null,
   "id": "04c71d66",
   "metadata": {},
   "outputs": [],
   "source": [
    "movies['nb_genres'].describe()"
   ]
  },
  {
   "cell_type": "code",
   "execution_count": null,
   "id": "268fd9e2",
   "metadata": {},
   "outputs": [],
   "source": [
    "# Plot the distribution of \"nb_genres\"\n",
    "movies.boxplot(['nb_genres'])"
   ]
  },
  {
   "attachments": {},
   "cell_type": "markdown",
   "id": "b9239118",
   "metadata": {},
   "source": [
    "- According to the previous analyzes, most of the movies have between 1 and 4 genre. Therefore, the genre is a good descriptor of a movie. However, movies can have up to 17 genre, in which case the genre gives less information, which has to be kept in mind for further analyses. "
   ]
  },
  {
   "attachments": {},
   "cell_type": "markdown",
   "id": "fbc695e2",
   "metadata": {},
   "source": [
    "### 5.3 - What are the genre the most represented in the dataset? "
   ]
  },
  {
   "attachments": {},
   "cell_type": "markdown",
   "id": "c8f77222",
   "metadata": {},
   "source": [
    "- We now look at the opposite point of view: **how many movies are reported for each genre?** "
   ]
  },
  {
   "cell_type": "code",
   "execution_count": null,
   "id": "f8f218e2",
   "metadata": {},
   "outputs": [],
   "source": [
    "# Explode the list in individual genre and count how many movies are reported for each genre\n",
    "total_genres = pd.DataFrame(movies.movie_genres.explode().dropna().value_counts())\n",
    "total_genres.head()"
   ]
  },
  {
   "cell_type": "code",
   "execution_count": null,
   "id": "3dae475a",
   "metadata": {},
   "outputs": [],
   "source": [
    "# Plot the number of movies reported for each genre\n",
    "total_genres.index.name = \"Genres\"\n",
    "total_genres = total_genres.rename(columns = {'movie_genres': 'Total'})\n",
    "total_genres.head(30).plot.bar(y = 'Total', title = \"Number of movies by genre\")"
   ]
  },
  {
   "attachments": {},
   "cell_type": "markdown",
   "id": "85d18015",
   "metadata": {},
   "source": [
    "- Here we see that the number of movies by genre decreases almost exponentially. Among the genre in the tail, we find cross genre like \"Romantic Thriller\" or error of typology like \"Comdedy\". There are also some categories which are not stricly genre like \"silent movie\" or \"black and white\". Keeping them in our analysis does not seem pertinent as they do not reflect a trend intrinsic to a genre."
   ]
  },
  {
   "cell_type": "markdown",
   "id": "f1effa4d",
   "metadata": {},
   "source": [
    "- For future analyses on genre, we chose to retain only the **5 genre the most represented in the dataset**, excluding the \"Black and White\" category, which we not consider as a genre: \n",
    "    - Drama\n",
    "    - Comedy \n",
    "    - Romance film \n",
    "    - Action\n",
    "    - Thriller"
   ]
  },
  {
   "cell_type": "markdown",
   "id": "232b9158",
   "metadata": {},
   "source": [
    "- This choice is supported by the fact that they correspond to natural responses one would answer when asked about most represented genre."
   ]
  },
  {
   "attachments": {},
   "cell_type": "markdown",
   "id": "722c793d",
   "metadata": {},
   "source": [
    "### 5.4 - Evolution over time"
   ]
  },
  {
   "cell_type": "markdown",
   "id": "19da8e5c",
   "metadata": {},
   "source": [
    "- Has the evolution of most represented genre changed over time?  "
   ]
  },
  {
   "cell_type": "code",
   "execution_count": null,
   "id": "5b8afcdd",
   "metadata": {},
   "outputs": [],
   "source": [
    "# Group by \"movie_release_date\"\n",
    "movies_per_year_grouped = movies.groupby(movies['movie_release_date'])\n",
    "\n",
    "# Compute the number of movies by year and by genre\n",
    "total_genres_per_year = total_genres\n",
    "years = ['Total']\n",
    "for year, group in movies_per_year_grouped[['movie_release_date', 'movie_genres']]:\n",
    "    total_genres_per_year = pd.concat([total_genres_per_year, group.movie_genres.explode().dropna().value_counts()], axis = 1)\n",
    "    years.append(year)\n",
    "total_genres_per_year.columns = years\n",
    "total_genres_per_year.index.name = 'Genres'\n",
    "total_genres_per_year.head()"
   ]
  },
  {
   "cell_type": "code",
   "execution_count": null,
   "id": "7a6be31f",
   "metadata": {},
   "outputs": [],
   "source": [
    "# Plot the evolution of the number of movies by genre for the top 10\n",
    "x = np.array(total_genres_per_year.columns[1:], dtype = 'datetime64[ms]')\n",
    "plt.figure()\n",
    "for index, row in total_genres_per_year.head(10).iterrows():\n",
    "    plt.plot(x, row[1:], label = index)\n",
    "plt.legend()\n",
    "plt.xlabel(\"Date of release\")\n",
    "plt.ylabel(\"Number of movies\")\n",
    "plt.title(\"Evolution of the number of movies for each genre over time\")\n",
    "plt.show()"
   ]
  },
  {
   "attachments": {},
   "cell_type": "markdown",
   "id": "a75e116c",
   "metadata": {},
   "source": [
    "- By looking at the number of genre per year, we see a **similar evolution for every genre.** For every genre the number of movies highly increases over time,  except for \"black and white\" movies. The striking drop around 2010 probably corresponds to time of extraction of the database (2012)."
   ]
  },
  {
   "cell_type": "markdown",
   "id": "87b7f1d4",
   "metadata": {},
   "source": [
    "- We can look at the counts. "
   ]
  },
  {
   "cell_type": "code",
   "execution_count": null,
   "id": "b970f3f2",
   "metadata": {},
   "outputs": [],
   "source": [
    "movies_per_year_grouped[['movie_release_date']].size().reset_index(name='counts').sort_values(by = 'movie_release_date', ascending= False).head(10)"
   ]
  },
  {
   "cell_type": "markdown",
   "id": "c75f7c3f",
   "metadata": {},
   "source": [
    "- As we can see here, values are incoherent after 2013. Therefore, we will **cut off after 2012 (included)**, which is coherent with the date of extraction of the database. \n",
    "\n",
    "- According to the following graph made with IMDB dataset, the behavior of the number of movie by year is similar, which supports the hypothesis that the dataset provides evolution close to reality.\n",
    "![films-released-yearly](films-released-all-time-yearly.png)"
   ]
  },
  {
   "attachments": {},
   "cell_type": "markdown",
   "id": "f6bf564b",
   "metadata": {},
   "source": [
    "___"
   ]
  },
  {
   "cell_type": "markdown",
   "id": "fc79c80a",
   "metadata": {},
   "source": [
    "Is gender correlated with age of actors in the movies ? "
   ]
  },
  {
   "cell_type": "code",
   "execution_count": null,
   "id": "67139905",
   "metadata": {},
   "outputs": [],
   "source": [
    "# Transform categorical value \"actor_gender\" into a numerical one\n",
    "characters_gender_age_num = pd.get_dummies(data = characters_gender_age[['actor_gender', 'actor_age_movie']])\n",
    "\n",
    "# We perform a Pearson correlation between gender and age of actors\n",
    "stats.pearsonr(characters_gender_age_num['actor_gender_F'], characters_gender_age_num['actor_age_movie'])"
   ]
  },
  {
   "cell_type": "markdown",
   "id": "f47c698a",
   "metadata": {},
   "source": [
    "- There is a small (-0.26) but significant ($ p < 0.05 $) negative correlation. "
   ]
  },
  {
   "cell_type": "code",
   "execution_count": null,
   "id": "a9e057b0",
   "metadata": {},
   "outputs": [],
   "source": [
    "# We can also examine Spearman rank correlation\n",
    "stats.spearmanr(characters_gender_age_num['actor_gender_F'], characters_gender_age_num['actor_age_movie'])"
   ]
  },
  {
   "cell_type": "markdown",
   "id": "f929b42f",
   "metadata": {},
   "source": [
    "- Spearman rank correlation is also significant. "
   ]
  },
  {
   "cell_type": "markdown",
   "id": "798efa8e",
   "metadata": {},
   "source": [
    "- These analyses on age and height could be useful in further analyses to understand how characters played by men and women differ and what lead to these differences. "
   ]
  },
  {
   "cell_type": "markdown",
   "id": "625b8c03",
   "metadata": {},
   "source": [
    "### 5.1 - Percentage of women in movies"
   ]
  },
  {
   "cell_type": "markdown",
   "id": "be22929a",
   "metadata": {},
   "source": [
    "- First, we want to compute the percentage of women in each movie where there is a reported character with a gender. "
   ]
  },
  {
   "cell_type": "code",
   "execution_count": null,
   "id": "775fbdcf",
   "metadata": {},
   "outputs": [],
   "source": [
    "# creation of a column with \"True\" for womens\n",
    "characters_gender['female'] = characters_gender['actor_gender']=='F'\n",
    "\n",
    "# compute percentage of women by movie\n",
    "percentage_female = characters_gender.groupby(characters_gender['freebase_movie_ID'])[['freebase_movie_ID','female']].mean()\n",
    "percentage_female.head()\n"
   ]
  },
  {
   "cell_type": "markdown",
   "id": "b9ed2ae3",
   "metadata": {},
   "source": [
    "We create a new DataFrame where we merge *movies* with *percentage_female* to add the percentage of female for each movie. "
   ]
  },
  {
   "cell_type": "code",
   "execution_count": null,
   "id": "07393cf9",
   "metadata": {},
   "outputs": [],
   "source": [
    "movies_female = movies.merge(percentage_female, left_on='freebase_movie_ID', right_on='freebase_movie_ID')\n",
    "movies_female.head()"
   ]
  },
  {
   "cell_type": "markdown",
   "id": "ec8446ce",
   "metadata": {},
   "source": [
    "- How many movies did we lose by merging? "
   ]
  },
  {
   "cell_type": "code",
   "execution_count": null,
   "id": "b1db607c",
   "metadata": {},
   "outputs": [],
   "source": [
    "print(\"We kept {:.2%} of the DataFrame movies by merging.\".format(len(movies_female)/len(movies)))"
   ]
  },
  {
   "cell_type": "markdown",
   "id": "60a27626",
   "metadata": {},
   "source": [
    "### 5.2 - Temporal evolution of female percentage in movies"
   ]
  },
  {
   "cell_type": "markdown",
   "id": "14a6f094",
   "metadata": {},
   "source": [
    "We now want to examine how female percentage in movies evolved over time. "
   ]
  },
  {
   "cell_type": "code",
   "execution_count": null,
   "id": "65647910",
   "metadata": {},
   "outputs": [],
   "source": [
    "movies_female_gp_year = movies_female.groupby(movies_female['movie_release_date'])[['female']].mean()\n",
    "movies_female_gp_year.head()"
   ]
  },
  {
   "cell_type": "markdown",
   "id": "d0c6671f",
   "metadata": {},
   "source": [
    "- We want to plot the percentage of women over time."
   ]
  },
  {
   "cell_type": "code",
   "execution_count": null,
   "id": "0c25f7b0",
   "metadata": {},
   "outputs": [],
   "source": [
    "movies_female_gp_year.plot(legend=False)\n",
    "plt.ylabel('Mean ratio of female by movie')\n",
    "plt.xlabel('year')\n",
    "plt.title('Presence of women in movies over time')\n",
    "plt.axhline(y=0.5,color ='red', ls='--')"
   ]
  },
  {
   "cell_type": "markdown",
   "id": "a00b6b1a",
   "metadata": {},
   "source": [
    "## 6 - How to evaluate the success of a movie ? "
   ]
  },
  {
   "attachments": {},
   "cell_type": "markdown",
   "id": "5173eb79",
   "metadata": {},
   "source": [
    "In our dataset, the only feature we have to measure the success of a movie is the **box office revenue**. We will first analyze this feature in our dataset. "
   ]
  },
  {
   "cell_type": "markdown",
   "id": "bd10a41a",
   "metadata": {},
   "source": [
    "### 6.1 - Cleaning and missing values"
   ]
  },
  {
   "cell_type": "code",
   "execution_count": null,
   "id": "2a713517",
   "metadata": {},
   "outputs": [],
   "source": [
    "# How many movies have a missing box office revenue value? \n",
    "print(\"{:.2%} of the movies have a missing movie box office revenue value.\".format(movies.isnull().sum()['movie_box_off_rev']/len(movies)))"
   ]
  },
  {
   "cell_type": "markdown",
   "id": "96e00bba",
   "metadata": {},
   "source": [
    "- How are the missing values distributed over time ? \n",
    "- We calculate the number of movies per year which have a reported box office revenue. "
   ]
  },
  {
   "cell_type": "code",
   "execution_count": null,
   "id": "dba6a0d0",
   "metadata": {},
   "outputs": [],
   "source": [
    "# Keep only movies with a value for box office revenue\n",
    "movies_with_bor = movies[movies.movie_box_off_rev.isnull()==False]\n",
    "\n",
    "# Group by year and count the number of movies\n",
    "movies_with_bor_gp_year = movies_with_bor.groupby(movies_with_bor['movie_release_date'])[['movie_release_date']].count()\n",
    "movies_with_bor_gp_year.head()"
   ]
  },
  {
   "cell_type": "markdown",
   "id": "d9a203ad",
   "metadata": {},
   "source": [
    "- To plot evolution of movies without missing values over time, we normalize on the total number of movies, as we saw in 2 that it strongly increased over time. "
   ]
  },
  {
   "cell_type": "code",
   "execution_count": null,
   "id": "2bab6445",
   "metadata": {},
   "outputs": [],
   "source": [
    "# Compute number of movies with missing values over total number of movies per year\n",
    "movie_count_all_gp_year = movies.groupby(movies['movie_release_date'])[['movie_release_date']].count()\n",
    "movie_count_all_gp_year['ratio_bor']=movies_with_bor_gp_year['movie_release_date']/movie_count_all_gp_year['movie_release_date']"
   ]
  },
  {
   "cell_type": "code",
   "execution_count": null,
   "id": "eb0174d9",
   "metadata": {},
   "outputs": [],
   "source": [
    "#Plot the distribution\n",
    "movie_count_all_gp_year['ratio_bor'].plot(legend=False)\n",
    "plt.ylabel('ratio of values for the feature \"movie_box_off_rev\"')\n",
    "plt.xlabel('year')\n",
    "plt.title('Ratio of values available per year for the feature \"movie_box_off_rev\"')"
   ]
  },
  {
   "attachments": {},
   "cell_type": "markdown",
   "id": "5c291e57",
   "metadata": {},
   "source": [
    "- We can see that the **ratio of movies with a value for box office revenue increases with time**; however, the ratio never exceeds 20% of the dataset, which is quite low. "
   ]
  },
  {
   "cell_type": "markdown",
   "id": "b13da9d2",
   "metadata": {},
   "source": [
    "### 6.2 - Evolution of average box office revenue over time"
   ]
  },
  {
   "attachments": {},
   "cell_type": "markdown",
   "id": "d5893e4f",
   "metadata": {},
   "source": [
    "- We now want to analyze the evolution of the box office revenue over time. "
   ]
  },
  {
   "cell_type": "code",
   "execution_count": null,
   "id": "2c453273",
   "metadata": {},
   "outputs": [],
   "source": [
    "# Compute the average box office revenue by year\n",
    "movies_mean_bor_gp_year = movies_with_bor.groupby(movies_with_bor['movie_release_date'])[['movie_box_off_rev']].mean()\n",
    "movies_mean_bor_gp_year.head()"
   ]
  },
  {
   "cell_type": "code",
   "execution_count": null,
   "id": "0083d4f7",
   "metadata": {},
   "outputs": [],
   "source": [
    "# Plot the distribution\n",
    "movies_mean_bor_gp_year.plot(legend=False)\n",
    "plt.ylabel('Average box office revenue (USD)')\n",
    "plt.xlabel('year')\n",
    "plt.title('Evolution of the average box office revenue')"
   ]
  },
  {
   "attachments": {},
   "cell_type": "markdown",
   "id": "1863cbf4",
   "metadata": {},
   "source": [
    "* To be perfectly accurate in comparing box office receipt comparison over time, we should adjust revenues for dollar inflation. One could go further and consider even more adjustements to be even more precise as explained in [this article](https://wwwold.usi.edu/media/3655032/How-the-MPA-Miscalculates.pdf)."
   ]
  },
  {
   "cell_type": "markdown",
   "id": "c1429ac1",
   "metadata": {},
   "source": [
    "- Even if these results are interesting, the amount of missing values is quite problematic. To evaluate the success of a movie, we can also look at the ratings of the movies. The data is not available in our dataset but we can use IMDb."
   ]
  },
  {
   "cell_type": "markdown",
   "id": "c481cf02",
   "metadata": {},
   "source": [
    "### 6.3 - Get the IMDb dataset"
   ]
  },
  {
   "cell_type": "code",
   "execution_count": null,
   "id": "78f8bf4d",
   "metadata": {},
   "outputs": [],
   "source": [
    "# Import dataset title.basics and title.ratings\n",
    "imdb_data_df = pd.read_csv('Data/Imdb/title.basics.tsv', sep = '\\t')\n",
    "imdb_ratings_df = pd.read_csv('Data/Imdb/title.ratings.tsv', sep = '\\t')\n",
    "\n",
    "imdb_data_df.head(10)"
   ]
  },
  {
   "cell_type": "code",
   "execution_count": null,
   "id": "5dd9feb6",
   "metadata": {},
   "outputs": [],
   "source": [
    "imdb_ratings_df.head(10)"
   ]
  },
  {
   "cell_type": "code",
   "execution_count": null,
   "id": "9463695e",
   "metadata": {},
   "outputs": [],
   "source": [
    "# Merge imdb_data_df and imdb_ratings_df on ratings\n",
    "rating_df = imdb_data_df.merge(imdb_ratings_df)"
   ]
  },
  {
   "cell_type": "code",
   "execution_count": null,
   "id": "258a0ea6",
   "metadata": {},
   "outputs": [],
   "source": [
    "# Delete unnessary columns  \n",
    "rating_df = rating_df.drop(['isAdult', 'endYear'], axis = 1)"
   ]
  },
  {
   "cell_type": "code",
   "execution_count": null,
   "id": "65b3d741",
   "metadata": {},
   "outputs": [],
   "source": [
    "rating_df.iloc[423117]"
   ]
  },
  {
   "cell_type": "code",
   "execution_count": null,
   "id": "df0ed409",
   "metadata": {},
   "outputs": [],
   "source": [
    "#Replace \\N by NaN, replace corrupted values, drop missing values and convert run time into numerical data\n",
    "rating_df[['runtimeMinutes', 'startYear']] = rating_df[['runtimeMinutes', 'startYear']].replace(r\"\\N\", np.NaN).replace(\"Game-Show\", np.NaN).replace(\"Game-Show,Reality-TV\", np.NaN).dropna(subset = ['runtimeMinutes', 'startYear'])\n",
    "rating_df = rating_df.dropna(subset = 'runtimeMinutes')\n",
    "rating_df['runtimeMinutes'] = pd.to_numeric(rating_df['runtimeMinutes'])"
   ]
  },
  {
   "cell_type": "code",
   "execution_count": null,
   "id": "3e9f5fa4",
   "metadata": {},
   "outputs": [],
   "source": [
    "# Merge movies with ratings_df on primary title and start year\n",
    "merged_rating_df = movies.merge(rating_df, left_on = ['movie_name', 'movie_release_date'], right_on = ['primaryTitle', 'startYear'])\n",
    "merged_rating_df.head()"
   ]
  },
  {
   "cell_type": "markdown",
   "id": "445a5521",
   "metadata": {},
   "source": [
    "- There are some duplicates because of the merge, we have to treat them. "
   ]
  },
  {
   "cell_type": "code",
   "execution_count": null,
   "id": "6164f51f",
   "metadata": {},
   "outputs": [],
   "source": [
    "# Remove duplicates\n",
    "merged_rating_df[merged_rating_df.duplicated(subset = ['freebase_movie_ID'], keep=False)]"
   ]
  },
  {
   "cell_type": "markdown",
   "id": "2907dbeb",
   "metadata": {},
   "source": [
    "- We can finally export the final dataset by keeping only columns of interest"
   ]
  },
  {
   "cell_type": "code",
   "execution_count": null,
   "id": "f4846561",
   "metadata": {},
   "outputs": [],
   "source": [
    "# Keep only column of interest and export the final dataset\n",
    "merged_rating_df = merged_rating_df.drop_duplicates(subset = 'freebase_movie_ID', keep = 'first')\n",
    "merged_rating_df[['freebase_movie_ID', 'tconst', 'titleType', 'primaryTitle', 'originalTitle', 'startYear', 'runtimeMinutes', 'genres','averageRating', 'numVotes']].to_csv('Data/Imdb/processed_imdb_dataset.csv')"
   ]
  },
  {
   "cell_type": "markdown",
   "id": "deae7ed3",
   "metadata": {},
   "source": [
    "### 6.4 - Rating of movies"
   ]
  },
  {
   "cell_type": "code",
   "execution_count": null,
   "id": "4d19b4ed",
   "metadata": {},
   "outputs": [],
   "source": [
    "imdb = pd.read_csv('Data/Imdb/processed_imdb_dataset.csv')\n",
    "imdb.head()"
   ]
  },
  {
   "cell_type": "markdown",
   "id": "36550da1",
   "metadata": {},
   "source": [
    "- We can start by computing the average rating by year"
   ]
  },
  {
   "cell_type": "code",
   "execution_count": null,
   "id": "ce9072f6",
   "metadata": {},
   "outputs": [],
   "source": [
    "#Group rating by year and compute mean rating \n",
    "imdb_rating_gp_year = imdb.groupby(imdb['startYear'])[['averageRating']].mean()\n",
    "imdb_rating_gp_year.head()"
   ]
  },
  {
   "cell_type": "code",
   "execution_count": null,
   "id": "d6f0a8e8",
   "metadata": {},
   "outputs": [],
   "source": [
    "#Plot the distribution\n",
    "imdb_rating_gp_year.plot(legend=False)\n",
    "plt.ylabel('Average movie rating (/10)')\n",
    "plt.xlabel('year')\n",
    "plt.title('Evolution of movie ratings')"
   ]
  },
  {
   "cell_type": "code",
   "execution_count": null,
   "id": "6c0309e8",
   "metadata": {},
   "outputs": [],
   "source": [
    "# Merge imdb et movie metadata\n",
    "imdb.sort_values(by = 'startYear', ascending = False).head()"
   ]
  },
  {
   "cell_type": "markdown",
   "id": "04d9236e",
   "metadata": {},
   "source": [
    "### 6.5 - Correlation between rating and box office revenue"
   ]
  },
  {
   "cell_type": "markdown",
   "id": "c45628d3",
   "metadata": {},
   "source": [
    "- Now we have two measures of a movie's success and we wonder wether these two features are correlated. As we saw in the previous parts, there are many missing values on box office revenues. If these two features are strongly correlated, we could keep only rating as a measure of success and have a larger dataset to work on. "
   ]
  },
  {
   "cell_type": "code",
   "execution_count": null,
   "id": "207169a9",
   "metadata": {},
   "outputs": [],
   "source": [
    "# Merge movies with box office revenue and dataset with ratings on freebase_movie_ID\n",
    "correl = movies_with_bor.merge(imdb, left_on='freebase_movie_ID', right_on='freebase_movie_ID')\n",
    "correl.head()"
   ]
  },
  {
   "cell_type": "code",
   "execution_count": null,
   "id": "4833d87e",
   "metadata": {},
   "outputs": [],
   "source": [
    "#Compute Pearson correlation coefficient\n",
    "stats.pearsonr(correl['movie_box_off_rev'],correl['numVotes'])"
   ]
  },
  {
   "attachments": {},
   "cell_type": "markdown",
   "id": "bc4711bc",
   "metadata": {},
   "source": [
    "- The Pearson linear coefficient is low but significantly positive ($ p < 0.05$). The correlation seems too low to keep only one feature as a measure of success. Therefore we could **keep both** for further analyses and draw different conclusions from their exploitation. "
   ]
  }
 ],
 "metadata": {
  "kernelspec": {
   "display_name": "ada",
   "language": "python",
   "name": "python3"
  },
  "language_info": {
   "codemirror_mode": {
    "name": "ipython",
    "version": 3
   },
   "file_extension": ".py",
   "mimetype": "text/x-python",
   "name": "python",
   "nbconvert_exporter": "python",
   "pygments_lexer": "ipython3",
   "version": "3.9.13"
  },
  "vscode": {
   "interpreter": {
    "hash": "b10238e0c79a4c24253f4ac6e83e270c54f67c79175f175eb395f7064e39a9cb"
   }
  }
 },
 "nbformat": 4,
 "nbformat_minor": 5
}
