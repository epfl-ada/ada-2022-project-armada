{
 "cells": [
  {
   "cell_type": "markdown",
   "id": "0c1cb2e5",
   "metadata": {},
   "source": [
    "# Is the cinema sexist? "
   ]
  },
  {
   "cell_type": "markdown",
   "id": "ce28fd40",
   "metadata": {},
   "source": [
    "**Authors**\n",
    "- Marjorie Cayatte\n",
    "- Maxime Leriche\n",
    "- Madeleine Robert\n",
    "- Arthur Tabary"
   ]
  },
  {
   "cell_type": "markdown",
   "id": "0eed2c16",
   "metadata": {},
   "source": [
    "**Date**\\\n",
    "November, 18th, 2022"
   ]
  },
  {
   "cell_type": "markdown",
   "id": "1389df64",
   "metadata": {},
   "source": [
    "In this Notebook, we present our initial analyses and results. We first import the necessay libraries. "
   ]
  },
  {
   "cell_type": "code",
   "execution_count": 1,
   "id": "b73420b0",
   "metadata": {},
   "outputs": [],
   "source": [
    "import pandas as pd\n",
    "import numpy as np\n",
    "import matplotlib.pyplot as plt\n",
    "import matplotlib.dates as mdates\n",
    "%matplotlib inline\n",
    "import seaborn as sns\n",
    "import math\n",
    "from scipy import stats\n",
    "import json\n",
    "from datetime import datetime, date, time\n",
    "import requests"
   ]
  },
  {
   "cell_type": "markdown",
   "id": "f8d105fc",
   "metadata": {},
   "source": [
    "## 1 - Get the different datasets"
   ]
  },
  {
   "cell_type": "markdown",
   "id": "d7c7cd12",
   "metadata": {},
   "source": [
    "We import the following datasets from the **CMU Movie Summary Corpus** as DataFrame: \n",
    "- *movie.metadata.tsv.gz*: metadata for 81,741 movies, extracted from the November 4<sup>th</sup>, 2012 dump of Freebase. \n",
    "- *character.metadata.tsv.gz*: metadata for 450,669 characters aligned to the movies, extracted from the November 4<sup>th</sup>, 2012 dump of Freebase. "
   ]
  },
  {
   "cell_type": "code",
   "execution_count": 2,
   "id": "7c171314",
   "metadata": {},
   "outputs": [
    {
     "data": {
      "text/html": [
       "<div>\n",
       "<style scoped>\n",
       "    .dataframe tbody tr th:only-of-type {\n",
       "        vertical-align: middle;\n",
       "    }\n",
       "\n",
       "    .dataframe tbody tr th {\n",
       "        vertical-align: top;\n",
       "    }\n",
       "\n",
       "    .dataframe thead th {\n",
       "        text-align: right;\n",
       "    }\n",
       "</style>\n",
       "<table border=\"1\" class=\"dataframe\">\n",
       "  <thead>\n",
       "    <tr style=\"text-align: right;\">\n",
       "      <th></th>\n",
       "      <th>wiki_movie_ID</th>\n",
       "      <th>freebase_movie_ID</th>\n",
       "      <th>movie_name</th>\n",
       "      <th>movie_release_date</th>\n",
       "      <th>movie_box_off_rev</th>\n",
       "      <th>movie_runtime</th>\n",
       "      <th>movie_languages</th>\n",
       "      <th>movie_countries</th>\n",
       "      <th>movie_genres</th>\n",
       "    </tr>\n",
       "  </thead>\n",
       "  <tbody>\n",
       "    <tr>\n",
       "      <th>0</th>\n",
       "      <td>975900</td>\n",
       "      <td>/m/03vyhn</td>\n",
       "      <td>Ghosts of Mars</td>\n",
       "      <td>2001-08-24</td>\n",
       "      <td>14010832.0</td>\n",
       "      <td>98.0</td>\n",
       "      <td>{\"/m/02h40lc\": \"English Language\"}</td>\n",
       "      <td>{\"/m/09c7w0\": \"United States of America\"}</td>\n",
       "      <td>{\"/m/01jfsb\": \"Thriller\", \"/m/06n90\": \"Science...</td>\n",
       "    </tr>\n",
       "    <tr>\n",
       "      <th>1</th>\n",
       "      <td>3196793</td>\n",
       "      <td>/m/08yl5d</td>\n",
       "      <td>Getting Away with Murder: The JonBenét Ramsey ...</td>\n",
       "      <td>2000-02-16</td>\n",
       "      <td>NaN</td>\n",
       "      <td>95.0</td>\n",
       "      <td>{\"/m/02h40lc\": \"English Language\"}</td>\n",
       "      <td>{\"/m/09c7w0\": \"United States of America\"}</td>\n",
       "      <td>{\"/m/02n4kr\": \"Mystery\", \"/m/03bxz7\": \"Biograp...</td>\n",
       "    </tr>\n",
       "    <tr>\n",
       "      <th>2</th>\n",
       "      <td>28463795</td>\n",
       "      <td>/m/0crgdbh</td>\n",
       "      <td>Brun bitter</td>\n",
       "      <td>1988</td>\n",
       "      <td>NaN</td>\n",
       "      <td>83.0</td>\n",
       "      <td>{\"/m/05f_3\": \"Norwegian Language\"}</td>\n",
       "      <td>{\"/m/05b4w\": \"Norway\"}</td>\n",
       "      <td>{\"/m/0lsxr\": \"Crime Fiction\", \"/m/07s9rl0\": \"D...</td>\n",
       "    </tr>\n",
       "    <tr>\n",
       "      <th>3</th>\n",
       "      <td>9363483</td>\n",
       "      <td>/m/0285_cd</td>\n",
       "      <td>White Of The Eye</td>\n",
       "      <td>1987</td>\n",
       "      <td>NaN</td>\n",
       "      <td>110.0</td>\n",
       "      <td>{\"/m/02h40lc\": \"English Language\"}</td>\n",
       "      <td>{\"/m/07ssc\": \"United Kingdom\"}</td>\n",
       "      <td>{\"/m/01jfsb\": \"Thriller\", \"/m/0glj9q\": \"Erotic...</td>\n",
       "    </tr>\n",
       "    <tr>\n",
       "      <th>4</th>\n",
       "      <td>261236</td>\n",
       "      <td>/m/01mrr1</td>\n",
       "      <td>A Woman in Flames</td>\n",
       "      <td>1983</td>\n",
       "      <td>NaN</td>\n",
       "      <td>106.0</td>\n",
       "      <td>{\"/m/04306rv\": \"German Language\"}</td>\n",
       "      <td>{\"/m/0345h\": \"Germany\"}</td>\n",
       "      <td>{\"/m/07s9rl0\": \"Drama\"}</td>\n",
       "    </tr>\n",
       "  </tbody>\n",
       "</table>\n",
       "</div>"
      ],
      "text/plain": [
       "   wiki_movie_ID freebase_movie_ID  \\\n",
       "0         975900         /m/03vyhn   \n",
       "1        3196793         /m/08yl5d   \n",
       "2       28463795        /m/0crgdbh   \n",
       "3        9363483        /m/0285_cd   \n",
       "4         261236         /m/01mrr1   \n",
       "\n",
       "                                          movie_name movie_release_date  \\\n",
       "0                                     Ghosts of Mars         2001-08-24   \n",
       "1  Getting Away with Murder: The JonBenét Ramsey ...         2000-02-16   \n",
       "2                                        Brun bitter               1988   \n",
       "3                                   White Of The Eye               1987   \n",
       "4                                  A Woman in Flames               1983   \n",
       "\n",
       "   movie_box_off_rev  movie_runtime                     movie_languages  \\\n",
       "0         14010832.0           98.0  {\"/m/02h40lc\": \"English Language\"}   \n",
       "1                NaN           95.0  {\"/m/02h40lc\": \"English Language\"}   \n",
       "2                NaN           83.0  {\"/m/05f_3\": \"Norwegian Language\"}   \n",
       "3                NaN          110.0  {\"/m/02h40lc\": \"English Language\"}   \n",
       "4                NaN          106.0   {\"/m/04306rv\": \"German Language\"}   \n",
       "\n",
       "                             movie_countries  \\\n",
       "0  {\"/m/09c7w0\": \"United States of America\"}   \n",
       "1  {\"/m/09c7w0\": \"United States of America\"}   \n",
       "2                     {\"/m/05b4w\": \"Norway\"}   \n",
       "3             {\"/m/07ssc\": \"United Kingdom\"}   \n",
       "4                    {\"/m/0345h\": \"Germany\"}   \n",
       "\n",
       "                                        movie_genres  \n",
       "0  {\"/m/01jfsb\": \"Thriller\", \"/m/06n90\": \"Science...  \n",
       "1  {\"/m/02n4kr\": \"Mystery\", \"/m/03bxz7\": \"Biograp...  \n",
       "2  {\"/m/0lsxr\": \"Crime Fiction\", \"/m/07s9rl0\": \"D...  \n",
       "3  {\"/m/01jfsb\": \"Thriller\", \"/m/0glj9q\": \"Erotic...  \n",
       "4                            {\"/m/07s9rl0\": \"Drama\"}  "
      ]
     },
     "execution_count": 2,
     "metadata": {},
     "output_type": "execute_result"
    }
   ],
   "source": [
    "# Import movie.metadata and format column names\n",
    "movies = pd.read_csv('Data/MovieSummaries/movie.metadata.tsv',sep='\\t',header=None)\n",
    "movies.columns=['wiki_movie_ID','freebase_movie_ID','movie_name','movie_release_date','movie_box_off_rev','movie_runtime','movie_languages','movie_countries','movie_genres']\n",
    "movies.head()"
   ]
  },
  {
   "cell_type": "markdown",
   "id": "e9b588fa",
   "metadata": {},
   "source": [
    "- We will clean the DataFrame *movies* by splitting the columns with multiple data into multiple columns. For example, the column \"movie_countries\" contains the Freebase ID and the country. To do so, we tranform dictionnary in list which will be easier to manipulate. "
   ]
  },
  {
   "cell_type": "code",
   "execution_count": 3,
   "id": "77fce012",
   "metadata": {},
   "outputs": [
    {
     "data": {
      "text/html": [
       "<div>\n",
       "<style scoped>\n",
       "    .dataframe tbody tr th:only-of-type {\n",
       "        vertical-align: middle;\n",
       "    }\n",
       "\n",
       "    .dataframe tbody tr th {\n",
       "        vertical-align: top;\n",
       "    }\n",
       "\n",
       "    .dataframe thead th {\n",
       "        text-align: right;\n",
       "    }\n",
       "</style>\n",
       "<table border=\"1\" class=\"dataframe\">\n",
       "  <thead>\n",
       "    <tr style=\"text-align: right;\">\n",
       "      <th></th>\n",
       "      <th>wiki_movie_ID</th>\n",
       "      <th>freebase_movie_ID</th>\n",
       "      <th>movie_name</th>\n",
       "      <th>movie_release_date</th>\n",
       "      <th>movie_box_off_rev</th>\n",
       "      <th>movie_runtime</th>\n",
       "      <th>movie_languages</th>\n",
       "      <th>movie_countries</th>\n",
       "      <th>movie_genres</th>\n",
       "      <th>movie_countries_id</th>\n",
       "      <th>movie_genres_id</th>\n",
       "      <th>movie_languages_id</th>\n",
       "    </tr>\n",
       "  </thead>\n",
       "  <tbody>\n",
       "    <tr>\n",
       "      <th>0</th>\n",
       "      <td>975900</td>\n",
       "      <td>/m/03vyhn</td>\n",
       "      <td>Ghosts of Mars</td>\n",
       "      <td>2001-08-24</td>\n",
       "      <td>14010832.0</td>\n",
       "      <td>98.0</td>\n",
       "      <td>[English Language]</td>\n",
       "      <td>[United States of America]</td>\n",
       "      <td>[Thriller, Science Fiction, Horror, Adventure,...</td>\n",
       "      <td>[/m/09c7w0]</td>\n",
       "      <td>[/m/01jfsb, /m/06n90, /m/03npn, /m/03k9fj, /m/...</td>\n",
       "      <td>[/m/02h40lc]</td>\n",
       "    </tr>\n",
       "    <tr>\n",
       "      <th>1</th>\n",
       "      <td>3196793</td>\n",
       "      <td>/m/08yl5d</td>\n",
       "      <td>Getting Away with Murder: The JonBenét Ramsey ...</td>\n",
       "      <td>2000-02-16</td>\n",
       "      <td>NaN</td>\n",
       "      <td>95.0</td>\n",
       "      <td>[English Language]</td>\n",
       "      <td>[United States of America]</td>\n",
       "      <td>[Mystery, Biographical film, Drama, Crime Drama]</td>\n",
       "      <td>[/m/09c7w0]</td>\n",
       "      <td>[/m/02n4kr, /m/03bxz7, /m/07s9rl0, /m/0hj3n01]</td>\n",
       "      <td>[/m/02h40lc]</td>\n",
       "    </tr>\n",
       "    <tr>\n",
       "      <th>2</th>\n",
       "      <td>28463795</td>\n",
       "      <td>/m/0crgdbh</td>\n",
       "      <td>Brun bitter</td>\n",
       "      <td>1988</td>\n",
       "      <td>NaN</td>\n",
       "      <td>83.0</td>\n",
       "      <td>[Norwegian Language]</td>\n",
       "      <td>[Norway]</td>\n",
       "      <td>[Crime Fiction, Drama]</td>\n",
       "      <td>[/m/05b4w]</td>\n",
       "      <td>[/m/0lsxr, /m/07s9rl0]</td>\n",
       "      <td>[/m/05f_3]</td>\n",
       "    </tr>\n",
       "    <tr>\n",
       "      <th>3</th>\n",
       "      <td>9363483</td>\n",
       "      <td>/m/0285_cd</td>\n",
       "      <td>White Of The Eye</td>\n",
       "      <td>1987</td>\n",
       "      <td>NaN</td>\n",
       "      <td>110.0</td>\n",
       "      <td>[English Language]</td>\n",
       "      <td>[United Kingdom]</td>\n",
       "      <td>[Thriller, Erotic thriller, Psychological thri...</td>\n",
       "      <td>[/m/07ssc]</td>\n",
       "      <td>[/m/01jfsb, /m/0glj9q, /m/09blyk]</td>\n",
       "      <td>[/m/02h40lc]</td>\n",
       "    </tr>\n",
       "    <tr>\n",
       "      <th>4</th>\n",
       "      <td>261236</td>\n",
       "      <td>/m/01mrr1</td>\n",
       "      <td>A Woman in Flames</td>\n",
       "      <td>1983</td>\n",
       "      <td>NaN</td>\n",
       "      <td>106.0</td>\n",
       "      <td>[German Language]</td>\n",
       "      <td>[Germany]</td>\n",
       "      <td>[Drama]</td>\n",
       "      <td>[/m/0345h]</td>\n",
       "      <td>[/m/07s9rl0]</td>\n",
       "      <td>[/m/04306rv]</td>\n",
       "    </tr>\n",
       "  </tbody>\n",
       "</table>\n",
       "</div>"
      ],
      "text/plain": [
       "   wiki_movie_ID freebase_movie_ID  \\\n",
       "0         975900         /m/03vyhn   \n",
       "1        3196793         /m/08yl5d   \n",
       "2       28463795        /m/0crgdbh   \n",
       "3        9363483        /m/0285_cd   \n",
       "4         261236         /m/01mrr1   \n",
       "\n",
       "                                          movie_name movie_release_date  \\\n",
       "0                                     Ghosts of Mars         2001-08-24   \n",
       "1  Getting Away with Murder: The JonBenét Ramsey ...         2000-02-16   \n",
       "2                                        Brun bitter               1988   \n",
       "3                                   White Of The Eye               1987   \n",
       "4                                  A Woman in Flames               1983   \n",
       "\n",
       "   movie_box_off_rev  movie_runtime       movie_languages  \\\n",
       "0         14010832.0           98.0    [English Language]   \n",
       "1                NaN           95.0    [English Language]   \n",
       "2                NaN           83.0  [Norwegian Language]   \n",
       "3                NaN          110.0    [English Language]   \n",
       "4                NaN          106.0     [German Language]   \n",
       "\n",
       "              movie_countries  \\\n",
       "0  [United States of America]   \n",
       "1  [United States of America]   \n",
       "2                    [Norway]   \n",
       "3            [United Kingdom]   \n",
       "4                   [Germany]   \n",
       "\n",
       "                                        movie_genres movie_countries_id  \\\n",
       "0  [Thriller, Science Fiction, Horror, Adventure,...        [/m/09c7w0]   \n",
       "1   [Mystery, Biographical film, Drama, Crime Drama]        [/m/09c7w0]   \n",
       "2                             [Crime Fiction, Drama]         [/m/05b4w]   \n",
       "3  [Thriller, Erotic thriller, Psychological thri...         [/m/07ssc]   \n",
       "4                                            [Drama]         [/m/0345h]   \n",
       "\n",
       "                                     movie_genres_id movie_languages_id  \n",
       "0  [/m/01jfsb, /m/06n90, /m/03npn, /m/03k9fj, /m/...       [/m/02h40lc]  \n",
       "1     [/m/02n4kr, /m/03bxz7, /m/07s9rl0, /m/0hj3n01]       [/m/02h40lc]  \n",
       "2                             [/m/0lsxr, /m/07s9rl0]         [/m/05f_3]  \n",
       "3                  [/m/01jfsb, /m/0glj9q, /m/09blyk]       [/m/02h40lc]  \n",
       "4                                       [/m/07s9rl0]       [/m/04306rv]  "
      ]
     },
     "execution_count": 3,
     "metadata": {},
     "output_type": "execute_result"
    }
   ],
   "source": [
    "# Separate dictionaries into 2 columns with Freebase id and value\n",
    "movies[\"movie_countries_id\"] = movies[\"movie_countries\"].map(eval).apply(lambda x: list(x.keys()))\n",
    "movies[\"movie_countries\"] = movies[\"movie_countries\"].map(eval).apply(lambda x: list(x.values()))\n",
    "movies[\"movie_genres_id\"] = movies[\"movie_genres\"].map(eval).apply(lambda x: list(x.keys()))\n",
    "movies[\"movie_genres\"] = movies[\"movie_genres\"].map(eval).apply(lambda x: list(x.values()))\n",
    "movies[\"movie_languages_id\"] = movies[\"movie_languages\"].map(eval).apply(lambda x: list(x.keys()))\n",
    "movies[\"movie_languages\"] = movies[\"movie_languages\"].map(eval).apply(lambda x: list(x.values()))\n",
    "movies.head()"
   ]
  },
  {
   "cell_type": "code",
   "execution_count": 4,
   "id": "9514cc7c",
   "metadata": {},
   "outputs": [
    {
     "data": {
      "text/html": [
       "<div>\n",
       "<style scoped>\n",
       "    .dataframe tbody tr th:only-of-type {\n",
       "        vertical-align: middle;\n",
       "    }\n",
       "\n",
       "    .dataframe tbody tr th {\n",
       "        vertical-align: top;\n",
       "    }\n",
       "\n",
       "    .dataframe thead th {\n",
       "        text-align: right;\n",
       "    }\n",
       "</style>\n",
       "<table border=\"1\" class=\"dataframe\">\n",
       "  <thead>\n",
       "    <tr style=\"text-align: right;\">\n",
       "      <th></th>\n",
       "      <th>wiki_movie_ID</th>\n",
       "      <th>freebase_movie_ID</th>\n",
       "      <th>movie_release_date</th>\n",
       "      <th>character_name</th>\n",
       "      <th>actor_DOB</th>\n",
       "      <th>actor_gender</th>\n",
       "      <th>actor_height</th>\n",
       "      <th>actor_ethnicity</th>\n",
       "      <th>actor_name</th>\n",
       "      <th>actor_age_movie</th>\n",
       "      <th>freebase_char/actor_map_ID</th>\n",
       "      <th>freebase_char_ID</th>\n",
       "      <th>freebase_actor_ID</th>\n",
       "    </tr>\n",
       "  </thead>\n",
       "  <tbody>\n",
       "    <tr>\n",
       "      <th>0</th>\n",
       "      <td>975900</td>\n",
       "      <td>/m/03vyhn</td>\n",
       "      <td>2001-08-24</td>\n",
       "      <td>Akooshay</td>\n",
       "      <td>1958-08-26</td>\n",
       "      <td>F</td>\n",
       "      <td>1.620</td>\n",
       "      <td>NaN</td>\n",
       "      <td>Wanda De Jesus</td>\n",
       "      <td>42.0</td>\n",
       "      <td>/m/0bgchxw</td>\n",
       "      <td>/m/0bgcj3x</td>\n",
       "      <td>/m/03wcfv7</td>\n",
       "    </tr>\n",
       "    <tr>\n",
       "      <th>1</th>\n",
       "      <td>975900</td>\n",
       "      <td>/m/03vyhn</td>\n",
       "      <td>2001-08-24</td>\n",
       "      <td>Lieutenant Melanie Ballard</td>\n",
       "      <td>1974-08-15</td>\n",
       "      <td>F</td>\n",
       "      <td>1.780</td>\n",
       "      <td>/m/044038p</td>\n",
       "      <td>Natasha Henstridge</td>\n",
       "      <td>27.0</td>\n",
       "      <td>/m/0jys3m</td>\n",
       "      <td>/m/0bgchn4</td>\n",
       "      <td>/m/0346l4</td>\n",
       "    </tr>\n",
       "    <tr>\n",
       "      <th>2</th>\n",
       "      <td>975900</td>\n",
       "      <td>/m/03vyhn</td>\n",
       "      <td>2001-08-24</td>\n",
       "      <td>Desolation Williams</td>\n",
       "      <td>1969-06-15</td>\n",
       "      <td>M</td>\n",
       "      <td>1.727</td>\n",
       "      <td>/m/0x67</td>\n",
       "      <td>Ice Cube</td>\n",
       "      <td>32.0</td>\n",
       "      <td>/m/0jys3g</td>\n",
       "      <td>/m/0bgchn_</td>\n",
       "      <td>/m/01vw26l</td>\n",
       "    </tr>\n",
       "    <tr>\n",
       "      <th>3</th>\n",
       "      <td>975900</td>\n",
       "      <td>/m/03vyhn</td>\n",
       "      <td>2001-08-24</td>\n",
       "      <td>Sgt Jericho Butler</td>\n",
       "      <td>1967-09-12</td>\n",
       "      <td>M</td>\n",
       "      <td>1.750</td>\n",
       "      <td>NaN</td>\n",
       "      <td>Jason Statham</td>\n",
       "      <td>33.0</td>\n",
       "      <td>/m/02vchl6</td>\n",
       "      <td>/m/0bgchnq</td>\n",
       "      <td>/m/034hyc</td>\n",
       "    </tr>\n",
       "    <tr>\n",
       "      <th>4</th>\n",
       "      <td>975900</td>\n",
       "      <td>/m/03vyhn</td>\n",
       "      <td>2001-08-24</td>\n",
       "      <td>Bashira Kincaid</td>\n",
       "      <td>1977-09-25</td>\n",
       "      <td>F</td>\n",
       "      <td>1.650</td>\n",
       "      <td>NaN</td>\n",
       "      <td>Clea DuVall</td>\n",
       "      <td>23.0</td>\n",
       "      <td>/m/02vbb3r</td>\n",
       "      <td>/m/0bgchp9</td>\n",
       "      <td>/m/01y9xg</td>\n",
       "    </tr>\n",
       "  </tbody>\n",
       "</table>\n",
       "</div>"
      ],
      "text/plain": [
       "   wiki_movie_ID freebase_movie_ID movie_release_date  \\\n",
       "0         975900         /m/03vyhn         2001-08-24   \n",
       "1         975900         /m/03vyhn         2001-08-24   \n",
       "2         975900         /m/03vyhn         2001-08-24   \n",
       "3         975900         /m/03vyhn         2001-08-24   \n",
       "4         975900         /m/03vyhn         2001-08-24   \n",
       "\n",
       "               character_name   actor_DOB actor_gender  actor_height  \\\n",
       "0                    Akooshay  1958-08-26            F         1.620   \n",
       "1  Lieutenant Melanie Ballard  1974-08-15            F         1.780   \n",
       "2         Desolation Williams  1969-06-15            M         1.727   \n",
       "3          Sgt Jericho Butler  1967-09-12            M         1.750   \n",
       "4             Bashira Kincaid  1977-09-25            F         1.650   \n",
       "\n",
       "  actor_ethnicity          actor_name  actor_age_movie  \\\n",
       "0             NaN      Wanda De Jesus             42.0   \n",
       "1      /m/044038p  Natasha Henstridge             27.0   \n",
       "2         /m/0x67            Ice Cube             32.0   \n",
       "3             NaN       Jason Statham             33.0   \n",
       "4             NaN         Clea DuVall             23.0   \n",
       "\n",
       "  freebase_char/actor_map_ID freebase_char_ID freebase_actor_ID  \n",
       "0                 /m/0bgchxw       /m/0bgcj3x        /m/03wcfv7  \n",
       "1                  /m/0jys3m       /m/0bgchn4         /m/0346l4  \n",
       "2                  /m/0jys3g       /m/0bgchn_        /m/01vw26l  \n",
       "3                 /m/02vchl6       /m/0bgchnq         /m/034hyc  \n",
       "4                 /m/02vbb3r       /m/0bgchp9         /m/01y9xg  "
      ]
     },
     "execution_count": 4,
     "metadata": {},
     "output_type": "execute_result"
    }
   ],
   "source": [
    "# Load character metadata and format column names\n",
    "characters = pd.read_csv('Data/MovieSummaries/character.metadata.tsv',sep='\\t',header=None)\n",
    "characters.columns = ['wiki_movie_ID','freebase_movie_ID','movie_release_date','character_name','actor_DOB','actor_gender','actor_height','actor_ethnicity','actor_name','actor_age_movie','freebase_char/actor_map_ID','freebase_char_ID','freebase_actor_ID']\n",
    "characters.head()"
   ]
  },
  {
   "cell_type": "markdown",
   "id": "7be2bbcd",
   "metadata": {},
   "source": [
    "## 2 - What genre are included in the dataset ?"
   ]
  },
  {
   "cell_type": "markdown",
   "id": "bedff021",
   "metadata": {},
   "source": [
    "In this part, we analyze the feature \"movie_genres\" to understand how we can include it as a parameter to answer our main question. "
   ]
  },
  {
   "cell_type": "markdown",
   "id": "0609d891",
   "metadata": {},
   "source": [
    "### 2.1 - Transform and clean the dataset"
   ]
  },
  {
   "cell_type": "markdown",
   "id": "bd1cce0d",
   "metadata": {},
   "source": [
    "- We notice some corrupted values and correct them. "
   ]
  },
  {
   "cell_type": "code",
   "execution_count": 5,
   "id": "3652b4d2",
   "metadata": {},
   "outputs": [
    {
     "data": {
      "text/plain": [
       "wiki_movie_ID                                             29666067\n",
       "freebase_movie_ID                                       /m/0fphzrf\n",
       "movie_name                                          Hunting Season\n",
       "movie_release_date                                      1010-12-02\n",
       "movie_box_off_rev                                       12160978.0\n",
       "movie_runtime                                                140.0\n",
       "movie_languages               [Turkish Language, English Language]\n",
       "movie_countries                                           [Turkey]\n",
       "movie_genres             [Crime Fiction, Mystery, Drama, Thriller]\n",
       "movie_countries_id                                     [/m/01znc_]\n",
       "movie_genres_id       [/m/0lsxr, /m/02n4kr, /m/07s9rl0, /m/01jfsb]\n",
       "movie_languages_id                        [/m/02hwyss, /m/02h40lc]\n",
       "Name: 62836, dtype: object"
      ]
     },
     "execution_count": 5,
     "metadata": {},
     "output_type": "execute_result"
    }
   ],
   "source": [
    "# Warning, some rows of the dataset have wrong release dates: here 1010 instead of 2010\n",
    "movies.iloc[62836]"
   ]
  },
  {
   "cell_type": "code",
   "execution_count": 6,
   "id": "7e0cfde9",
   "metadata": {},
   "outputs": [],
   "source": [
    "# Replace the wrong value of 1010\n",
    "movies.loc[62836, 'movie_release_date'] = '2010-12-02'"
   ]
  },
  {
   "cell_type": "code",
   "execution_count": 7,
   "id": "7231c3c5",
   "metadata": {},
   "outputs": [],
   "source": [
    "# Keep only the year of the release date\n",
    "movies['movie_release_date'] = movies['movie_release_date'].str[:4]"
   ]
  },
  {
   "cell_type": "markdown",
   "id": "75e26c67",
   "metadata": {},
   "source": [
    "## 3 - Geographic distribution of movies"
   ]
  },
  {
   "cell_type": "markdown",
   "id": "95513a14",
   "metadata": {},
   "source": [
    "### 3.1 - Gather region for each country"
   ]
  },
  {
   "cell_type": "markdown",
   "id": "2e953d82",
   "metadata": {},
   "source": [
    "- For this part, we use an online API which provides varied data about each country, and will use the name given in the dataset to gather the corresponding region.\n",
    "\n",
    "- Since both datasets come from different sources, it is likely that the country names won't match, so we might need to do some changes. "
   ]
  },
  {
   "cell_type": "code",
   "execution_count": 8,
   "id": "40004357",
   "metadata": {},
   "outputs": [
    {
     "data": {
      "text/html": [
       "<div>\n",
       "<style scoped>\n",
       "    .dataframe tbody tr th:only-of-type {\n",
       "        vertical-align: middle;\n",
       "    }\n",
       "\n",
       "    .dataframe tbody tr th {\n",
       "        vertical-align: top;\n",
       "    }\n",
       "\n",
       "    .dataframe thead th {\n",
       "        text-align: right;\n",
       "    }\n",
       "</style>\n",
       "<table border=\"1\" class=\"dataframe\">\n",
       "  <thead>\n",
       "    <tr style=\"text-align: right;\">\n",
       "      <th></th>\n",
       "      <th>country</th>\n",
       "      <th>region</th>\n",
       "    </tr>\n",
       "  </thead>\n",
       "  <tbody>\n",
       "    <tr>\n",
       "      <th>0</th>\n",
       "      <td>Mauritania</td>\n",
       "      <td>Africa</td>\n",
       "    </tr>\n",
       "    <tr>\n",
       "      <th>1</th>\n",
       "      <td>Niger</td>\n",
       "      <td>Africa</td>\n",
       "    </tr>\n",
       "    <tr>\n",
       "      <th>2</th>\n",
       "      <td>Togo</td>\n",
       "      <td>Africa</td>\n",
       "    </tr>\n",
       "    <tr>\n",
       "      <th>3</th>\n",
       "      <td>Madagascar</td>\n",
       "      <td>Africa</td>\n",
       "    </tr>\n",
       "    <tr>\n",
       "      <th>4</th>\n",
       "      <td>Algeria</td>\n",
       "      <td>Africa</td>\n",
       "    </tr>\n",
       "  </tbody>\n",
       "</table>\n",
       "</div>"
      ],
      "text/plain": [
       "      country  region\n",
       "0  Mauritania  Africa\n",
       "1       Niger  Africa\n",
       "2        Togo  Africa\n",
       "3  Madagascar  Africa\n",
       "4     Algeria  Africa"
      ]
     },
     "execution_count": 8,
     "metadata": {},
     "output_type": "execute_result"
    }
   ],
   "source": [
    "# Get region for each country\n",
    "\n",
    "region_lst = [\"Africa\", \"Americas\", \"Asia\", \"Europe\", \"Oceania\"]\n",
    "countries = {\"country\" : [],\n",
    "\"region\" : []}\n",
    "\n",
    "country_lst = [[], []]\n",
    "df_countries = pd.DataFrame(columns = [\"country\", \"region\"])\n",
    "\n",
    "for region in region_lst:\n",
    "    response = requests.get(\"https://restcountries.com/v3.1/region/\" + region).json()\n",
    "\n",
    "    for elem in response:\n",
    "        countries[\"country\"].append(elem.get(\"name\").get(\"common\"))\n",
    "        countries[\"region\"].append(region)\n",
    "\n",
    "df_countries = pd.DataFrame.from_dict(countries)\n",
    "df_countries.head()"
   ]
  },
  {
   "cell_type": "markdown",
   "id": "bebb9f3b",
   "metadata": {},
   "source": [
    "### 3.2 - Missing countries in our country-region table\n",
    "\n",
    "We now want to answer the following questions: \n",
    "- What are the unreferenced countries?\n",
    "- For each of these countries, how many movies did they produce/co-produce?\n",
    "- Which country reprensent 95% of all thoses movies? \n",
    "\n",
    "We could then keep only these countries, and update the country-region reference table. "
   ]
  },
  {
   "cell_type": "code",
   "execution_count": 9,
   "id": "adb39b34",
   "metadata": {},
   "outputs": [
    {
     "name": "stdout",
     "output_type": "stream",
     "text": [
      "There is a total of 8053 movies that contain a null movie name (NaN) among the producing countries (movie_countries column)\n",
      "98.87% of them only contain 1 NaN occurence, up to 7962.\n"
     ]
    },
    {
     "data": {
      "text/plain": [
       "1    7962\n",
       "2      83\n",
       "3       7\n",
       "5       1\n",
       "dtype: int64"
      ]
     },
     "execution_count": 9,
     "metadata": {},
     "output_type": "execute_result"
    },
    {
     "data": {
      "image/png": "[encoded data removed]",
      "text/plain": [
       "<Figure size 640x480 with 1 Axes>"
      ]
     },
     "metadata": {},
     "output_type": "display_data"
    }
   ],
   "source": [
    "all_movie_countries = movies.explode(\"movie_countries\", ignore_index = True)\n",
    "unique_movie_countries = all_movie_countries.loc[all_movie_countries[\"movie_countries\"].isnull()]\n",
    "grunique_movie_countries = unique_movie_countries.groupby(\"movie_name\").size()\n",
    "grunique_movie_countries = grunique_movie_countries.groupby(grunique_movie_countries).size()\n",
    "ax = grunique_movie_countries.plot.bar()\n",
    "ax.set_yscale(\"log\")\n",
    "ax.set_xlabel(\"# NaN reference in movie_countries\") \n",
    "ax.set_ylabel(\"# movies\")\n",
    "ax.set_title(\"Amount of movies by amount of NaN country occurence in movie_countries\");\n",
    "print(f\"There is a total of {grunique_movie_countries.sum()} movies that contain a null movie name (NaN) among the producing countries (movie_countries column)\")\n",
    "print(f\"{grunique_movie_countries.iloc[0]/grunique_movie_countries.sum() :.2%} of them only contain 1 NaN occurence, up to {grunique_movie_countries.max()}.\")\n",
    "grunique_movie_countries"
   ]
  },
  {
   "cell_type": "code",
   "execution_count": 10,
   "id": "ea4eb5bb",
   "metadata": {},
   "outputs": [
    {
     "name": "stdout",
     "output_type": "stream",
     "text": [
      "95% of these movies come from ['United States of America' 'West Germany']\n"
     ]
    },
    {
     "data": {
      "image/png": "[encoded data removed]",
      "text/plain": [
       "<Figure size 640x480 with 1 Axes>"
      ]
     },
     "metadata": {},
     "output_type": "display_data"
    }
   ],
   "source": [
    "######################################\n",
    "# What are the unreferenced countries?\n",
    "######################################\n",
    "\n",
    "# Get all unique countries in our dataset\n",
    "all_movie_countries = movies[\"movie_countries\"].explode(ignore_index = True)\n",
    "unique_movie_countries = all_movie_countries.unique()\n",
    "\n",
    "# Referenced unique countries\n",
    "referenced_countries = df_countries[\"country\"].unique()\n",
    "\n",
    "# Unreferenced countries in the dataset\n",
    "unreferenced = [a for a in unique_movie_countries if a not in referenced_countries]\n",
    "\n",
    "###########################################################################\n",
    "# For each of these countries, how many movies did they produce/co-produce?\n",
    "###########################################################################\n",
    "\n",
    "df_unreferenced = all_movie_countries.groupby(all_movie_countries).size()\n",
    "df_unreferenced = df_unreferenced[df_unreferenced.index.isin(unreferenced)].sort_values(ascending = False)\n",
    "\n",
    "# Plot\n",
    "ax = df_unreferenced.plot.bar()\n",
    "ax.set_yscale(\"log\")\n",
    "ax.set_xlabel(\"country\") \n",
    "ax.set_ylabel(\"# movies\")\n",
    "ax.set_title(\"Amount of movies released by unknow countries from the API response\");\n",
    "\n",
    "# Get country names representing 95% of movie quantity\n",
    "percentile_95 = df_unreferenced.sum() * 0.95\n",
    "countries_to_keep = df_unreferenced[df_unreferenced.cumsum() <= percentile_95]\n",
    "\n",
    "print(f\"95% of these movies come from {countries_to_keep.index.values}\")\n",
    "\n",
    "# Add these countries to the API dataframe response\n",
    "countries_to_add = dict(zip([\"country\", \"region\"], [countries_to_keep.index.values.tolist(), [\"Americas\", \"Europe\"]]))\n",
    "countries_to_add = pd.DataFrame.from_dict(countries_to_add)\n",
    "df_countries = pd.concat([df_countries, countries_to_add], ignore_index=True)\n",
    "\n",
    "\n",
    "# Update the list of unreferenced countries\n",
    "for country in countries_to_keep.index.values.tolist():\n",
    "    unreferenced.pop(unreferenced.index(country))"
   ]
  },
  {
   "cell_type": "markdown",
   "id": "4ebc2357",
   "metadata": {},
   "source": [
    "### 3.3 - Clean dataset\n",
    "\n",
    "- We now remove all movies with a \"movie_country\" item in one of the unreferenced country we do not want to consider."
   ]
  },
  {
   "cell_type": "code",
   "execution_count": 11,
   "id": "82ba230f",
   "metadata": {},
   "outputs": [
    {
     "name": "stdout",
     "output_type": "stream",
     "text": [
      "2282 movies were removed.\n"
     ]
    }
   ],
   "source": [
    "movie_count = len(movies)\n",
    "movies = movies[movies.movie_countries.apply(lambda x: not any(i in unreferenced for i in x))]\n",
    "print(f\"{movie_count - len(movies)} movies were removed.\")"
   ]
  },
  {
   "cell_type": "markdown",
   "id": "baf94c6f",
   "metadata": {},
   "source": [
    "### 3.4 - Add the region information to our dataset\n",
    "\n",
    "- The *region* column contains the continent in which the movie was produced (can be different regions if multiple countries from different continent co-produced the movie)."
   ]
  },
  {
   "cell_type": "code",
   "execution_count": 12,
   "id": "d5c01ffe",
   "metadata": {},
   "outputs": [
    {
     "data": {
      "text/html": [
       "<div>\n",
       "<style scoped>\n",
       "    .dataframe tbody tr th:only-of-type {\n",
       "        vertical-align: middle;\n",
       "    }\n",
       "\n",
       "    .dataframe tbody tr th {\n",
       "        vertical-align: top;\n",
       "    }\n",
       "\n",
       "    .dataframe thead th {\n",
       "        text-align: right;\n",
       "    }\n",
       "</style>\n",
       "<table border=\"1\" class=\"dataframe\">\n",
       "  <thead>\n",
       "    <tr style=\"text-align: right;\">\n",
       "      <th></th>\n",
       "      <th>wiki_movie_ID</th>\n",
       "      <th>freebase_movie_ID</th>\n",
       "      <th>movie_name</th>\n",
       "      <th>movie_release_date</th>\n",
       "      <th>movie_box_off_rev</th>\n",
       "      <th>movie_runtime</th>\n",
       "      <th>movie_languages</th>\n",
       "      <th>movie_countries</th>\n",
       "      <th>movie_genres</th>\n",
       "      <th>movie_countries_id</th>\n",
       "      <th>movie_genres_id</th>\n",
       "      <th>movie_languages_id</th>\n",
       "      <th>region</th>\n",
       "    </tr>\n",
       "  </thead>\n",
       "  <tbody>\n",
       "    <tr>\n",
       "      <th>0</th>\n",
       "      <td>975900</td>\n",
       "      <td>/m/03vyhn</td>\n",
       "      <td>Ghosts of Mars</td>\n",
       "      <td>2001</td>\n",
       "      <td>14010832.0</td>\n",
       "      <td>98.0</td>\n",
       "      <td>[English Language]</td>\n",
       "      <td>[United States of America]</td>\n",
       "      <td>[Thriller, Science Fiction, Horror, Adventure,...</td>\n",
       "      <td>[/m/09c7w0]</td>\n",
       "      <td>[/m/01jfsb, /m/06n90, /m/03npn, /m/03k9fj, /m/...</td>\n",
       "      <td>[/m/02h40lc]</td>\n",
       "      <td>[Americas]</td>\n",
       "    </tr>\n",
       "    <tr>\n",
       "      <th>1</th>\n",
       "      <td>3196793</td>\n",
       "      <td>/m/08yl5d</td>\n",
       "      <td>Getting Away with Murder: The JonBenét Ramsey ...</td>\n",
       "      <td>2000</td>\n",
       "      <td>NaN</td>\n",
       "      <td>95.0</td>\n",
       "      <td>[English Language]</td>\n",
       "      <td>[United States of America]</td>\n",
       "      <td>[Mystery, Biographical film, Drama, Crime Drama]</td>\n",
       "      <td>[/m/09c7w0]</td>\n",
       "      <td>[/m/02n4kr, /m/03bxz7, /m/07s9rl0, /m/0hj3n01]</td>\n",
       "      <td>[/m/02h40lc]</td>\n",
       "      <td>[Americas]</td>\n",
       "    </tr>\n",
       "    <tr>\n",
       "      <th>2</th>\n",
       "      <td>28463795</td>\n",
       "      <td>/m/0crgdbh</td>\n",
       "      <td>Brun bitter</td>\n",
       "      <td>1988</td>\n",
       "      <td>NaN</td>\n",
       "      <td>83.0</td>\n",
       "      <td>[Norwegian Language]</td>\n",
       "      <td>[Norway]</td>\n",
       "      <td>[Crime Fiction, Drama]</td>\n",
       "      <td>[/m/05b4w]</td>\n",
       "      <td>[/m/0lsxr, /m/07s9rl0]</td>\n",
       "      <td>[/m/05f_3]</td>\n",
       "      <td>[Europe]</td>\n",
       "    </tr>\n",
       "    <tr>\n",
       "      <th>3</th>\n",
       "      <td>9363483</td>\n",
       "      <td>/m/0285_cd</td>\n",
       "      <td>White Of The Eye</td>\n",
       "      <td>1987</td>\n",
       "      <td>NaN</td>\n",
       "      <td>110.0</td>\n",
       "      <td>[English Language]</td>\n",
       "      <td>[United Kingdom]</td>\n",
       "      <td>[Thriller, Erotic thriller, Psychological thri...</td>\n",
       "      <td>[/m/07ssc]</td>\n",
       "      <td>[/m/01jfsb, /m/0glj9q, /m/09blyk]</td>\n",
       "      <td>[/m/02h40lc]</td>\n",
       "      <td>[Europe]</td>\n",
       "    </tr>\n",
       "    <tr>\n",
       "      <th>4</th>\n",
       "      <td>261236</td>\n",
       "      <td>/m/01mrr1</td>\n",
       "      <td>A Woman in Flames</td>\n",
       "      <td>1983</td>\n",
       "      <td>NaN</td>\n",
       "      <td>106.0</td>\n",
       "      <td>[German Language]</td>\n",
       "      <td>[Germany]</td>\n",
       "      <td>[Drama]</td>\n",
       "      <td>[/m/0345h]</td>\n",
       "      <td>[/m/07s9rl0]</td>\n",
       "      <td>[/m/04306rv]</td>\n",
       "      <td>[Europe]</td>\n",
       "    </tr>\n",
       "  </tbody>\n",
       "</table>\n",
       "</div>"
      ],
      "text/plain": [
       "   wiki_movie_ID freebase_movie_ID  \\\n",
       "0         975900         /m/03vyhn   \n",
       "1        3196793         /m/08yl5d   \n",
       "2       28463795        /m/0crgdbh   \n",
       "3        9363483        /m/0285_cd   \n",
       "4         261236         /m/01mrr1   \n",
       "\n",
       "                                          movie_name movie_release_date  \\\n",
       "0                                     Ghosts of Mars               2001   \n",
       "1  Getting Away with Murder: The JonBenét Ramsey ...               2000   \n",
       "2                                        Brun bitter               1988   \n",
       "3                                   White Of The Eye               1987   \n",
       "4                                  A Woman in Flames               1983   \n",
       "\n",
       "   movie_box_off_rev  movie_runtime       movie_languages  \\\n",
       "0         14010832.0           98.0    [English Language]   \n",
       "1                NaN           95.0    [English Language]   \n",
       "2                NaN           83.0  [Norwegian Language]   \n",
       "3                NaN          110.0    [English Language]   \n",
       "4                NaN          106.0     [German Language]   \n",
       "\n",
       "              movie_countries  \\\n",
       "0  [United States of America]   \n",
       "1  [United States of America]   \n",
       "2                    [Norway]   \n",
       "3            [United Kingdom]   \n",
       "4                   [Germany]   \n",
       "\n",
       "                                        movie_genres movie_countries_id  \\\n",
       "0  [Thriller, Science Fiction, Horror, Adventure,...        [/m/09c7w0]   \n",
       "1   [Mystery, Biographical film, Drama, Crime Drama]        [/m/09c7w0]   \n",
       "2                             [Crime Fiction, Drama]         [/m/05b4w]   \n",
       "3  [Thriller, Erotic thriller, Psychological thri...         [/m/07ssc]   \n",
       "4                                            [Drama]         [/m/0345h]   \n",
       "\n",
       "                                     movie_genres_id movie_languages_id  \\\n",
       "0  [/m/01jfsb, /m/06n90, /m/03npn, /m/03k9fj, /m/...       [/m/02h40lc]   \n",
       "1     [/m/02n4kr, /m/03bxz7, /m/07s9rl0, /m/0hj3n01]       [/m/02h40lc]   \n",
       "2                             [/m/0lsxr, /m/07s9rl0]         [/m/05f_3]   \n",
       "3                  [/m/01jfsb, /m/0glj9q, /m/09blyk]       [/m/02h40lc]   \n",
       "4                                       [/m/07s9rl0]       [/m/04306rv]   \n",
       "\n",
       "       region  \n",
       "0  [Americas]  \n",
       "1  [Americas]  \n",
       "2    [Europe]  \n",
       "3    [Europe]  \n",
       "4    [Europe]  "
      ]
     },
     "execution_count": 12,
     "metadata": {},
     "output_type": "execute_result"
    }
   ],
   "source": [
    "# Add region column\n",
    "# For each country in movies.movie_countries, get the region (remove region duplicates)\n",
    "def get_region(country_lst):\n",
    "    output = []\n",
    "    for country in country_lst:\n",
    "        try:\n",
    "            output.append(df_countries.loc[df_countries[\"country\"] == country][\"region\"].values[0])\n",
    "        except:\n",
    "            raise KeyError(f\"{country} not found in the reference list\")\n",
    "\n",
    "    #remove duplicates\n",
    "    return list(set(output))\n",
    "\n",
    "movies_copy = movies.copy()\n",
    "movies_copy[\"region\"] = movies_copy.loc[:, (\"movie_countries\")].apply(lambda x: get_region(x))\n",
    "movies = movies_copy.copy()\n",
    "movies.head()"
   ]
  },
  {
   "cell_type": "markdown",
   "id": "64782b79",
   "metadata": {},
   "source": [
    "### 4.1 - Evaluating and filtering out missing values"
   ]
  },
  {
   "cell_type": "code",
   "execution_count": 13,
   "id": "b565e71d",
   "metadata": {},
   "outputs": [
    {
     "name": "stdout",
     "output_type": "stream",
     "text": [
      " 89.9% of the DataFrame \"characters\" has reported gender, the corresponding DataFrame \"characters_gender\" contains 405060 rows.\n"
     ]
    }
   ],
   "source": [
    "# Create a DataFrame keeping only characters where actors have reported gender\n",
    "characters_gender = characters[characters[\"actor_gender\"].notnull()]\n",
    "print('{: .1%} of the DataFrame \"characters\" has reported gender, the corresponding DataFrame \"characters_gender\" contains {} rows.'.format(len(characters_gender) / len(characters), len(characters_gender)))"
   ]
  },
  {
   "cell_type": "code",
   "execution_count": 14,
   "id": "2263691b",
   "metadata": {},
   "outputs": [
    {
     "data": {
      "text/plain": [
       "['F', 'F', 'M', 'M', 'F', ..., 'F', 'M', 'F', 'M', 'M']\n",
       "Length: 405060\n",
       "Categories (2, object): ['F', 'M']"
      ]
     },
     "execution_count": 14,
     "metadata": {},
     "output_type": "execute_result"
    }
   ],
   "source": [
    "# What are the possible different values for characters_gender? \n",
    "pd.Categorical(characters_gender.actor_gender)"
   ]
  },
  {
   "cell_type": "markdown",
   "id": "a3656903",
   "metadata": {},
   "source": [
    "### 4.2 - What is the repartition between male and female characters? "
   ]
  },
  {
   "cell_type": "code",
   "execution_count": 15,
   "id": "12b8a8e1",
   "metadata": {},
   "outputs": [
    {
     "name": "stdout",
     "output_type": "stream",
     "text": [
      "66.72% of reported characters are played by male actors.\n"
     ]
    },
    {
     "data": {
      "image/png": "[encoded data removed]",
      "text/plain": [
       "<Figure size 640x480 with 1 Axes>"
      ]
     },
     "metadata": {},
     "output_type": "display_data"
    }
   ],
   "source": [
    "# Create two DataFrame for characters played by female/male\n",
    "characters_female = characters_gender[characters_gender['actor_gender']== 'F']\n",
    "characters_male = characters_gender[characters_gender['actor_gender']== 'M']\n",
    "\n",
    "# Plot the repartition\n",
    "sns.countplot(x = characters_gender['actor_gender'])\n",
    "print(\"{:.2%} of reported characters are played by male actors.\".format(len(characters_male)/len(characters_gender)))"
   ]
  },
  {
   "cell_type": "markdown",
   "id": "b6db073f",
   "metadata": {},
   "source": [
    "### 4.3 - How is age of male characters compared to age of female characters? "
   ]
  },
  {
   "cell_type": "markdown",
   "id": "641c2fb5",
   "metadata": {},
   "source": [
    "- We want to compare age of the actors and actresses palying roles reported in *character*. "
   ]
  },
  {
   "cell_type": "code",
   "execution_count": 16,
   "id": "73409049",
   "metadata": {},
   "outputs": [
    {
     "name": "stdout",
     "output_type": "stream",
     "text": [
      " 64.5% of the DataFrame \"characters\" has reported gender and age of the actor/actress; the corresponding DataFrame \"characters_gender_age\" contains 290770 rows.\n"
     ]
    }
   ],
   "source": [
    "# Clear out characters_gender where age is not reported (characters_gender_age)\n",
    "characters_gender_age = characters_gender[characters_gender[\"actor_age_movie\"].notnull()]\n",
    "print('{: .1%} of the DataFrame \"characters\" has reported gender and age of the actor/actress; the corresponding DataFrame \"characters_gender_age\" contains {} rows.'.format(len(characters_gender_age) / len(characters), len(characters_gender_age)))"
   ]
  },
  {
   "cell_type": "markdown",
   "id": "91ea933e",
   "metadata": {},
   "source": [
    "- We first explore and clean the data. "
   ]
  },
  {
   "cell_type": "code",
   "execution_count": 17,
   "id": "92a45ebc",
   "metadata": {},
   "outputs": [
    {
     "data": {
      "text/html": [
       "<div>\n",
       "<style scoped>\n",
       "    .dataframe tbody tr th:only-of-type {\n",
       "        vertical-align: middle;\n",
       "    }\n",
       "\n",
       "    .dataframe tbody tr th {\n",
       "        vertical-align: top;\n",
       "    }\n",
       "\n",
       "    .dataframe thead th {\n",
       "        text-align: right;\n",
       "    }\n",
       "</style>\n",
       "<table border=\"1\" class=\"dataframe\">\n",
       "  <thead>\n",
       "    <tr style=\"text-align: right;\">\n",
       "      <th></th>\n",
       "      <th>wiki_movie_ID</th>\n",
       "      <th>actor_height</th>\n",
       "      <th>actor_age_movie</th>\n",
       "    </tr>\n",
       "  </thead>\n",
       "  <tbody>\n",
       "    <tr>\n",
       "      <th>count</th>\n",
       "      <td>2.907700e+05</td>\n",
       "      <td>139639.000000</td>\n",
       "      <td>290770.000000</td>\n",
       "    </tr>\n",
       "    <tr>\n",
       "      <th>mean</th>\n",
       "      <td>1.302929e+07</td>\n",
       "      <td>1.789524</td>\n",
       "      <td>37.804148</td>\n",
       "    </tr>\n",
       "    <tr>\n",
       "      <th>std</th>\n",
       "      <td>1.080402e+07</td>\n",
       "      <td>4.380801</td>\n",
       "      <td>20.616015</td>\n",
       "    </tr>\n",
       "    <tr>\n",
       "      <th>min</th>\n",
       "      <td>3.300000e+02</td>\n",
       "      <td>0.610000</td>\n",
       "      <td>-7896.000000</td>\n",
       "    </tr>\n",
       "    <tr>\n",
       "      <th>25%</th>\n",
       "      <td>3.052538e+06</td>\n",
       "      <td>1.680000</td>\n",
       "      <td>28.000000</td>\n",
       "    </tr>\n",
       "    <tr>\n",
       "      <th>50%</th>\n",
       "      <td>1.014264e+07</td>\n",
       "      <td>1.750000</td>\n",
       "      <td>36.000000</td>\n",
       "    </tr>\n",
       "    <tr>\n",
       "      <th>75%</th>\n",
       "      <td>2.261175e+07</td>\n",
       "      <td>1.830000</td>\n",
       "      <td>47.000000</td>\n",
       "    </tr>\n",
       "    <tr>\n",
       "      <th>max</th>\n",
       "      <td>3.750192e+07</td>\n",
       "      <td>510.000000</td>\n",
       "      <td>103.000000</td>\n",
       "    </tr>\n",
       "  </tbody>\n",
       "</table>\n",
       "</div>"
      ],
      "text/plain": [
       "       wiki_movie_ID   actor_height  actor_age_movie\n",
       "count   2.907700e+05  139639.000000    290770.000000\n",
       "mean    1.302929e+07       1.789524        37.804148\n",
       "std     1.080402e+07       4.380801        20.616015\n",
       "min     3.300000e+02       0.610000     -7896.000000\n",
       "25%     3.052538e+06       1.680000        28.000000\n",
       "50%     1.014264e+07       1.750000        36.000000\n",
       "75%     2.261175e+07       1.830000        47.000000\n",
       "max     3.750192e+07     510.000000       103.000000"
      ]
     },
     "execution_count": 17,
     "metadata": {},
     "output_type": "execute_result"
    }
   ],
   "source": [
    "# Explore basic statistics\n",
    "characters_gender_age.describe()"
   ]
  },
  {
   "cell_type": "markdown",
   "id": "77e0635d",
   "metadata": {},
   "source": [
    "- The negative values do not make sense: we filter them out."
   ]
  },
  {
   "cell_type": "code",
   "execution_count": 18,
   "id": "4ff6d0a8",
   "metadata": {},
   "outputs": [],
   "source": [
    "# Keep only rows where \"actor_age_movie\" is positive\n",
    "characters_gender_age = characters_gender_age[characters_gender_age['actor_age_movie'] >= 0]"
   ]
  },
  {
   "cell_type": "markdown",
   "id": "fb1ca983",
   "metadata": {},
   "source": [
    "### 4.4 - How about height? "
   ]
  },
  {
   "cell_type": "markdown",
   "id": "d2e10638",
   "metadata": {},
   "source": [
    "- We can perform the same analysis for height. "
   ]
  },
  {
   "cell_type": "code",
   "execution_count": 19,
   "id": "30ba16a9",
   "metadata": {},
   "outputs": [
    {
     "name": "stdout",
     "output_type": "stream",
     "text": [
      " 34.3% of the DataFrame \"characters\" has reported gender and height of the actor/actress; the corresponding DataFrame \"characters_gender_height\" contains 154663 rows.\n"
     ]
    }
   ],
   "source": [
    "# Clear out characters_gender where height is not reported (characters_gender_age)\n",
    "characters_gender_height = characters_gender[characters_gender[\"actor_height\"].notnull()]\n",
    "print('{: .1%} of the DataFrame \"characters\" has reported gender and height of the actor/actress; the corresponding DataFrame \"characters_gender_height\" contains {} rows.'.format(len(characters_gender_height) / len(characters), len(characters_gender_height)))"
   ]
  },
  {
   "cell_type": "code",
   "execution_count": 20,
   "id": "8ec52a10",
   "metadata": {},
   "outputs": [
    {
     "data": {
      "text/plain": [
       "count    154663.000000\n",
       "mean          1.788966\n",
       "std           4.382216\n",
       "min           0.610000\n",
       "25%           1.676400\n",
       "50%           1.750000\n",
       "75%           1.830000\n",
       "max         510.000000\n",
       "Name: actor_height, dtype: float64"
      ]
     },
     "execution_count": 20,
     "metadata": {},
     "output_type": "execute_result"
    }
   ],
   "source": [
    "# Explore basic statistics on height\n",
    "characters_gender_height[\"actor_height\"].describe()"
   ]
  },
  {
   "cell_type": "markdown",
   "id": "167bf030",
   "metadata": {},
   "source": [
    "- 510 cm seems to be a corrupted value. We filter rows where height is above 2,72m (biggest height reported)."
   ]
  },
  {
   "cell_type": "code",
   "execution_count": 21,
   "id": "d2e05b1a",
   "metadata": {},
   "outputs": [],
   "source": [
    "# Keep only rows where \"actor_height\" is below 2.72m\n",
    "characters_gender_height = characters_gender_height[characters_gender_height['actor_height'] < 2.73]"
   ]
  },
  {
   "cell_type": "markdown",
   "id": "34fd7bb7",
   "metadata": {},
   "source": [
    "## 5 - Representation of women in movies"
   ]
  },
  {
   "cell_type": "markdown",
   "id": "625b8c03",
   "metadata": {},
   "source": [
    "### 5.1 - Percentage of women in movies"
   ]
  },
  {
   "cell_type": "markdown",
   "id": "be22929a",
   "metadata": {},
   "source": [
    "- First, we want to compute the percentage of women in each movie where there is a reported character with a gender. "
   ]
  },
  {
   "cell_type": "code",
   "execution_count": 22,
   "id": "775fbdcf",
   "metadata": {},
   "outputs": [
    {
     "name": "stderr",
     "output_type": "stream",
     "text": [
      "C:\\Users\\ma2le\\AppData\\Local\\Temp\\ipykernel_254628\\1310754118.py:2: SettingWithCopyWarning: \n",
      "A value is trying to be set on a copy of a slice from a DataFrame.\n",
      "Try using .loc[row_indexer,col_indexer] = value instead\n",
      "\n",
      "See the caveats in the documentation: https://pandas.pydata.org/pandas-docs/stable/user_guide/indexing.html#returning-a-view-versus-a-copy\n",
      "  characters_gender['female'] = characters_gender.actor_gender=='F'\n",
      "C:\\Users\\ma2le\\AppData\\Local\\Temp\\ipykernel_254628\\1310754118.py:5: FutureWarning: The default value of numeric_only in DataFrameGroupBy.mean is deprecated. In a future version, numeric_only will default to False. Either specify numeric_only or select only columns which should be valid for the function.\n",
      "  percentage_female=  characters_gender.groupby(characters_gender['freebase_movie_ID'])[['freebase_movie_ID','female']].mean()\n"
     ]
    },
    {
     "data": {
      "text/html": [
       "<div>\n",
       "<style scoped>\n",
       "    .dataframe tbody tr th:only-of-type {\n",
       "        vertical-align: middle;\n",
       "    }\n",
       "\n",
       "    .dataframe tbody tr th {\n",
       "        vertical-align: top;\n",
       "    }\n",
       "\n",
       "    .dataframe thead th {\n",
       "        text-align: right;\n",
       "    }\n",
       "</style>\n",
       "<table border=\"1\" class=\"dataframe\">\n",
       "  <thead>\n",
       "    <tr style=\"text-align: right;\">\n",
       "      <th></th>\n",
       "      <th>female</th>\n",
       "    </tr>\n",
       "    <tr>\n",
       "      <th>freebase_movie_ID</th>\n",
       "      <th></th>\n",
       "    </tr>\n",
       "  </thead>\n",
       "  <tbody>\n",
       "    <tr>\n",
       "      <th>/m/011_mj</th>\n",
       "      <td>0.142857</td>\n",
       "    </tr>\n",
       "    <tr>\n",
       "      <th>/m/011_p6</th>\n",
       "      <td>0.400000</td>\n",
       "    </tr>\n",
       "    <tr>\n",
       "      <th>/m/011_zy</th>\n",
       "      <td>0.250000</td>\n",
       "    </tr>\n",
       "    <tr>\n",
       "      <th>/m/011wtv</th>\n",
       "      <td>0.333333</td>\n",
       "    </tr>\n",
       "    <tr>\n",
       "      <th>/m/011x_4</th>\n",
       "      <td>0.294118</td>\n",
       "    </tr>\n",
       "  </tbody>\n",
       "</table>\n",
       "</div>"
      ],
      "text/plain": [
       "                     female\n",
       "freebase_movie_ID          \n",
       "/m/011_mj          0.142857\n",
       "/m/011_p6          0.400000\n",
       "/m/011_zy          0.250000\n",
       "/m/011wtv          0.333333\n",
       "/m/011x_4          0.294118"
      ]
     },
     "execution_count": 22,
     "metadata": {},
     "output_type": "execute_result"
    }
   ],
   "source": [
    "# creation of a column with \"True\" for womens\n",
    "characters_gender['female'] = characters_gender.actor_gender=='F'\n",
    "\n",
    "# compute percentage of women by movie\n",
    "percentage_female=  characters_gender.groupby(characters_gender['freebase_movie_ID'])[['freebase_movie_ID','female']].mean()\n",
    "percentage_female.head()"
   ]
  },
  {
   "cell_type": "markdown",
   "id": "b9ed2ae3",
   "metadata": {},
   "source": [
    "We create a new DataFrame where we merge *movies* with *percentage_female* to add the percentage of female for each movie. "
   ]
  },
  {
   "cell_type": "code",
   "execution_count": 23,
   "id": "07393cf9",
   "metadata": {},
   "outputs": [
    {
     "data": {
      "text/html": [
       "<div>\n",
       "<style scoped>\n",
       "    .dataframe tbody tr th:only-of-type {\n",
       "        vertical-align: middle;\n",
       "    }\n",
       "\n",
       "    .dataframe tbody tr th {\n",
       "        vertical-align: top;\n",
       "    }\n",
       "\n",
       "    .dataframe thead th {\n",
       "        text-align: right;\n",
       "    }\n",
       "</style>\n",
       "<table border=\"1\" class=\"dataframe\">\n",
       "  <thead>\n",
       "    <tr style=\"text-align: right;\">\n",
       "      <th></th>\n",
       "      <th>wiki_movie_ID</th>\n",
       "      <th>freebase_movie_ID</th>\n",
       "      <th>movie_name</th>\n",
       "      <th>movie_release_date</th>\n",
       "      <th>movie_box_off_rev</th>\n",
       "      <th>movie_runtime</th>\n",
       "      <th>movie_languages</th>\n",
       "      <th>movie_countries</th>\n",
       "      <th>movie_genres</th>\n",
       "      <th>movie_countries_id</th>\n",
       "      <th>movie_genres_id</th>\n",
       "      <th>movie_languages_id</th>\n",
       "      <th>region</th>\n",
       "      <th>female</th>\n",
       "    </tr>\n",
       "  </thead>\n",
       "  <tbody>\n",
       "    <tr>\n",
       "      <th>0</th>\n",
       "      <td>975900</td>\n",
       "      <td>/m/03vyhn</td>\n",
       "      <td>Ghosts of Mars</td>\n",
       "      <td>2001</td>\n",
       "      <td>14010832.0</td>\n",
       "      <td>98.0</td>\n",
       "      <td>[English Language]</td>\n",
       "      <td>[United States of America]</td>\n",
       "      <td>[Thriller, Science Fiction, Horror, Adventure,...</td>\n",
       "      <td>[/m/09c7w0]</td>\n",
       "      <td>[/m/01jfsb, /m/06n90, /m/03npn, /m/03k9fj, /m/...</td>\n",
       "      <td>[/m/02h40lc]</td>\n",
       "      <td>[Americas]</td>\n",
       "      <td>0.352941</td>\n",
       "    </tr>\n",
       "    <tr>\n",
       "      <th>1</th>\n",
       "      <td>3196793</td>\n",
       "      <td>/m/08yl5d</td>\n",
       "      <td>Getting Away with Murder: The JonBenét Ramsey ...</td>\n",
       "      <td>2000</td>\n",
       "      <td>NaN</td>\n",
       "      <td>95.0</td>\n",
       "      <td>[English Language]</td>\n",
       "      <td>[United States of America]</td>\n",
       "      <td>[Mystery, Biographical film, Drama, Crime Drama]</td>\n",
       "      <td>[/m/09c7w0]</td>\n",
       "      <td>[/m/02n4kr, /m/03bxz7, /m/07s9rl0, /m/0hj3n01]</td>\n",
       "      <td>[/m/02h40lc]</td>\n",
       "      <td>[Americas]</td>\n",
       "      <td>0.266667</td>\n",
       "    </tr>\n",
       "    <tr>\n",
       "      <th>2</th>\n",
       "      <td>28463795</td>\n",
       "      <td>/m/0crgdbh</td>\n",
       "      <td>Brun bitter</td>\n",
       "      <td>1988</td>\n",
       "      <td>NaN</td>\n",
       "      <td>83.0</td>\n",
       "      <td>[Norwegian Language]</td>\n",
       "      <td>[Norway]</td>\n",
       "      <td>[Crime Fiction, Drama]</td>\n",
       "      <td>[/m/05b4w]</td>\n",
       "      <td>[/m/0lsxr, /m/07s9rl0]</td>\n",
       "      <td>[/m/05f_3]</td>\n",
       "      <td>[Europe]</td>\n",
       "      <td>0.500000</td>\n",
       "    </tr>\n",
       "    <tr>\n",
       "      <th>3</th>\n",
       "      <td>9363483</td>\n",
       "      <td>/m/0285_cd</td>\n",
       "      <td>White Of The Eye</td>\n",
       "      <td>1987</td>\n",
       "      <td>NaN</td>\n",
       "      <td>110.0</td>\n",
       "      <td>[English Language]</td>\n",
       "      <td>[United Kingdom]</td>\n",
       "      <td>[Thriller, Erotic thriller, Psychological thri...</td>\n",
       "      <td>[/m/07ssc]</td>\n",
       "      <td>[/m/01jfsb, /m/0glj9q, /m/09blyk]</td>\n",
       "      <td>[/m/02h40lc]</td>\n",
       "      <td>[Europe]</td>\n",
       "      <td>0.500000</td>\n",
       "    </tr>\n",
       "    <tr>\n",
       "      <th>4</th>\n",
       "      <td>261236</td>\n",
       "      <td>/m/01mrr1</td>\n",
       "      <td>A Woman in Flames</td>\n",
       "      <td>1983</td>\n",
       "      <td>NaN</td>\n",
       "      <td>106.0</td>\n",
       "      <td>[German Language]</td>\n",
       "      <td>[Germany]</td>\n",
       "      <td>[Drama]</td>\n",
       "      <td>[/m/0345h]</td>\n",
       "      <td>[/m/07s9rl0]</td>\n",
       "      <td>[/m/04306rv]</td>\n",
       "      <td>[Europe]</td>\n",
       "      <td>0.333333</td>\n",
       "    </tr>\n",
       "  </tbody>\n",
       "</table>\n",
       "</div>"
      ],
      "text/plain": [
       "   wiki_movie_ID freebase_movie_ID  \\\n",
       "0         975900         /m/03vyhn   \n",
       "1        3196793         /m/08yl5d   \n",
       "2       28463795        /m/0crgdbh   \n",
       "3        9363483        /m/0285_cd   \n",
       "4         261236         /m/01mrr1   \n",
       "\n",
       "                                          movie_name movie_release_date  \\\n",
       "0                                     Ghosts of Mars               2001   \n",
       "1  Getting Away with Murder: The JonBenét Ramsey ...               2000   \n",
       "2                                        Brun bitter               1988   \n",
       "3                                   White Of The Eye               1987   \n",
       "4                                  A Woman in Flames               1983   \n",
       "\n",
       "   movie_box_off_rev  movie_runtime       movie_languages  \\\n",
       "0         14010832.0           98.0    [English Language]   \n",
       "1                NaN           95.0    [English Language]   \n",
       "2                NaN           83.0  [Norwegian Language]   \n",
       "3                NaN          110.0    [English Language]   \n",
       "4                NaN          106.0     [German Language]   \n",
       "\n",
       "              movie_countries  \\\n",
       "0  [United States of America]   \n",
       "1  [United States of America]   \n",
       "2                    [Norway]   \n",
       "3            [United Kingdom]   \n",
       "4                   [Germany]   \n",
       "\n",
       "                                        movie_genres movie_countries_id  \\\n",
       "0  [Thriller, Science Fiction, Horror, Adventure,...        [/m/09c7w0]   \n",
       "1   [Mystery, Biographical film, Drama, Crime Drama]        [/m/09c7w0]   \n",
       "2                             [Crime Fiction, Drama]         [/m/05b4w]   \n",
       "3  [Thriller, Erotic thriller, Psychological thri...         [/m/07ssc]   \n",
       "4                                            [Drama]         [/m/0345h]   \n",
       "\n",
       "                                     movie_genres_id movie_languages_id  \\\n",
       "0  [/m/01jfsb, /m/06n90, /m/03npn, /m/03k9fj, /m/...       [/m/02h40lc]   \n",
       "1     [/m/02n4kr, /m/03bxz7, /m/07s9rl0, /m/0hj3n01]       [/m/02h40lc]   \n",
       "2                             [/m/0lsxr, /m/07s9rl0]         [/m/05f_3]   \n",
       "3                  [/m/01jfsb, /m/0glj9q, /m/09blyk]       [/m/02h40lc]   \n",
       "4                                       [/m/07s9rl0]       [/m/04306rv]   \n",
       "\n",
       "       region    female  \n",
       "0  [Americas]  0.352941  \n",
       "1  [Americas]  0.266667  \n",
       "2    [Europe]  0.500000  \n",
       "3    [Europe]  0.500000  \n",
       "4    [Europe]  0.333333  "
      ]
     },
     "execution_count": 23,
     "metadata": {},
     "output_type": "execute_result"
    }
   ],
   "source": [
    "movies_female = movies.merge(percentage_female, left_on='freebase_movie_ID', right_on='freebase_movie_ID')\n",
    "movies_female.head()"
   ]
  },
  {
   "cell_type": "markdown",
   "id": "ec8446ce",
   "metadata": {},
   "source": [
    "- How many movies did we lose by merging? "
   ]
  },
  {
   "cell_type": "code",
   "execution_count": 24,
   "id": "b1db607c",
   "metadata": {},
   "outputs": [
    {
     "name": "stdout",
     "output_type": "stream",
     "text": [
      "We kept 78.42% of the DataFrame movies by merging.\n"
     ]
    }
   ],
   "source": [
    "print(\"We kept {:.2%} of the DataFrame movies by merging.\".format(len(movies_female)/len(movies)))"
   ]
  },
  {
   "cell_type": "markdown",
   "id": "60a27626",
   "metadata": {},
   "source": [
    "### 5.2 - Temporal evolution of female percentage in movies"
   ]
  },
  {
   "cell_type": "markdown",
   "id": "14a6f094",
   "metadata": {},
   "source": [
    "We now want to examine how female percentage in movies evolved over time. "
   ]
  },
  {
   "cell_type": "code",
   "execution_count": 25,
   "id": "65647910",
   "metadata": {},
   "outputs": [
    {
     "name": "stderr",
     "output_type": "stream",
     "text": [
      "C:\\Users\\ma2le\\AppData\\Local\\Temp\\ipykernel_254628\\2222213228.py:1: FutureWarning: The default value of numeric_only in DataFrameGroupBy.mean is deprecated. In a future version, numeric_only will default to False. Either specify numeric_only or select only columns which should be valid for the function.\n",
      "  movies_female_gp_year=movies_female.groupby(movies_female['movie_release_date'])[['movie_release_date','female']].mean()\n"
     ]
    },
    {
     "data": {
      "text/html": [
       "<div>\n",
       "<style scoped>\n",
       "    .dataframe tbody tr th:only-of-type {\n",
       "        vertical-align: middle;\n",
       "    }\n",
       "\n",
       "    .dataframe tbody tr th {\n",
       "        vertical-align: top;\n",
       "    }\n",
       "\n",
       "    .dataframe thead th {\n",
       "        text-align: right;\n",
       "    }\n",
       "</style>\n",
       "<table border=\"1\" class=\"dataframe\">\n",
       "  <thead>\n",
       "    <tr style=\"text-align: right;\">\n",
       "      <th></th>\n",
       "      <th>female</th>\n",
       "    </tr>\n",
       "    <tr>\n",
       "      <th>movie_release_date</th>\n",
       "      <th></th>\n",
       "    </tr>\n",
       "  </thead>\n",
       "  <tbody>\n",
       "    <tr>\n",
       "      <th>1888</th>\n",
       "      <td>0.50</td>\n",
       "    </tr>\n",
       "    <tr>\n",
       "      <th>1891</th>\n",
       "      <td>0.00</td>\n",
       "    </tr>\n",
       "    <tr>\n",
       "      <th>1893</th>\n",
       "      <td>0.00</td>\n",
       "    </tr>\n",
       "    <tr>\n",
       "      <th>1894</th>\n",
       "      <td>0.25</td>\n",
       "    </tr>\n",
       "    <tr>\n",
       "      <th>1895</th>\n",
       "      <td>0.00</td>\n",
       "    </tr>\n",
       "  </tbody>\n",
       "</table>\n",
       "</div>"
      ],
      "text/plain": [
       "                    female\n",
       "movie_release_date        \n",
       "1888                  0.50\n",
       "1891                  0.00\n",
       "1893                  0.00\n",
       "1894                  0.25\n",
       "1895                  0.00"
      ]
     },
     "execution_count": 25,
     "metadata": {},
     "output_type": "execute_result"
    }
   ],
   "source": [
    "movies_female_gp_year=movies_female.groupby(movies_female['movie_release_date'])[['movie_release_date','female']].mean()\n",
    "movies_female_gp_year.head()"
   ]
  },
  {
   "cell_type": "markdown",
   "id": "d0c6671f",
   "metadata": {},
   "source": [
    "- We want to plot the percentage of women over time."
   ]
  },
  {
   "cell_type": "code",
   "execution_count": 26,
   "id": "0c25f7b0",
   "metadata": {},
   "outputs": [
    {
     "data": {
      "text/plain": [
       "<matplotlib.lines.Line2D at 0x163af51f4f0>"
      ]
     },
     "execution_count": 26,
     "metadata": {},
     "output_type": "execute_result"
    },
    {
     "data": {
      "image/png": "[encoded data removed]",
      "text/plain": [
       "<Figure size 640x480 with 1 Axes>"
      ]
     },
     "metadata": {},
     "output_type": "display_data"
    }
   ],
   "source": [
    "movies_female_gp_year.plot(legend=False)\n",
    "plt.ylabel('Mean ratio of female by movie')\n",
    "plt.xlabel('year')\n",
    "plt.title('Presence of women in movies over time')\n",
    "plt.axhline(y=0.5,color ='red', ls='--')"
   ]
  },
  {
   "cell_type": "markdown",
   "id": "a00b6b1a",
   "metadata": {},
   "source": [
    "## 6 - How to evaluate the success of a movie ? "
   ]
  },
  {
   "cell_type": "markdown",
   "id": "5173eb79",
   "metadata": {},
   "source": [
    "In our dataset, the only feature we have to measure the success of a movie is the box office revenue. We will first analyze this feature on our dataset. "
   ]
  },
  {
   "cell_type": "markdown",
   "id": "bd10a41a",
   "metadata": {},
   "source": [
    "### 6.1 - Cleaning and missing values"
   ]
  },
  {
   "cell_type": "code",
   "execution_count": 27,
   "id": "2a713517",
   "metadata": {},
   "outputs": [
    {
     "name": "stdout",
     "output_type": "stream",
     "text": [
      "89.52% of the movies have a missing movie box office revenue value\n"
     ]
    }
   ],
   "source": [
    "print(\"{:.2%} of the movies have a missing movie box office revenue value\".format(movies.isnull().sum()['movie_box_off_rev']/len(movies)))"
   ]
  },
  {
   "cell_type": "markdown",
   "id": "96e00bba",
   "metadata": {},
   "source": [
    "- How are the missing values distributed over time ? \n",
    "- We calculate the number of movies per year which have a reported box office revenue. "
   ]
  },
  {
   "cell_type": "code",
   "execution_count": 28,
   "id": "dba6a0d0",
   "metadata": {},
   "outputs": [
    {
     "data": {
      "text/html": [
       "<div>\n",
       "<style scoped>\n",
       "    .dataframe tbody tr th:only-of-type {\n",
       "        vertical-align: middle;\n",
       "    }\n",
       "\n",
       "    .dataframe tbody tr th {\n",
       "        vertical-align: top;\n",
       "    }\n",
       "\n",
       "    .dataframe thead th {\n",
       "        text-align: right;\n",
       "    }\n",
       "</style>\n",
       "<table border=\"1\" class=\"dataframe\">\n",
       "  <thead>\n",
       "    <tr style=\"text-align: right;\">\n",
       "      <th></th>\n",
       "      <th>movie_release_date</th>\n",
       "    </tr>\n",
       "    <tr>\n",
       "      <th>movie_release_date</th>\n",
       "      <th></th>\n",
       "    </tr>\n",
       "  </thead>\n",
       "  <tbody>\n",
       "    <tr>\n",
       "      <th>1897</th>\n",
       "      <td>1</td>\n",
       "    </tr>\n",
       "    <tr>\n",
       "      <th>1914</th>\n",
       "      <td>4</td>\n",
       "    </tr>\n",
       "    <tr>\n",
       "      <th>1915</th>\n",
       "      <td>1</td>\n",
       "    </tr>\n",
       "    <tr>\n",
       "      <th>1920</th>\n",
       "      <td>1</td>\n",
       "    </tr>\n",
       "    <tr>\n",
       "      <th>1921</th>\n",
       "      <td>3</td>\n",
       "    </tr>\n",
       "  </tbody>\n",
       "</table>\n",
       "</div>"
      ],
      "text/plain": [
       "                    movie_release_date\n",
       "movie_release_date                    \n",
       "1897                                 1\n",
       "1914                                 4\n",
       "1915                                 1\n",
       "1920                                 1\n",
       "1921                                 3"
      ]
     },
     "execution_count": 28,
     "metadata": {},
     "output_type": "execute_result"
    }
   ],
   "source": [
    "#Keep only movies with a value for box office revenue\n",
    "movies_with_bor = movies[movies.movie_box_off_rev.isnull()==False]\n",
    "\n",
    "#Group by year and count the number of movies\n",
    "movies_with_bor_gp_year=movies_with_bor.groupby(movies_with_bor['movie_release_date'])[['movie_release_date']].count()\n",
    "movies_with_bor_gp_year.head()"
   ]
  },
  {
   "cell_type": "markdown",
   "id": "d9a203ad",
   "metadata": {},
   "source": [
    "- To plot evolution of movies without missing values over time, we normalize on the total number of movies, as we saw in 2 that it strongly increased over time. "
   ]
  },
  {
   "cell_type": "code",
   "execution_count": 29,
   "id": "2bab6445",
   "metadata": {},
   "outputs": [],
   "source": [
    "#Compute number of movies with missing values over total number of movies per year\n",
    "movie_count_all_gp_year = movies.groupby(movies['movie_release_date'])[['movie_release_date']].count()\n",
    "movie_count_all_gp_year['ratio_bor']=movies_with_bor_gp_year['movie_release_date']/movie_count_all_gp_year['movie_release_date']"
   ]
  },
  {
   "cell_type": "code",
   "execution_count": 30,
   "id": "eb0174d9",
   "metadata": {},
   "outputs": [
    {
     "data": {
      "text/plain": [
       "Text(0.5, 1.0, 'Ratio of values available per year for the feature \"movie_box_off_rev\"')"
      ]
     },
     "execution_count": 30,
     "metadata": {},
     "output_type": "execute_result"
    },
    {
     "data": {
      "image/png": "[encoded data removed]",
      "text/plain": [
       "<Figure size 640x480 with 1 Axes>"
      ]
     },
     "metadata": {},
     "output_type": "display_data"
    }
   ],
   "source": [
    "#Plot the distribution\n",
    "movie_count_all_gp_year['ratio_bor'].plot(legend=False)\n",
    "plt.ylabel('ratio of values for the feature \"movie_box_off_rev\"')\n",
    "plt.xlabel('year')\n",
    "plt.title('Ratio of values available per year for the feature \"movie_box_off_rev\"')"
   ]
  },
  {
   "cell_type": "markdown",
   "id": "5c291e57",
   "metadata": {},
   "source": [
    "We can see that the ratio of movies without missing values increases with time; however, the ratio never exceeds 20% of the dataset, which is quite low. "
   ]
  },
  {
   "cell_type": "markdown",
   "id": "b13da9d2",
   "metadata": {},
   "source": [
    "### 6.2 - Evolution of average box office revenue over time"
   ]
  },
  {
   "cell_type": "markdown",
   "id": "d5893e4f",
   "metadata": {},
   "source": [
    "We now want to analyze the evolution of the box office revenue over time. "
   ]
  },
  {
   "cell_type": "code",
   "execution_count": 31,
   "id": "2c453273",
   "metadata": {},
   "outputs": [
    {
     "data": {
      "text/html": [
       "<div>\n",
       "<style scoped>\n",
       "    .dataframe tbody tr th:only-of-type {\n",
       "        vertical-align: middle;\n",
       "    }\n",
       "\n",
       "    .dataframe tbody tr th {\n",
       "        vertical-align: top;\n",
       "    }\n",
       "\n",
       "    .dataframe thead th {\n",
       "        text-align: right;\n",
       "    }\n",
       "</style>\n",
       "<table border=\"1\" class=\"dataframe\">\n",
       "  <thead>\n",
       "    <tr style=\"text-align: right;\">\n",
       "      <th></th>\n",
       "      <th>movie_box_off_rev</th>\n",
       "    </tr>\n",
       "    <tr>\n",
       "      <th>movie_release_date</th>\n",
       "      <th></th>\n",
       "    </tr>\n",
       "  </thead>\n",
       "  <tbody>\n",
       "    <tr>\n",
       "      <th>1897</th>\n",
       "      <td>1.000000e+05</td>\n",
       "    </tr>\n",
       "    <tr>\n",
       "      <th>1914</th>\n",
       "      <td>7.079320e+05</td>\n",
       "    </tr>\n",
       "    <tr>\n",
       "      <th>1915</th>\n",
       "      <td>5.000000e+07</td>\n",
       "    </tr>\n",
       "    <tr>\n",
       "      <th>1920</th>\n",
       "      <td>4.500000e+06</td>\n",
       "    </tr>\n",
       "    <tr>\n",
       "      <th>1921</th>\n",
       "      <td>2.633333e+06</td>\n",
       "    </tr>\n",
       "  </tbody>\n",
       "</table>\n",
       "</div>"
      ],
      "text/plain": [
       "                    movie_box_off_rev\n",
       "movie_release_date                   \n",
       "1897                     1.000000e+05\n",
       "1914                     7.079320e+05\n",
       "1915                     5.000000e+07\n",
       "1920                     4.500000e+06\n",
       "1921                     2.633333e+06"
      ]
     },
     "execution_count": 31,
     "metadata": {},
     "output_type": "execute_result"
    }
   ],
   "source": [
    "#Compute the average box office revenue by year\n",
    "movies_mean_bor_gp_year = movies_with_bor.groupby(movies_with_bor['movie_release_date'])[['movie_box_off_rev']].mean()\n",
    "movies_mean_bor_gp_year.head()"
   ]
  },
  {
   "cell_type": "code",
   "execution_count": 32,
   "id": "0083d4f7",
   "metadata": {},
   "outputs": [
    {
     "data": {
      "text/plain": [
       "Text(0.5, 1.0, 'Evolution of the average box office revenue')"
      ]
     },
     "execution_count": 32,
     "metadata": {},
     "output_type": "execute_result"
    },
    {
     "data": {
      "image/png": "[encoded data removed]",
      "text/plain": [
       "<Figure size 640x480 with 1 Axes>"
      ]
     },
     "metadata": {},
     "output_type": "display_data"
    }
   ],
   "source": [
    "#Plot the distribution\n",
    "movies_mean_bor_gp_year.plot(legend=False)\n",
    "plt.ylabel('Average box office revenue (USD)')\n",
    "plt.xlabel('year')\n",
    "plt.title('Evolution of the average box office revenue')"
   ]
  },
  {
   "cell_type": "markdown",
   "id": "1863cbf4",
   "metadata": {},
   "source": [
    "* To be perfectly accurate in comparing box office receipt comparison over time, we should at least adjust revenues for dollar inflation. One could go further and consider even more adjustements to be even more precise as explained in [this article](https://wwwold.usi.edu/media/3655032/How-the-MPA-Miscalculates.pdf)."
   ]
  },
  {
   "cell_type": "markdown",
   "id": "c1429ac1",
   "metadata": {},
   "source": [
    "- Even if these results are interesting, the amount of missing values is quite problematic. To evaluate the success of a movie, we can also look at the ratings of the movies. The data is not available in our dataset but we can use IMDb."
   ]
  },
  {
   "cell_type": "markdown",
   "id": "deae7ed3",
   "metadata": {},
   "source": [
    "### 6.4 - Rating of movies"
   ]
  },
  {
   "cell_type": "code",
   "execution_count": 33,
   "id": "4d19b4ed",
   "metadata": {},
   "outputs": [
    {
     "data": {
      "text/html": [
       "<div>\n",
       "<style scoped>\n",
       "    .dataframe tbody tr th:only-of-type {\n",
       "        vertical-align: middle;\n",
       "    }\n",
       "\n",
       "    .dataframe tbody tr th {\n",
       "        vertical-align: top;\n",
       "    }\n",
       "\n",
       "    .dataframe thead th {\n",
       "        text-align: right;\n",
       "    }\n",
       "</style>\n",
       "<table border=\"1\" class=\"dataframe\">\n",
       "  <thead>\n",
       "    <tr style=\"text-align: right;\">\n",
       "      <th></th>\n",
       "      <th>Unnamed: 0</th>\n",
       "      <th>freebase_movie_ID</th>\n",
       "      <th>tconst</th>\n",
       "      <th>titleType</th>\n",
       "      <th>primaryTitle</th>\n",
       "      <th>originalTitle</th>\n",
       "      <th>startYear</th>\n",
       "      <th>runtimeMinutes</th>\n",
       "      <th>genres</th>\n",
       "      <th>averageRating</th>\n",
       "      <th>numVotes</th>\n",
       "    </tr>\n",
       "  </thead>\n",
       "  <tbody>\n",
       "    <tr>\n",
       "      <th>0</th>\n",
       "      <td>0</td>\n",
       "      <td>/m/03vyhn</td>\n",
       "      <td>tt0228333</td>\n",
       "      <td>movie</td>\n",
       "      <td>Ghosts of Mars</td>\n",
       "      <td>Ghosts of Mars</td>\n",
       "      <td>2001</td>\n",
       "      <td>98</td>\n",
       "      <td>Action,Horror,Sci-Fi</td>\n",
       "      <td>4.9</td>\n",
       "      <td>55235</td>\n",
       "    </tr>\n",
       "    <tr>\n",
       "      <th>1</th>\n",
       "      <td>1</td>\n",
       "      <td>/m/0crgdbh</td>\n",
       "      <td>tt0094806</td>\n",
       "      <td>movie</td>\n",
       "      <td>Brun bitter</td>\n",
       "      <td>Brun bitter</td>\n",
       "      <td>1988</td>\n",
       "      <td>83</td>\n",
       "      <td>Crime,Drama</td>\n",
       "      <td>5.7</td>\n",
       "      <td>40</td>\n",
       "    </tr>\n",
       "    <tr>\n",
       "      <th>2</th>\n",
       "      <td>2</td>\n",
       "      <td>/m/01mrr1</td>\n",
       "      <td>tt0083949</td>\n",
       "      <td>movie</td>\n",
       "      <td>A Woman in Flames</td>\n",
       "      <td>Die flambierte Frau</td>\n",
       "      <td>1983</td>\n",
       "      <td>106</td>\n",
       "      <td>Drama</td>\n",
       "      <td>6.0</td>\n",
       "      <td>589</td>\n",
       "    </tr>\n",
       "    <tr>\n",
       "      <th>3</th>\n",
       "      <td>3</td>\n",
       "      <td>/m/03cfc81</td>\n",
       "      <td>tt0002894</td>\n",
       "      <td>short</td>\n",
       "      <td>The Gangsters</td>\n",
       "      <td>The Gangsters</td>\n",
       "      <td>1913</td>\n",
       "      <td>35</td>\n",
       "      <td>Comedy,Short</td>\n",
       "      <td>6.8</td>\n",
       "      <td>16</td>\n",
       "    </tr>\n",
       "    <tr>\n",
       "      <th>4</th>\n",
       "      <td>4</td>\n",
       "      <td>/m/02qc0j7</td>\n",
       "      <td>tt0029852</td>\n",
       "      <td>movie</td>\n",
       "      <td>Alexander's Ragtime Band</td>\n",
       "      <td>Alexander's Ragtime Band</td>\n",
       "      <td>1938</td>\n",
       "      <td>106</td>\n",
       "      <td>Drama,Music,Musical</td>\n",
       "      <td>6.9</td>\n",
       "      <td>2159</td>\n",
       "    </tr>\n",
       "  </tbody>\n",
       "</table>\n",
       "</div>"
      ],
      "text/plain": [
       "   Unnamed: 0 freebase_movie_ID     tconst titleType  \\\n",
       "0           0         /m/03vyhn  tt0228333     movie   \n",
       "1           1        /m/0crgdbh  tt0094806     movie   \n",
       "2           2         /m/01mrr1  tt0083949     movie   \n",
       "3           3        /m/03cfc81  tt0002894     short   \n",
       "4           4        /m/02qc0j7  tt0029852     movie   \n",
       "\n",
       "               primaryTitle             originalTitle  startYear  \\\n",
       "0            Ghosts of Mars            Ghosts of Mars       2001   \n",
       "1               Brun bitter               Brun bitter       1988   \n",
       "2         A Woman in Flames       Die flambierte Frau       1983   \n",
       "3             The Gangsters             The Gangsters       1913   \n",
       "4  Alexander's Ragtime Band  Alexander's Ragtime Band       1938   \n",
       "\n",
       "   runtimeMinutes                genres  averageRating  numVotes  \n",
       "0              98  Action,Horror,Sci-Fi            4.9     55235  \n",
       "1              83           Crime,Drama            5.7        40  \n",
       "2             106                 Drama            6.0       589  \n",
       "3              35          Comedy,Short            6.8        16  \n",
       "4             106   Drama,Music,Musical            6.9      2159  "
      ]
     },
     "execution_count": 33,
     "metadata": {},
     "output_type": "execute_result"
    }
   ],
   "source": [
    "imdb = pd.read_csv('Data/Imdb/processed_imdb_dataset.csv')\n",
    "imdb.head()"
   ]
  },
  {
   "cell_type": "markdown",
   "id": "36550da1",
   "metadata": {},
   "source": [
    "- We can start by computing the average rating by year"
   ]
  },
  {
   "cell_type": "code",
   "execution_count": 34,
   "id": "ce9072f6",
   "metadata": {},
   "outputs": [
    {
     "data": {
      "text/html": [
       "<div>\n",
       "<style scoped>\n",
       "    .dataframe tbody tr th:only-of-type {\n",
       "        vertical-align: middle;\n",
       "    }\n",
       "\n",
       "    .dataframe tbody tr th {\n",
       "        vertical-align: top;\n",
       "    }\n",
       "\n",
       "    .dataframe thead th {\n",
       "        text-align: right;\n",
       "    }\n",
       "</style>\n",
       "<table border=\"1\" class=\"dataframe\">\n",
       "  <thead>\n",
       "    <tr style=\"text-align: right;\">\n",
       "      <th></th>\n",
       "      <th>averageRating</th>\n",
       "    </tr>\n",
       "    <tr>\n",
       "      <th>startYear</th>\n",
       "      <th></th>\n",
       "    </tr>\n",
       "  </thead>\n",
       "  <tbody>\n",
       "    <tr>\n",
       "      <th>1888</th>\n",
       "      <td>7.300000</td>\n",
       "    </tr>\n",
       "    <tr>\n",
       "      <th>1889</th>\n",
       "      <td>5.000000</td>\n",
       "    </tr>\n",
       "    <tr>\n",
       "      <th>1890</th>\n",
       "      <td>5.200000</td>\n",
       "    </tr>\n",
       "    <tr>\n",
       "      <th>1891</th>\n",
       "      <td>4.966667</td>\n",
       "    </tr>\n",
       "    <tr>\n",
       "      <th>1892</th>\n",
       "      <td>6.050000</td>\n",
       "    </tr>\n",
       "  </tbody>\n",
       "</table>\n",
       "</div>"
      ],
      "text/plain": [
       "           averageRating\n",
       "startYear               \n",
       "1888            7.300000\n",
       "1889            5.000000\n",
       "1890            5.200000\n",
       "1891            4.966667\n",
       "1892            6.050000"
      ]
     },
     "execution_count": 34,
     "metadata": {},
     "output_type": "execute_result"
    }
   ],
   "source": [
    "#Group rating by year and compute mean rating \n",
    "imdb_rating_gp_year = imdb.groupby(imdb['startYear'])[['averageRating']].mean()\n",
    "imdb_rating_gp_year.head()"
   ]
  },
  {
   "cell_type": "code",
   "execution_count": 35,
   "id": "d6f0a8e8",
   "metadata": {},
   "outputs": [
    {
     "data": {
      "text/plain": [
       "Text(0.5, 1.0, 'Evolution of movie ratings')"
      ]
     },
     "execution_count": 35,
     "metadata": {},
     "output_type": "execute_result"
    },
    {
     "data": {
      "image/png": "[encoded data removed]",
      "text/plain": [
       "<Figure size 640x480 with 1 Axes>"
      ]
     },
     "metadata": {},
     "output_type": "display_data"
    }
   ],
   "source": [
    "#Plot the distribution\n",
    "imdb_rating_gp_year.plot(legend=False)\n",
    "plt.ylabel('Average movie rating (/10)')\n",
    "plt.xlabel('year')\n",
    "plt.title('Evolution of movie ratings')"
   ]
  },
  {
   "cell_type": "code",
   "execution_count": 36,
   "id": "6c0309e8",
   "metadata": {},
   "outputs": [
    {
     "data": {
      "text/html": [
       "<div>\n",
       "<style scoped>\n",
       "    .dataframe tbody tr th:only-of-type {\n",
       "        vertical-align: middle;\n",
       "    }\n",
       "\n",
       "    .dataframe tbody tr th {\n",
       "        vertical-align: top;\n",
       "    }\n",
       "\n",
       "    .dataframe thead th {\n",
       "        text-align: right;\n",
       "    }\n",
       "</style>\n",
       "<table border=\"1\" class=\"dataframe\">\n",
       "  <thead>\n",
       "    <tr style=\"text-align: right;\">\n",
       "      <th></th>\n",
       "      <th>Unnamed: 0</th>\n",
       "      <th>freebase_movie_ID</th>\n",
       "      <th>tconst</th>\n",
       "      <th>titleType</th>\n",
       "      <th>primaryTitle</th>\n",
       "      <th>originalTitle</th>\n",
       "      <th>startYear</th>\n",
       "      <th>runtimeMinutes</th>\n",
       "      <th>genres</th>\n",
       "      <th>averageRating</th>\n",
       "      <th>numVotes</th>\n",
       "    </tr>\n",
       "  </thead>\n",
       "  <tbody>\n",
       "    <tr>\n",
       "      <th>16661</th>\n",
       "      <td>17361</td>\n",
       "      <td>/m/0c03gcc</td>\n",
       "      <td>tt2267968</td>\n",
       "      <td>movie</td>\n",
       "      <td>Kung Fu Panda 3</td>\n",
       "      <td>Kung Fu Panda 3</td>\n",
       "      <td>2016</td>\n",
       "      <td>95</td>\n",
       "      <td>Action,Adventure,Animation</td>\n",
       "      <td>7.1</td>\n",
       "      <td>159714</td>\n",
       "    </tr>\n",
       "    <tr>\n",
       "      <th>27214</th>\n",
       "      <td>28351</td>\n",
       "      <td>/m/0j9m0k2</td>\n",
       "      <td>tt2357291</td>\n",
       "      <td>movie</td>\n",
       "      <td>Rio 2</td>\n",
       "      <td>Rio 2</td>\n",
       "      <td>2014</td>\n",
       "      <td>101</td>\n",
       "      <td>Adventure,Animation,Comedy</td>\n",
       "      <td>6.3</td>\n",
       "      <td>91239</td>\n",
       "    </tr>\n",
       "    <tr>\n",
       "      <th>28884</th>\n",
       "      <td>30082</td>\n",
       "      <td>/m/0k3lpxc</td>\n",
       "      <td>tt5308316</td>\n",
       "      <td>tvEpisode</td>\n",
       "      <td>Saving Mr. Banks</td>\n",
       "      <td>Saving Mr. Banks</td>\n",
       "      <td>2014</td>\n",
       "      <td>6</td>\n",
       "      <td>Documentary,Short</td>\n",
       "      <td>7.4</td>\n",
       "      <td>15</td>\n",
       "    </tr>\n",
       "    <tr>\n",
       "      <th>30259</th>\n",
       "      <td>31517</td>\n",
       "      <td>/m/0k0tq97</td>\n",
       "      <td>tt1587310</td>\n",
       "      <td>movie</td>\n",
       "      <td>Maleficent</td>\n",
       "      <td>Maleficent</td>\n",
       "      <td>2014</td>\n",
       "      <td>97</td>\n",
       "      <td>Adventure,Family,Fantasy</td>\n",
       "      <td>6.9</td>\n",
       "      <td>375978</td>\n",
       "    </tr>\n",
       "    <tr>\n",
       "      <th>39092</th>\n",
       "      <td>40653</td>\n",
       "      <td>/m/0fkf28</td>\n",
       "      <td>tt0816692</td>\n",
       "      <td>movie</td>\n",
       "      <td>Interstellar</td>\n",
       "      <td>Interstellar</td>\n",
       "      <td>2014</td>\n",
       "      <td>169</td>\n",
       "      <td>Adventure,Drama,Sci-Fi</td>\n",
       "      <td>8.6</td>\n",
       "      <td>1803725</td>\n",
       "    </tr>\n",
       "  </tbody>\n",
       "</table>\n",
       "</div>"
      ],
      "text/plain": [
       "       Unnamed: 0 freebase_movie_ID     tconst  titleType      primaryTitle  \\\n",
       "16661       17361        /m/0c03gcc  tt2267968      movie   Kung Fu Panda 3   \n",
       "27214       28351        /m/0j9m0k2  tt2357291      movie             Rio 2   \n",
       "28884       30082        /m/0k3lpxc  tt5308316  tvEpisode  Saving Mr. Banks   \n",
       "30259       31517        /m/0k0tq97  tt1587310      movie        Maleficent   \n",
       "39092       40653         /m/0fkf28  tt0816692      movie      Interstellar   \n",
       "\n",
       "          originalTitle  startYear  runtimeMinutes  \\\n",
       "16661   Kung Fu Panda 3       2016              95   \n",
       "27214             Rio 2       2014             101   \n",
       "28884  Saving Mr. Banks       2014               6   \n",
       "30259        Maleficent       2014              97   \n",
       "39092      Interstellar       2014             169   \n",
       "\n",
       "                           genres  averageRating  numVotes  \n",
       "16661  Action,Adventure,Animation            7.1    159714  \n",
       "27214  Adventure,Animation,Comedy            6.3     91239  \n",
       "28884           Documentary,Short            7.4        15  \n",
       "30259    Adventure,Family,Fantasy            6.9    375978  \n",
       "39092      Adventure,Drama,Sci-Fi            8.6   1803725  "
      ]
     },
     "execution_count": 36,
     "metadata": {},
     "output_type": "execute_result"
    }
   ],
   "source": [
    "# Merge imdb et movie metadata\n",
    "imdb.sort_values(by = 'startYear', ascending = False).head()"
   ]
  },
  {
   "cell_type": "markdown",
   "id": "04d9236e",
   "metadata": {},
   "source": [
    "### 6.5 - Correlation between rating and box office revenue"
   ]
  },
  {
   "cell_type": "markdown",
   "id": "c45628d3",
   "metadata": {},
   "source": [
    "- Now we have two measures of a movie's success and we wonder wether these two features are correlated. As we saw in the previous parts, there are many missing values on box office revenues. If these two features are strongly correlated, we could keep only rating as a measure of success and have a larger dataset to work on. "
   ]
  },
  {
   "cell_type": "code",
   "execution_count": 37,
   "id": "207169a9",
   "metadata": {},
   "outputs": [
    {
     "data": {
      "text/html": [
       "<div>\n",
       "<style scoped>\n",
       "    .dataframe tbody tr th:only-of-type {\n",
       "        vertical-align: middle;\n",
       "    }\n",
       "\n",
       "    .dataframe tbody tr th {\n",
       "        vertical-align: top;\n",
       "    }\n",
       "\n",
       "    .dataframe thead th {\n",
       "        text-align: right;\n",
       "    }\n",
       "</style>\n",
       "<table border=\"1\" class=\"dataframe\">\n",
       "  <thead>\n",
       "    <tr style=\"text-align: right;\">\n",
       "      <th></th>\n",
       "      <th>wiki_movie_ID</th>\n",
       "      <th>freebase_movie_ID</th>\n",
       "      <th>movie_name</th>\n",
       "      <th>movie_release_date</th>\n",
       "      <th>movie_box_off_rev</th>\n",
       "      <th>movie_runtime</th>\n",
       "      <th>movie_languages</th>\n",
       "      <th>movie_countries</th>\n",
       "      <th>movie_genres</th>\n",
       "      <th>movie_countries_id</th>\n",
       "      <th>...</th>\n",
       "      <th>Unnamed: 0</th>\n",
       "      <th>tconst</th>\n",
       "      <th>titleType</th>\n",
       "      <th>primaryTitle</th>\n",
       "      <th>originalTitle</th>\n",
       "      <th>startYear</th>\n",
       "      <th>runtimeMinutes</th>\n",
       "      <th>genres</th>\n",
       "      <th>averageRating</th>\n",
       "      <th>numVotes</th>\n",
       "    </tr>\n",
       "  </thead>\n",
       "  <tbody>\n",
       "    <tr>\n",
       "      <th>0</th>\n",
       "      <td>975900</td>\n",
       "      <td>/m/03vyhn</td>\n",
       "      <td>Ghosts of Mars</td>\n",
       "      <td>2001</td>\n",
       "      <td>14010832.0</td>\n",
       "      <td>98.0</td>\n",
       "      <td>[English Language]</td>\n",
       "      <td>[United States of America]</td>\n",
       "      <td>[Thriller, Science Fiction, Horror, Adventure,...</td>\n",
       "      <td>[/m/09c7w0]</td>\n",
       "      <td>...</td>\n",
       "      <td>0</td>\n",
       "      <td>tt0228333</td>\n",
       "      <td>movie</td>\n",
       "      <td>Ghosts of Mars</td>\n",
       "      <td>Ghosts of Mars</td>\n",
       "      <td>2001</td>\n",
       "      <td>98</td>\n",
       "      <td>Action,Horror,Sci-Fi</td>\n",
       "      <td>4.9</td>\n",
       "      <td>55235</td>\n",
       "    </tr>\n",
       "    <tr>\n",
       "      <th>1</th>\n",
       "      <td>10408933</td>\n",
       "      <td>/m/02qc0j7</td>\n",
       "      <td>Alexander's Ragtime Band</td>\n",
       "      <td>1938</td>\n",
       "      <td>3600000.0</td>\n",
       "      <td>106.0</td>\n",
       "      <td>[English Language]</td>\n",
       "      <td>[United States of America]</td>\n",
       "      <td>[Musical, Comedy, Black-and-white]</td>\n",
       "      <td>[/m/09c7w0]</td>\n",
       "      <td>...</td>\n",
       "      <td>4</td>\n",
       "      <td>tt0029852</td>\n",
       "      <td>movie</td>\n",
       "      <td>Alexander's Ragtime Band</td>\n",
       "      <td>Alexander's Ragtime Band</td>\n",
       "      <td>1938</td>\n",
       "      <td>106</td>\n",
       "      <td>Drama,Music,Musical</td>\n",
       "      <td>6.9</td>\n",
       "      <td>2159</td>\n",
       "    </tr>\n",
       "    <tr>\n",
       "      <th>2</th>\n",
       "      <td>171005</td>\n",
       "      <td>/m/016ywb</td>\n",
       "      <td>Henry V</td>\n",
       "      <td>1989</td>\n",
       "      <td>10161099.0</td>\n",
       "      <td>137.0</td>\n",
       "      <td>[English Language]</td>\n",
       "      <td>[United Kingdom]</td>\n",
       "      <td>[Costume drama, War film, Epic, Period piece, ...</td>\n",
       "      <td>[/m/07ssc]</td>\n",
       "      <td>...</td>\n",
       "      <td>7</td>\n",
       "      <td>tt0097499</td>\n",
       "      <td>movie</td>\n",
       "      <td>Henry V</td>\n",
       "      <td>Henry V</td>\n",
       "      <td>1989</td>\n",
       "      <td>137</td>\n",
       "      <td>Biography,Drama,History</td>\n",
       "      <td>7.5</td>\n",
       "      <td>30162</td>\n",
       "    </tr>\n",
       "    <tr>\n",
       "      <th>3</th>\n",
       "      <td>77856</td>\n",
       "      <td>/m/0kcn7</td>\n",
       "      <td>Mary Poppins</td>\n",
       "      <td>1964</td>\n",
       "      <td>102272727.0</td>\n",
       "      <td>139.0</td>\n",
       "      <td>[English Language]</td>\n",
       "      <td>[United States of America]</td>\n",
       "      <td>[Children's/Family, Musical, Fantasy, Comedy, ...</td>\n",
       "      <td>[/m/09c7w0]</td>\n",
       "      <td>...</td>\n",
       "      <td>8</td>\n",
       "      <td>tt0058331</td>\n",
       "      <td>movie</td>\n",
       "      <td>Mary Poppins</td>\n",
       "      <td>Mary Poppins</td>\n",
       "      <td>1964</td>\n",
       "      <td>139</td>\n",
       "      <td>Comedy,Family,Fantasy</td>\n",
       "      <td>7.8</td>\n",
       "      <td>173169</td>\n",
       "    </tr>\n",
       "    <tr>\n",
       "      <th>4</th>\n",
       "      <td>156558</td>\n",
       "      <td>/m/014k4y</td>\n",
       "      <td>Baby Boy</td>\n",
       "      <td>2001</td>\n",
       "      <td>29381649.0</td>\n",
       "      <td>123.0</td>\n",
       "      <td>[English Language]</td>\n",
       "      <td>[United States of America]</td>\n",
       "      <td>[Crime Fiction, Drama, Coming of age]</td>\n",
       "      <td>[/m/09c7w0]</td>\n",
       "      <td>...</td>\n",
       "      <td>14</td>\n",
       "      <td>tt0255819</td>\n",
       "      <td>movie</td>\n",
       "      <td>Baby Boy</td>\n",
       "      <td>Baby Boy</td>\n",
       "      <td>2001</td>\n",
       "      <td>130</td>\n",
       "      <td>Crime,Drama,Romance</td>\n",
       "      <td>6.4</td>\n",
       "      <td>14981</td>\n",
       "    </tr>\n",
       "  </tbody>\n",
       "</table>\n",
       "<p>5 rows × 23 columns</p>\n",
       "</div>"
      ],
      "text/plain": [
       "   wiki_movie_ID freebase_movie_ID                movie_name  \\\n",
       "0         975900         /m/03vyhn            Ghosts of Mars   \n",
       "1       10408933        /m/02qc0j7  Alexander's Ragtime Band   \n",
       "2         171005         /m/016ywb                   Henry V   \n",
       "3          77856          /m/0kcn7              Mary Poppins   \n",
       "4         156558         /m/014k4y                  Baby Boy   \n",
       "\n",
       "  movie_release_date  movie_box_off_rev  movie_runtime     movie_languages  \\\n",
       "0               2001         14010832.0           98.0  [English Language]   \n",
       "1               1938          3600000.0          106.0  [English Language]   \n",
       "2               1989         10161099.0          137.0  [English Language]   \n",
       "3               1964        102272727.0          139.0  [English Language]   \n",
       "4               2001         29381649.0          123.0  [English Language]   \n",
       "\n",
       "              movie_countries  \\\n",
       "0  [United States of America]   \n",
       "1  [United States of America]   \n",
       "2            [United Kingdom]   \n",
       "3  [United States of America]   \n",
       "4  [United States of America]   \n",
       "\n",
       "                                        movie_genres movie_countries_id  ...  \\\n",
       "0  [Thriller, Science Fiction, Horror, Adventure,...        [/m/09c7w0]  ...   \n",
       "1                 [Musical, Comedy, Black-and-white]        [/m/09c7w0]  ...   \n",
       "2  [Costume drama, War film, Epic, Period piece, ...         [/m/07ssc]  ...   \n",
       "3  [Children's/Family, Musical, Fantasy, Comedy, ...        [/m/09c7w0]  ...   \n",
       "4              [Crime Fiction, Drama, Coming of age]        [/m/09c7w0]  ...   \n",
       "\n",
       "  Unnamed: 0     tconst titleType              primaryTitle  \\\n",
       "0          0  tt0228333     movie            Ghosts of Mars   \n",
       "1          4  tt0029852     movie  Alexander's Ragtime Band   \n",
       "2          7  tt0097499     movie                   Henry V   \n",
       "3          8  tt0058331     movie              Mary Poppins   \n",
       "4         14  tt0255819     movie                  Baby Boy   \n",
       "\n",
       "              originalTitle startYear runtimeMinutes                   genres  \\\n",
       "0            Ghosts of Mars      2001             98     Action,Horror,Sci-Fi   \n",
       "1  Alexander's Ragtime Band      1938            106      Drama,Music,Musical   \n",
       "2                   Henry V      1989            137  Biography,Drama,History   \n",
       "3              Mary Poppins      1964            139    Comedy,Family,Fantasy   \n",
       "4                  Baby Boy      2001            130      Crime,Drama,Romance   \n",
       "\n",
       "   averageRating  numVotes  \n",
       "0            4.9     55235  \n",
       "1            6.9      2159  \n",
       "2            7.5     30162  \n",
       "3            7.8    173169  \n",
       "4            6.4     14981  \n",
       "\n",
       "[5 rows x 23 columns]"
      ]
     },
     "execution_count": 37,
     "metadata": {},
     "output_type": "execute_result"
    }
   ],
   "source": [
    "#Merge movies with box office revenue and dataset with ratings on freebase_movie_ID\n",
    "correl = movies_with_bor.merge(imdb, left_on='freebase_movie_ID', right_on='freebase_movie_ID')\n",
    "correl.head()"
   ]
  },
  {
   "cell_type": "code",
   "execution_count": 38,
   "id": "4833d87e",
   "metadata": {},
   "outputs": [
    {
     "data": {
      "text/plain": [
       "PearsonRResult(statistic=0.645129505972634, pvalue=0.0)"
      ]
     },
     "execution_count": 38,
     "metadata": {},
     "output_type": "execute_result"
    }
   ],
   "source": [
    "#Compute Pearson correlation coefficient\n",
    "stats.pearsonr(correl['movie_box_off_rev'],correl['numVotes'])"
   ]
  },
  {
   "cell_type": "markdown",
   "id": "bc4711bc",
   "metadata": {},
   "source": [
    "- The Pearson linear coefficient is low but significantly positive ($ p < 0.05$). The correlation seems too low to keep only one feature as a measure of success. "
   ]
  },
  {
   "cell_type": "markdown",
   "id": "55b27841",
   "metadata": {},
   "source": [
    "# P3"
   ]
  },
  {
   "cell_type": "markdown",
   "id": "80755453",
   "metadata": {},
   "source": [
    "## Ratio of females by movie popularity"
   ]
  },
  {
   "cell_type": "code",
   "execution_count": 39,
   "id": "5a7ca4a4",
   "metadata": {},
   "outputs": [
    {
     "data": {
      "text/html": [
       "<div>\n",
       "<style scoped>\n",
       "    .dataframe tbody tr th:only-of-type {\n",
       "        vertical-align: middle;\n",
       "    }\n",
       "\n",
       "    .dataframe tbody tr th {\n",
       "        vertical-align: top;\n",
       "    }\n",
       "\n",
       "    .dataframe thead th {\n",
       "        text-align: right;\n",
       "    }\n",
       "</style>\n",
       "<table border=\"1\" class=\"dataframe\">\n",
       "  <thead>\n",
       "    <tr style=\"text-align: right;\">\n",
       "      <th></th>\n",
       "      <th>wiki_movie_ID</th>\n",
       "      <th>freebase_movie_ID</th>\n",
       "      <th>movie_name</th>\n",
       "      <th>movie_release_date</th>\n",
       "      <th>movie_box_off_rev</th>\n",
       "      <th>movie_runtime</th>\n",
       "      <th>movie_languages</th>\n",
       "      <th>movie_countries</th>\n",
       "      <th>movie_genres</th>\n",
       "      <th>movie_countries_id</th>\n",
       "      <th>...</th>\n",
       "      <th>Unnamed: 0</th>\n",
       "      <th>tconst</th>\n",
       "      <th>titleType</th>\n",
       "      <th>primaryTitle</th>\n",
       "      <th>originalTitle</th>\n",
       "      <th>startYear</th>\n",
       "      <th>runtimeMinutes</th>\n",
       "      <th>genres</th>\n",
       "      <th>averageRating</th>\n",
       "      <th>numVotes</th>\n",
       "    </tr>\n",
       "  </thead>\n",
       "  <tbody>\n",
       "    <tr>\n",
       "      <th>0</th>\n",
       "      <td>975900</td>\n",
       "      <td>/m/03vyhn</td>\n",
       "      <td>Ghosts of Mars</td>\n",
       "      <td>2001</td>\n",
       "      <td>14010832.0</td>\n",
       "      <td>98.0</td>\n",
       "      <td>[English Language]</td>\n",
       "      <td>[United States of America]</td>\n",
       "      <td>[Thriller, Science Fiction, Horror, Adventure,...</td>\n",
       "      <td>[/m/09c7w0]</td>\n",
       "      <td>...</td>\n",
       "      <td>0</td>\n",
       "      <td>tt0228333</td>\n",
       "      <td>movie</td>\n",
       "      <td>Ghosts of Mars</td>\n",
       "      <td>Ghosts of Mars</td>\n",
       "      <td>2001</td>\n",
       "      <td>98</td>\n",
       "      <td>Action,Horror,Sci-Fi</td>\n",
       "      <td>4.9</td>\n",
       "      <td>55235</td>\n",
       "    </tr>\n",
       "    <tr>\n",
       "      <th>1</th>\n",
       "      <td>28463795</td>\n",
       "      <td>/m/0crgdbh</td>\n",
       "      <td>Brun bitter</td>\n",
       "      <td>1988</td>\n",
       "      <td>NaN</td>\n",
       "      <td>83.0</td>\n",
       "      <td>[Norwegian Language]</td>\n",
       "      <td>[Norway]</td>\n",
       "      <td>[Crime Fiction, Drama]</td>\n",
       "      <td>[/m/05b4w]</td>\n",
       "      <td>...</td>\n",
       "      <td>1</td>\n",
       "      <td>tt0094806</td>\n",
       "      <td>movie</td>\n",
       "      <td>Brun bitter</td>\n",
       "      <td>Brun bitter</td>\n",
       "      <td>1988</td>\n",
       "      <td>83</td>\n",
       "      <td>Crime,Drama</td>\n",
       "      <td>5.7</td>\n",
       "      <td>40</td>\n",
       "    </tr>\n",
       "    <tr>\n",
       "      <th>2</th>\n",
       "      <td>261236</td>\n",
       "      <td>/m/01mrr1</td>\n",
       "      <td>A Woman in Flames</td>\n",
       "      <td>1983</td>\n",
       "      <td>NaN</td>\n",
       "      <td>106.0</td>\n",
       "      <td>[German Language]</td>\n",
       "      <td>[Germany]</td>\n",
       "      <td>[Drama]</td>\n",
       "      <td>[/m/0345h]</td>\n",
       "      <td>...</td>\n",
       "      <td>2</td>\n",
       "      <td>tt0083949</td>\n",
       "      <td>movie</td>\n",
       "      <td>A Woman in Flames</td>\n",
       "      <td>Die flambierte Frau</td>\n",
       "      <td>1983</td>\n",
       "      <td>106</td>\n",
       "      <td>Drama</td>\n",
       "      <td>6.0</td>\n",
       "      <td>589</td>\n",
       "    </tr>\n",
       "    <tr>\n",
       "      <th>3</th>\n",
       "      <td>13696889</td>\n",
       "      <td>/m/03cfc81</td>\n",
       "      <td>The Gangsters</td>\n",
       "      <td>1913</td>\n",
       "      <td>NaN</td>\n",
       "      <td>35.0</td>\n",
       "      <td>[Silent film, English Language]</td>\n",
       "      <td>[United States of America]</td>\n",
       "      <td>[Short Film, Silent film, Indie, Black-and-whi...</td>\n",
       "      <td>[/m/09c7w0]</td>\n",
       "      <td>...</td>\n",
       "      <td>3</td>\n",
       "      <td>tt0002894</td>\n",
       "      <td>short</td>\n",
       "      <td>The Gangsters</td>\n",
       "      <td>The Gangsters</td>\n",
       "      <td>1913</td>\n",
       "      <td>35</td>\n",
       "      <td>Comedy,Short</td>\n",
       "      <td>6.8</td>\n",
       "      <td>16</td>\n",
       "    </tr>\n",
       "    <tr>\n",
       "      <th>4</th>\n",
       "      <td>10408933</td>\n",
       "      <td>/m/02qc0j7</td>\n",
       "      <td>Alexander's Ragtime Band</td>\n",
       "      <td>1938</td>\n",
       "      <td>3600000.0</td>\n",
       "      <td>106.0</td>\n",
       "      <td>[English Language]</td>\n",
       "      <td>[United States of America]</td>\n",
       "      <td>[Musical, Comedy, Black-and-white]</td>\n",
       "      <td>[/m/09c7w0]</td>\n",
       "      <td>...</td>\n",
       "      <td>4</td>\n",
       "      <td>tt0029852</td>\n",
       "      <td>movie</td>\n",
       "      <td>Alexander's Ragtime Band</td>\n",
       "      <td>Alexander's Ragtime Band</td>\n",
       "      <td>1938</td>\n",
       "      <td>106</td>\n",
       "      <td>Drama,Music,Musical</td>\n",
       "      <td>6.9</td>\n",
       "      <td>2159</td>\n",
       "    </tr>\n",
       "  </tbody>\n",
       "</table>\n",
       "<p>5 rows × 24 columns</p>\n",
       "</div>"
      ],
      "text/plain": [
       "   wiki_movie_ID freebase_movie_ID                movie_name  \\\n",
       "0         975900         /m/03vyhn            Ghosts of Mars   \n",
       "1       28463795        /m/0crgdbh               Brun bitter   \n",
       "2         261236         /m/01mrr1         A Woman in Flames   \n",
       "3       13696889        /m/03cfc81             The Gangsters   \n",
       "4       10408933        /m/02qc0j7  Alexander's Ragtime Band   \n",
       "\n",
       "  movie_release_date  movie_box_off_rev  movie_runtime  \\\n",
       "0               2001         14010832.0           98.0   \n",
       "1               1988                NaN           83.0   \n",
       "2               1983                NaN          106.0   \n",
       "3               1913                NaN           35.0   \n",
       "4               1938          3600000.0          106.0   \n",
       "\n",
       "                   movie_languages             movie_countries  \\\n",
       "0               [English Language]  [United States of America]   \n",
       "1             [Norwegian Language]                    [Norway]   \n",
       "2                [German Language]                   [Germany]   \n",
       "3  [Silent film, English Language]  [United States of America]   \n",
       "4               [English Language]  [United States of America]   \n",
       "\n",
       "                                        movie_genres movie_countries_id  ...  \\\n",
       "0  [Thriller, Science Fiction, Horror, Adventure,...        [/m/09c7w0]  ...   \n",
       "1                             [Crime Fiction, Drama]         [/m/05b4w]  ...   \n",
       "2                                            [Drama]         [/m/0345h]  ...   \n",
       "3  [Short Film, Silent film, Indie, Black-and-whi...        [/m/09c7w0]  ...   \n",
       "4                 [Musical, Comedy, Black-and-white]        [/m/09c7w0]  ...   \n",
       "\n",
       "  Unnamed: 0     tconst titleType              primaryTitle  \\\n",
       "0          0  tt0228333     movie            Ghosts of Mars   \n",
       "1          1  tt0094806     movie               Brun bitter   \n",
       "2          2  tt0083949     movie         A Woman in Flames   \n",
       "3          3  tt0002894     short             The Gangsters   \n",
       "4          4  tt0029852     movie  Alexander's Ragtime Band   \n",
       "\n",
       "              originalTitle startYear runtimeMinutes                genres  \\\n",
       "0            Ghosts of Mars      2001             98  Action,Horror,Sci-Fi   \n",
       "1               Brun bitter      1988             83           Crime,Drama   \n",
       "2       Die flambierte Frau      1983            106                 Drama   \n",
       "3             The Gangsters      1913             35          Comedy,Short   \n",
       "4  Alexander's Ragtime Band      1938            106   Drama,Music,Musical   \n",
       "\n",
       "  averageRating  numVotes  \n",
       "0           4.9     55235  \n",
       "1           5.7        40  \n",
       "2           6.0       589  \n",
       "3           6.8        16  \n",
       "4           6.9      2159  \n",
       "\n",
       "[5 rows x 24 columns]"
      ]
     },
     "execution_count": 39,
     "metadata": {},
     "output_type": "execute_result"
    }
   ],
   "source": [
    "#Merge movies with female ratio and dataset with number of votes on freebase_movie_ID\n",
    "popularity = movies_female.merge(imdb, left_on='freebase_movie_ID', right_on='freebase_movie_ID')\n",
    "popularity.head()"
   ]
  },
  {
   "cell_type": "code",
   "execution_count": 40,
   "id": "b5a485e9",
   "metadata": {},
   "outputs": [
    {
     "data": {
      "text/html": [
       "<div>\n",
       "<style scoped>\n",
       "    .dataframe tbody tr th:only-of-type {\n",
       "        vertical-align: middle;\n",
       "    }\n",
       "\n",
       "    .dataframe tbody tr th {\n",
       "        vertical-align: top;\n",
       "    }\n",
       "\n",
       "    .dataframe thead th {\n",
       "        text-align: right;\n",
       "    }\n",
       "</style>\n",
       "<table border=\"1\" class=\"dataframe\">\n",
       "  <thead>\n",
       "    <tr style=\"text-align: right;\">\n",
       "      <th></th>\n",
       "      <th>female</th>\n",
       "    </tr>\n",
       "    <tr>\n",
       "      <th>numVotes</th>\n",
       "      <th></th>\n",
       "    </tr>\n",
       "  </thead>\n",
       "  <tbody>\n",
       "    <tr>\n",
       "      <th>5</th>\n",
       "      <td>0.404840</td>\n",
       "    </tr>\n",
       "    <tr>\n",
       "      <th>6</th>\n",
       "      <td>0.349076</td>\n",
       "    </tr>\n",
       "    <tr>\n",
       "      <th>7</th>\n",
       "      <td>0.345191</td>\n",
       "    </tr>\n",
       "    <tr>\n",
       "      <th>8</th>\n",
       "      <td>0.376135</td>\n",
       "    </tr>\n",
       "    <tr>\n",
       "      <th>9</th>\n",
       "      <td>0.342041</td>\n",
       "    </tr>\n",
       "  </tbody>\n",
       "</table>\n",
       "</div>"
      ],
      "text/plain": [
       "            female\n",
       "numVotes          \n",
       "5         0.404840\n",
       "6         0.349076\n",
       "7         0.345191\n",
       "8         0.376135\n",
       "9         0.342041"
      ]
     },
     "execution_count": 40,
     "metadata": {},
     "output_type": "execute_result"
    }
   ],
   "source": [
    "#Group dataset by number of votes and compute mean female ratio \n",
    "popularity_females = popularity.groupby(popularity['numVotes'])[['female']].mean()\n",
    "popularity_females.head()"
   ]
  },
  {
   "cell_type": "code",
   "execution_count": 138,
   "id": "ddd8ea2e",
   "metadata": {},
   "outputs": [
    {
     "data": {
      "image/png": "[encoded data removed]",
      "text/plain": [
       "<Figure size 600x600 with 4 Axes>"
      ]
     },
     "metadata": {},
     "output_type": "display_data"
    }
   ],
   "source": [
    "hexplot = sns.jointplot(x=popularity['numVotes'], y=popularity['female'], kind=\"hex\", bins='log', cmap=\"crest\")\n",
    "sns.regplot(x=popularity['numVotes'], y=popularity['female'], ax=hexplot.ax_joint, scatter=False, color='red')\n",
    "plt.ylabel('Average female ratio')\n",
    "plt.xlabel('Number of votes')\n",
    "plt.subplots_adjust(left=0.2, right=1, top=1, bottom=0.2)  # shrink fig so cbar is visible\n",
    "# make new ax object for the cbar\n",
    "cbar_ax = hexplot.fig.add_axes([.75, .5, .03, .3])  # x, y, width, height\n",
    "plt.colorbar(cax=cbar_ax)\n",
    "plt.suptitle('Female ratio and movie popularity')\n",
    "plt.show()\n"
   ]
  },
  {
   "cell_type": "code",
   "execution_count": 146,
   "id": "04ebc43c",
   "metadata": {},
   "outputs": [
    {
     "ename": "AttributeError",
     "evalue": "'PolyCollection' object has no attribute 'ax_joint'",
     "output_type": "error",
     "traceback": [
      "\u001b[1;31m---------------------------------------------------------------------------\u001b[0m",
      "\u001b[1;31mAttributeError\u001b[0m                            Traceback (most recent call last)",
      "Cell \u001b[1;32mIn [146], line 2\u001b[0m\n\u001b[0;32m      1\u001b[0m hexplot \u001b[39m=\u001b[39m plt\u001b[39m.\u001b[39mhexbin(x\u001b[39m=\u001b[39mpopularity[\u001b[39m'\u001b[39m\u001b[39mnumVotes\u001b[39m\u001b[39m'\u001b[39m], y\u001b[39m=\u001b[39mpopularity[\u001b[39m'\u001b[39m\u001b[39mfemale\u001b[39m\u001b[39m'\u001b[39m],bins\u001b[39m=\u001b[39m\u001b[39m'\u001b[39m\u001b[39mlog\u001b[39m\u001b[39m'\u001b[39m, cmap\u001b[39m=\u001b[39m\u001b[39m\"\u001b[39m\u001b[39mcrest\u001b[39m\u001b[39m\"\u001b[39m)\n\u001b[1;32m----> 2\u001b[0m sns\u001b[39m.\u001b[39mregplot(x\u001b[39m=\u001b[39mpopularity[\u001b[39m'\u001b[39m\u001b[39mnumVotes\u001b[39m\u001b[39m'\u001b[39m], y\u001b[39m=\u001b[39mpopularity[\u001b[39m'\u001b[39m\u001b[39mfemale\u001b[39m\u001b[39m'\u001b[39m], ax\u001b[39m=\u001b[39mhexplot\u001b[39m.\u001b[39max_joint, scatter\u001b[39m=\u001b[39m\u001b[39mFalse\u001b[39;00m, color\u001b[39m=\u001b[39m\u001b[39m'\u001b[39m\u001b[39mred\u001b[39m\u001b[39m'\u001b[39m)\n\u001b[0;32m      3\u001b[0m plt\u001b[39m.\u001b[39mylabel(\u001b[39m'\u001b[39m\u001b[39mAverage female ratio\u001b[39m\u001b[39m'\u001b[39m)\n\u001b[0;32m      4\u001b[0m plt\u001b[39m.\u001b[39mxlabel(\u001b[39m'\u001b[39m\u001b[39mNumber of votes\u001b[39m\u001b[39m'\u001b[39m)\n",
      "\u001b[1;31mAttributeError\u001b[0m: 'PolyCollection' object has no attribute 'ax_joint'"
     ]
    },
    {
     "data": {
      "image/png": "[encoded data removed]",
      "text/plain": [
       "<Figure size 640x480 with 1 Axes>"
      ]
     },
     "metadata": {},
     "output_type": "display_data"
    }
   ],
   "source": [
    "hexplot = plt.hexbin(x=popularity['numVotes'], y=popularity['female'],bins='log', cmap=\"crest\")\n",
    "sns.regplot(x=popularity['numVotes'], y=popularity['female'], ax=hexplot.ax_joint, scatter=False, color='red')\n",
    "plt.ylabel('Average female ratio')\n",
    "plt.xlabel('Number of votes')\n",
    "plt.subplots_adjust(left=0.2, right=1, top=1, bottom=0.2)  # shrink fig so cbar is visible\n",
    "# make new ax object for the cbar\n",
    "cbar_ax = hexplot.fig.add_axes([.75, .5, .03, .3])  # x, y, width, height\n",
    "plt.colorbar(cax=cbar_ax)\n",
    "plt.suptitle('Female ratio and movie popularity')\n",
    "plt.show()\n"
   ]
  },
  {
   "cell_type": "code",
   "execution_count": 45,
   "id": "696c5cae",
   "metadata": {},
   "outputs": [
    {
     "data": {
      "text/plain": [
       "SpearmanrResult(correlation=-0.0021529301365330765, pvalue=0.6715463946096785)"
      ]
     },
     "execution_count": 45,
     "metadata": {},
     "output_type": "execute_result"
    }
   ],
   "source": [
    "#Compute Pearson correlation coefficient\n",
    "stats.spearmanr(popularity['numVotes'],popularity['female'])"
   ]
  },
  {
   "cell_type": "markdown",
   "id": "ea62543a",
   "metadata": {},
   "source": [
    "# Can women develop their career in cinema ?"
   ]
  },
  {
   "attachments": {},
   "cell_type": "markdown",
   "id": "52dea81b",
   "metadata": {},
   "source": [
    "To assess the development of career of an actor, we will look at the number of movie in which he payed."
   ]
  },
  {
   "cell_type": "code",
   "execution_count": 48,
   "id": "5c997610",
   "metadata": {},
   "outputs": [
    {
     "data": {
      "text/plain": [
       "wiki_movie_ID                      0\n",
       "freebase_movie_ID                  0\n",
       "movie_release_date              9995\n",
       "character_name                257875\n",
       "actor_DOB                     106145\n",
       "actor_gender                   45609\n",
       "actor_height                  295845\n",
       "actor_ethnicity               344611\n",
       "actor_name                      1228\n",
       "actor_age_movie               158113\n",
       "freebase_char/actor_map_ID         0\n",
       "freebase_char_ID              257865\n",
       "freebase_actor_ID                815\n",
       "dtype: int64"
      ]
     },
     "execution_count": 48,
     "metadata": {},
     "output_type": "execute_result"
    }
   ],
   "source": [
    "characters.isnull().sum()"
   ]
  },
  {
   "cell_type": "code",
   "execution_count": 49,
   "id": "061fda8d",
   "metadata": {},
   "outputs": [],
   "source": [
    "# we drop every character with no info about the gender of the actor\n",
    "characters = characters.dropna(subset=['actor_gender'])"
   ]
  },
  {
   "cell_type": "code",
   "execution_count": 50,
   "id": "5c85e0ba",
   "metadata": {},
   "outputs": [],
   "source": [
    "movies_by_character=characters.groupby(characters['freebase_actor_ID'])[['wiki_movie_ID']].count().add_suffix(\"_count\")"
   ]
  },
  {
   "cell_type": "code",
   "execution_count": 51,
   "id": "8140ff2c",
   "metadata": {},
   "outputs": [
    {
     "data": {
      "text/html": [
       "<div>\n",
       "<style scoped>\n",
       "    .dataframe tbody tr th:only-of-type {\n",
       "        vertical-align: middle;\n",
       "    }\n",
       "\n",
       "    .dataframe tbody tr th {\n",
       "        vertical-align: top;\n",
       "    }\n",
       "\n",
       "    .dataframe thead th {\n",
       "        text-align: right;\n",
       "    }\n",
       "</style>\n",
       "<table border=\"1\" class=\"dataframe\">\n",
       "  <thead>\n",
       "    <tr style=\"text-align: right;\">\n",
       "      <th></th>\n",
       "      <th>wiki_movie_ID_count</th>\n",
       "    </tr>\n",
       "    <tr>\n",
       "      <th>freebase_actor_ID</th>\n",
       "      <th></th>\n",
       "    </tr>\n",
       "  </thead>\n",
       "  <tbody>\n",
       "    <tr>\n",
       "      <th>/m/0clr_r5</th>\n",
       "      <td>1</td>\n",
       "    </tr>\n",
       "    <tr>\n",
       "      <th>/m/0gm5psd</th>\n",
       "      <td>1</td>\n",
       "    </tr>\n",
       "    <tr>\n",
       "      <th>/m/0gm5pmp</th>\n",
       "      <td>1</td>\n",
       "    </tr>\n",
       "    <tr>\n",
       "      <th>/m/0gm5p6r</th>\n",
       "      <td>1</td>\n",
       "    </tr>\n",
       "    <tr>\n",
       "      <th>/m/0gm5krv</th>\n",
       "      <td>1</td>\n",
       "    </tr>\n",
       "    <tr>\n",
       "      <th>...</th>\n",
       "      <td>...</td>\n",
       "    </tr>\n",
       "    <tr>\n",
       "      <th>/m/02hkv5</th>\n",
       "      <td>225</td>\n",
       "    </tr>\n",
       "    <tr>\n",
       "      <th>/m/02fbpz</th>\n",
       "      <td>234</td>\n",
       "    </tr>\n",
       "    <tr>\n",
       "      <th>/m/0lh0c</th>\n",
       "      <td>299</td>\n",
       "    </tr>\n",
       "    <tr>\n",
       "      <th>/m/04c636</th>\n",
       "      <td>328</td>\n",
       "    </tr>\n",
       "    <tr>\n",
       "      <th>/m/0c5vh</th>\n",
       "      <td>791</td>\n",
       "    </tr>\n",
       "  </tbody>\n",
       "</table>\n",
       "<p>97383 rows × 1 columns</p>\n",
       "</div>"
      ],
      "text/plain": [
       "                   wiki_movie_ID_count\n",
       "freebase_actor_ID                     \n",
       "/m/0clr_r5                           1\n",
       "/m/0gm5psd                           1\n",
       "/m/0gm5pmp                           1\n",
       "/m/0gm5p6r                           1\n",
       "/m/0gm5krv                           1\n",
       "...                                ...\n",
       "/m/02hkv5                          225\n",
       "/m/02fbpz                          234\n",
       "/m/0lh0c                           299\n",
       "/m/04c636                          328\n",
       "/m/0c5vh                           791\n",
       "\n",
       "[97383 rows x 1 columns]"
      ]
     },
     "execution_count": 51,
     "metadata": {},
     "output_type": "execute_result"
    }
   ],
   "source": [
    "movies_by_character.sort_values(by=['wiki_movie_ID_count'])"
   ]
  },
  {
   "cell_type": "code",
   "execution_count": 52,
   "id": "ce228d05",
   "metadata": {},
   "outputs": [
    {
     "data": {
      "text/html": [
       "<div>\n",
       "<style scoped>\n",
       "    .dataframe tbody tr th:only-of-type {\n",
       "        vertical-align: middle;\n",
       "    }\n",
       "\n",
       "    .dataframe tbody tr th {\n",
       "        vertical-align: top;\n",
       "    }\n",
       "\n",
       "    .dataframe thead th {\n",
       "        text-align: right;\n",
       "    }\n",
       "</style>\n",
       "<table border=\"1\" class=\"dataframe\">\n",
       "  <thead>\n",
       "    <tr style=\"text-align: right;\">\n",
       "      <th></th>\n",
       "      <th>wiki_movie_ID_count</th>\n",
       "    </tr>\n",
       "    <tr>\n",
       "      <th>freebase_actor_ID</th>\n",
       "      <th></th>\n",
       "    </tr>\n",
       "  </thead>\n",
       "  <tbody>\n",
       "    <tr>\n",
       "      <th>/m/010p3</th>\n",
       "      <td>12</td>\n",
       "    </tr>\n",
       "    <tr>\n",
       "      <th>/m/010q36</th>\n",
       "      <td>1</td>\n",
       "    </tr>\n",
       "    <tr>\n",
       "      <th>/m/010wx</th>\n",
       "      <td>1</td>\n",
       "    </tr>\n",
       "    <tr>\n",
       "      <th>/m/010xjr</th>\n",
       "      <td>54</td>\n",
       "    </tr>\n",
       "    <tr>\n",
       "      <th>/m/0112yl</th>\n",
       "      <td>48</td>\n",
       "    </tr>\n",
       "    <tr>\n",
       "      <th>/m/011_0k</th>\n",
       "      <td>1</td>\n",
       "    </tr>\n",
       "    <tr>\n",
       "      <th>/m/011_24</th>\n",
       "      <td>2</td>\n",
       "    </tr>\n",
       "    <tr>\n",
       "      <th>/m/011_2h</th>\n",
       "      <td>1</td>\n",
       "    </tr>\n",
       "    <tr>\n",
       "      <th>/m/011_3s</th>\n",
       "      <td>34</td>\n",
       "    </tr>\n",
       "    <tr>\n",
       "      <th>/m/011_8</th>\n",
       "      <td>3</td>\n",
       "    </tr>\n",
       "    <tr>\n",
       "      <th>/m/011_c4</th>\n",
       "      <td>7</td>\n",
       "    </tr>\n",
       "    <tr>\n",
       "      <th>/m/011_nf</th>\n",
       "      <td>36</td>\n",
       "    </tr>\n",
       "    <tr>\n",
       "      <th>/m/011_pk</th>\n",
       "      <td>32</td>\n",
       "    </tr>\n",
       "    <tr>\n",
       "      <th>/m/011_r9</th>\n",
       "      <td>56</td>\n",
       "    </tr>\n",
       "    <tr>\n",
       "      <th>/m/011_ww</th>\n",
       "      <td>2</td>\n",
       "    </tr>\n",
       "    <tr>\n",
       "      <th>/m/011_x9</th>\n",
       "      <td>1</td>\n",
       "    </tr>\n",
       "    <tr>\n",
       "      <th>/m/011h2_</th>\n",
       "      <td>1</td>\n",
       "    </tr>\n",
       "    <tr>\n",
       "      <th>/m/011k9b</th>\n",
       "      <td>1</td>\n",
       "    </tr>\n",
       "    <tr>\n",
       "      <th>/m/011ld9</th>\n",
       "      <td>1</td>\n",
       "    </tr>\n",
       "    <tr>\n",
       "      <th>/m/011lhy</th>\n",
       "      <td>9</td>\n",
       "    </tr>\n",
       "  </tbody>\n",
       "</table>\n",
       "</div>"
      ],
      "text/plain": [
       "                   wiki_movie_ID_count\n",
       "freebase_actor_ID                     \n",
       "/m/010p3                            12\n",
       "/m/010q36                            1\n",
       "/m/010wx                             1\n",
       "/m/010xjr                           54\n",
       "/m/0112yl                           48\n",
       "/m/011_0k                            1\n",
       "/m/011_24                            2\n",
       "/m/011_2h                            1\n",
       "/m/011_3s                           34\n",
       "/m/011_8                             3\n",
       "/m/011_c4                            7\n",
       "/m/011_nf                           36\n",
       "/m/011_pk                           32\n",
       "/m/011_r9                           56\n",
       "/m/011_ww                            2\n",
       "/m/011_x9                            1\n",
       "/m/011h2_                            1\n",
       "/m/011k9b                            1\n",
       "/m/011ld9                            1\n",
       "/m/011lhy                            9"
      ]
     },
     "execution_count": 52,
     "metadata": {},
     "output_type": "execute_result"
    }
   ],
   "source": [
    "movies_by_character.head(20)"
   ]
  },
  {
   "cell_type": "code",
   "execution_count": 53,
   "id": "9b0ff20f",
   "metadata": {},
   "outputs": [
    {
     "data": {
      "text/plain": [
       "(array([5.2839e+04, 1.3784e+04, 7.0300e+03, 4.4750e+03, 0.0000e+00,\n",
       "        3.1430e+03, 2.2260e+03, 1.7490e+03, 1.4500e+03, 0.0000e+00,\n",
       "        1.2090e+03, 9.7500e+02, 8.0400e+02, 6.9500e+02, 0.0000e+00,\n",
       "        6.0700e+02, 5.3900e+02, 5.3000e+02, 3.9300e+02, 0.0000e+00,\n",
       "        3.8200e+02, 3.1700e+02, 3.1700e+02, 0.0000e+00, 2.7900e+02,\n",
       "        2.5700e+02, 2.1900e+02, 1.8400e+02, 0.0000e+00, 1.8300e+02,\n",
       "        1.7000e+02, 1.7000e+02, 1.3000e+02, 0.0000e+00, 1.5100e+02,\n",
       "        1.2000e+02, 1.2900e+02, 9.5000e+01, 0.0000e+00, 1.0800e+02,\n",
       "        1.0000e+02, 8.3000e+01, 0.0000e+00, 9.1000e+01, 7.5000e+01,\n",
       "        6.6000e+01, 6.0000e+01, 0.0000e+00, 7.4000e+01, 5.9000e+01,\n",
       "        7.4000e+01, 6.4000e+01, 0.0000e+00, 4.9000e+01, 5.3000e+01,\n",
       "        5.0000e+01, 3.8000e+01, 0.0000e+00, 3.0000e+01, 3.4000e+01,\n",
       "        3.8000e+01, 0.0000e+00, 3.5000e+01, 2.6000e+01, 2.7000e+01,\n",
       "        2.3000e+01, 0.0000e+00, 2.9000e+01, 3.4000e+01, 2.4000e+01,\n",
       "        2.2000e+01, 0.0000e+00, 2.1000e+01, 2.2000e+01, 2.1000e+01,\n",
       "        2.6000e+01, 0.0000e+00, 1.8000e+01, 1.6000e+01, 1.7000e+01,\n",
       "        0.0000e+00, 1.2000e+01, 1.4000e+01, 8.0000e+00, 1.2000e+01,\n",
       "        0.0000e+00, 1.7000e+01, 1.2000e+01, 1.3000e+01, 7.0000e+00,\n",
       "        0.0000e+00, 9.0000e+00, 1.1000e+01, 1.0000e+01, 5.0000e+00,\n",
       "        0.0000e+00, 8.0000e+00, 6.0000e+00, 3.0000e+00, 0.0000e+00,\n",
       "        6.0000e+00, 6.0000e+00, 1.6000e+01, 4.0000e+00, 0.0000e+00,\n",
       "        7.0000e+00, 6.0000e+00, 7.0000e+00, 6.0000e+00, 0.0000e+00,\n",
       "        3.0000e+00, 5.0000e+00, 4.0000e+00, 7.0000e+00, 0.0000e+00,\n",
       "        1.0000e+00, 4.0000e+00, 3.0000e+00, 3.0000e+00, 0.0000e+00,\n",
       "        1.0000e+00, 3.0000e+00, 2.0000e+00, 0.0000e+00, 5.0000e+00,\n",
       "        2.0000e+00, 0.0000e+00, 1.0000e+00, 0.0000e+00, 2.0000e+00,\n",
       "        1.0000e+00, 3.0000e+00, 3.0000e+00, 0.0000e+00, 1.0000e+00,\n",
       "        1.0000e+00, 1.0000e+00, 2.0000e+00, 0.0000e+00, 0.0000e+00,\n",
       "        3.0000e+00, 0.0000e+00, 0.0000e+00, 2.0000e+00, 2.0000e+00,\n",
       "        1.0000e+00, 0.0000e+00, 0.0000e+00, 0.0000e+00, 1.0000e+00,\n",
       "        2.0000e+00, 3.0000e+00, 0.0000e+00, 3.0000e+00, 6.0000e+00,\n",
       "        0.0000e+00, 1.0000e+00, 0.0000e+00, 1.0000e+00, 0.0000e+00,\n",
       "        0.0000e+00, 0.0000e+00, 2.0000e+00, 0.0000e+00, 3.0000e+00,\n",
       "        1.0000e+00, 0.0000e+00, 0.0000e+00, 1.0000e+00, 1.0000e+00,\n",
       "        0.0000e+00, 0.0000e+00, 0.0000e+00, 1.0000e+00, 0.0000e+00,\n",
       "        0.0000e+00, 0.0000e+00, 0.0000e+00, 0.0000e+00, 0.0000e+00,\n",
       "        0.0000e+00, 0.0000e+00, 0.0000e+00, 0.0000e+00, 0.0000e+00,\n",
       "        0.0000e+00, 1.0000e+00, 1.0000e+00, 0.0000e+00, 1.0000e+00,\n",
       "        0.0000e+00, 0.0000e+00, 0.0000e+00, 0.0000e+00, 0.0000e+00,\n",
       "        0.0000e+00, 0.0000e+00, 0.0000e+00, 3.0000e+00, 0.0000e+00,\n",
       "        0.0000e+00, 0.0000e+00, 0.0000e+00, 0.0000e+00, 0.0000e+00,\n",
       "        0.0000e+00, 0.0000e+00, 1.0000e+00, 0.0000e+00, 0.0000e+00,\n",
       "        1.0000e+00, 0.0000e+00, 0.0000e+00, 0.0000e+00, 0.0000e+00,\n",
       "        0.0000e+00, 1.0000e+00, 0.0000e+00, 0.0000e+00, 0.0000e+00,\n",
       "        0.0000e+00, 0.0000e+00, 0.0000e+00, 0.0000e+00, 2.0000e+00,\n",
       "        0.0000e+00, 0.0000e+00, 0.0000e+00, 0.0000e+00, 0.0000e+00,\n",
       "        1.0000e+00, 0.0000e+00, 0.0000e+00, 0.0000e+00, 0.0000e+00,\n",
       "        0.0000e+00, 0.0000e+00, 0.0000e+00, 0.0000e+00, 0.0000e+00,\n",
       "        4.0000e+00, 0.0000e+00, 0.0000e+00, 0.0000e+00, 0.0000e+00,\n",
       "        0.0000e+00, 0.0000e+00, 0.0000e+00, 0.0000e+00, 1.0000e+00,\n",
       "        0.0000e+00, 0.0000e+00, 0.0000e+00, 0.0000e+00, 0.0000e+00,\n",
       "        0.0000e+00, 1.0000e+00, 0.0000e+00, 1.0000e+00, 1.0000e+00,\n",
       "        0.0000e+00, 0.0000e+00, 0.0000e+00, 0.0000e+00, 0.0000e+00,\n",
       "        0.0000e+00, 0.0000e+00, 0.0000e+00, 0.0000e+00, 0.0000e+00,\n",
       "        0.0000e+00, 0.0000e+00, 0.0000e+00, 0.0000e+00, 0.0000e+00,\n",
       "        2.0000e+00, 0.0000e+00, 0.0000e+00, 0.0000e+00, 0.0000e+00,\n",
       "        0.0000e+00, 0.0000e+00, 0.0000e+00, 2.0000e+00, 0.0000e+00,\n",
       "        0.0000e+00, 0.0000e+00, 0.0000e+00, 0.0000e+00, 0.0000e+00,\n",
       "        0.0000e+00, 0.0000e+00, 0.0000e+00, 0.0000e+00, 1.0000e+00,\n",
       "        0.0000e+00, 0.0000e+00, 0.0000e+00, 0.0000e+00, 0.0000e+00,\n",
       "        0.0000e+00, 0.0000e+00, 0.0000e+00, 0.0000e+00, 0.0000e+00,\n",
       "        0.0000e+00, 0.0000e+00, 0.0000e+00, 0.0000e+00, 0.0000e+00,\n",
       "        0.0000e+00, 0.0000e+00, 0.0000e+00, 0.0000e+00, 0.0000e+00,\n",
       "        0.0000e+00, 0.0000e+00, 0.0000e+00, 0.0000e+00, 0.0000e+00,\n",
       "        0.0000e+00, 0.0000e+00, 0.0000e+00, 0.0000e+00, 0.0000e+00,\n",
       "        0.0000e+00, 0.0000e+00, 0.0000e+00, 0.0000e+00, 0.0000e+00,\n",
       "        0.0000e+00, 0.0000e+00, 0.0000e+00, 0.0000e+00, 0.0000e+00,\n",
       "        0.0000e+00, 0.0000e+00, 0.0000e+00, 0.0000e+00, 0.0000e+00,\n",
       "        0.0000e+00, 0.0000e+00, 0.0000e+00, 0.0000e+00, 0.0000e+00,\n",
       "        0.0000e+00, 0.0000e+00, 0.0000e+00, 0.0000e+00, 0.0000e+00,\n",
       "        0.0000e+00, 0.0000e+00, 0.0000e+00, 0.0000e+00, 0.0000e+00,\n",
       "        0.0000e+00, 0.0000e+00, 0.0000e+00, 0.0000e+00, 0.0000e+00,\n",
       "        0.0000e+00, 0.0000e+00, 0.0000e+00, 0.0000e+00, 0.0000e+00,\n",
       "        0.0000e+00, 0.0000e+00, 0.0000e+00, 0.0000e+00, 0.0000e+00,\n",
       "        0.0000e+00, 0.0000e+00, 0.0000e+00, 0.0000e+00, 0.0000e+00,\n",
       "        0.0000e+00, 0.0000e+00, 1.0000e+00, 0.0000e+00, 0.0000e+00,\n",
       "        0.0000e+00, 0.0000e+00, 0.0000e+00, 0.0000e+00, 0.0000e+00,\n",
       "        0.0000e+00, 0.0000e+00, 0.0000e+00, 0.0000e+00, 0.0000e+00,\n",
       "        0.0000e+00, 0.0000e+00, 0.0000e+00, 0.0000e+00, 0.0000e+00,\n",
       "        0.0000e+00, 0.0000e+00, 0.0000e+00, 0.0000e+00, 0.0000e+00,\n",
       "        0.0000e+00, 0.0000e+00, 0.0000e+00, 0.0000e+00, 0.0000e+00,\n",
       "        0.0000e+00, 0.0000e+00, 0.0000e+00, 0.0000e+00, 0.0000e+00,\n",
       "        0.0000e+00, 0.0000e+00, 0.0000e+00, 1.0000e+00, 0.0000e+00,\n",
       "        0.0000e+00, 0.0000e+00, 0.0000e+00, 0.0000e+00, 0.0000e+00,\n",
       "        0.0000e+00, 0.0000e+00, 0.0000e+00, 0.0000e+00, 0.0000e+00,\n",
       "        0.0000e+00, 0.0000e+00, 0.0000e+00, 0.0000e+00, 0.0000e+00,\n",
       "        0.0000e+00, 0.0000e+00, 0.0000e+00, 0.0000e+00, 0.0000e+00,\n",
       "        0.0000e+00, 0.0000e+00, 0.0000e+00, 0.0000e+00, 0.0000e+00,\n",
       "        0.0000e+00, 0.0000e+00, 0.0000e+00, 0.0000e+00, 0.0000e+00,\n",
       "        0.0000e+00, 0.0000e+00, 0.0000e+00, 0.0000e+00, 0.0000e+00,\n",
       "        0.0000e+00, 0.0000e+00, 0.0000e+00, 0.0000e+00, 0.0000e+00,\n",
       "        0.0000e+00, 0.0000e+00, 0.0000e+00, 0.0000e+00, 0.0000e+00,\n",
       "        0.0000e+00, 0.0000e+00, 0.0000e+00, 0.0000e+00, 0.0000e+00,\n",
       "        0.0000e+00, 0.0000e+00, 0.0000e+00, 0.0000e+00, 0.0000e+00,\n",
       "        0.0000e+00, 0.0000e+00, 0.0000e+00, 0.0000e+00, 0.0000e+00,\n",
       "        0.0000e+00, 0.0000e+00, 0.0000e+00, 0.0000e+00, 0.0000e+00,\n",
       "        0.0000e+00, 0.0000e+00, 0.0000e+00, 0.0000e+00, 0.0000e+00,\n",
       "        0.0000e+00, 0.0000e+00, 0.0000e+00, 0.0000e+00, 0.0000e+00,\n",
       "        0.0000e+00, 0.0000e+00, 0.0000e+00, 0.0000e+00, 0.0000e+00,\n",
       "        0.0000e+00, 0.0000e+00, 0.0000e+00, 0.0000e+00, 0.0000e+00,\n",
       "        0.0000e+00, 0.0000e+00, 0.0000e+00, 0.0000e+00, 0.0000e+00,\n",
       "        0.0000e+00, 0.0000e+00, 0.0000e+00, 0.0000e+00, 0.0000e+00,\n",
       "        0.0000e+00, 0.0000e+00, 0.0000e+00, 0.0000e+00, 0.0000e+00,\n",
       "        0.0000e+00, 0.0000e+00, 0.0000e+00, 0.0000e+00, 0.0000e+00,\n",
       "        0.0000e+00, 0.0000e+00, 0.0000e+00, 0.0000e+00, 0.0000e+00,\n",
       "        0.0000e+00, 0.0000e+00, 0.0000e+00, 0.0000e+00, 0.0000e+00,\n",
       "        0.0000e+00, 0.0000e+00, 0.0000e+00, 0.0000e+00, 0.0000e+00,\n",
       "        0.0000e+00, 0.0000e+00, 0.0000e+00, 0.0000e+00, 0.0000e+00,\n",
       "        0.0000e+00, 0.0000e+00, 0.0000e+00, 0.0000e+00, 0.0000e+00,\n",
       "        0.0000e+00, 0.0000e+00, 0.0000e+00, 0.0000e+00, 0.0000e+00,\n",
       "        0.0000e+00, 0.0000e+00, 0.0000e+00, 0.0000e+00, 0.0000e+00,\n",
       "        0.0000e+00, 0.0000e+00, 0.0000e+00, 0.0000e+00, 0.0000e+00,\n",
       "        0.0000e+00, 0.0000e+00, 0.0000e+00, 0.0000e+00, 0.0000e+00,\n",
       "        0.0000e+00, 0.0000e+00, 0.0000e+00, 0.0000e+00, 0.0000e+00,\n",
       "        0.0000e+00, 0.0000e+00, 0.0000e+00, 0.0000e+00, 0.0000e+00,\n",
       "        0.0000e+00, 0.0000e+00, 0.0000e+00, 0.0000e+00, 0.0000e+00,\n",
       "        0.0000e+00, 0.0000e+00, 0.0000e+00, 0.0000e+00, 0.0000e+00,\n",
       "        0.0000e+00, 0.0000e+00, 0.0000e+00, 0.0000e+00, 0.0000e+00,\n",
       "        0.0000e+00, 0.0000e+00, 0.0000e+00, 0.0000e+00, 0.0000e+00,\n",
       "        0.0000e+00, 0.0000e+00, 0.0000e+00, 0.0000e+00, 0.0000e+00,\n",
       "        0.0000e+00, 0.0000e+00, 0.0000e+00, 0.0000e+00, 0.0000e+00,\n",
       "        0.0000e+00, 0.0000e+00, 0.0000e+00, 0.0000e+00, 0.0000e+00,\n",
       "        0.0000e+00, 0.0000e+00, 0.0000e+00, 0.0000e+00, 0.0000e+00,\n",
       "        0.0000e+00, 0.0000e+00, 0.0000e+00, 0.0000e+00, 0.0000e+00,\n",
       "        0.0000e+00, 0.0000e+00, 0.0000e+00, 0.0000e+00, 0.0000e+00,\n",
       "        0.0000e+00, 0.0000e+00, 0.0000e+00, 0.0000e+00, 0.0000e+00,\n",
       "        0.0000e+00, 0.0000e+00, 0.0000e+00, 0.0000e+00, 0.0000e+00,\n",
       "        0.0000e+00, 0.0000e+00, 0.0000e+00, 0.0000e+00, 0.0000e+00,\n",
       "        0.0000e+00, 0.0000e+00, 0.0000e+00, 0.0000e+00, 0.0000e+00,\n",
       "        0.0000e+00, 0.0000e+00, 0.0000e+00, 0.0000e+00, 0.0000e+00,\n",
       "        0.0000e+00, 0.0000e+00, 0.0000e+00, 0.0000e+00, 0.0000e+00,\n",
       "        0.0000e+00, 0.0000e+00, 0.0000e+00, 0.0000e+00, 0.0000e+00,\n",
       "        0.0000e+00, 0.0000e+00, 0.0000e+00, 0.0000e+00, 0.0000e+00,\n",
       "        0.0000e+00, 0.0000e+00, 0.0000e+00, 0.0000e+00, 0.0000e+00,\n",
       "        0.0000e+00, 0.0000e+00, 0.0000e+00, 0.0000e+00, 0.0000e+00,\n",
       "        0.0000e+00, 0.0000e+00, 0.0000e+00, 0.0000e+00, 0.0000e+00,\n",
       "        0.0000e+00, 0.0000e+00, 0.0000e+00, 0.0000e+00, 0.0000e+00,\n",
       "        0.0000e+00, 0.0000e+00, 0.0000e+00, 0.0000e+00, 0.0000e+00,\n",
       "        0.0000e+00, 0.0000e+00, 0.0000e+00, 0.0000e+00, 0.0000e+00,\n",
       "        0.0000e+00, 0.0000e+00, 0.0000e+00, 0.0000e+00, 0.0000e+00,\n",
       "        0.0000e+00, 0.0000e+00, 0.0000e+00, 0.0000e+00, 0.0000e+00,\n",
       "        0.0000e+00, 0.0000e+00, 0.0000e+00, 0.0000e+00, 0.0000e+00,\n",
       "        0.0000e+00, 0.0000e+00, 0.0000e+00, 0.0000e+00, 0.0000e+00,\n",
       "        0.0000e+00, 0.0000e+00, 0.0000e+00, 0.0000e+00, 0.0000e+00,\n",
       "        0.0000e+00, 0.0000e+00, 0.0000e+00, 0.0000e+00, 0.0000e+00,\n",
       "        0.0000e+00, 0.0000e+00, 0.0000e+00, 0.0000e+00, 0.0000e+00,\n",
       "        0.0000e+00, 0.0000e+00, 0.0000e+00, 0.0000e+00, 0.0000e+00,\n",
       "        0.0000e+00, 0.0000e+00, 0.0000e+00, 0.0000e+00, 0.0000e+00,\n",
       "        0.0000e+00, 0.0000e+00, 0.0000e+00, 0.0000e+00, 0.0000e+00,\n",
       "        0.0000e+00, 0.0000e+00, 0.0000e+00, 0.0000e+00, 0.0000e+00,\n",
       "        0.0000e+00, 0.0000e+00, 0.0000e+00, 0.0000e+00, 0.0000e+00,\n",
       "        0.0000e+00, 0.0000e+00, 0.0000e+00, 0.0000e+00, 0.0000e+00,\n",
       "        0.0000e+00, 0.0000e+00, 0.0000e+00, 0.0000e+00, 0.0000e+00,\n",
       "        0.0000e+00, 0.0000e+00, 0.0000e+00, 0.0000e+00, 0.0000e+00,\n",
       "        0.0000e+00, 0.0000e+00, 0.0000e+00, 0.0000e+00, 0.0000e+00,\n",
       "        0.0000e+00, 0.0000e+00, 0.0000e+00, 0.0000e+00, 0.0000e+00,\n",
       "        0.0000e+00, 0.0000e+00, 0.0000e+00, 0.0000e+00, 0.0000e+00,\n",
       "        0.0000e+00, 0.0000e+00, 0.0000e+00, 0.0000e+00, 0.0000e+00,\n",
       "        0.0000e+00, 0.0000e+00, 0.0000e+00, 0.0000e+00, 0.0000e+00,\n",
       "        0.0000e+00, 0.0000e+00, 0.0000e+00, 0.0000e+00, 0.0000e+00,\n",
       "        0.0000e+00, 0.0000e+00, 0.0000e+00, 0.0000e+00, 0.0000e+00,\n",
       "        0.0000e+00, 0.0000e+00, 0.0000e+00, 0.0000e+00, 0.0000e+00,\n",
       "        0.0000e+00, 0.0000e+00, 0.0000e+00, 0.0000e+00, 0.0000e+00,\n",
       "        0.0000e+00, 0.0000e+00, 0.0000e+00, 0.0000e+00, 0.0000e+00,\n",
       "        0.0000e+00, 0.0000e+00, 0.0000e+00, 0.0000e+00, 0.0000e+00,\n",
       "        0.0000e+00, 0.0000e+00, 0.0000e+00, 0.0000e+00, 0.0000e+00,\n",
       "        0.0000e+00, 0.0000e+00, 0.0000e+00, 0.0000e+00, 0.0000e+00,\n",
       "        0.0000e+00, 0.0000e+00, 0.0000e+00, 0.0000e+00, 0.0000e+00,\n",
       "        0.0000e+00, 0.0000e+00, 0.0000e+00, 0.0000e+00, 0.0000e+00,\n",
       "        0.0000e+00, 0.0000e+00, 0.0000e+00, 0.0000e+00, 0.0000e+00,\n",
       "        0.0000e+00, 0.0000e+00, 0.0000e+00, 0.0000e+00, 0.0000e+00,\n",
       "        0.0000e+00, 0.0000e+00, 0.0000e+00, 0.0000e+00, 0.0000e+00,\n",
       "        0.0000e+00, 0.0000e+00, 0.0000e+00, 0.0000e+00, 0.0000e+00,\n",
       "        0.0000e+00, 0.0000e+00, 0.0000e+00, 0.0000e+00, 0.0000e+00,\n",
       "        0.0000e+00, 0.0000e+00, 0.0000e+00, 0.0000e+00, 0.0000e+00,\n",
       "        0.0000e+00, 0.0000e+00, 0.0000e+00, 0.0000e+00, 0.0000e+00,\n",
       "        0.0000e+00, 0.0000e+00, 0.0000e+00, 0.0000e+00, 0.0000e+00,\n",
       "        0.0000e+00, 0.0000e+00, 0.0000e+00, 0.0000e+00, 0.0000e+00,\n",
       "        0.0000e+00, 0.0000e+00, 0.0000e+00, 0.0000e+00, 0.0000e+00,\n",
       "        0.0000e+00, 0.0000e+00, 0.0000e+00, 0.0000e+00, 0.0000e+00,\n",
       "        0.0000e+00, 0.0000e+00, 0.0000e+00, 0.0000e+00, 0.0000e+00,\n",
       "        0.0000e+00, 0.0000e+00, 0.0000e+00, 0.0000e+00, 0.0000e+00,\n",
       "        0.0000e+00, 0.0000e+00, 0.0000e+00, 0.0000e+00, 0.0000e+00,\n",
       "        0.0000e+00, 0.0000e+00, 0.0000e+00, 0.0000e+00, 0.0000e+00,\n",
       "        0.0000e+00, 0.0000e+00, 0.0000e+00, 0.0000e+00, 0.0000e+00,\n",
       "        0.0000e+00, 0.0000e+00, 0.0000e+00, 0.0000e+00, 0.0000e+00,\n",
       "        0.0000e+00, 0.0000e+00, 0.0000e+00, 0.0000e+00, 0.0000e+00,\n",
       "        0.0000e+00, 0.0000e+00, 0.0000e+00, 0.0000e+00, 0.0000e+00,\n",
       "        0.0000e+00, 0.0000e+00, 0.0000e+00, 0.0000e+00, 0.0000e+00,\n",
       "        0.0000e+00, 0.0000e+00, 0.0000e+00, 0.0000e+00, 0.0000e+00,\n",
       "        0.0000e+00, 0.0000e+00, 0.0000e+00, 0.0000e+00, 0.0000e+00,\n",
       "        0.0000e+00, 0.0000e+00, 0.0000e+00, 0.0000e+00, 0.0000e+00,\n",
       "        0.0000e+00, 0.0000e+00, 0.0000e+00, 0.0000e+00, 0.0000e+00,\n",
       "        0.0000e+00, 0.0000e+00, 0.0000e+00, 0.0000e+00, 0.0000e+00,\n",
       "        0.0000e+00, 0.0000e+00, 0.0000e+00, 0.0000e+00, 0.0000e+00,\n",
       "        0.0000e+00, 0.0000e+00, 0.0000e+00, 0.0000e+00, 0.0000e+00,\n",
       "        0.0000e+00, 0.0000e+00, 0.0000e+00, 0.0000e+00, 0.0000e+00,\n",
       "        0.0000e+00, 0.0000e+00, 0.0000e+00, 0.0000e+00, 0.0000e+00,\n",
       "        0.0000e+00, 0.0000e+00, 0.0000e+00, 0.0000e+00, 0.0000e+00,\n",
       "        0.0000e+00, 0.0000e+00, 0.0000e+00, 0.0000e+00, 1.0000e+00]),\n",
       " array([  1.  ,   1.79,   2.58, ..., 789.42, 790.21, 791.  ]),\n",
       " <BarContainer object of 1000 artists>)"
      ]
     },
     "execution_count": 53,
     "metadata": {},
     "output_type": "execute_result"
    },
    {
     "data": {
      "image/png": "[encoded data removed]",
      "text/plain": [
       "<Figure size 640x480 with 1 Axes>"
      ]
     },
     "metadata": {},
     "output_type": "display_data"
    }
   ],
   "source": [
    "plt.hist(movies_by_character, bins = 1000, log=True)"
   ]
  },
  {
   "cell_type": "code",
   "execution_count": 54,
   "id": "e23a0599",
   "metadata": {},
   "outputs": [],
   "source": [
    "gender_actor=characters.drop_duplicates(subset=['freebase_actor_ID'])[['freebase_actor_ID','actor_gender']]"
   ]
  },
  {
   "cell_type": "code",
   "execution_count": 55,
   "id": "004f07f7",
   "metadata": {},
   "outputs": [
    {
     "data": {
      "text/html": [
       "<div>\n",
       "<style scoped>\n",
       "    .dataframe tbody tr th:only-of-type {\n",
       "        vertical-align: middle;\n",
       "    }\n",
       "\n",
       "    .dataframe tbody tr th {\n",
       "        vertical-align: top;\n",
       "    }\n",
       "\n",
       "    .dataframe thead th {\n",
       "        text-align: right;\n",
       "    }\n",
       "</style>\n",
       "<table border=\"1\" class=\"dataframe\">\n",
       "  <thead>\n",
       "    <tr style=\"text-align: right;\">\n",
       "      <th></th>\n",
       "      <th>freebase_actor_ID</th>\n",
       "      <th>actor_gender</th>\n",
       "    </tr>\n",
       "  </thead>\n",
       "  <tbody>\n",
       "    <tr>\n",
       "      <th>0</th>\n",
       "      <td>/m/03wcfv7</td>\n",
       "      <td>F</td>\n",
       "    </tr>\n",
       "    <tr>\n",
       "      <th>1</th>\n",
       "      <td>/m/0346l4</td>\n",
       "      <td>F</td>\n",
       "    </tr>\n",
       "    <tr>\n",
       "      <th>2</th>\n",
       "      <td>/m/01vw26l</td>\n",
       "      <td>M</td>\n",
       "    </tr>\n",
       "    <tr>\n",
       "      <th>3</th>\n",
       "      <td>/m/034hyc</td>\n",
       "      <td>M</td>\n",
       "    </tr>\n",
       "    <tr>\n",
       "      <th>4</th>\n",
       "      <td>/m/01y9xg</td>\n",
       "      <td>F</td>\n",
       "    </tr>\n",
       "    <tr>\n",
       "      <th>...</th>\n",
       "      <td>...</td>\n",
       "      <td>...</td>\n",
       "    </tr>\n",
       "    <tr>\n",
       "      <th>450653</th>\n",
       "      <td>/m/01qwg7h</td>\n",
       "      <td>F</td>\n",
       "    </tr>\n",
       "    <tr>\n",
       "      <th>450659</th>\n",
       "      <td>/m/0kr409z</td>\n",
       "      <td>F</td>\n",
       "    </tr>\n",
       "    <tr>\n",
       "      <th>450660</th>\n",
       "      <td>/m/0gn4bz</td>\n",
       "      <td>M</td>\n",
       "    </tr>\n",
       "    <tr>\n",
       "      <th>450662</th>\n",
       "      <td>/m/0gn4nd</td>\n",
       "      <td>F</td>\n",
       "    </tr>\n",
       "    <tr>\n",
       "      <th>450663</th>\n",
       "      <td>/m/0kr407h</td>\n",
       "      <td>M</td>\n",
       "    </tr>\n",
       "  </tbody>\n",
       "</table>\n",
       "<p>97383 rows × 2 columns</p>\n",
       "</div>"
      ],
      "text/plain": [
       "       freebase_actor_ID actor_gender\n",
       "0             /m/03wcfv7            F\n",
       "1              /m/0346l4            F\n",
       "2             /m/01vw26l            M\n",
       "3              /m/034hyc            M\n",
       "4              /m/01y9xg            F\n",
       "...                  ...          ...\n",
       "450653        /m/01qwg7h            F\n",
       "450659        /m/0kr409z            F\n",
       "450660         /m/0gn4bz            M\n",
       "450662         /m/0gn4nd            F\n",
       "450663        /m/0kr407h            M\n",
       "\n",
       "[97383 rows x 2 columns]"
      ]
     },
     "execution_count": 55,
     "metadata": {},
     "output_type": "execute_result"
    }
   ],
   "source": [
    "gender_actor"
   ]
  },
  {
   "cell_type": "code",
   "execution_count": 56,
   "id": "18e1650d",
   "metadata": {},
   "outputs": [],
   "source": [
    "career_gender = movies_by_character.merge(gender_actor, left_on='freebase_actor_ID', right_on='freebase_actor_ID')"
   ]
  },
  {
   "cell_type": "code",
   "execution_count": 57,
   "id": "5c1c70fa",
   "metadata": {},
   "outputs": [
    {
     "data": {
      "text/html": [
       "<div>\n",
       "<style scoped>\n",
       "    .dataframe tbody tr th:only-of-type {\n",
       "        vertical-align: middle;\n",
       "    }\n",
       "\n",
       "    .dataframe tbody tr th {\n",
       "        vertical-align: top;\n",
       "    }\n",
       "\n",
       "    .dataframe thead th {\n",
       "        text-align: right;\n",
       "    }\n",
       "</style>\n",
       "<table border=\"1\" class=\"dataframe\">\n",
       "  <thead>\n",
       "    <tr style=\"text-align: right;\">\n",
       "      <th></th>\n",
       "      <th>freebase_actor_ID</th>\n",
       "      <th>wiki_movie_ID_count</th>\n",
       "      <th>actor_gender</th>\n",
       "    </tr>\n",
       "  </thead>\n",
       "  <tbody>\n",
       "    <tr>\n",
       "      <th>0</th>\n",
       "      <td>/m/010p3</td>\n",
       "      <td>12</td>\n",
       "      <td>M</td>\n",
       "    </tr>\n",
       "    <tr>\n",
       "      <th>1</th>\n",
       "      <td>/m/010q36</td>\n",
       "      <td>1</td>\n",
       "      <td>M</td>\n",
       "    </tr>\n",
       "    <tr>\n",
       "      <th>2</th>\n",
       "      <td>/m/010wx</td>\n",
       "      <td>1</td>\n",
       "      <td>F</td>\n",
       "    </tr>\n",
       "    <tr>\n",
       "      <th>3</th>\n",
       "      <td>/m/010xjr</td>\n",
       "      <td>54</td>\n",
       "      <td>M</td>\n",
       "    </tr>\n",
       "    <tr>\n",
       "      <th>4</th>\n",
       "      <td>/m/0112yl</td>\n",
       "      <td>48</td>\n",
       "      <td>M</td>\n",
       "    </tr>\n",
       "    <tr>\n",
       "      <th>...</th>\n",
       "      <td>...</td>\n",
       "      <td>...</td>\n",
       "      <td>...</td>\n",
       "    </tr>\n",
       "    <tr>\n",
       "      <th>97378</th>\n",
       "      <td>/m/0z58</td>\n",
       "      <td>1</td>\n",
       "      <td>M</td>\n",
       "    </tr>\n",
       "    <tr>\n",
       "      <th>97379</th>\n",
       "      <td>/m/0z9q0</td>\n",
       "      <td>1</td>\n",
       "      <td>M</td>\n",
       "    </tr>\n",
       "    <tr>\n",
       "      <th>97380</th>\n",
       "      <td>/m/0zcb7</td>\n",
       "      <td>6</td>\n",
       "      <td>M</td>\n",
       "    </tr>\n",
       "    <tr>\n",
       "      <th>97381</th>\n",
       "      <td>/m/0zcbl</td>\n",
       "      <td>54</td>\n",
       "      <td>M</td>\n",
       "    </tr>\n",
       "    <tr>\n",
       "      <th>97382</th>\n",
       "      <td>/m/0zjpz</td>\n",
       "      <td>1</td>\n",
       "      <td>M</td>\n",
       "    </tr>\n",
       "  </tbody>\n",
       "</table>\n",
       "<p>97383 rows × 3 columns</p>\n",
       "</div>"
      ],
      "text/plain": [
       "      freebase_actor_ID  wiki_movie_ID_count actor_gender\n",
       "0              /m/010p3                   12            M\n",
       "1             /m/010q36                    1            M\n",
       "2              /m/010wx                    1            F\n",
       "3             /m/010xjr                   54            M\n",
       "4             /m/0112yl                   48            M\n",
       "...                 ...                  ...          ...\n",
       "97378           /m/0z58                    1            M\n",
       "97379          /m/0z9q0                    1            M\n",
       "97380          /m/0zcb7                    6            M\n",
       "97381          /m/0zcbl                   54            M\n",
       "97382          /m/0zjpz                    1            M\n",
       "\n",
       "[97383 rows x 3 columns]"
      ]
     },
     "execution_count": 57,
     "metadata": {},
     "output_type": "execute_result"
    }
   ],
   "source": [
    "career_gender"
   ]
  },
  {
   "cell_type": "code",
   "execution_count": 58,
   "id": "ca4c4b38",
   "metadata": {},
   "outputs": [],
   "source": [
    "# we will count the number of females and males to normalize our results\n",
    "\n",
    "number_female_male=career_gender.groupby(career_gender['actor_gender']).size()"
   ]
  },
  {
   "cell_type": "code",
   "execution_count": 59,
   "id": "c1a4bc29",
   "metadata": {},
   "outputs": [
    {
     "data": {
      "text/plain": [
       "35864"
      ]
     },
     "execution_count": 59,
     "metadata": {},
     "output_type": "execute_result"
    }
   ],
   "source": [
    "number_female_male.loc[number_female_male.index=='F'].values[0]"
   ]
  },
  {
   "cell_type": "code",
   "execution_count": 60,
   "id": "d205f5cb",
   "metadata": {},
   "outputs": [],
   "source": [
    "# let's normalize\n",
    "# groupby nb de movie et count sur f et m\n",
    "\n",
    "ratio_f_m_per_number_of_movies=career_gender.groupby(['wiki_movie_ID_count','actor_gender'])[['freebase_actor_ID']].count()"
   ]
  },
  {
   "cell_type": "code",
   "execution_count": 61,
   "id": "58d31845",
   "metadata": {},
   "outputs": [
    {
     "data": {
      "text/html": [
       "<div>\n",
       "<style scoped>\n",
       "    .dataframe tbody tr th:only-of-type {\n",
       "        vertical-align: middle;\n",
       "    }\n",
       "\n",
       "    .dataframe tbody tr th {\n",
       "        vertical-align: top;\n",
       "    }\n",
       "\n",
       "    .dataframe thead th {\n",
       "        text-align: right;\n",
       "    }\n",
       "</style>\n",
       "<table border=\"1\" class=\"dataframe\">\n",
       "  <thead>\n",
       "    <tr style=\"text-align: right;\">\n",
       "      <th></th>\n",
       "      <th></th>\n",
       "      <th>freebase_actor_ID</th>\n",
       "    </tr>\n",
       "    <tr>\n",
       "      <th>wiki_movie_ID_count</th>\n",
       "      <th>actor_gender</th>\n",
       "      <th></th>\n",
       "    </tr>\n",
       "  </thead>\n",
       "  <tbody>\n",
       "    <tr>\n",
       "      <th rowspan=\"2\" valign=\"top\">1</th>\n",
       "      <th>F</th>\n",
       "      <td>19508</td>\n",
       "    </tr>\n",
       "    <tr>\n",
       "      <th>M</th>\n",
       "      <td>33331</td>\n",
       "    </tr>\n",
       "    <tr>\n",
       "      <th rowspan=\"2\" valign=\"top\">2</th>\n",
       "      <th>F</th>\n",
       "      <td>5242</td>\n",
       "    </tr>\n",
       "    <tr>\n",
       "      <th>M</th>\n",
       "      <td>8542</td>\n",
       "    </tr>\n",
       "    <tr>\n",
       "      <th>3</th>\n",
       "      <th>F</th>\n",
       "      <td>2660</td>\n",
       "    </tr>\n",
       "    <tr>\n",
       "      <th>...</th>\n",
       "      <th>...</th>\n",
       "      <td>...</td>\n",
       "    </tr>\n",
       "    <tr>\n",
       "      <th>225</th>\n",
       "      <th>M</th>\n",
       "      <td>2</td>\n",
       "    </tr>\n",
       "    <tr>\n",
       "      <th>234</th>\n",
       "      <th>M</th>\n",
       "      <td>1</td>\n",
       "    </tr>\n",
       "    <tr>\n",
       "      <th>299</th>\n",
       "      <th>M</th>\n",
       "      <td>1</td>\n",
       "    </tr>\n",
       "    <tr>\n",
       "      <th>328</th>\n",
       "      <th>M</th>\n",
       "      <td>1</td>\n",
       "    </tr>\n",
       "    <tr>\n",
       "      <th>791</th>\n",
       "      <th>M</th>\n",
       "      <td>1</td>\n",
       "    </tr>\n",
       "  </tbody>\n",
       "</table>\n",
       "<p>238 rows × 1 columns</p>\n",
       "</div>"
      ],
      "text/plain": [
       "                                  freebase_actor_ID\n",
       "wiki_movie_ID_count actor_gender                   \n",
       "1                   F                         19508\n",
       "                    M                         33331\n",
       "2                   F                          5242\n",
       "                    M                          8542\n",
       "3                   F                          2660\n",
       "...                                             ...\n",
       "225                 M                             2\n",
       "234                 M                             1\n",
       "299                 M                             1\n",
       "328                 M                             1\n",
       "791                 M                             1\n",
       "\n",
       "[238 rows x 1 columns]"
      ]
     },
     "execution_count": 61,
     "metadata": {},
     "output_type": "execute_result"
    }
   ],
   "source": [
    "ratio_f_m_per_number_of_movies"
   ]
  },
  {
   "cell_type": "code",
   "execution_count": 62,
   "id": "bb09a818",
   "metadata": {},
   "outputs": [
    {
     "data": {
      "text/html": [
       "<div>\n",
       "<style scoped>\n",
       "    .dataframe tbody tr th:only-of-type {\n",
       "        vertical-align: middle;\n",
       "    }\n",
       "\n",
       "    .dataframe tbody tr th {\n",
       "        vertical-align: top;\n",
       "    }\n",
       "\n",
       "    .dataframe thead th {\n",
       "        text-align: right;\n",
       "    }\n",
       "</style>\n",
       "<table border=\"1\" class=\"dataframe\">\n",
       "  <thead>\n",
       "    <tr style=\"text-align: right;\">\n",
       "      <th></th>\n",
       "      <th></th>\n",
       "      <th>freebase_actor_ID</th>\n",
       "    </tr>\n",
       "    <tr>\n",
       "      <th>wiki_movie_ID_count</th>\n",
       "      <th>actor_gender</th>\n",
       "      <th></th>\n",
       "    </tr>\n",
       "  </thead>\n",
       "  <tbody>\n",
       "    <tr>\n",
       "      <th rowspan=\"2\" valign=\"top\">1</th>\n",
       "      <th>F</th>\n",
       "      <td>0.543944</td>\n",
       "    </tr>\n",
       "    <tr>\n",
       "      <th>M</th>\n",
       "      <td>0.541800</td>\n",
       "    </tr>\n",
       "    <tr>\n",
       "      <th rowspan=\"2\" valign=\"top\">2</th>\n",
       "      <th>F</th>\n",
       "      <td>0.146163</td>\n",
       "    </tr>\n",
       "    <tr>\n",
       "      <th>M</th>\n",
       "      <td>0.138851</td>\n",
       "    </tr>\n",
       "    <tr>\n",
       "      <th>3</th>\n",
       "      <th>F</th>\n",
       "      <td>0.074169</td>\n",
       "    </tr>\n",
       "    <tr>\n",
       "      <th>...</th>\n",
       "      <th>...</th>\n",
       "      <td>...</td>\n",
       "    </tr>\n",
       "    <tr>\n",
       "      <th>225</th>\n",
       "      <th>M</th>\n",
       "      <td>0.000033</td>\n",
       "    </tr>\n",
       "    <tr>\n",
       "      <th>234</th>\n",
       "      <th>M</th>\n",
       "      <td>0.000016</td>\n",
       "    </tr>\n",
       "    <tr>\n",
       "      <th>299</th>\n",
       "      <th>M</th>\n",
       "      <td>0.000016</td>\n",
       "    </tr>\n",
       "    <tr>\n",
       "      <th>328</th>\n",
       "      <th>M</th>\n",
       "      <td>0.000016</td>\n",
       "    </tr>\n",
       "    <tr>\n",
       "      <th>791</th>\n",
       "      <th>M</th>\n",
       "      <td>0.000016</td>\n",
       "    </tr>\n",
       "  </tbody>\n",
       "</table>\n",
       "<p>238 rows × 1 columns</p>\n",
       "</div>"
      ],
      "text/plain": [
       "                                  freebase_actor_ID\n",
       "wiki_movie_ID_count actor_gender                   \n",
       "1                   F                      0.543944\n",
       "                    M                      0.541800\n",
       "2                   F                      0.146163\n",
       "                    M                      0.138851\n",
       "3                   F                      0.074169\n",
       "...                                             ...\n",
       "225                 M                      0.000033\n",
       "234                 M                      0.000016\n",
       "299                 M                      0.000016\n",
       "328                 M                      0.000016\n",
       "791                 M                      0.000016\n",
       "\n",
       "[238 rows x 1 columns]"
      ]
     },
     "execution_count": 62,
     "metadata": {},
     "output_type": "execute_result"
    }
   ],
   "source": [
    "ratio_f_m_per_number_of_movies.loc[(slice(None),'F'),:] = ratio_f_m_per_number_of_movies.loc[(slice(None),'F'),:]/number_female_male.loc[number_female_male.index=='F'].values[0]\n",
    "ratio_f_m_per_number_of_movies.loc[(slice(None),'M'),:] = ratio_f_m_per_number_of_movies.loc[(slice(None),'M'),:]/number_female_male.loc[number_female_male.index=='M'].values[0]\n",
    "ratio_f_m_per_number_of_movies"
   ]
  },
  {
   "cell_type": "code",
   "execution_count": 150,
   "id": "f87443c1",
   "metadata": {},
   "outputs": [
    {
     "data": {
      "text/html": [
       "<div>\n",
       "<style scoped>\n",
       "    .dataframe tbody tr th:only-of-type {\n",
       "        vertical-align: middle;\n",
       "    }\n",
       "\n",
       "    .dataframe tbody tr th {\n",
       "        vertical-align: top;\n",
       "    }\n",
       "\n",
       "    .dataframe thead th {\n",
       "        text-align: right;\n",
       "    }\n",
       "</style>\n",
       "<table border=\"1\" class=\"dataframe\">\n",
       "  <thead>\n",
       "    <tr style=\"text-align: right;\">\n",
       "      <th></th>\n",
       "      <th></th>\n",
       "      <th>freebase_actor_ID</th>\n",
       "    </tr>\n",
       "    <tr>\n",
       "      <th>wiki_movie_ID_count</th>\n",
       "      <th>actor_gender</th>\n",
       "      <th></th>\n",
       "    </tr>\n",
       "  </thead>\n",
       "  <tbody>\n",
       "    <tr>\n",
       "      <th>1</th>\n",
       "      <th>F</th>\n",
       "      <td>0.543944</td>\n",
       "    </tr>\n",
       "    <tr>\n",
       "      <th>2</th>\n",
       "      <th>F</th>\n",
       "      <td>0.146163</td>\n",
       "    </tr>\n",
       "    <tr>\n",
       "      <th>3</th>\n",
       "      <th>F</th>\n",
       "      <td>0.074169</td>\n",
       "    </tr>\n",
       "    <tr>\n",
       "      <th>4</th>\n",
       "      <th>F</th>\n",
       "      <td>0.047931</td>\n",
       "    </tr>\n",
       "    <tr>\n",
       "      <th>5</th>\n",
       "      <th>F</th>\n",
       "      <td>0.033488</td>\n",
       "    </tr>\n",
       "    <tr>\n",
       "      <th>...</th>\n",
       "      <th>...</th>\n",
       "      <td>...</td>\n",
       "    </tr>\n",
       "    <tr>\n",
       "      <th>115</th>\n",
       "      <th>F</th>\n",
       "      <td>0.000028</td>\n",
       "    </tr>\n",
       "    <tr>\n",
       "      <th>121</th>\n",
       "      <th>F</th>\n",
       "      <td>0.000028</td>\n",
       "    </tr>\n",
       "    <tr>\n",
       "      <th>122</th>\n",
       "      <th>F</th>\n",
       "      <td>0.000028</td>\n",
       "    </tr>\n",
       "    <tr>\n",
       "      <th>123</th>\n",
       "      <th>F</th>\n",
       "      <td>0.000056</td>\n",
       "    </tr>\n",
       "    <tr>\n",
       "      <th>135</th>\n",
       "      <th>F</th>\n",
       "      <td>0.000028</td>\n",
       "    </tr>\n",
       "  </tbody>\n",
       "</table>\n",
       "<p>93 rows × 1 columns</p>\n",
       "</div>"
      ],
      "text/plain": [
       "                                  freebase_actor_ID\n",
       "wiki_movie_ID_count actor_gender                   \n",
       "1                   F                      0.543944\n",
       "2                   F                      0.146163\n",
       "3                   F                      0.074169\n",
       "4                   F                      0.047931\n",
       "5                   F                      0.033488\n",
       "...                                             ...\n",
       "115                 F                      0.000028\n",
       "121                 F                      0.000028\n",
       "122                 F                      0.000028\n",
       "123                 F                      0.000056\n",
       "135                 F                      0.000028\n",
       "\n",
       "[93 rows x 1 columns]"
      ]
     },
     "execution_count": 150,
     "metadata": {},
     "output_type": "execute_result"
    }
   ],
   "source": [
    "career_fem=ratio_f_m_per_number_of_movies.loc[(slice(None),'F'),:]\n",
    "career_fem"
   ]
  },
  {
   "cell_type": "code",
   "execution_count": 155,
   "id": "c07e275f",
   "metadata": {},
   "outputs": [
    {
     "data": {
      "text/plain": [
       "<AxesSubplot: xlabel='wiki_movie_ID_count,actor_gender'>"
      ]
     },
     "execution_count": 155,
     "metadata": {},
     "output_type": "execute_result"
    },
    {
     "data": {
      "image/png": "[encoded data removed]",
      "text/plain": [
       "<Figure size 640x480 with 1 Axes>"
      ]
     },
     "metadata": {},
     "output_type": "display_data"
    }
   ],
   "source": [
    "ax= career_fem.plot.bar()\n",
    "# plt.xscale('log')"
   ]
  },
  {
   "cell_type": "code",
   "execution_count": 156,
   "id": "b0cb022e",
   "metadata": {},
   "outputs": [
    {
     "data": {
      "text/plain": [
       "<AxesSubplot: xlabel='wiki_movie_ID_count,actor_gender'>"
      ]
     },
     "execution_count": 156,
     "metadata": {},
     "output_type": "execute_result"
    },
    {
     "data": {
      "image/png": "[encoded data removed]",
      "text/plain": [
       "<Figure size 640x480 with 1 Axes>"
      ]
     },
     "metadata": {},
     "output_type": "display_data"
    }
   ],
   "source": [
    "career_male=ratio_f_m_per_number_of_movies.loc[(slice(None),'M'),:]\n",
    "career_male.plot.bar()"
   ]
  },
  {
   "cell_type": "code",
   "execution_count": 100,
   "id": "6f51b8ab",
   "metadata": {},
   "outputs": [
    {
     "data": {
      "text/plain": [
       "<AxesSubplot: xlabel='wiki_movie_ID_count', ylabel='Count'>"
      ]
     },
     "execution_count": 100,
     "metadata": {},
     "output_type": "execute_result"
    },
    {
     "data": {
      "image/png": "[encoded data removed]",
      "text/plain": [
       "<Figure size 640x480 with 1 Axes>"
      ]
     },
     "metadata": {},
     "output_type": "display_data"
    }
   ],
   "source": [
    "sns.histplot(data=career_gender, x=\"wiki_movie_ID_count\", hue=\"actor_gender\", log_scale=(True, True))"
   ]
  },
  {
   "attachments": {},
   "cell_type": "markdown",
   "id": "8f0bd1a5",
   "metadata": {},
   "source": [
    "# Character profiles"
   ]
  },
  {
   "cell_type": "code",
   "execution_count": 139,
   "id": "c06945b5",
   "metadata": {},
   "outputs": [
    {
     "data": {
      "text/html": [
       "<div>\n",
       "<style scoped>\n",
       "    .dataframe tbody tr th:only-of-type {\n",
       "        vertical-align: middle;\n",
       "    }\n",
       "\n",
       "    .dataframe tbody tr th {\n",
       "        vertical-align: top;\n",
       "    }\n",
       "\n",
       "    .dataframe thead th {\n",
       "        text-align: right;\n",
       "    }\n",
       "</style>\n",
       "<table border=\"1\" class=\"dataframe\">\n",
       "  <thead>\n",
       "    <tr style=\"text-align: right;\">\n",
       "      <th></th>\n",
       "      <th>char_type</th>\n",
       "      <th>infos</th>\n",
       "    </tr>\n",
       "  </thead>\n",
       "  <tbody>\n",
       "    <tr>\n",
       "      <th>0</th>\n",
       "      <td>absent_minded_professor</td>\n",
       "      <td>{\"char\": \"Professor Philip Brainard\", \"movie\":...</td>\n",
       "    </tr>\n",
       "    <tr>\n",
       "      <th>1</th>\n",
       "      <td>absent_minded_professor</td>\n",
       "      <td>{\"char\": \"Professor Keenbean\", \"movie\": \"Richi...</td>\n",
       "    </tr>\n",
       "    <tr>\n",
       "      <th>2</th>\n",
       "      <td>absent_minded_professor</td>\n",
       "      <td>{\"char\": \"Dr. Reinhardt Lane\", \"movie\": \"The S...</td>\n",
       "    </tr>\n",
       "  </tbody>\n",
       "</table>\n",
       "</div>"
      ],
      "text/plain": [
       "                 char_type                                              infos\n",
       "0  absent_minded_professor  {\"char\": \"Professor Philip Brainard\", \"movie\":...\n",
       "1  absent_minded_professor  {\"char\": \"Professor Keenbean\", \"movie\": \"Richi...\n",
       "2  absent_minded_professor  {\"char\": \"Dr. Reinhardt Lane\", \"movie\": \"The S..."
      ]
     },
     "execution_count": 139,
     "metadata": {},
     "output_type": "execute_result"
    }
   ],
   "source": [
    "# import tvtropes.clusters\n",
    "type_char=pd.read_table('Data/MovieSummaries/tvtropes.clusters.txt',header=None)\n",
    "\n",
    "# rename the columns\n",
    "type_char.columns=['char_type','infos']\n",
    "\n",
    "# print the dataframe\n",
    "type_char.head(3)"
   ]
  },
  {
   "cell_type": "code",
   "execution_count": 140,
   "id": "1c0cf31d",
   "metadata": {},
   "outputs": [
    {
     "data": {
      "text/html": [
       "<div>\n",
       "<style scoped>\n",
       "    .dataframe tbody tr th:only-of-type {\n",
       "        vertical-align: middle;\n",
       "    }\n",
       "\n",
       "    .dataframe tbody tr th {\n",
       "        vertical-align: top;\n",
       "    }\n",
       "\n",
       "    .dataframe thead th {\n",
       "        text-align: right;\n",
       "    }\n",
       "</style>\n",
       "<table border=\"1\" class=\"dataframe\">\n",
       "  <thead>\n",
       "    <tr style=\"text-align: right;\">\n",
       "      <th></th>\n",
       "      <th>char</th>\n",
       "      <th>movie</th>\n",
       "      <th>id</th>\n",
       "      <th>actor</th>\n",
       "    </tr>\n",
       "  </thead>\n",
       "  <tbody>\n",
       "    <tr>\n",
       "      <th>0</th>\n",
       "      <td>Professor Philip Brainard</td>\n",
       "      <td>Flubber</td>\n",
       "      <td>/m/0jy9q0</td>\n",
       "      <td>Robin Williams</td>\n",
       "    </tr>\n",
       "    <tr>\n",
       "      <th>1</th>\n",
       "      <td>Professor Keenbean</td>\n",
       "      <td>Richie Rich</td>\n",
       "      <td>/m/02vchl3</td>\n",
       "      <td>Michael McShane</td>\n",
       "    </tr>\n",
       "    <tr>\n",
       "      <th>2</th>\n",
       "      <td>Dr. Reinhardt Lane</td>\n",
       "      <td>The Shadow</td>\n",
       "      <td>/m/0k6fkc</td>\n",
       "      <td>Ian McKellen</td>\n",
       "    </tr>\n",
       "  </tbody>\n",
       "</table>\n",
       "</div>"
      ],
      "text/plain": [
       "                        char        movie          id            actor\n",
       "0  Professor Philip Brainard      Flubber   /m/0jy9q0   Robin Williams\n",
       "1         Professor Keenbean  Richie Rich  /m/02vchl3  Michael McShane\n",
       "2         Dr. Reinhardt Lane   The Shadow   /m/0k6fkc     Ian McKellen"
      ]
     },
     "execution_count": 140,
     "metadata": {},
     "output_type": "execute_result"
    }
   ],
   "source": [
    "# split the dictionnaries into columns\n",
    "\n",
    "import json\n",
    "list=[]\n",
    "\n",
    "for i in range(len(type_char)):\n",
    "    list=list+[json.loads(type_char['infos'][i])]\n",
    "\n",
    "char_type_df=pd.DataFrame(list)\n",
    "\n",
    "char_type_df.head(3)"
   ]
  },
  {
   "cell_type": "code",
   "execution_count": 141,
   "id": "1b5fd6c0",
   "metadata": {},
   "outputs": [
    {
     "data": {
      "text/html": [
       "<div>\n",
       "<style scoped>\n",
       "    .dataframe tbody tr th:only-of-type {\n",
       "        vertical-align: middle;\n",
       "    }\n",
       "\n",
       "    .dataframe tbody tr th {\n",
       "        vertical-align: top;\n",
       "    }\n",
       "\n",
       "    .dataframe thead th {\n",
       "        text-align: right;\n",
       "    }\n",
       "</style>\n",
       "<table border=\"1\" class=\"dataframe\">\n",
       "  <thead>\n",
       "    <tr style=\"text-align: right;\">\n",
       "      <th></th>\n",
       "      <th>freebase_char/actor_map_ID</th>\n",
       "      <th>char_type</th>\n",
       "    </tr>\n",
       "  </thead>\n",
       "  <tbody>\n",
       "    <tr>\n",
       "      <th>0</th>\n",
       "      <td>/m/0jy9q0</td>\n",
       "      <td>absent_minded_professor</td>\n",
       "    </tr>\n",
       "    <tr>\n",
       "      <th>1</th>\n",
       "      <td>/m/02vchl3</td>\n",
       "      <td>absent_minded_professor</td>\n",
       "    </tr>\n",
       "    <tr>\n",
       "      <th>2</th>\n",
       "      <td>/m/0k6fkc</td>\n",
       "      <td>absent_minded_professor</td>\n",
       "    </tr>\n",
       "  </tbody>\n",
       "</table>\n",
       "</div>"
      ],
      "text/plain": [
       "  freebase_char/actor_map_ID                char_type\n",
       "0                  /m/0jy9q0  absent_minded_professor\n",
       "1                 /m/02vchl3  absent_minded_professor\n",
       "2                  /m/0k6fkc  absent_minded_professor"
      ]
     },
     "execution_count": 141,
     "metadata": {},
     "output_type": "execute_result"
    }
   ],
   "source": [
    "# add the char_type column\n",
    "char_type_df['char_type']=type_char['char_type']\n",
    "# rename the columns\n",
    "char_type_df.columns=['character_name','movie_name','freebase_char/actor_map_ID','actor_name','char_type']\n",
    "# keep only the columns of interest\n",
    "char_type_df = char_type_df[['freebase_char/actor_map_ID','char_type']]\n",
    "\n",
    "char_type_df.head(3)"
   ]
  },
  {
   "cell_type": "code",
   "execution_count": 113,
   "id": "3239b1a7",
   "metadata": {},
   "outputs": [],
   "source": [
    "# merge with characters_gender (charcters with no missing values on gender)\n",
    "type_character = characters_gender.merge(char_type_df, left_on='freebase_char/actor_map_ID', right_on='freebase_char/actor_map_ID')"
   ]
  },
  {
   "cell_type": "code",
   "execution_count": 142,
   "id": "e6b493a5",
   "metadata": {},
   "outputs": [
    {
     "data": {
      "text/html": [
       "<div>\n",
       "<style scoped>\n",
       "    .dataframe tbody tr th:only-of-type {\n",
       "        vertical-align: middle;\n",
       "    }\n",
       "\n",
       "    .dataframe tbody tr th {\n",
       "        vertical-align: top;\n",
       "    }\n",
       "\n",
       "    .dataframe thead th {\n",
       "        text-align: right;\n",
       "    }\n",
       "</style>\n",
       "<table border=\"1\" class=\"dataframe\">\n",
       "  <thead>\n",
       "    <tr style=\"text-align: right;\">\n",
       "      <th></th>\n",
       "      <th>char_type</th>\n",
       "    </tr>\n",
       "  </thead>\n",
       "  <tbody>\n",
       "    <tr>\n",
       "      <th>crazy</th>\n",
       "      <td>28</td>\n",
       "    </tr>\n",
       "    <tr>\n",
       "      <th>jealous</th>\n",
       "      <td>25</td>\n",
       "    </tr>\n",
       "    <tr>\n",
       "      <th>corporate</th>\n",
       "      <td>23</td>\n",
       "    </tr>\n",
       "    <tr>\n",
       "      <th>executive</th>\n",
       "      <td>23</td>\n",
       "    </tr>\n",
       "    <tr>\n",
       "      <th>corrupt</th>\n",
       "      <td>23</td>\n",
       "    </tr>\n",
       "  </tbody>\n",
       "</table>\n",
       "</div>"
      ],
      "text/plain": [
       "           char_type\n",
       "crazy             28\n",
       "jealous           25\n",
       "corporate         23\n",
       "executive         23\n",
       "corrupt           23"
      ]
     },
     "execution_count": 142,
     "metadata": {},
     "output_type": "execute_result"
    }
   ],
   "source": [
    "# for males\n",
    "# explode the character types to get all the adjectives independently and count the occurence of each adjective\n",
    "type_male = type_character[type_character.female==False]['char_type'].str.split('_').explode().value_counts()\n",
    "type_male = type_male.to_frame()\n",
    "# drop words that are not adjectives\n",
    "type_male=type_male[~(type_male.index.isin(['guy','a','to','for','man','his','men','with','the']))]\n",
    "type_male.head(5)"
   ]
  },
  {
   "cell_type": "code",
   "execution_count": 143,
   "id": "4b2a22b9",
   "metadata": {},
   "outputs": [
    {
     "data": {
      "text/html": [
       "<div>\n",
       "<style scoped>\n",
       "    .dataframe tbody tr th:only-of-type {\n",
       "        vertical-align: middle;\n",
       "    }\n",
       "\n",
       "    .dataframe tbody tr th {\n",
       "        vertical-align: top;\n",
       "    }\n",
       "\n",
       "    .dataframe thead th {\n",
       "        text-align: right;\n",
       "    }\n",
       "</style>\n",
       "<table border=\"1\" class=\"dataframe\">\n",
       "  <thead>\n",
       "    <tr style=\"text-align: right;\">\n",
       "      <th></th>\n",
       "      <th>char_type</th>\n",
       "    </tr>\n",
       "  </thead>\n",
       "  <tbody>\n",
       "    <tr>\n",
       "      <th>dumb</th>\n",
       "      <td>10</td>\n",
       "    </tr>\n",
       "    <tr>\n",
       "      <th>blonde</th>\n",
       "      <td>10</td>\n",
       "    </tr>\n",
       "    <tr>\n",
       "      <th>brainless</th>\n",
       "      <td>7</td>\n",
       "    </tr>\n",
       "    <tr>\n",
       "      <th>beauty</th>\n",
       "      <td>7</td>\n",
       "    </tr>\n",
       "    <tr>\n",
       "      <th>prima</th>\n",
       "      <td>6</td>\n",
       "    </tr>\n",
       "  </tbody>\n",
       "</table>\n",
       "</div>"
      ],
      "text/plain": [
       "           char_type\n",
       "dumb              10\n",
       "blonde            10\n",
       "brainless          7\n",
       "beauty             7\n",
       "prima              6"
      ]
     },
     "execution_count": 143,
     "metadata": {},
     "output_type": "execute_result"
    }
   ],
   "source": [
    "# same processus for females\n",
    "type_female = type_character[type_character.female==True]['char_type'].str.split('_').explode().value_counts()\n",
    "type_female = type_female.to_frame()\n",
    "type_female=type_female[~(type_female.index.isin(['girl','final','valley','person']))]\n",
    "type_female.head(5)"
   ]
  },
  {
   "cell_type": "code",
   "execution_count": 132,
   "id": "aacfcc3c",
   "metadata": {},
   "outputs": [],
   "source": [
    "# export to csv\n",
    "type_male.to_csv('type_male.csv', sep=';')\n",
    "type_female.to_csv('type_female.csv', sep=';')"
   ]
  },
  {
   "cell_type": "markdown",
   "id": "443018f7",
   "metadata": {},
   "source": []
  }
 ],
 "metadata": {
  "kernelspec": {
   "display_name": "Python 3",
   "language": "python",
   "name": "python3"
  },
  "language_info": {
   "codemirror_mode": {
    "name": "ipython",
    "version": 3
   },
   "file_extension": ".py",
   "mimetype": "text/x-python",
   "name": "python",
   "nbconvert_exporter": "python",
   "pygments_lexer": "ipython3",
   "version": "3.10.1 (main, Jan 24 2022, 23:33:09) [Clang 13.0.0 (clang-1300.0.29.3)]"
  },
  "vscode": {
   "interpreter": {
    "hash": "63412e708ced85145ee3358b7b7540b5b7bcbe0d3c78f470347fabcaf1a15eaf"
   }
  }
 },
 "nbformat": 4,
 "nbformat_minor": 5
}
