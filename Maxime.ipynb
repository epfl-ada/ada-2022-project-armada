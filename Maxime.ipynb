{
 "cells": [
  {
   "cell_type": "markdown",
   "metadata": {},
   "source": [
    "# Stanford CoreNLP-processed summaries\n",
    "\n",
    "The idea here is to first explore this processed data, and extract meaningful metrics to quantify the importance of women characters in movies, and movies regarding a feminism score.\n",
    "\n",
    "One first idea would to associate a score based on how many entries appear for each character in the processed data, then weight it based on the actual processed data (state of the character regarding the word associated with it, importance of the words, etc.)"
   ]
  },
  {
   "cell_type": "markdown",
   "metadata": {},
   "source": []
  }
 ],
 "metadata": {
  "language_info": {
   "name": "python"
  },
  "orig_nbformat": 4
 },
 "nbformat": 4,
 "nbformat_minor": 2
}
